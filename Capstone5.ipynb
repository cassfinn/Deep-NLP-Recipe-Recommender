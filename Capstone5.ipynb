{
 "cells": [
  {
   "cell_type": "markdown",
   "metadata": {},
   "source": [
    "<div align=\"left\">\n",
    "# Capstone Project - Recommender System for Recipes\n",
    "## Machine Learning Engineer Nanodegree\n",
    "#### Claudia Cassidy, March 31, 2018\n",
    "</div>\n",
    "<hr>"
   ]
  },
  {
   "cell_type": "markdown",
   "metadata": {},
   "source": [
    "## Project Overview\n",
    "\n",
    "The goal of this project is to build a Recommender System for helping home cooks choose recipes. Unlike years ago, when people would look through recipe books and have index cards with a collection of up to 50 recipes, today there are hundreds of thousands of recipes freely available on the internet. With so many to choose from, it can be difficult to find just the right recipe that uses ingredients you have in your pantry, that takes just the right amount of time to prepare, and that will likely taste good to you and your family. This project aims to use machine learning to help home cooks answer the question: \"What's for dinner?\". <br>\n",
    "\n"
   ]
  },
  {
   "cell_type": "markdown",
   "metadata": {},
   "source": [
    "Recommender Systems are commonly used in online shopping, for example where products are recommended for you based on products you've clicked on or searched for in the past. They are also used to recommend movies, as in Netflix where personalized recommendations are provided to each user. News services recommend articles to online readers.<br>\n",
    "\n",
    "This report will look at Content-Based recommender systems in which properties of an item are examined so that other items which are similar to that item are recommended. In this project, we will examine recipe ingredients and categories to identify recipes that are similar to one another. We will also examine recipe ratings and number of reviews."
   ]
  },
  {
   "cell_type": "markdown",
   "metadata": {},
   "source": [
    "### Metrics\n",
    "\n",
    "We will use three metrics to measure model peformance. Using multiple metrics allows a more comprehensive comparison of the models. \n",
    "\n",
    "MSE provides \n",
    "\n",
    "Clearly define the metrics or calculations you will use to measure performance of a model or result in your project. These calculations and metrics should be justified based on the characteristics of the problem and problem domain. Questions to ask yourself when writing this section:\n",
    "\n",
    "Are the metrics you’ve chosen to measure the performance of your models clearly discussed and defined?\n",
    "Have you provided reasonable justification for the metrics chosen based on the problem and solution?"
   ]
  },
  {
   "cell_type": "markdown",
   "metadata": {},
   "source": [
    "## Content Based Recommender System \n",
    "\n",
    "We will build a recipe association recommender, which although not personalized, will examine the properties of the recipe that a user is looking at. Based on the recipe's ingredients, categories and title, it will provide recipe recommendations.<br>\n",
    "\n",
    "One way of providing these recommendations is to go through all the recipes and see \n",
    "what other ingredients have most frequently been part of the recipe along with the given ingredient in the same recipe. We can start by calculating what percentage of recipes with ingredient X (ingredient that the user is currently looking at) also has ingredient Y in the same recipe.<br>\n",
    "\n",
    "We can count the number of recipes that have ingredient X and Y, our numerator, and\n",
    "divide it by the number of recipes that have ingredient X. If, for example, at least 80% of recipes contain X and Y, then Y is a likely ingredient to add if you’re already using X. We will try to build a system that recommends recipes that are similar to a particular recipe and then list the top 10 closest matches."
   ]
  },
  {
   "cell_type": "markdown",
   "metadata": {},
   "source": [
    "### Analysis"
   ]
  },
  {
   "cell_type": "markdown",
   "metadata": {},
   "source": [
    "AllRecipes.com is a community based website where people, mostly home cooks, submit their own recipes and have them published on the website. Most of the people who contribute recipes are not professional chefs.<br>\n",
    "\n",
    "I was able to generate a dataset of over 8,100 recipes by scraping the web pages of AllRecipes.com.  An example of the script I wrote to scrape the recipes is in file \"arSaladR.py\". Recipes were scraped by categories as defined by AllRecipes.com. Using BeautifulSoup I scraped recipes in categories such as chicken, beef, salad, bread, pasta, vegetarian, cookies, beans, fish, and more. The data was written to csv files and then combined into a master spreadsheet.  "
   ]
  },
  {
   "cell_type": "markdown",
   "metadata": {},
   "source": [
    "### Data Structure\n",
    "\n",
    "Recipes on AllRecipes.com are structured according to Google's Recipe schema. Once scraped, the recipes were broken down into the following fields:<br>"
   ]
  },
  {
   "cell_type": "markdown",
   "metadata": {},
   "source": [
    "\n",
    "<li>title: recipe name\n",
    "<li>url: link to the original recipe on AllRecipes.com\n",
    "<li>category: one category that this recipe falls in, as defined by AllRecipes.com\n",
    "<li>prep time: how long it takes to prepare the ingredients before they are cooked\n",
    "<li>cook time: how long it takes to cook\n",
    "<li>total time: how long it takes to make this recipe: total of preparation time plus cooking time\n",
    "<li>servings: number of servings this recipe makes\n",
    "<li>rating: average overall rating for this recipe\n",
    "<li>review_count: number of reviews this recipe has received\n",
    "<li>categories: an array of food categories that this recipe falls in, as defined by AllRecipes.com\n",
    "<li>author: the person who contributed the recipe\n",
    "<li>ingredients: array of ingredients\n",
    "<li>instructions: array of instructions for how to make the recipe\n",
    "<li>fat: health information: amount of fat per serving\n",
    "<li>calories: health information: amount of calories per serving\n",
    "<li>carbohydrates: health information: amount of carbohydrates per serving\n",
    "<li>protein: health information: amount of protein per serving\n",
    "<li>cholesterol: health information: amount of cholesterol per serving\n",
    "<li>sodium: health information: amount of sodium per serving\n",
    "<li>reviews_text: the text of up to 6 reviews<br>\n",
    "<br>\n",
    "The fields which I selected from the dataset are title, categories, category and ingredients. I also experimented with rating and review_count. Here is a sample of the data.\n"
   ]
  },
  {
   "cell_type": "code",
   "execution_count": 152,
   "metadata": {
    "collapsed": true
   },
   "outputs": [],
   "source": [
    "#import needed packages\n",
    "from gensim.models import doc2vec\n",
    "\n",
    "import re\n",
    "import pandas as pd\n",
    "import numpy as np\n",
    "import copy\n",
    "\n",
    "# nltk processing\n",
    "import nltk\n",
    "from nltk.tag import pos_tag\n",
    "from nltk import word_tokenize\n",
    "from nltk.corpus import stopwords\n",
    "from nltk.classify import NaiveBayesClassifier"
   ]
  },
  {
   "cell_type": "markdown",
   "metadata": {},
   "source": [
    "### Data Exploration\n"
   ]
  },
  {
   "cell_type": "markdown",
   "metadata": {},
   "source": [
    "The master dataset was trimmed down to use the fields: title, category, categories, ingredients, rating and review_cnt. "
   ]
  },
  {
   "cell_type": "code",
   "execution_count": 509,
   "metadata": {},
   "outputs": [
    {
     "data": {
      "text/html": [
       "<div>\n",
       "<style scoped>\n",
       "    .dataframe tbody tr th:only-of-type {\n",
       "        vertical-align: middle;\n",
       "    }\n",
       "\n",
       "    .dataframe tbody tr th {\n",
       "        vertical-align: top;\n",
       "    }\n",
       "\n",
       "    .dataframe thead th {\n",
       "        text-align: right;\n",
       "    }\n",
       "</style>\n",
       "<table border=\"1\" class=\"dataframe\">\n",
       "  <thead>\n",
       "    <tr style=\"text-align: right;\">\n",
       "      <th></th>\n",
       "      <th>title</th>\n",
       "      <th>url</th>\n",
       "      <th>category</th>\n",
       "      <th>prep</th>\n",
       "      <th>cook</th>\n",
       "      <th>total</th>\n",
       "      <th>servings</th>\n",
       "      <th>rating</th>\n",
       "      <th>review_cnt</th>\n",
       "      <th>categories</th>\n",
       "      <th>...</th>\n",
       "      <th>ingred</th>\n",
       "      <th>instruct</th>\n",
       "      <th>fat</th>\n",
       "      <th>calories</th>\n",
       "      <th>carb</th>\n",
       "      <th>protein</th>\n",
       "      <th>chol</th>\n",
       "      <th>sodium</th>\n",
       "      <th>page</th>\n",
       "      <th>reviews_text</th>\n",
       "    </tr>\n",
       "  </thead>\n",
       "  <tbody>\n",
       "    <tr>\n",
       "      <th>0</th>\n",
       "      <td>'Anything Goes' Easy Black Beans</td>\n",
       "      <td>https://www.allrecipes.com/recipe/237247/anyth...</td>\n",
       "      <td>Beans and Peas</td>\n",
       "      <td>PT15M</td>\n",
       "      <td>PT25M</td>\n",
       "      <td>PT40M</td>\n",
       "      <td>8</td>\n",
       "      <td>3.50</td>\n",
       "      <td>6</td>\n",
       "      <td>['Side Dish', 'Beans and Peas']</td>\n",
       "      <td>...</td>\n",
       "      <td>['2 (15 ounce) cans black beans, rinsed and dr...</td>\n",
       "      <td>['Stir black beans, 1 cup chicken broth, tomat...</td>\n",
       "      <td>2.3</td>\n",
       "      <td>149 calories;</td>\n",
       "      <td>26.0</td>\n",
       "      <td>8.0</td>\n",
       "      <td>&lt; 1</td>\n",
       "      <td>701</td>\n",
       "      <td>76</td>\n",
       "      <td>['Darin and I liked it...boys thought so so', ...</td>\n",
       "    </tr>\n",
       "    <tr>\n",
       "      <th>1</th>\n",
       "      <td>'Calabacitas Guisada' (Stewed Mexican Zucchini)</td>\n",
       "      <td>https://www.allrecipes.com/recipe/203592/calab...</td>\n",
       "      <td>Tomatoes</td>\n",
       "      <td>PT10M</td>\n",
       "      <td>PT15M</td>\n",
       "      <td>PT30M</td>\n",
       "      <td>8</td>\n",
       "      <td>4.60</td>\n",
       "      <td>83</td>\n",
       "      <td>['Side Dish', 'Vegetables', 'Tomatoes']</td>\n",
       "      <td>...</td>\n",
       "      <td>['1 tablespoon vegetable oil', '1/2 small whit...</td>\n",
       "      <td>['Heat the vegetable oil in a saucepan over me...</td>\n",
       "      <td>6.6</td>\n",
       "      <td>97 calories;</td>\n",
       "      <td>5.8</td>\n",
       "      <td>4.8</td>\n",
       "      <td>15</td>\n",
       "      <td>202</td>\n",
       "      <td>15</td>\n",
       "      <td>['A simple and tasty dish! I also used olive o...</td>\n",
       "    </tr>\n",
       "    <tr>\n",
       "      <th>2</th>\n",
       "      <td>'Chinese Buffet' Green Beans</td>\n",
       "      <td>https://www.allrecipes.com/recipe/158854/chine...</td>\n",
       "      <td>Green Beans</td>\n",
       "      <td>PT15M</td>\n",
       "      <td>PT10M</td>\n",
       "      <td>PT25M</td>\n",
       "      <td>6</td>\n",
       "      <td>4.54</td>\n",
       "      <td>227</td>\n",
       "      <td>['Side Dish', 'Vegetables', 'Green Beans']</td>\n",
       "      <td>...</td>\n",
       "      <td>['1 tablespoon oil, peanut or sesame', '2 clov...</td>\n",
       "      <td>['Heat peanut oil in a wok or large skillet ov...</td>\n",
       "      <td>2.3</td>\n",
       "      <td>55 calories;</td>\n",
       "      <td>8.1</td>\n",
       "      <td>1.6</td>\n",
       "      <td>0</td>\n",
       "      <td>141</td>\n",
       "      <td>5</td>\n",
       "      <td>['**IMPORTANT NOTE** Thanks to everyone who ha...</td>\n",
       "    </tr>\n",
       "    <tr>\n",
       "      <th>3</th>\n",
       "      <td>'Meat's Too Expensive!' Vegetarian Burgers</td>\n",
       "      <td>https://www.allrecipes.com/recipe/237216/meats...</td>\n",
       "      <td>Everyday Cooking</td>\n",
       "      <td>PT15M</td>\n",
       "      <td>PT35M</td>\n",
       "      <td>PT50M</td>\n",
       "      <td>8</td>\n",
       "      <td>4.25</td>\n",
       "      <td>3</td>\n",
       "      <td>['Everyday Cooking']</td>\n",
       "      <td>...</td>\n",
       "      <td>['water to cover', '1 cup dried lentils', '1/2...</td>\n",
       "      <td>['Pour enough water into a pot that will cover...</td>\n",
       "      <td>9.0</td>\n",
       "      <td>195 calories;</td>\n",
       "      <td>19.8</td>\n",
       "      <td>9.7</td>\n",
       "      <td>26</td>\n",
       "      <td>35</td>\n",
       "      <td>83</td>\n",
       "      <td>['Best tasting veggie burger I have made, ever...</td>\n",
       "    </tr>\n",
       "    <tr>\n",
       "      <th>4</th>\n",
       "      <td>\"Couldn't Be Easier\" Three-Bean Salad</td>\n",
       "      <td>https://www.allrecipes.com/recipe/228260/could...</td>\n",
       "      <td>Three Bean Salad</td>\n",
       "      <td>PT10M</td>\n",
       "      <td></td>\n",
       "      <td>PT1Day10M</td>\n",
       "      <td>6</td>\n",
       "      <td>4.00</td>\n",
       "      <td>3</td>\n",
       "      <td>['Salad', 'Beans', 'Three Bean Salad']</td>\n",
       "      <td>...</td>\n",
       "      <td>['1 cup frozen cut green beans', '1 cup frozen...</td>\n",
       "      <td>['Combine green beans, lima beans, red beans, ...</td>\n",
       "      <td>4.9</td>\n",
       "      <td>124 calories;</td>\n",
       "      <td>16.0</td>\n",
       "      <td>3.9</td>\n",
       "      <td>0</td>\n",
       "      <td>161</td>\n",
       "      <td>84</td>\n",
       "      <td>['I thought this was good and it was even bett...</td>\n",
       "    </tr>\n",
       "  </tbody>\n",
       "</table>\n",
       "<p>5 rows × 21 columns</p>\n",
       "</div>"
      ],
      "text/plain": [
       "                                             title  \\\n",
       "0                 'Anything Goes' Easy Black Beans   \n",
       "1  'Calabacitas Guisada' (Stewed Mexican Zucchini)   \n",
       "2                     'Chinese Buffet' Green Beans   \n",
       "3       'Meat's Too Expensive!' Vegetarian Burgers   \n",
       "4            \"Couldn't Be Easier\" Three-Bean Salad   \n",
       "\n",
       "                                                 url          category   prep  \\\n",
       "0  https://www.allrecipes.com/recipe/237247/anyth...    Beans and Peas  PT15M   \n",
       "1  https://www.allrecipes.com/recipe/203592/calab...          Tomatoes  PT10M   \n",
       "2  https://www.allrecipes.com/recipe/158854/chine...       Green Beans  PT15M   \n",
       "3  https://www.allrecipes.com/recipe/237216/meats...  Everyday Cooking  PT15M   \n",
       "4  https://www.allrecipes.com/recipe/228260/could...  Three Bean Salad  PT10M   \n",
       "\n",
       "    cook      total  servings  rating  review_cnt  \\\n",
       "0  PT25M      PT40M         8    3.50           6   \n",
       "1  PT15M      PT30M         8    4.60          83   \n",
       "2  PT10M      PT25M         6    4.54         227   \n",
       "3  PT35M      PT50M         8    4.25           3   \n",
       "4         PT1Day10M         6    4.00           3   \n",
       "\n",
       "                                   categories  \\\n",
       "0             ['Side Dish', 'Beans and Peas']   \n",
       "1     ['Side Dish', 'Vegetables', 'Tomatoes']   \n",
       "2  ['Side Dish', 'Vegetables', 'Green Beans']   \n",
       "3                        ['Everyday Cooking']   \n",
       "4      ['Salad', 'Beans', 'Three Bean Salad']   \n",
       "\n",
       "                         ...                          \\\n",
       "0                        ...                           \n",
       "1                        ...                           \n",
       "2                        ...                           \n",
       "3                        ...                           \n",
       "4                        ...                           \n",
       "\n",
       "                                              ingred  \\\n",
       "0  ['2 (15 ounce) cans black beans, rinsed and dr...   \n",
       "1  ['1 tablespoon vegetable oil', '1/2 small whit...   \n",
       "2  ['1 tablespoon oil, peanut or sesame', '2 clov...   \n",
       "3  ['water to cover', '1 cup dried lentils', '1/2...   \n",
       "4  ['1 cup frozen cut green beans', '1 cup frozen...   \n",
       "\n",
       "                                            instruct  fat       calories  \\\n",
       "0  ['Stir black beans, 1 cup chicken broth, tomat...  2.3  149 calories;   \n",
       "1  ['Heat the vegetable oil in a saucepan over me...  6.6   97 calories;   \n",
       "2  ['Heat peanut oil in a wok or large skillet ov...  2.3   55 calories;   \n",
       "3  ['Pour enough water into a pot that will cover...  9.0  195 calories;   \n",
       "4  ['Combine green beans, lima beans, red beans, ...  4.9  124 calories;   \n",
       "\n",
       "   carb  protein  chol sodium page  \\\n",
       "0  26.0      8.0   < 1    701   76   \n",
       "1   5.8      4.8    15    202   15   \n",
       "2   8.1      1.6     0    141    5   \n",
       "3  19.8      9.7    26     35   83   \n",
       "4  16.0      3.9     0    161   84   \n",
       "\n",
       "                                        reviews_text  \n",
       "0  ['Darin and I liked it...boys thought so so', ...  \n",
       "1  ['A simple and tasty dish! I also used olive o...  \n",
       "2  ['**IMPORTANT NOTE** Thanks to everyone who ha...  \n",
       "3  ['Best tasting veggie burger I have made, ever...  \n",
       "4  ['I thought this was good and it was even bett...  \n",
       "\n",
       "[5 rows x 21 columns]"
      ]
     },
     "execution_count": 509,
     "metadata": {},
     "output_type": "execute_result"
    }
   ],
   "source": [
    "dataMaster = pd.read_csv(\"dataRecMaster2.csv\") \n",
    "dataMaster.head(5)"
   ]
  },
  {
   "cell_type": "code",
   "execution_count": 510,
   "metadata": {},
   "outputs": [
    {
     "data": {
      "text/html": [
       "<div>\n",
       "<style scoped>\n",
       "    .dataframe tbody tr th:only-of-type {\n",
       "        vertical-align: middle;\n",
       "    }\n",
       "\n",
       "    .dataframe tbody tr th {\n",
       "        vertical-align: top;\n",
       "    }\n",
       "\n",
       "    .dataframe thead th {\n",
       "        text-align: right;\n",
       "    }\n",
       "</style>\n",
       "<table border=\"1\" class=\"dataframe\">\n",
       "  <thead>\n",
       "    <tr style=\"text-align: right;\">\n",
       "      <th></th>\n",
       "      <th>title</th>\n",
       "      <th>category</th>\n",
       "      <th>categories</th>\n",
       "      <th>ingred</th>\n",
       "      <th>rating</th>\n",
       "      <th>review_cnt</th>\n",
       "      <th>reviews_text</th>\n",
       "    </tr>\n",
       "  </thead>\n",
       "  <tbody>\n",
       "    <tr>\n",
       "      <th>0</th>\n",
       "      <td>'Anything Goes' Easy Black Beans</td>\n",
       "      <td>Beans and Peas</td>\n",
       "      <td>['Side Dish', 'Beans and Peas']</td>\n",
       "      <td>['2 (15 ounce) cans black beans, rinsed and dr...</td>\n",
       "      <td>3.50</td>\n",
       "      <td>6</td>\n",
       "      <td>['Darin and I liked it...boys thought so so', ...</td>\n",
       "    </tr>\n",
       "    <tr>\n",
       "      <th>1</th>\n",
       "      <td>'Calabacitas Guisada' (Stewed Mexican Zucchini)</td>\n",
       "      <td>Tomatoes</td>\n",
       "      <td>['Side Dish', 'Vegetables', 'Tomatoes']</td>\n",
       "      <td>['1 tablespoon vegetable oil', '1/2 small whit...</td>\n",
       "      <td>4.60</td>\n",
       "      <td>83</td>\n",
       "      <td>['A simple and tasty dish! I also used olive o...</td>\n",
       "    </tr>\n",
       "    <tr>\n",
       "      <th>2</th>\n",
       "      <td>'Chinese Buffet' Green Beans</td>\n",
       "      <td>Green Beans</td>\n",
       "      <td>['Side Dish', 'Vegetables', 'Green Beans']</td>\n",
       "      <td>['1 tablespoon oil, peanut or sesame', '2 clov...</td>\n",
       "      <td>4.54</td>\n",
       "      <td>227</td>\n",
       "      <td>['**IMPORTANT NOTE** Thanks to everyone who ha...</td>\n",
       "    </tr>\n",
       "    <tr>\n",
       "      <th>3</th>\n",
       "      <td>'Meat's Too Expensive!' Vegetarian Burgers</td>\n",
       "      <td>Everyday Cooking</td>\n",
       "      <td>['Everyday Cooking']</td>\n",
       "      <td>['water to cover', '1 cup dried lentils', '1/2...</td>\n",
       "      <td>4.25</td>\n",
       "      <td>3</td>\n",
       "      <td>['Best tasting veggie burger I have made, ever...</td>\n",
       "    </tr>\n",
       "    <tr>\n",
       "      <th>4</th>\n",
       "      <td>\"Couldn't Be Easier\" Three-Bean Salad</td>\n",
       "      <td>Three Bean Salad</td>\n",
       "      <td>['Salad', 'Beans', 'Three Bean Salad']</td>\n",
       "      <td>['1 cup frozen cut green beans', '1 cup frozen...</td>\n",
       "      <td>4.00</td>\n",
       "      <td>3</td>\n",
       "      <td>['I thought this was good and it was even bett...</td>\n",
       "    </tr>\n",
       "  </tbody>\n",
       "</table>\n",
       "</div>"
      ],
      "text/plain": [
       "                                             title          category  \\\n",
       "0                 'Anything Goes' Easy Black Beans    Beans and Peas   \n",
       "1  'Calabacitas Guisada' (Stewed Mexican Zucchini)          Tomatoes   \n",
       "2                     'Chinese Buffet' Green Beans       Green Beans   \n",
       "3       'Meat's Too Expensive!' Vegetarian Burgers  Everyday Cooking   \n",
       "4            \"Couldn't Be Easier\" Three-Bean Salad  Three Bean Salad   \n",
       "\n",
       "                                   categories  \\\n",
       "0             ['Side Dish', 'Beans and Peas']   \n",
       "1     ['Side Dish', 'Vegetables', 'Tomatoes']   \n",
       "2  ['Side Dish', 'Vegetables', 'Green Beans']   \n",
       "3                        ['Everyday Cooking']   \n",
       "4      ['Salad', 'Beans', 'Three Bean Salad']   \n",
       "\n",
       "                                              ingred  rating  review_cnt  \\\n",
       "0  ['2 (15 ounce) cans black beans, rinsed and dr...    3.50           6   \n",
       "1  ['1 tablespoon vegetable oil', '1/2 small whit...    4.60          83   \n",
       "2  ['1 tablespoon oil, peanut or sesame', '2 clov...    4.54         227   \n",
       "3  ['water to cover', '1 cup dried lentils', '1/2...    4.25           3   \n",
       "4  ['1 cup frozen cut green beans', '1 cup frozen...    4.00           3   \n",
       "\n",
       "                                        reviews_text  \n",
       "0  ['Darin and I liked it...boys thought so so', ...  \n",
       "1  ['A simple and tasty dish! I also used olive o...  \n",
       "2  ['**IMPORTANT NOTE** Thanks to everyone who ha...  \n",
       "3  ['Best tasting veggie burger I have made, ever...  \n",
       "4  ['I thought this was good and it was even bett...  "
      ]
     },
     "execution_count": 510,
     "metadata": {},
     "output_type": "execute_result"
    }
   ],
   "source": [
    "\n",
    "data = dataMaster[['title','category','categories','ingred','rating','review_cnt','reviews_text']].copy()\n",
    "data.head(5)"
   ]
  },
  {
   "cell_type": "markdown",
   "metadata": {},
   "source": [
    "### Data Cleaning\n",
    "\n",
    "When looking at the data, it became clear that the most relevant words are the names of food items and categories.  Other words, characters and numbers would not be useful for this exercise. for example, we need to get rid of stop words (common words like \"as\", \"the\") and measurement words (for example 1/2 tablespoon) which don't say anything about the food. <br>\n",
    "For example, \"ground beef\" becomes \"groundbeef\", \"beef bouillon cube\" becomes \"beefbouilloncube\"."
   ]
  },
  {
   "cell_type": "markdown",
   "metadata": {},
   "source": [
    "The first step was to define a food vocabulary. Non-food words, such as measurements, punctuation, and descriptions about the state of a food item should be removed from the ingredients. Shown here is a function to remove non-food words from the ingredient words: \"clean_data_ingred()\"."
   ]
  },
  {
   "cell_type": "code",
   "execution_count": 511,
   "metadata": {
    "collapsed": true
   },
   "outputs": [],
   "source": [
    "### removed measurements, descriptive words and anything that's not an ingredient\n",
    "def clean_data_ingred(ds):\n",
    "    arr = [' to ',' into ', 'tablespoons','tablespoon','teaspoons','teaspoon','cups','cup',\n",
    "           'ounces','ounce','pounds','pound','pinches','pinch','tastes',\n",
    "           'taste','dashes','dash','/',' or ',' as ',' and ', '-','[',']',\n",
    "           '(',')','.','slices','sliced','slice', '0','1','2','3',\n",
    "           '4','5','6','7','8','9','juiced','diced','minced','chopped',\n",
    "           ' cans',' canned ', ' can ', ' inches ', ' inch ','package', \n",
    "           'finely', 'crushed', 'shredded', 'divided', ' melted ', ' jar ',\n",
    "           'thawed', ' cut ', ' to ', ' thick ', ' across ',' bones ', \n",
    "           'optional', ' split ', ' torn ', ' into ', ' strips ', 'peeled',\n",
    "           ' pieces', ' lightly ', ' beaten ','ground black', 'scrubbed', \n",
    "           'jars', 'beaten','pitted','halved', 'thinly','as needed','large',\n",
    "           'medium','small','roughly','fluid','drained','crumbled','rinsed',\n",
    "           'cubed','seeded','fresh',' plus ', ' more ', 'deboned', \n",
    "           'prepared', 'cubes', 'uncooked', 'cooked', 'grated', ' lean ',\n",
    "           'into chunks', 'coarsely','seeded','freshly',' freshly', 'fresh',\n",
    "           ' with ',  'liquid','quartered','lengthwise','small',' into ',\n",
    "           ' bite ', ' sized ', ' ly ', ' ed ', ' s ','cut into', ' up ', \n",
    "           'trimmed','frozen','chunks','segments','softened',' cut ', \n",
    "           ' stewed','pieces','broken',' cored',' rings',' torn ','seasoned',\n",
    "           ' into ','eighths','quarters','halves','thirds',' thick ', \n",
    "           'chilled',  ' more',' ',\"'\"]\n",
    "\n",
    "    ### merge terms that have multiple words, for example 'ground beef' becomes 'groundbeef'\n",
    "    for item in arr:\n",
    "        ds = ds.str.replace(item,'')\n",
    "    ds = ds.str.replace('saltpepper',\"salt,pepper\")\n",
    "    ds = ds.str.replace(',,',',')\n",
    "    return ds"
   ]
  },
  {
   "cell_type": "code",
   "execution_count": 512,
   "metadata": {
    "collapsed": true
   },
   "outputs": [],
   "source": [
    "### Remove measurements and anything else that is not a food ingredient from the ingredients data\n",
    "data['ingred'] = clean_data_ingred(data['ingred'])\n",
    "\n"
   ]
  },
  {
   "cell_type": "markdown",
   "metadata": {},
   "source": [
    "## Analysis"
   ]
  },
  {
   "cell_type": "markdown",
   "metadata": {},
   "source": [
    "The next step was to compute TF-IDF scores for the remaining words. Ingredient terms can consist of more than one word. In order to make sure that the model does not treat an ingredient like \"ground beef\" as two separate words, for example \"ground\" and \"beef\", ingredients with multiple words were combined into a single word. For example, \"ground beef\" becomes \"groundbeef\" and \"beef bouillon cube\" becomes \"beefbouilloncube\". Each term was then separated by a space."
   ]
  },
  {
   "cell_type": "code",
   "execution_count": 513,
   "metadata": {
    "collapsed": true
   },
   "outputs": [],
   "source": [
    "### separate each term with a space\n",
    "def create_soup(ds):\n",
    "    ds = ds.str.replace(',',' ')\n",
    "    return ds"
   ]
  },
  {
   "cell_type": "code",
   "execution_count": 514,
   "metadata": {
    "collapsed": true
   },
   "outputs": [],
   "source": [
    "### Separate each ingredient with a space\n",
    "data['ingredSpaces'] = create_soup(data['ingred'])\n"
   ]
  },
  {
   "cell_type": "markdown",
   "metadata": {},
   "source": [
    "### Adding Categories Feature\n",
    "As we did with the ingredients data, we will remove characters from the Categories data which are not letters, for example, punctuation marks. Multiple word terms will be combined into single words, for example: \"side dish\" becomes \"sidedish\"."
   ]
  },
  {
   "cell_type": "code",
   "execution_count": 515,
   "metadata": {
    "collapsed": true
   },
   "outputs": [],
   "source": [
    "def clean_categories(ds):\n",
    "    ds = ds.str.replace(' ','')\n",
    "    ds = ds.str.lower()\n",
    "    ds = ds.str.replace('[','')\n",
    "    ds = ds.str.replace(']','')\n",
    "    ds = ds.str.replace(\"''\",' ')\n",
    "    ds = ds.str.replace(',',' ')\n",
    "    ds = ds.str.replace(\"'\",\"\")\n",
    "    return ds"
   ]
  },
  {
   "cell_type": "code",
   "execution_count": 516,
   "metadata": {
    "collapsed": true
   },
   "outputs": [],
   "source": [
    "data['categories_clean'] = clean_categories(data['categories'])\n"
   ]
  },
  {
   "cell_type": "code",
   "execution_count": 517,
   "metadata": {},
   "outputs": [
    {
     "data": {
      "text/plain": [
       "0    blackbeans chickenbroth more tomatopaste groun...\n",
       "1    vegetableoil whiteonion clovesgarlic zucchini ...\n",
       "2    oil peanutsesame clovesgarlic greenbeans white...\n",
       "3    watercover driedlentils wheatgerm onion greenb...\n",
       "4    greenbeans limabeans redbeans redbellpepperstr...\n",
       "Name: ingred_cat, dtype: object"
      ]
     },
     "execution_count": 517,
     "metadata": {},
     "output_type": "execute_result"
    }
   ],
   "source": [
    "# Merge ingredients and categories into one column\n",
    "data['ingred_cat'] = data['ingredSpaces'] + ' ' + data['categories_clean'] \n",
    "data['ingred_cat'].head(5)"
   ]
  },
  {
   "cell_type": "code",
   "execution_count": 518,
   "metadata": {},
   "outputs": [
    {
     "name": "stdout",
     "output_type": "stream",
     "text": [
      "    Most_Common_Ingredients           ingred  count   percent\n",
      "0              (salt, 5386)             salt   5386  0.510909\n",
      "1            (pepper, 4269)           pepper   4269  0.404952\n",
      "2             (onion, 3071)            onion   3071  0.291311\n",
      "3          (oliveoil, 2412)         oliveoil   2412  0.228799\n",
      "4            (butter, 2299)           butter   2299  0.218080\n",
      "5      (clovesgarlic, 2099)     clovesgarlic   2099  0.199108\n",
      "6             (water, 1857)            water   1857  0.176153\n",
      "7                (or, 1156)               or   1156  0.109657\n",
      "8   (allpurposeflour, 1144)  allpurposeflour   1144  0.108518\n",
      "9        (whitesugar, 1128)       whitesugar   1128  0.107001\n",
      "10     (vegetableoil, 1058)     vegetableoil   1058  0.100360\n",
      "11    (Parmesancheese, 974)   Parmesancheese    974  0.092392\n",
      "12              (milk, 950)             milk    950  0.090116\n",
      "13        (groundbeef, 947)       groundbeef    947  0.089831\n",
      "14          (tomatoes, 923)         tomatoes    923  0.087555\n",
      "15              (eggs, 892)             eggs    892  0.084614\n",
      "16      (garlicpowder, 872)     garlicpowder    872  0.082717\n",
      "17             (bacon, 847)            bacon    847  0.080345\n",
      "18       (groundcumin, 823)      groundcumin    823  0.078069\n",
      "19       (clovegarlic, 707)      clovegarlic    707  0.067065\n"
     ]
    }
   ],
   "source": [
    "df = data['ingredSpaces']\n",
    "arr = []\n",
    "for item in df:\n",
    "    item2 = item.split()\n",
    "    for s in item2:\n",
    "        if len(s) > 1:\n",
    "            arr.append(s)\n",
    "            \n",
    "arr.sort()\n",
    "\n",
    "import collections\n",
    "counter = collections.Counter(arr)\n",
    "\n",
    "df2 = pd.DataFrame.from_dict({\"Most_Common_Ingredients\":counter.most_common(20)})\n",
    "df2['Most_Common_Ingredients'].apply(pd.Series)\n",
    "\n",
    "df2[['ingred', 'count']] = df2['Most_Common_Ingredients'].apply(pd.Series)\n",
    "\n",
    "df2['percent'] = df2['count'] // len(data)\n",
    "\n",
    "num_recipes = len(data)\n",
    "df2['percent'] = df2['count']/num_recipes\n",
    "\n",
    "print(df2.head(20))"
   ]
  },
  {
   "cell_type": "markdown",
   "metadata": {},
   "source": [
    "#### Ingredient plus Categories Word Cloud \n",
    "Shown below is a word cloud which illustrates how frequently some ingredients occur among all the recipes in our dataset."
   ]
  },
  {
   "cell_type": "code",
   "execution_count": 519,
   "metadata": {},
   "outputs": [
    {
     "data": {
      "image/png": "[encoded data removed]",
      "text/plain": [
       "<Figure size 1152x864 with 1 Axes>"
      ]
     },
     "metadata": {},
     "output_type": "display_data"
    }
   ],
   "source": [
    "from wordcloud import WordCloud\n",
    "\n",
    "wordcloud = WordCloud().generate(str(df2['Most_Common_Ingredients']))\n",
    "\n",
    "import matplotlib.pyplot as plt\n",
    "                               \n",
    "plt.figure(figsize=(16,12))\n",
    "plt.imshow(wordcloud, interpolation=\"bilinear\")\n",
    "plt.axis(\"off\")\n",
    "plt.show()\n",
    "\n"
   ]
  },
  {
   "cell_type": "markdown",
   "metadata": {},
   "source": [
    "The larger the font size, the more frequently the ingredient occurs in our dataset of recipes. The largest words, such as onion, oliveoil, butter, chickenbroth, clovesgarlic and vegetableoil can even be considered as what chef's call \"staples\", i.e. ingredients that are so frequently used that it can be assumed that every cook is well stocked with these items in their kitchens. For our purposes, these \"high frequency\" ingredients are less important because they are so common."
   ]
  },
  {
   "cell_type": "markdown",
   "metadata": {},
   "source": [
    "### Compute Term Frequency-Inverse Document Frequency (TF-IDF) vectors for each recipe\n",
    "Calculating TF-IDF indecates the importance of each food term to the recipe it belongs to. How many times a word appears in the recipe it belongs to is the TF (term frequency). The higher the TF value, the more important the term is. However, if the term appears in all recipes, then it is not really important for a particular recipe to be identified. For example, most recipes contain \"salt\". If every recipe contains salt then the term \"salt\" would not be helpful to identify each recipe. So we want to have a weighting system that decreases the importance of a term like salt when the number of the recipes it appears in increases.<br>\n",
    "TF-IDF is a weighting mechanism that calculates the importance of each term to each recipe by increasing the importance based on the term frequency while decreasing the importance based on the recipe frequency.<br>"
   ]
  },
  {
   "cell_type": "code",
   "execution_count": null,
   "metadata": {
    "collapsed": true
   },
   "outputs": [],
   "source": []
  },
  {
   "cell_type": "code",
   "execution_count": null,
   "metadata": {
    "collapsed": true
   },
   "outputs": [],
   "source": []
  },
  {
   "cell_type": "code",
   "execution_count": 520,
   "metadata": {},
   "outputs": [
    {
     "data": {
      "text/plain": [
       "(10542, 3987)"
      ]
     },
     "execution_count": 520,
     "metadata": {},
     "output_type": "execute_result"
    }
   ],
   "source": [
    "#Import TfIdfVectorizer from scikit-learn\n",
    "from sklearn.feature_extraction.text import TfidfVectorizer\n",
    "\n",
    "#Define a TF-IDF Vectorizer Object. Remove all english stop words such as 'the', 'a'\n",
    "tfidf = TfidfVectorizer(max_df=0.5, max_features=10000,\n",
    "                             min_df=2, stop_words='english',\n",
    "                             use_idf=True)\n",
    "\n",
    "#tfidf = TfidfVectorizer(stop_words='english')\n",
    "\n",
    "#vectorizer = TfidfVectorizer(max_df=0.5, max_features=10000,\n",
    "#                             min_df=2, stop_words='english',\n",
    "#                             use_idf=True)\n",
    "\n",
    "#Construct the required TF-IDF matrix by fitting and transforming the data\n",
    "tfidf_matrix = tfidf.fit_transform(data['ingred_cat'].values.astype('U'))\n",
    "\n",
    "#Output the shape of tfidf_matrix\n",
    "tfidf_matrix.shape\n"
   ]
  },
  {
   "cell_type": "code",
   "execution_count": 521,
   "metadata": {},
   "outputs": [
    {
     "name": "stdout",
     "output_type": "stream",
     "text": [
      "Now the recipes are characterized by the ingredients with the highest TF-IDF scores.\n",
      "3987 different terms were used to describe 10542 recipes in the dataset.\n"
     ]
    }
   ],
   "source": [
    "print(\"Now the recipes are characterized by the ingredients with the highest TF-IDF scores.\") \n",
    "print(tfidf_matrix.shape[1], \"different terms were used to describe\", tfidf_matrix.shape[0], \"recipes in the dataset.\")"
   ]
  },
  {
   "cell_type": "code",
   "execution_count": 522,
   "metadata": {},
   "outputs": [
    {
     "data": {
      "text/plain": [
       "<10542x3987 sparse matrix of type '<class 'numpy.float64'>'\n",
       "\twith 130901 stored elements in Compressed Sparse Row format>"
      ]
     },
     "execution_count": 522,
     "metadata": {},
     "output_type": "execute_result"
    }
   ],
   "source": [
    "tfidf_matrix"
   ]
  },
  {
   "cell_type": "markdown",
   "metadata": {},
   "source": [
    "#### Calculating Similarity"
   ]
  },
  {
   "cell_type": "markdown",
   "metadata": {},
   "source": [
    "Using the TFIDF matrix we can compute a similarity score, the cosine distance between the high TF-IDF words as a vector. We will use a cosine similarity to calculate a number that denotes the similarity between two recipes.\n",
    "\n",
    "$$cosine(x,y0) = x.y^T / ||x||.||y||$$\n",
    "\n",
    "\n",
    "To compute the cosine distance we think of the sets of high TF-IDF words as a vector, with one component for each possible word. The vector has 1 if the word is in the set and 0 if not. Almost all components are 0 in both, and 0’s do not impact the value of the dot product. The dot product is the size of the intersection of the two sets of ingredient words, and the lengths of the vectors are the square roots of the numbers of words in each set. That lets us compute the cosine of the angle between the vectors as the dot product divided by the product of the vector lengths.\n"
   ]
  },
  {
   "cell_type": "code",
   "execution_count": 523,
   "metadata": {
    "collapsed": true
   },
   "outputs": [],
   "source": [
    "# Import linear_kernel\n",
    "from sklearn.metrics.pairwise import linear_kernel\n",
    "\n",
    "# Compute the cosine similarity matrix\n",
    "cosine_sim = linear_kernel(tfidf_matrix, tfidf_matrix)"
   ]
  },
  {
   "cell_type": "markdown",
   "metadata": {},
   "source": [
    "Next, we need a function that takes in a recipe title as an input and outputs a list of up to the 10 most similar recipes. To do this, we make a reverse mapping of recipe titles and dataframe indices. This gives us a way to identify the index of a recipe, given its title."
   ]
  },
  {
   "cell_type": "code",
   "execution_count": 524,
   "metadata": {
    "collapsed": true
   },
   "outputs": [],
   "source": [
    "#Construct a reverse map of indices and recipe titles\n",
    "indices = pd.Series(data.index, index=data['ingred_cat'])\n"
   ]
  },
  {
   "cell_type": "markdown",
   "metadata": {},
   "source": [
    "#### Perform dimensionality reduction using LSA"
   ]
  },
  {
   "cell_type": "code",
   "execution_count": 429,
   "metadata": {
    "collapsed": true
   },
   "outputs": [],
   "source": []
  },
  {
   "cell_type": "code",
   "execution_count": 500,
   "metadata": {
    "collapsed": true
   },
   "outputs": [],
   "source": [
    "# Run SVD on the training data, then project the training data.\n",
    "X_train_lsa = lsa.fit_transform(tfidf_matrix, y=None)"
   ]
  },
  {
   "cell_type": "code",
   "execution_count": 501,
   "metadata": {},
   "outputs": [
    {
     "name": "stdout",
     "output_type": "stream",
     "text": [
      "  Explained variance of the SVD step: 35%\n"
     ]
    }
   ],
   "source": [
    "explained_variance = svd.explained_variance_ratio_.sum()\n",
    "print(\"  Explained variance of the SVD step: {}%\".format(int(explained_variance * 100)))\n"
   ]
  },
  {
   "cell_type": "code",
   "execution_count": 502,
   "metadata": {},
   "outputs": [
    {
     "data": {
      "text/plain": [
       "KNeighborsClassifier(algorithm='brute', leaf_size=30, metric='cosine',\n",
       "           metric_params=None, n_jobs=1, n_neighbors=5, p=2,\n",
       "           weights='uniform')"
      ]
     },
     "execution_count": 502,
     "metadata": {},
     "output_type": "execute_result"
    }
   ],
   "source": [
    "# Build a k-NN classifier. Use k = 5 (majority wins), the cosine distance, \n",
    "# and brute-force calculation of distances.\n",
    "knn_tfidf = KNeighborsClassifier(n_neighbors=5, algorithm='brute', metric='cosine')\n",
    "knn_tfidf.fit(tfidf_matrix, data['ingred_cat'])\n"
   ]
  },
  {
   "cell_type": "code",
   "execution_count": null,
   "metadata": {},
   "outputs": [],
   "source": []
  },
  {
   "cell_type": "code",
   "execution_count": null,
   "metadata": {
    "collapsed": true
   },
   "outputs": [],
   "source": []
  },
  {
   "cell_type": "code",
   "execution_count": null,
   "metadata": {
    "collapsed": true
   },
   "outputs": [],
   "source": []
  },
  {
   "cell_type": "code",
   "execution_count": null,
   "metadata": {
    "collapsed": true
   },
   "outputs": [],
   "source": []
  },
  {
   "cell_type": "code",
   "execution_count": null,
   "metadata": {
    "collapsed": true
   },
   "outputs": [],
   "source": []
  },
  {
   "cell_type": "code",
   "execution_count": 503,
   "metadata": {},
   "outputs": [
    {
     "data": {
      "text/plain": [
       "TruncatedSVD(algorithm='randomized', n_components=5, n_iter=7,\n",
       "       random_state=42, tol=0.0)"
      ]
     },
     "execution_count": 503,
     "metadata": {},
     "output_type": "execute_result"
    }
   ],
   "source": [
    "\n",
    "svd = TruncatedSVD(n_components=5, n_iter=7, random_state=42)\n",
    "svd.fit(tfidf_matrix)"
   ]
  },
  {
   "cell_type": "code",
   "execution_count": 504,
   "metadata": {},
   "outputs": [
    {
     "name": "stdout",
     "output_type": "stream",
     "text": [
      "[0.00693269 0.01540656 0.01224332 0.01095575 0.01077255]\n"
     ]
    }
   ],
   "source": [
    "print(svd.explained_variance_ratio_) "
   ]
  },
  {
   "cell_type": "code",
   "execution_count": 505,
   "metadata": {},
   "outputs": [
    {
     "name": "stdout",
     "output_type": "stream",
     "text": [
      "0.05631086881657645\n"
     ]
    }
   ],
   "source": [
    "print(svd.explained_variance_ratio_.sum())"
   ]
  },
  {
   "cell_type": "code",
   "execution_count": 506,
   "metadata": {},
   "outputs": [
    {
     "name": "stdout",
     "output_type": "stream",
     "text": [
      "[19.12619688 12.56778773 11.37240123 10.62152975 10.51017742]\n"
     ]
    }
   ],
   "source": [
    "print(svd.singular_values_)  "
   ]
  },
  {
   "cell_type": "code",
   "execution_count": null,
   "metadata": {
    "collapsed": true
   },
   "outputs": [],
   "source": []
  },
  {
   "cell_type": "code",
   "execution_count": null,
   "metadata": {
    "collapsed": true
   },
   "outputs": [],
   "source": []
  },
  {
   "cell_type": "code",
   "execution_count": null,
   "metadata": {
    "collapsed": true
   },
   "outputs": [],
   "source": []
  },
  {
   "cell_type": "code",
   "execution_count": null,
   "metadata": {
    "collapsed": true
   },
   "outputs": [],
   "source": []
  },
  {
   "cell_type": "markdown",
   "metadata": {},
   "source": [
    "#### Latent Semantic Analysis\n",
    "\n",
    "Latent Semantic Analysis (LSA) is a technique for creating a vector representation of a document. Having a vector representation of a document gives you a way to compare documents for their similarity by calculating the distance between the vectors. This in turn means you can do handy things like classifying documents to determine which of a set of known topics they most likely belong to."
   ]
  },
  {
   "cell_type": "code",
   "execution_count": 351,
   "metadata": {
    "collapsed": true
   },
   "outputs": [],
   "source": [
    "from sklearn.decomposition import TruncatedSVD\n",
    "from sklearn.pipeline import make_pipeline\n",
    "from sklearn.preprocessing import Normalizer\n",
    "from sklearn.neighbors import KNeighborsClassifier"
   ]
  },
  {
   "cell_type": "code",
   "execution_count": null,
   "metadata": {
    "collapsed": true
   },
   "outputs": [],
   "source": []
  },
  {
   "cell_type": "code",
   "execution_count": null,
   "metadata": {
    "collapsed": true
   },
   "outputs": [],
   "source": []
  },
  {
   "cell_type": "code",
   "execution_count": null,
   "metadata": {
    "collapsed": true
   },
   "outputs": [],
   "source": []
  },
  {
   "cell_type": "code",
   "execution_count": null,
   "metadata": {
    "collapsed": true
   },
   "outputs": [],
   "source": []
  },
  {
   "cell_type": "code",
   "execution_count": null,
   "metadata": {
    "collapsed": true
   },
   "outputs": [],
   "source": []
  },
  {
   "cell_type": "markdown",
   "metadata": {},
   "source": [
    "#### CountVectorizer\n",
    "\n",
    "We will also try using the CountVectorizer() in addition TF-IDF for this attempt. Using CountVectorizer will not down-weight the presence of an ingredient if it appears in relatively more recipes. We will use a CountVectorizer with a pairwise cosine similarity calculation and then compare the results of TF-IDF vs CountVectorizer."
   ]
  },
  {
   "cell_type": "code",
   "execution_count": 525,
   "metadata": {
    "collapsed": true
   },
   "outputs": [],
   "source": [
    "# Import CountVectorizer and create the count matrix\n",
    "from sklearn.feature_extraction.text import CountVectorizer\n",
    "\n",
    "count = CountVectorizer(stop_words='english')\n",
    "count_matrix = count.fit_transform(data['ingred_cat'])\n"
   ]
  },
  {
   "cell_type": "code",
   "execution_count": 526,
   "metadata": {
    "collapsed": true
   },
   "outputs": [],
   "source": [
    "# Compute the Cosine Similarity matrix based on the count_matrix\n",
    "from sklearn.metrics.pairwise import cosine_similarity\n",
    "\n",
    "cosine_sim2 = cosine_similarity(count_matrix, count_matrix)"
   ]
  },
  {
   "cell_type": "code",
   "execution_count": 527,
   "metadata": {},
   "outputs": [
    {
     "data": {
      "text/plain": [
       "<10542x7894 sparse matrix of type '<class 'numpy.int64'>'\n",
       "\twith 134808 stored elements in Compressed Sparse Row format>"
      ]
     },
     "execution_count": 527,
     "metadata": {},
     "output_type": "execute_result"
    }
   ],
   "source": [
    "count_matrix"
   ]
  },
  {
   "cell_type": "markdown",
   "metadata": {},
   "source": [
    "#### MultinomialNB\n"
   ]
  },
  {
   "cell_type": "code",
   "execution_count": 462,
   "metadata": {
    "collapsed": true
   },
   "outputs": [],
   "source": [
    "from sklearn.pipeline import Pipeline\n",
    "from sklearn.feature_extraction.text import TfidfTransformer\n",
    "from sklearn.feature_extraction.text import TfidfVectorizer"
   ]
  },
  {
   "cell_type": "code",
   "execution_count": 468,
   "metadata": {},
   "outputs": [],
   "source": [
    "text_clf = Pipeline([('count', CountVectorizer()),                      \n",
    "                     ('tfidf', TfidfTransformer())])\n",
    "\n",
    "#text_clf = Pipeline([('vect', CountVectorizer()),\n",
    "#                     ('tfidf', TfidfTransformer()),\n",
    "#                     ('clf', LinearSVC(loss='hinge', penalty='l2')),])\n",
    "\n"
   ]
  },
  {
   "cell_type": "code",
   "execution_count": 469,
   "metadata": {},
   "outputs": [
    {
     "ename": "AttributeError",
     "evalue": "'TfidfTransformer' object has no attribute 'predict'",
     "output_type": "error",
     "traceback": [
      "\u001b[0;31m---------------------------------------------------------\u001b[0m",
      "\u001b[0;31mAttributeError\u001b[0m          Traceback (most recent call last)",
      "\u001b[0;32m<ipython-input-469-425ec7997dad>\u001b[0m in \u001b[0;36m<module>\u001b[0;34m()\u001b[0m\n\u001b[0;32m----> 1\u001b[0;31m \u001b[0mpredicted\u001b[0m \u001b[0;34m=\u001b[0m \u001b[0mtext_clf\u001b[0m\u001b[0;34m.\u001b[0m\u001b[0mpredict\u001b[0m\u001b[0;34m(\u001b[0m\u001b[0mdata\u001b[0m\u001b[0;34m[\u001b[0m\u001b[0;34m'ingred_cat'\u001b[0m\u001b[0;34m]\u001b[0m\u001b[0;34m)\u001b[0m\u001b[0;34m\u001b[0m\u001b[0m\n\u001b[0m",
      "\u001b[0;32m/usr/local/Cellar/python3/3.6.4_2/Frameworks/Python.framework/Versions/3.6/lib/python3.6/site-packages/sklearn/utils/metaestimators.py\u001b[0m in \u001b[0;36m__get__\u001b[0;34m(self, obj, type)\u001b[0m\n\u001b[1;32m    107\u001b[0m                     \u001b[0;32mcontinue\u001b[0m\u001b[0;34m\u001b[0m\u001b[0m\n\u001b[1;32m    108\u001b[0m                 \u001b[0;32melse\u001b[0m\u001b[0;34m:\u001b[0m\u001b[0;34m\u001b[0m\u001b[0m\n\u001b[0;32m--> 109\u001b[0;31m                     \u001b[0mgetattr\u001b[0m\u001b[0;34m(\u001b[0m\u001b[0mdelegate\u001b[0m\u001b[0;34m,\u001b[0m \u001b[0mself\u001b[0m\u001b[0;34m.\u001b[0m\u001b[0mattribute_name\u001b[0m\u001b[0;34m)\u001b[0m\u001b[0;34m\u001b[0m\u001b[0m\n\u001b[0m\u001b[1;32m    110\u001b[0m                     \u001b[0;32mbreak\u001b[0m\u001b[0;34m\u001b[0m\u001b[0m\n\u001b[1;32m    111\u001b[0m             \u001b[0;32melse\u001b[0m\u001b[0;34m:\u001b[0m\u001b[0;34m\u001b[0m\u001b[0m\n",
      "\u001b[0;31mAttributeError\u001b[0m: 'TfidfTransformer' object has no attribute 'predict'"
     ]
    }
   ],
   "source": [
    "predicted = text_clf.predict(data['ingred_cat'])"
   ]
  },
  {
   "cell_type": "code",
   "execution_count": null,
   "metadata": {
    "collapsed": true
   },
   "outputs": [],
   "source": []
  },
  {
   "cell_type": "code",
   "execution_count": 646,
   "metadata": {},
   "outputs": [],
   "source": [
    "# Function that takes in ingredient as input and outputs most similar ingredients\n",
    "def get_recommendations(title, cosine_sim=cosine_sim):\n",
    "\n",
    "    # Get the index of the recipe title that matches the title\n",
    "    row = data.loc[data['title'] == title].index[0]\n",
    "    idx = indices[row]\n",
    "\n",
    "    # Get the pairwise similarity scores of all titles with that title\n",
    "    sim_scores = list(enumerate(cosine_sim[idx]))\n",
    "    \n",
    "    # Sort the recipes based on the similarity scores    \n",
    "    sim_scores = sorted(sim_scores, key=lambda x: x[1], reverse=True)\n",
    "\n",
    "    # Get the scores of the 10 most similar recipes\n",
    "    sim_scores = sim_scores[1:16]\n",
    " \n",
    "    # Get the recipe indices\n",
    "    recipe_indices = [i[0] for i in sim_scores]\n",
    "    recipe_scores = [i[1] for i in sim_scores]\n",
    "\n",
    "    \n",
    "    #print(recipe_scores)\n",
    "    #print(recipe_indices)\n",
    "\n",
    "    \n",
    "    data_sim = pd.DataFrame(sim_scores).drop_duplicates()\n",
    "    print(data_sim.head(15))\n",
    "\n",
    "    data_title = data['title'].iloc[recipe_indices].to_frame()\n",
    "    #print(data_title.head(15))\n",
    "    \n",
    "    #data_index = sim_scores[1:5]\n",
    "    #print(data_index.head(5))\n",
    "    \n",
    "    \n",
    "    #data_sim_title = data_sim.append(data_title, ignore_index=False)\n",
    "    \n",
    "    #data_sim_title = pd.concat([data_sim, data_title], ignore_index=True)\n",
    "    \n",
    "    #data_sim_title = pd.concat([data_sim, data_title], axis=1)\n",
    "    \n",
    "    #data_sim_title = pd.merge(data_sim, data_title, on='title', how='outer')\n",
    "    \n",
    "    #df1 = pd.DataFrame(data=sf.index, columns=['email'])\n",
    "    #df2 = pd.DataFrame(data=sf.values, columns=['list'])\n",
    "    #df = pd.merge(df1, df2, left_index=True, right_index=True)\n",
    "    \n",
    "    \n",
    "    #print(data_sim_title)\n",
    "    \n",
    "    # Return the top 10-15 most similar recipes\n",
    "    \n",
    "    \n",
    "    \n",
    "    return data['title'].iloc[recipe_indices].drop_duplicates()\n",
    "    #return data['title'].iloc[recipe_indices].drop_duplicates()\n",
    "  #  return data_sim_title\n"
   ]
  },
  {
   "cell_type": "markdown",
   "metadata": {},
   "source": [
    "#### Results\n",
    "Here are some examples of recipe recommendations. We call the \"get_recommendations()\" function and pass in the index of the recipe and specify cosine similarity. The function returns a list of up to 10 closest recipes."
   ]
  },
  {
   "cell_type": "code",
   "execution_count": 531,
   "metadata": {},
   "outputs": [
    {
     "data": {
      "text/html": [
       "<div>\n",
       "<style scoped>\n",
       "    .dataframe tbody tr th:only-of-type {\n",
       "        vertical-align: middle;\n",
       "    }\n",
       "\n",
       "    .dataframe tbody tr th {\n",
       "        vertical-align: top;\n",
       "    }\n",
       "\n",
       "    .dataframe thead th {\n",
       "        text-align: right;\n",
       "    }\n",
       "</style>\n",
       "<table border=\"1\" class=\"dataframe\">\n",
       "  <thead>\n",
       "    <tr style=\"text-align: right;\">\n",
       "      <th></th>\n",
       "      <th>title</th>\n",
       "      <th>category</th>\n",
       "      <th>categories</th>\n",
       "      <th>ingred</th>\n",
       "    </tr>\n",
       "  </thead>\n",
       "  <tbody>\n",
       "    <tr>\n",
       "      <th>0</th>\n",
       "      <td>Acorn Squash</td>\n",
       "      <td>Acorn Squash Side Dishes</td>\n",
       "      <td>['Side Dish', 'Vegetables', 'Squash', 'Acorn S...</td>\n",
       "      <td>['1 medium acorn squash, halved and seeded', '...</td>\n",
       "    </tr>\n",
       "    <tr>\n",
       "      <th>1</th>\n",
       "      <td>Acorn Squash with Apple</td>\n",
       "      <td>Acorn Squash Side Dishes</td>\n",
       "      <td>['Side Dish', 'Vegetables', 'Squash', 'Acorn S...</td>\n",
       "      <td>['1 acorn squash', '2 apples, cored and sliced...</td>\n",
       "    </tr>\n",
       "    <tr>\n",
       "      <th>2</th>\n",
       "      <td>Apple-Stuffed Acorn Squash</td>\n",
       "      <td>Acorn Squash Side Dishes</td>\n",
       "      <td>['Side Dish', 'Vegetables', 'Squash', 'Acorn S...</td>\n",
       "      <td>['3 acorn squash, halved and seeded', '2 table...</td>\n",
       "    </tr>\n",
       "    <tr>\n",
       "      <th>3</th>\n",
       "      <td>Baked Acorn Squash</td>\n",
       "      <td>Acorn Squash Side Dishes</td>\n",
       "      <td>['Side Dish', 'Vegetables', 'Squash', 'Acorn S...</td>\n",
       "      <td>['2 acorn squash, halved and seeded', 'salt an...</td>\n",
       "    </tr>\n",
       "    <tr>\n",
       "      <th>4</th>\n",
       "      <td>Baked Acorn Squash with Apple Stuffing</td>\n",
       "      <td>Acorn Squash Side Dishes</td>\n",
       "      <td>['Side Dish', 'Vegetables', 'Squash', 'Acorn S...</td>\n",
       "      <td>['1 tablespoon olive oil', '1 acorn squash, ha...</td>\n",
       "    </tr>\n",
       "  </tbody>\n",
       "</table>\n",
       "</div>"
      ],
      "text/plain": [
       "                                    title                  category  \\\n",
       "0                            Acorn Squash  Acorn Squash Side Dishes   \n",
       "1                 Acorn Squash with Apple  Acorn Squash Side Dishes   \n",
       "2              Apple-Stuffed Acorn Squash  Acorn Squash Side Dishes   \n",
       "3                      Baked Acorn Squash  Acorn Squash Side Dishes   \n",
       "4  Baked Acorn Squash with Apple Stuffing  Acorn Squash Side Dishes   \n",
       "\n",
       "                                          categories  \\\n",
       "0  ['Side Dish', 'Vegetables', 'Squash', 'Acorn S...   \n",
       "1  ['Side Dish', 'Vegetables', 'Squash', 'Acorn S...   \n",
       "2  ['Side Dish', 'Vegetables', 'Squash', 'Acorn S...   \n",
       "3  ['Side Dish', 'Vegetables', 'Squash', 'Acorn S...   \n",
       "4  ['Side Dish', 'Vegetables', 'Squash', 'Acorn S...   \n",
       "\n",
       "                                              ingred  \n",
       "0  ['1 medium acorn squash, halved and seeded', '...  \n",
       "1  ['1 acorn squash', '2 apples, cored and sliced...  \n",
       "2  ['3 acorn squash, halved and seeded', '2 table...  \n",
       "3  ['2 acorn squash, halved and seeded', 'salt an...  \n",
       "4  ['1 tablespoon olive oil', '1 acorn squash, ha...  "
      ]
     },
     "execution_count": 531,
     "metadata": {},
     "output_type": "execute_result"
    }
   ],
   "source": [
    "testing_data = pd.read_csv(\"test_recipe_category.csv\") \n",
    "testing_data.head(5)"
   ]
  },
  {
   "cell_type": "markdown",
   "metadata": {},
   "source": [
    "##### Example: Baked Slow Cooker Chicken, TF-IDF"
   ]
  },
  {
   "cell_type": "code",
   "execution_count": 647,
   "metadata": {},
   "outputs": [
    {
     "name": "stdout",
     "output_type": "stream",
     "text": [
      "        0         1\n",
      "0     866  0.760986\n",
      "1     432  0.741979\n",
      "2    8687  0.741979\n",
      "3    6714  0.537984\n",
      "4    5381  0.403347\n",
      "5    8461  0.341323\n",
      "6    3975  0.340972\n",
      "7    3913  0.321790\n",
      "8   10427  0.314139\n",
      "9    7134  0.307708\n",
      "10   9182  0.307708\n",
      "11   4301  0.293213\n",
      "12   3362  0.288616\n",
      "13   8664  0.288616\n",
      "14   8099  0.281996\n"
     ]
    },
    {
     "data": {
      "text/plain": [
       "866                                Beer Butt Chicken\n",
       "432                            Bacon Roasted Chicken\n",
       "6714                    Simple Whole Roasted Chicken\n",
       "5381                          Oven Fried Chicken III\n",
       "8461               Super-Easy Pulled Pork Sandwiches\n",
       "3975                          Honey Baked Chicken II\n",
       "3913                   Herb Rubbed Sirloin Tip Roast\n",
       "10427    Homemade Chicken Cacciatore, Sicilian-Style\n",
       "7134                          Spicy Lemon Pork Saute\n",
       "4301                           Juicy Roasted Chicken\n",
       "3362                    Get a Husband Brunswick Stew\n",
       "8099           Vegetarian Alternative to Ground Beef\n",
       "Name: title, dtype: object"
      ]
     },
     "execution_count": 647,
     "metadata": {},
     "output_type": "execute_result"
    }
   ],
   "source": [
    "get_recommendations('Baked Slow Cooker Chicken', cosine_sim)  \n"
   ]
  },
  {
   "cell_type": "markdown",
   "metadata": {},
   "source": [
    "##### Example: Baked Slow Cooker Chicken, CountVectorizer"
   ]
  },
  {
   "cell_type": "code",
   "execution_count": 639,
   "metadata": {},
   "outputs": [
    {
     "name": "stdout",
     "output_type": "stream",
     "text": [
      "[0.7905694150420948, 0.7071067811865475, 0.7071067811865475, 0.6708203932499369, 0.6, 0.6, 0.6, 0.5477225575051662, 0.5477225575051662, 0.5423261445466404, 0.5393598899705937, 0.512989176042577, 0.50709255283711, 0.50709255283711, 0.4961389383568338]\n",
      "[866, 432, 8687, 3923, 3166, 6763, 9545, 6410, 8544, 857, 3699, 1919, 1394, 6773, 5381]\n",
      "       0         1\n",
      "0    866  0.790569\n",
      "1    432  0.707107\n",
      "2   8687  0.707107\n",
      "3   3923  0.670820\n",
      "4   3166  0.600000\n",
      "5   6763  0.600000\n",
      "6   9545  0.600000\n",
      "7   6410  0.547723\n",
      "8   8544  0.547723\n",
      "9    857  0.542326\n",
      "10  3699  0.539360\n",
      "11  1919  0.512989\n",
      "12  1394  0.507093\n",
      "13  6773  0.507093\n",
      "14  5381  0.496139\n",
      "                                     title\n",
      "866                      Beer Butt Chicken\n",
      "432                  Bacon Roasted Chicken\n",
      "8687                 Bacon Roasted Chicken\n",
      "3923   High Temperature Eye-of-Round Roast\n",
      "3166                   Foolproof Rib Roast\n",
      "6763             Slow Cooked Pork Barbeque\n",
      "9545             Slow Cooked Pork Barbeque\n",
      "6410            Sarge's EZ Pulled Pork BBQ\n",
      "8544            Sarge's EZ Pulled Pork BBQ\n",
      "857            Beer Batter Fish Made Great\n",
      "3699  Grilled Tri-Tip with Oregon Herb Rub\n",
      "1919                 Chicken Fried Steak I\n",
      "1394                           Bum's Lunch\n",
      "6773                  Slow Cooker Barbeque\n",
      "5381                Oven Fried Chicken III\n"
     ]
    },
    {
     "ename": "AttributeError",
     "evalue": "'list' object has no attribute 'to_frame'",
     "output_type": "error",
     "traceback": [
      "\u001b[0;31m---------------------------------------------------------\u001b[0m",
      "\u001b[0;31mAttributeError\u001b[0m          Traceback (most recent call last)",
      "\u001b[0;32m<ipython-input-639-b55fb0c8d0bf>\u001b[0m in \u001b[0;36m<module>\u001b[0;34m()\u001b[0m\n\u001b[0;32m----> 1\u001b[0;31m \u001b[0mget_recommendations\u001b[0m\u001b[0;34m(\u001b[0m\u001b[0;34m'Baked Slow Cooker Chicken'\u001b[0m\u001b[0;34m,\u001b[0m \u001b[0mcosine_sim2\u001b[0m\u001b[0;34m)\u001b[0m\u001b[0;34m\u001b[0m\u001b[0m\n\u001b[0m",
      "\u001b[0;32m<ipython-input-638-fbd79fc61dc3>\u001b[0m in \u001b[0;36mget_recommendations\u001b[0;34m(title, cosine_sim)\u001b[0m\n\u001b[1;32m     30\u001b[0m     \u001b[0mprint\u001b[0m\u001b[0;34m(\u001b[0m\u001b[0mdata_title\u001b[0m\u001b[0;34m.\u001b[0m\u001b[0mhead\u001b[0m\u001b[0;34m(\u001b[0m\u001b[0;36m15\u001b[0m\u001b[0;34m)\u001b[0m\u001b[0;34m)\u001b[0m\u001b[0;34m\u001b[0m\u001b[0m\n\u001b[1;32m     31\u001b[0m \u001b[0;34m\u001b[0m\u001b[0m\n\u001b[0;32m---> 32\u001b[0;31m     \u001b[0mdata_index\u001b[0m \u001b[0;34m=\u001b[0m \u001b[0msim_scores\u001b[0m\u001b[0;34m[\u001b[0m\u001b[0;36m1\u001b[0m\u001b[0;34m:\u001b[0m\u001b[0;36m5\u001b[0m\u001b[0;34m]\u001b[0m\u001b[0;34m.\u001b[0m\u001b[0mto_frame\u001b[0m\u001b[0;34m(\u001b[0m\u001b[0;34m)\u001b[0m\u001b[0;34m\u001b[0m\u001b[0m\n\u001b[0m\u001b[1;32m     33\u001b[0m     \u001b[0mprint\u001b[0m\u001b[0;34m(\u001b[0m\u001b[0mdata_index\u001b[0m\u001b[0;34m.\u001b[0m\u001b[0mhead\u001b[0m\u001b[0;34m(\u001b[0m\u001b[0;36m5\u001b[0m\u001b[0;34m)\u001b[0m\u001b[0;34m)\u001b[0m\u001b[0;34m\u001b[0m\u001b[0m\n\u001b[1;32m     34\u001b[0m \u001b[0;34m\u001b[0m\u001b[0m\n",
      "\u001b[0;31mAttributeError\u001b[0m: 'list' object has no attribute 'to_frame'"
     ]
    }
   ],
   "source": [
    "get_recommendations('Baked Slow Cooker Chicken', cosine_sim2) "
   ]
  },
  {
   "cell_type": "markdown",
   "metadata": {},
   "source": [
    "##### Example: Steamed Asian Sesame Veggies, TF-IDF"
   ]
  },
  {
   "cell_type": "code",
   "execution_count": 624,
   "metadata": {},
   "outputs": [
    {
     "name": "stdout",
     "output_type": "stream",
     "text": [
      "[0.5041025497075488, 0.44922655556640634, 0.42724490506800483, 0.34863817928123886, 0.3371252110126314, 0.32106198831603905, 0.3025981946320654, 0.30046784990124464, 0.298662911548382, 0.2973403228206234, 0.29477330529279777, 0.2848010602812217, 0.2829168393986069, 0.28074795019548143, 0.274138751908645]\n",
      "[1283, 7258, 7637, 1298, 6968, 6202, 1754, 6568, 4235, 6569, 7286, 1287, 6967, 1277, 1942]\n",
      "       0         1\n",
      "0   1283  0.504103\n",
      "1   7258  0.449227\n",
      "2   7637  0.427245\n",
      "3   1298  0.348638\n",
      "4   6968  0.337125\n",
      "5   6202  0.321062\n",
      "6   1754  0.302598\n",
      "7   6568  0.300468\n",
      "8   4235  0.298663\n",
      "9   6569  0.297340\n",
      "10  7286  0.294773\n",
      "11  1287  0.284801\n",
      "12  6967  0.282917\n",
      "13  1277  0.280748\n",
      "14  1942  0.274139\n"
     ]
    },
    {
     "data": {
      "text/plain": [
       "1283         Broccoli in Roast Chicken Drippings\n",
       "7258                            Steamed Broccoli\n",
       "7637                              Tangy Broccoli\n",
       "1298           Broccoli With Lemon Almond Butter\n",
       "6968              Snow Peas with Water Chestnuts\n",
       "6202                      Roasted Broccoli Salad\n",
       "1754      Cheesy Cauliflower and Broccoli Gratin\n",
       "6568                             Sesame Broccoli\n",
       "4235    Japanese Spinach with Sweet Sesame Seeds\n",
       "6569                Sesame Cabbage and Mushrooms\n",
       "7286                          Stir-Fried Pumpkin\n",
       "1287                          Broccoli Polonaise\n",
       "6967                          Snow Peas Oriental\n",
       "1277         Broccoli Cheese Casserole with Rice\n",
       "1942                            Chicken Stir-Fry\n",
       "Name: title, dtype: object"
      ]
     },
     "execution_count": 624,
     "metadata": {},
     "output_type": "execute_result"
    }
   ],
   "source": [
    "get_recommendations('Steamed Asian Sesame Veggies', cosine_sim) "
   ]
  },
  {
   "cell_type": "markdown",
   "metadata": {},
   "source": [
    "##### Example: Steamed Asian Sesame Veggies, CountVectorizer"
   ]
  },
  {
   "cell_type": "code",
   "execution_count": 625,
   "metadata": {},
   "outputs": [
    {
     "name": "stdout",
     "output_type": "stream",
     "text": [
      "[0.5669467095138409, 0.472455591261534, 0.43301270189221935, 0.41666666666666663, 0.41666666666666663, 0.39528470752104744, 0.3818813079129867, 0.37688918072220456, 0.37688918072220456, 0.37688918072220456, 0.37688918072220456, 0.375, 0.36084391824351614, 0.36084391824351614, 0.35355339059327373]\n",
      "[1283, 7637, 1277, 6568, 7258, 1298, 1754, 1287, 6202, 7250, 7291, 2888, 3337, 7100, 4235]\n",
      "       0         1\n",
      "0   1283  0.566947\n",
      "1   7637  0.472456\n",
      "2   1277  0.433013\n",
      "3   6568  0.416667\n",
      "4   7258  0.416667\n",
      "5   1298  0.395285\n",
      "6   1754  0.381881\n",
      "7   1287  0.376889\n",
      "8   6202  0.376889\n",
      "9   7250  0.376889\n",
      "10  7291  0.376889\n",
      "11  2888  0.375000\n",
      "12  3337  0.360844\n",
      "13  7100  0.360844\n",
      "14  4235  0.353553\n"
     ]
    },
    {
     "data": {
      "text/plain": [
       "1283         Broccoli in Roast Chicken Drippings\n",
       "7637                              Tangy Broccoli\n",
       "1277         Broccoli Cheese Casserole with Rice\n",
       "6568                             Sesame Broccoli\n",
       "7258                            Steamed Broccoli\n",
       "1298           Broccoli With Lemon Almond Butter\n",
       "1754      Cheesy Cauliflower and Broccoli Gratin\n",
       "1287                          Broccoli Polonaise\n",
       "6202                      Roasted Broccoli Salad\n",
       "7250         Stacey's Fabulous Broccoli Fritters\n",
       "7291         Stir-Fry Broccoli With Orange Sauce\n",
       "2888              Easy Lemon and Garlic Broccoli\n",
       "3337                    Garlic-Sauteed Asparagus\n",
       "7100              Spicy Bok Choy in Garlic Sauce\n",
       "4235    Japanese Spinach with Sweet Sesame Seeds\n",
       "Name: title, dtype: object"
      ]
     },
     "execution_count": 625,
     "metadata": {},
     "output_type": "execute_result"
    }
   ],
   "source": [
    "get_recommendations('Steamed Asian Sesame Veggies', cosine_sim2) "
   ]
  },
  {
   "cell_type": "markdown",
   "metadata": {},
   "source": [
    "##### Example: Urban Legend Chocolate Chip Cookies, TF-IDF"
   ]
  },
  {
   "cell_type": "code",
   "execution_count": 626,
   "metadata": {},
   "outputs": [
    {
     "name": "stdout",
     "output_type": "stream",
     "text": [
      "[0.6480036690685207, 0.6025441765404634, 0.5948699056557725, 0.5815847215788005, 0.5661912866259086, 0.5537872290360487, 0.5531086864848789, 0.5530169997807697, 0.5273855258286014, 0.5262522758275159, 0.5259503306476998, 0.5193284429222736, 0.5154402696625022, 0.5016478260510324, 0.4982284601719285]\n",
      "[2353, 5271, 5200, 3365, 930, 6337, 167, 2352, 355, 5272, 5372, 2056, 2053, 1169, 2057]\n",
      "       0         1\n",
      "0   2353  0.648004\n",
      "1   5271  0.602544\n",
      "2   5200  0.594870\n",
      "3   3365  0.581585\n",
      "4    930  0.566191\n",
      "5   6337  0.553787\n",
      "6    167  0.553109\n",
      "7   2352  0.553017\n",
      "8    355  0.527386\n",
      "9   5272  0.526252\n",
      "10  5372  0.525950\n",
      "11  2056  0.519328\n",
      "12  2053  0.515440\n",
      "13  1169  0.501648\n",
      "14  2057  0.498228\n"
     ]
    },
    {
     "data": {
      "text/plain": [
       "2353                           Cowboy Cookies III\n",
       "5271             Oatmeal Chocolate  Coconut Chewy\n",
       "5200            Never Fail Chocolate Chip Cookies\n",
       "3365                  Giant Chocolate Chip Cookie\n",
       "930                   Best Chocolate Chip Cookies\n",
       "6337                                     Rugelach\n",
       "167                 Anna's Chocolate Chip Cookies\n",
       "2352                   Cowboy Cookie Mix in a Jar\n",
       "355     Award Winning Soft Chocolate Chip Cookies\n",
       "5272             Oatmeal Chocolate Chip Cookies I\n",
       "5372            Outrageous Chocolate Chip Cookies\n",
       "2056           Chocolate Chocolate Chip Cookies I\n",
       "2053               Chocolate Chip Pudding Cookies\n",
       "1169                     Bobbie's Oatmeal Cookies\n",
       "2057          Chocolate Chocolate Chip Cookies II\n",
       "Name: title, dtype: object"
      ]
     },
     "execution_count": 626,
     "metadata": {},
     "output_type": "execute_result"
    }
   ],
   "source": [
    "get_recommendations('Urban Legend Chocolate Chip Cookies', cosine_sim)"
   ]
  },
  {
   "cell_type": "markdown",
   "metadata": {},
   "source": [
    "##### Example: Urban Legend Chocolate Chip Cookies, CountVectorizer"
   ]
  },
  {
   "cell_type": "code",
   "execution_count": 627,
   "metadata": {},
   "outputs": [
    {
     "name": "stdout",
     "output_type": "stream",
     "text": [
      "[0.8426648406178137, 0.8072073527955751, 0.8072073527955751, 0.7882407813680824, 0.7778444682625972, 0.7701540462154053, 0.7399400733959438, 0.7399400733959438, 0.7276068751089991, 0.7130240959073808, 0.7130240959073808, 0.7130240959073808, 0.7130240959073808, 0.7001400420140048, 0.7001400420140048]\n",
      "[2353, 3365, 5200, 5271, 930, 167, 355, 2056, 1169, 39, 1860, 3054, 5372, 1861, 2057]\n",
      "       0         1\n",
      "0   2353  0.842665\n",
      "1   3365  0.807207\n",
      "2   5200  0.807207\n",
      "3   5271  0.788241\n",
      "4    930  0.777844\n",
      "5    167  0.770154\n",
      "6    355  0.739940\n",
      "7   2056  0.739940\n",
      "8   1169  0.727607\n",
      "9     39  0.713024\n",
      "10  1860  0.713024\n",
      "11  3054  0.713024\n",
      "12  5372  0.713024\n",
      "13  1861  0.700140\n",
      "14  2057  0.700140\n"
     ]
    },
    {
     "data": {
      "text/plain": [
       "2353                                   Cowboy Cookies III\n",
       "3365                          Giant Chocolate Chip Cookie\n",
       "5200                    Never Fail Chocolate Chip Cookies\n",
       "5271                     Oatmeal Chocolate  Coconut Chewy\n",
       "930                           Best Chocolate Chip Cookies\n",
       "167                         Anna's Chocolate Chip Cookies\n",
       "355             Award Winning Soft Chocolate Chip Cookies\n",
       "2056                   Chocolate Chocolate Chip Cookies I\n",
       "1169                             Bobbie's Oatmeal Cookies\n",
       "39      Absolutely Sinful Chocolate Chocolate Chip Coo...\n",
       "1860                 Chewy Chocolate Chip Oatmeal Cookies\n",
       "3054                            Excellent Oatmeal Cookies\n",
       "5372                    Outrageous Chocolate Chip Cookies\n",
       "1861                            Chewy Chocolate Cookies I\n",
       "2057                  Chocolate Chocolate Chip Cookies II\n",
       "Name: title, dtype: object"
      ]
     },
     "execution_count": 627,
     "metadata": {},
     "output_type": "execute_result"
    }
   ],
   "source": [
    "get_recommendations('Urban Legend Chocolate Chip Cookies', cosine_sim2) "
   ]
  },
  {
   "cell_type": "markdown",
   "metadata": {
    "collapsed": true
   },
   "source": [
    "##### Example: Easy Lasagna I, TF-IDF"
   ]
  },
  {
   "cell_type": "code",
   "execution_count": 628,
   "metadata": {},
   "outputs": [
    {
     "name": "stdout",
     "output_type": "stream",
     "text": [
      "[1.0, 0.7702397016406257, 0.7702397016406257, 0.7581158983083854, 0.6383716458820938, 0.629023180743405, 0.629023180743405, 0.6199341334498234, 0.5928551008856489, 0.5928551008856489, 0.5748807092721073, 0.5729624144294289, 0.5646815228733397, 0.5539532879542773, 0.5539532879542773]\n",
      "[9751, 2885, 9676, 10164, 9726, 6847, 9678, 10166, 4598, 9638, 9755, 10138, 9925, 2886, 10418]\n",
      "        0         1\n",
      "0    9751  1.000000\n",
      "1    2885  0.770240\n",
      "2    9676  0.770240\n",
      "3   10164  0.758116\n",
      "4    9726  0.638372\n",
      "5    6847  0.629023\n",
      "6    9678  0.629023\n",
      "7   10166  0.619934\n",
      "8    4598  0.592855\n",
      "9    9638  0.592855\n",
      "10   9755  0.574881\n",
      "11  10138  0.572962\n",
      "12   9925  0.564682\n",
      "13   2886  0.553953\n",
      "14  10418  0.553953\n"
     ]
    },
    {
     "data": {
      "text/plain": [
       "9751                            Easy Lasagna I\n",
       "2885                           Easy Lasagna II\n",
       "10164                 Easy Four Cheese Lasagna\n",
       "9726                                 Manicotti\n",
       "6847                       Slow Cooker Lasagna\n",
       "10166                Baked Spaghetti Casserole\n",
       "4598                           Linda's Lasagna\n",
       "9755                  Lasagna Alfredo Roll Ups\n",
       "10138                           Cheese Lasagna\n",
       "9925     Easy Spinach Lasagna with White Sauce\n",
       "2886                          Easy Lasagna III\n",
       "Name: title, dtype: object"
      ]
     },
     "execution_count": 628,
     "metadata": {},
     "output_type": "execute_result"
    }
   ],
   "source": [
    "get_recommendations('Easy Lasagna I', cosine_sim)"
   ]
  },
  {
   "cell_type": "markdown",
   "metadata": {},
   "source": [
    "##### Example: Easy Lasagna I, CountVectorizer"
   ]
  },
  {
   "cell_type": "code",
   "execution_count": 629,
   "metadata": {},
   "outputs": [
    {
     "name": "stdout",
     "output_type": "stream",
     "text": [
      "[0.9999999999999998, 0.7412493166611013, 0.7412493166611013, 0.7396002616336387, 0.686406472983644, 0.686406472983644, 0.6689936080056728, 0.6689936080056728, 0.6689936080056728, 0.6671243849949912, 0.6671243849949912, 0.6445033866354896, 0.6405126152203486, 0.6240377207533829, 0.6139406135149206]\n",
      "[9751, 2885, 9676, 10164, 4470, 10378, 4815, 9986, 10166, 6847, 9678, 9670, 9726, 10464, 841]\n",
      "        0         1\n",
      "0    9751  1.000000\n",
      "1    2885  0.741249\n",
      "2    9676  0.741249\n",
      "3   10164  0.739600\n",
      "4    4470  0.686406\n",
      "5   10378  0.686406\n",
      "6    4815  0.668994\n",
      "7    9986  0.668994\n",
      "8   10166  0.668994\n",
      "9    6847  0.667124\n",
      "10   9678  0.667124\n",
      "11   9670  0.644503\n",
      "12   9726  0.640513\n",
      "13  10464  0.624038\n",
      "14    841  0.613941\n"
     ]
    },
    {
     "data": {
      "text/plain": [
       "9751                Easy Lasagna I\n",
       "2885               Easy Lasagna II\n",
       "10164     Easy Four Cheese Lasagna\n",
       "4470               Lazy Lasagna II\n",
       "4815         Meat Filled Manicotti\n",
       "10166    Baked Spaghetti Casserole\n",
       "6847           Slow Cooker Lasagna\n",
       "9670      Hearty Vegetable Lasagna\n",
       "9726                     Manicotti\n",
       "10464         Italian Veggie Rolls\n",
       "841            Beefy Baked Ravioli\n",
       "Name: title, dtype: object"
      ]
     },
     "execution_count": 629,
     "metadata": {},
     "output_type": "execute_result"
    }
   ],
   "source": [
    "get_recommendations('Easy Lasagna I', cosine_sim2)"
   ]
  },
  {
   "cell_type": "markdown",
   "metadata": {},
   "source": [
    "##### Example: \"The Best Post Workout Shake\", TF-IDF"
   ]
  },
  {
   "cell_type": "code",
   "execution_count": 266,
   "metadata": {},
   "outputs": [
    {
     "data": {
      "text/plain": [
       "2642    Dairy-Free Chocolate Peanut Banana Smoothie\n",
       "7448           Superfood Chocolate Pudding Smoothie\n",
       "5553              Peanut Butter Strawberry Smoothie\n",
       "630           Banana Chocolate Almond Milk Smoothie\n",
       "3855             Healthy Cocoa, Banana, PB Smoothie\n",
       "908                                 Berry Delicious\n",
       "29                    A Very Intense Fruit Smoothie\n",
       "2413                             Cranberry Smoothie\n",
       "4320            Kale and Berries Breakfast Smoothie\n",
       "3158                             Flax Seed Smoothie\n",
       "47                 Acai Rainbow Smoothie Bowl for 2\n",
       "6745                       Skinny Almond Milk Shake\n",
       "3578                                 Green Smoothie\n",
       "8162                        Very Berry Tea Smoothie\n",
       "648                   Banana Peanut Butter Smoothie\n",
       "Name: title, dtype: object"
      ]
     },
     "execution_count": 266,
     "metadata": {},
     "output_type": "execute_result"
    }
   ],
   "source": [
    "get_recommendations('The Best Post Workout Shake', cosine_sim) "
   ]
  },
  {
   "cell_type": "markdown",
   "metadata": {},
   "source": [
    "##### Example: \"The Best Post Workout Shake\", CountVectorizer"
   ]
  },
  {
   "cell_type": "code",
   "execution_count": 267,
   "metadata": {},
   "outputs": [
    {
     "data": {
      "text/plain": [
       "2642     Dairy-Free Chocolate Peanut Banana Smoothie\n",
       "7448            Superfood Chocolate Pudding Smoothie\n",
       "630            Banana Chocolate Almond Milk Smoothie\n",
       "908                                  Berry Delicious\n",
       "3158                              Flax Seed Smoothie\n",
       "3855              Healthy Cocoa, Banana, PB Smoothie\n",
       "5553               Peanut Butter Strawberry Smoothie\n",
       "5855                         Pumpkin Banana Smoothie\n",
       "6745                        Skinny Almond Milk Shake\n",
       "29                     A Very Intense Fruit Smoothie\n",
       "642                       Banana Mocha Protein Shake\n",
       "2047    Chocolate Banana Peanut Butter Protein Shake\n",
       "2413                              Cranberry Smoothie\n",
       "3578                                  Green Smoothie\n",
       "3900                     Heavenly Blueberry Smoothie\n",
       "Name: title, dtype: object"
      ]
     },
     "execution_count": 267,
     "metadata": {},
     "output_type": "execute_result"
    }
   ],
   "source": [
    "get_recommendations('The Best Post Workout Shake', cosine_sim2) "
   ]
  },
  {
   "cell_type": "markdown",
   "metadata": {},
   "source": [
    "#### Results:\n",
    "Both TF-IDF and CountVectorizer produced reasonable recipe recommendations based on the submitted recipe title. Many of the first few recipes returned were the same, but there were variations after about the fourth recipe. Overall, while both produced reasonable results, I found that the TF-IDF matrix returned recipes which were closer to the recipe title submitted. For example, \"Steamed Asian Vegetables\" results using the TF-IDF matrix returned on the mark recipes like \"Stir-Fry Broccoli With Orange Sauce\", while the CountVectorizer matrix, we see somewhat off the mark recipes like \"Cheesy Cauliflower and Broccoli Gratin\".\n"
   ]
  },
  {
   "cell_type": "markdown",
   "metadata": {},
   "source": [
    "## 2 - Recommender System Considering Ratings and Number of Reviews"
   ]
  },
  {
   "cell_type": "markdown",
   "metadata": {},
   "source": [
    "Since ratings can be different based on the number of reviews, for example should a recipe with only 3 ratings, where the average rating is 5.0, be evaluated as having a truly higher rating than a recipe with 500 ratings, where the average rating is about 4.0?<br>\n",
    "\n",
    "In order to be fair, we are going to use a weighted ratings.<br>\n",
    "\n",
    "v: number of reviews for the recipe<br>\n",
    "\n",
    "m: minimum number of votes required to be listed<br>\n",
    "\n",
    "R: average rating of the recipe<br>\n",
    "\n",
    "C: mean vote across all recipes<br>\n",
    "\n",
    "We will use 90th percentile as the cutoff in terms of number of reviews.<br>\n"
   ]
  },
  {
   "cell_type": "code",
   "execution_count": 268,
   "metadata": {
    "collapsed": true
   },
   "outputs": [],
   "source": [
    "# read in fields title, ingredients and categories\n",
    "dataR = data \n"
   ]
  },
  {
   "cell_type": "code",
   "execution_count": 269,
   "metadata": {},
   "outputs": [
    {
     "name": "stdout",
     "output_type": "stream",
     "text": [
      "average rating of all recipes:  4.166075697211155\n"
     ]
    }
   ],
   "source": [
    "C = dataR['rating'].mean()\n",
    "print(\"average rating of all recipes: \",C)"
   ]
  },
  {
   "cell_type": "code",
   "execution_count": 270,
   "metadata": {
    "scrolled": true
   },
   "outputs": [
    {
     "name": "stdout",
     "output_type": "stream",
     "text": [
      "90th percentile for number of reviews, i.e. the top 10th percentile recipes that have been reviewed the most:  474.0\n"
     ]
    }
   ],
   "source": [
    "m = dataR['review_cnt'].quantile(0.9)\n",
    "print(\"90th percentile for number of reviews, i.e. the top 10th percentile recipes that have been reviewed the most: \",m)"
   ]
  },
  {
   "cell_type": "code",
   "execution_count": 271,
   "metadata": {},
   "outputs": [
    {
     "data": {
      "text/plain": [
       "(1058, 10)"
      ]
     },
     "execution_count": 271,
     "metadata": {},
     "output_type": "execute_result"
    }
   ],
   "source": [
    "# Filter out all qualified recipes into a new DataFrame\n",
    "q_data = dataR.copy().loc[dataR['review_cnt'] >= m]\n",
    "q_data.shape"
   ]
  },
  {
   "cell_type": "markdown",
   "metadata": {},
   "source": [
    "There are 872 recipes which qualify to be in this list. Now, we need to calculate our metric for each qualified recipe. To do this, we will define a function, weighted_rating() and define a new feature score, of which we'll calculate the value by applying this function to our dataframe of qualified recipes:"
   ]
  },
  {
   "cell_type": "code",
   "execution_count": 272,
   "metadata": {
    "collapsed": true
   },
   "outputs": [],
   "source": [
    "# Function that computes the weighted rating of each recipe\n",
    "def weighted_rating(x, m=m, C=C):\n",
    "    v = x['review_cnt']\n",
    "    R = x['rating']\n",
    "    # Calculation based on the IMDB formula\n",
    "    return (v/(v+m) * R) + (m/(m+v) * C)\n"
   ]
  },
  {
   "cell_type": "code",
   "execution_count": 273,
   "metadata": {
    "collapsed": true
   },
   "outputs": [],
   "source": [
    "# Define a new feature 'score' and calculate its value with `weighted_rating()`\n",
    "q_data['score'] = q_data.apply(weighted_rating, axis=1)"
   ]
  },
  {
   "cell_type": "code",
   "execution_count": 274,
   "metadata": {
    "collapsed": true
   },
   "outputs": [],
   "source": [
    "#Sort recipes based on score calculated above\n",
    "q_data = q_data.sort_values('score', ascending=False)\n",
    "q_data2 = q_data[['title','category', 'review_cnt', 'rating', 'score']].drop_duplicates('title',keep=False)\n"
   ]
  },
  {
   "cell_type": "markdown",
   "metadata": {},
   "source": [
    "#### Top 20 Recipes by Average Rating and Number of Reviews"
   ]
  },
  {
   "cell_type": "code",
   "execution_count": 275,
   "metadata": {},
   "outputs": [
    {
     "data": {
      "text/html": [
       "<div>\n",
       "<style scoped>\n",
       "    .dataframe tbody tr th:only-of-type {\n",
       "        vertical-align: middle;\n",
       "    }\n",
       "\n",
       "    .dataframe tbody tr th {\n",
       "        vertical-align: top;\n",
       "    }\n",
       "\n",
       "    .dataframe thead th {\n",
       "        text-align: right;\n",
       "    }\n",
       "</style>\n",
       "<table border=\"1\" class=\"dataframe\">\n",
       "  <thead>\n",
       "    <tr style=\"text-align: right;\">\n",
       "      <th></th>\n",
       "      <th>title</th>\n",
       "      <th>category</th>\n",
       "      <th>review_cnt</th>\n",
       "      <th>rating</th>\n",
       "      <th>score</th>\n",
       "    </tr>\n",
       "  </thead>\n",
       "  <tbody>\n",
       "    <tr>\n",
       "      <th>3163</th>\n",
       "      <td>Fluffy Pancakes</td>\n",
       "      <td>Pancakes</td>\n",
       "      <td>9933</td>\n",
       "      <td>4.82</td>\n",
       "      <td>4.790216</td>\n",
       "    </tr>\n",
       "    <tr>\n",
       "      <th>1932</th>\n",
       "      <td>Chicken Pot Pie IX</td>\n",
       "      <td>Chicken Breasts</td>\n",
       "      <td>8068</td>\n",
       "      <td>4.81</td>\n",
       "      <td>4.774268</td>\n",
       "    </tr>\n",
       "    <tr>\n",
       "      <th>636</th>\n",
       "      <td>Banana Crumb Muffins</td>\n",
       "      <td>Banana Muffins</td>\n",
       "      <td>9774</td>\n",
       "      <td>4.80</td>\n",
       "      <td>4.770679</td>\n",
       "    </tr>\n",
       "    <tr>\n",
       "      <th>2760</th>\n",
       "      <td>Downeast Maine Pumpkin Bread</td>\n",
       "      <td>Breakfast Bread</td>\n",
       "      <td>6877</td>\n",
       "      <td>4.81</td>\n",
       "      <td>4.768479</td>\n",
       "    </tr>\n",
       "    <tr>\n",
       "      <th>4229</th>\n",
       "      <td>Janet's Rich Banana Bread</td>\n",
       "      <td>Banana Bread</td>\n",
       "      <td>4944</td>\n",
       "      <td>4.82</td>\n",
       "      <td>4.762791</td>\n",
       "    </tr>\n",
       "    <tr>\n",
       "      <th>2185</th>\n",
       "      <td>Clone of a Cinnabon</td>\n",
       "      <td>Yeast Bread</td>\n",
       "      <td>5629</td>\n",
       "      <td>4.81</td>\n",
       "      <td>4.759989</td>\n",
       "    </tr>\n",
       "    <tr>\n",
       "      <th>7618</th>\n",
       "      <td>Taco Seasoning I</td>\n",
       "      <td>Mexican</td>\n",
       "      <td>4348</td>\n",
       "      <td>4.82</td>\n",
       "      <td>4.755720</td>\n",
       "    </tr>\n",
       "    <tr>\n",
       "      <th>3494</th>\n",
       "      <td>Grandmother's Buttermilk Cornbread</td>\n",
       "      <td>Cornbread</td>\n",
       "      <td>4906</td>\n",
       "      <td>4.81</td>\n",
       "      <td>4.753268</td>\n",
       "    </tr>\n",
       "    <tr>\n",
       "      <th>1172</th>\n",
       "      <td>Boilermaker Tailgate Chili</td>\n",
       "      <td>Beef Chili</td>\n",
       "      <td>4663</td>\n",
       "      <td>4.81</td>\n",
       "      <td>4.750584</td>\n",
       "    </tr>\n",
       "    <tr>\n",
       "      <th>3731</th>\n",
       "      <td>Guacamole</td>\n",
       "      <td>Guacamole</td>\n",
       "      <td>4222</td>\n",
       "      <td>4.81</td>\n",
       "      <td>4.745004</td>\n",
       "    </tr>\n",
       "    <tr>\n",
       "      <th>196</th>\n",
       "      <td>Apple Pie by Grandma Ople</td>\n",
       "      <td>Fruit Pies</td>\n",
       "      <td>7720</td>\n",
       "      <td>4.77</td>\n",
       "      <td>4.735065</td>\n",
       "    </tr>\n",
       "    <tr>\n",
       "      <th>6702</th>\n",
       "      <td>Simple Scones</td>\n",
       "      <td>Scones</td>\n",
       "      <td>1917</td>\n",
       "      <td>4.87</td>\n",
       "      <td>4.730452</td>\n",
       "    </tr>\n",
       "    <tr>\n",
       "      <th>7866</th>\n",
       "      <td>Too Much Chocolate Cake</td>\n",
       "      <td>Chocolate</td>\n",
       "      <td>5200</td>\n",
       "      <td>4.78</td>\n",
       "      <td>4.728713</td>\n",
       "    </tr>\n",
       "    <tr>\n",
       "      <th>136</th>\n",
       "      <td>Amish White Bread</td>\n",
       "      <td>White Bread</td>\n",
       "      <td>4277</td>\n",
       "      <td>4.79</td>\n",
       "      <td>4.727752</td>\n",
       "    </tr>\n",
       "    <tr>\n",
       "      <th>1907</th>\n",
       "      <td>Chicken Cordon Bleu II</td>\n",
       "      <td>French</td>\n",
       "      <td>4443</td>\n",
       "      <td>4.78</td>\n",
       "      <td>4.720818</td>\n",
       "    </tr>\n",
       "    <tr>\n",
       "      <th>5549</th>\n",
       "      <td>Peanut Butter Cup Cookies</td>\n",
       "      <td>Cookies</td>\n",
       "      <td>3063</td>\n",
       "      <td>4.80</td>\n",
       "      <td>4.715047</td>\n",
       "    </tr>\n",
       "    <tr>\n",
       "      <th>8259</th>\n",
       "      <td>White Chocolate Raspberry Cheesecake</td>\n",
       "      <td>Raspberry Desserts</td>\n",
       "      <td>2263</td>\n",
       "      <td>4.83</td>\n",
       "      <td>4.715020</td>\n",
       "    </tr>\n",
       "    <tr>\n",
       "      <th>5073</th>\n",
       "      <td>Mom's Zucchini Bread</td>\n",
       "      <td>Breakfast Bread</td>\n",
       "      <td>6621</td>\n",
       "      <td>4.75</td>\n",
       "      <td>4.710989</td>\n",
       "    </tr>\n",
       "    <tr>\n",
       "      <th>654</th>\n",
       "      <td>Banana Sour Cream Bread</td>\n",
       "      <td>Breakfast Bread</td>\n",
       "      <td>4118</td>\n",
       "      <td>4.77</td>\n",
       "      <td>4.707661</td>\n",
       "    </tr>\n",
       "    <tr>\n",
       "      <th>1571</th>\n",
       "      <td>Caramel Popcorn</td>\n",
       "      <td>Popcorn Candy</td>\n",
       "      <td>1777</td>\n",
       "      <td>4.85</td>\n",
       "      <td>4.705984</td>\n",
       "    </tr>\n",
       "  </tbody>\n",
       "</table>\n",
       "</div>"
      ],
      "text/plain": [
       "                                     title            category  review_cnt  \\\n",
       "3163                       Fluffy Pancakes            Pancakes        9933   \n",
       "1932                    Chicken Pot Pie IX     Chicken Breasts        8068   \n",
       "636                   Banana Crumb Muffins      Banana Muffins        9774   \n",
       "2760          Downeast Maine Pumpkin Bread     Breakfast Bread        6877   \n",
       "4229             Janet's Rich Banana Bread        Banana Bread        4944   \n",
       "2185                   Clone of a Cinnabon         Yeast Bread        5629   \n",
       "7618                      Taco Seasoning I             Mexican        4348   \n",
       "3494    Grandmother's Buttermilk Cornbread           Cornbread        4906   \n",
       "1172            Boilermaker Tailgate Chili          Beef Chili        4663   \n",
       "3731                             Guacamole           Guacamole        4222   \n",
       "196              Apple Pie by Grandma Ople          Fruit Pies        7720   \n",
       "6702                         Simple Scones              Scones        1917   \n",
       "7866               Too Much Chocolate Cake           Chocolate        5200   \n",
       "136                      Amish White Bread         White Bread        4277   \n",
       "1907                Chicken Cordon Bleu II              French        4443   \n",
       "5549             Peanut Butter Cup Cookies             Cookies        3063   \n",
       "8259  White Chocolate Raspberry Cheesecake  Raspberry Desserts        2263   \n",
       "5073                  Mom's Zucchini Bread     Breakfast Bread        6621   \n",
       "654                Banana Sour Cream Bread     Breakfast Bread        4118   \n",
       "1571                       Caramel Popcorn       Popcorn Candy        1777   \n",
       "\n",
       "      rating     score  \n",
       "3163    4.82  4.790216  \n",
       "1932    4.81  4.774268  \n",
       "636     4.80  4.770679  \n",
       "2760    4.81  4.768479  \n",
       "4229    4.82  4.762791  \n",
       "2185    4.81  4.759989  \n",
       "7618    4.82  4.755720  \n",
       "3494    4.81  4.753268  \n",
       "1172    4.81  4.750584  \n",
       "3731    4.81  4.745004  \n",
       "196     4.77  4.735065  \n",
       "6702    4.87  4.730452  \n",
       "7866    4.78  4.728713  \n",
       "136     4.79  4.727752  \n",
       "1907    4.78  4.720818  \n",
       "5549    4.80  4.715047  \n",
       "8259    4.83  4.715020  \n",
       "5073    4.75  4.710989  \n",
       "654     4.77  4.707661  \n",
       "1571    4.85  4.705984  "
      ]
     },
     "execution_count": 275,
     "metadata": {},
     "output_type": "execute_result"
    }
   ],
   "source": [
    "#Print the top 20 recipes\n",
    "q_data2.head(20)"
   ]
  },
  {
   "cell_type": "markdown",
   "metadata": {},
   "source": [
    "Our dataset does not include individual user ratings. Shown above we can see the highest rated recipes overall as determined by the average rating and number of reviews. While this may represent the overall average ratings, it is not personalized to individual preferences. We would need individual user preference data to better recommend recipes for individuals.  For example, if someone is following a low-carb diet, then almost none of these highest rated recipes would be relevant to that person.  "
   ]
  },
  {
   "cell_type": "markdown",
   "metadata": {},
   "source": [
    "## 3 - Recommender System with Word2Vec"
   ]
  },
  {
   "cell_type": "markdown",
   "metadata": {},
   "source": [
    "One of the key ideas in Natural Language Processing (NLP) is converting words into numeric vectors. The vectors are then fed into machine learning models in order to perform predictions.\n",
    "One way of converting words into numeric vectors is to use a \"one-hot\" method whick converts one element of the vector to a 1 value with the rest of the elements being 0. So a sentence like \"the cat sat on the mat\" would be converted to a 6x5 matrix that looks like:\n",
    "\n",
    "the 1 0 0 0 0<br>\n",
    "cat 0 1 0 0 0<br>\n",
    "sat 0 0 1 0 0<br>\n",
    "on  0 0 0 1 0<br>\n",
    "the 1 0 0 0 0<br>\n",
    "mat 0 0 0 0 1<br>\n",
    "\n",
    "As the dataset grows larger, the one hot encoding method becomes inefficient. It also does not show the similarity among words. <br>\n",
    "\n",
    "The first component to the Word2Vec methodology is word embedding while maintaining context. One approach to doing this is the Skip-Gram method in which we take an input word and then try to estimate the probability of other words appearing close to that word. The second method is Continuous Bag of Words (CBOW), which does the opposite.  It takes some context words as input and then tries to find a single word that has the highest probability of fitting that context.[1]<br>\n",
    "\n"
   ]
  },
  {
   "cell_type": "markdown",
   "metadata": {},
   "source": [
    "### Gensim Word2Vec"
   ]
  },
  {
   "cell_type": "code",
   "execution_count": 478,
   "metadata": {},
   "outputs": [],
   "source": [
    "from string import punctuation\n",
    "from os import listdir\n",
    "from nltk.corpus import stopwords\n",
    "from gensim.models import Word2Vec\n",
    "import gensim \n",
    "import urllib\n",
    "import collections\n",
    "import os\n",
    "import zipfile\n",
    "from __future__ import absolute_import, division, print_function\n",
    "import codecs\n",
    "import glob\n",
    "import multiprocessing\n",
    "import pprint\n",
    "import re\n",
    "import nltk\n",
    "import gensim.models.word2vec as w2v\n",
    "import sklearn.manifold\n",
    "import matplotlib.pyplot as plt\n",
    "import pandas as pd\n"
   ]
  },
  {
   "cell_type": "markdown",
   "metadata": {},
   "source": [
    "Word2Vec is a group of related models that are used to produce word embeddings. These models are shallow, two layer neural networks that are trained to reconstruct linguistic contexts of words. Word2Vec produces a vector space of hundreds of dimensions, with each unique word assigned a corresponding vector in the space. Word vectors are positioned in the vector space such that words that share common contexts are located near to one another in the space.[2]"
   ]
  },
  {
   "cell_type": "markdown",
   "metadata": {},
   "source": [
    "Word2Vec learns the context of a word by looking at the words which commonly occur around the target word. Words which have similar contexts share meaning under Word2Vec, and their reduced vector representations will be similar.  In the skip-gram model version of Word2Vec the goal is to take a target word and predict the surrounding context words. We will attempt to apply this technique to recipe ingredients, learning ingredients that commonly occur together. <br>\n",
    "\n",
    "We will supply our input target words as one-hot vectors to the neural network.  Then, via a hidden layer, we will train the neural network to increase the probability of valid context words, while decreasing the probability of invalid context words.<br>\n",
    "\n",
    "There are two variants of the Word2Vec paradigm: skip-gram and CBOW. The skip-gram variant takes a target word and tries to predict the surrounding context words. The CBOW (continuous bag of words) variant takes a set of context words and tries to predict a target word.  In this case, we will be considering the skip-gram variant."
   ]
  },
  {
   "cell_type": "markdown",
   "metadata": {},
   "source": [
    "We also need a way of ensuring that as the network trains, words which are similar end up having similar embedding vectors.  We want to ensure that the trained network will always output a 1 when it is supplied words which are in the same context, but 0 when it is supplied words which are never in the same context. Therefore, we need a vector similarity score supplied to the output sigmoid layer – with similar vectors outputting a high score and un-similar vectors outputting a low score. As we did previously, we will use the cosine similarity score.<br>\n"
   ]
  },
  {
   "cell_type": "code",
   "execution_count": 479,
   "metadata": {},
   "outputs": [
    {
     "name": "stdout",
     "output_type": "stream",
     "text": [
      "[nltk_data] Downloading package punkt to\n",
      "[nltk_data]     /Users/claudiacassidy/nltk_data...\n",
      "[nltk_data]   Package punkt is already up-to-date!\n",
      "[nltk_data] Downloading package stopwords to\n",
      "[nltk_data]     /Users/claudiacassidy/nltk_data...\n",
      "[nltk_data]   Package stopwords is already up-to-date!\n"
     ]
    },
    {
     "data": {
      "text/plain": [
       "True"
      ]
     },
     "execution_count": 479,
     "metadata": {},
     "output_type": "execute_result"
    }
   ],
   "source": [
    "nltk.download('punkt')\n",
    "nltk.download('stopwords')"
   ]
  },
  {
   "cell_type": "code",
   "execution_count": 480,
   "metadata": {
    "collapsed": true
   },
   "outputs": [],
   "source": [
    "tokenizer = nltk.data.load('tokenizers/punkt/english.pickle')\n"
   ]
  },
  {
   "cell_type": "code",
   "execution_count": 481,
   "metadata": {
    "collapsed": true
   },
   "outputs": [],
   "source": [
    "dataR = data[['title','category','categories','ingred','ingred_cat','rating','review_cnt','reviews_text']].copy()\n"
   ]
  },
  {
   "cell_type": "markdown",
   "metadata": {},
   "source": [
    "##### Convert the ingredients and categories into a list of words"
   ]
  },
  {
   "cell_type": "code",
   "execution_count": 482,
   "metadata": {
    "collapsed": true
   },
   "outputs": [],
   "source": [
    "# Convert ingred_cat into a list of words\n",
    "# Remove unnnecessary characters, split into words\n",
    "def sentence_to_wordlist(raw):\n",
    "    clean = re.sub(\"[^a-zA-Z]\",\" \", raw)\n",
    "    words = clean.split()\n",
    "    return words"
   ]
  },
  {
   "cell_type": "markdown",
   "metadata": {},
   "source": [
    "##### Create tokens for each word"
   ]
  },
  {
   "cell_type": "code",
   "execution_count": 483,
   "metadata": {
    "collapsed": true
   },
   "outputs": [],
   "source": [
    "sentences = []\n",
    "for raw_sentence in dataR['ingred_cat']:\n",
    "    if len(raw_sentence) > 0:\n",
    "        sentences.append(sentence_to_wordlist(raw_sentence))"
   ]
  },
  {
   "cell_type": "code",
   "execution_count": 484,
   "metadata": {},
   "outputs": [
    {
     "name": "stdout",
     "output_type": "stream",
     "text": [
      "The recipes corpus contains 140,329 tokens\n"
     ]
    }
   ],
   "source": [
    "\n",
    "token_count = sum([len(words) for words in sentences])\n",
    "print(\"The recipes corpus contains {0:,} tokens\".format(token_count))"
   ]
  },
  {
   "cell_type": "markdown",
   "metadata": {},
   "source": [
    "The quality of word embedding increases with higher dimensionality, but after reaching some point, marginal gain will diminish and it can become more computationally expensive to train. Typically, the dimensionality of the vectors is set to be between 100 and 1,000.  We will set the dimensionality to 300.[2] "
   ]
  },
  {
   "cell_type": "code",
   "execution_count": 485,
   "metadata": {
    "collapsed": true
   },
   "outputs": [],
   "source": [
    "#vectors help with distance, similarity, ranking\n",
    "\n",
    "num_features = 300\n",
    "\n",
    "#minimum word count threshold\n",
    "min_word_count = 3\n",
    "\n",
    "num_workers = multiprocessing.cpu_count()\n",
    "\n",
    "#context window length\n",
    "context_size = 7\n",
    "\n",
    "#downsample setting for frequent words\n",
    "#0 - 1e-5 is good for this\n",
    "downsampling = 1e-3\n",
    "\n",
    "#random number generator\n",
    "#deterministic, good for debugging\n",
    "seed = 1\n"
   ]
  },
  {
   "cell_type": "markdown",
   "metadata": {},
   "source": [
    "### Training Word2vec"
   ]
  },
  {
   "cell_type": "code",
   "execution_count": 486,
   "metadata": {
    "collapsed": true
   },
   "outputs": [],
   "source": [
    "model = w2v.Word2Vec(sg=1,\n",
    "                     seed=seed,\n",
    "                     workers=num_workers,\n",
    "                     size=num_features,\n",
    "                     min_count=min_word_count,\n",
    "                     window=context_size,\n",
    "                     sample=downsampling)"
   ]
  },
  {
   "cell_type": "code",
   "execution_count": 487,
   "metadata": {
    "collapsed": true
   },
   "outputs": [],
   "source": [
    "# loads corpus into memory\n",
    "model.build_vocab(sentences, update=False)\n"
   ]
  },
  {
   "cell_type": "code",
   "execution_count": 488,
   "metadata": {},
   "outputs": [
    {
     "data": {
      "text/plain": [
       "(987523, 1403290)"
      ]
     },
     "execution_count": 488,
     "metadata": {},
     "output_type": "execute_result"
    }
   ],
   "source": [
    "model.train(sentences,total_examples=model.corpus_count,epochs=10)"
   ]
  },
  {
   "cell_type": "code",
   "execution_count": 489,
   "metadata": {},
   "outputs": [],
   "source": [
    "#model.wv.accuracy(sentences)"
   ]
  },
  {
   "cell_type": "code",
   "execution_count": 491,
   "metadata": {},
   "outputs": [],
   "source": [
    "#from gensim.models import KeyedVectors\n",
    "\n",
    "#model_tfidf = Word2Vec(tfidf_matrix, size=100, window=5, min_count=5, workers=4)\n",
    "\n",
    "#model_tfidf.build_vocab(tfidf_matrix, update=False)\n",
    "\n"
   ]
  },
  {
   "cell_type": "code",
   "execution_count": null,
   "metadata": {
    "collapsed": true
   },
   "outputs": [],
   "source": []
  },
  {
   "cell_type": "code",
   "execution_count": null,
   "metadata": {
    "collapsed": true
   },
   "outputs": [],
   "source": []
  },
  {
   "cell_type": "code",
   "execution_count": null,
   "metadata": {
    "collapsed": true
   },
   "outputs": [],
   "source": []
  },
  {
   "cell_type": "code",
   "execution_count": 492,
   "metadata": {
    "collapsed": true
   },
   "outputs": [],
   "source": [
    "# save the trained model to file model.w2v\n",
    "if not os.path.exists(\"trained\"):\n",
    "    os.makedirs(\"trained\")\n",
    "\n",
    "model.save(os.path.join(\"trained\",\"model.w2v\"))"
   ]
  },
  {
   "cell_type": "code",
   "execution_count": 493,
   "metadata": {
    "collapsed": true
   },
   "outputs": [],
   "source": [
    "# to load the model from file\n",
    "ingred_cat_model = w2v.Word2Vec.load(os.path.join(\"trained\", \"model.w2v\"))"
   ]
  },
  {
   "cell_type": "code",
   "execution_count": 494,
   "metadata": {},
   "outputs": [
    {
     "name": "stdout",
     "output_type": "stream",
     "text": [
      "Word2Vec(vocab=2859, size=300, alpha=0.025)\n"
     ]
    }
   ],
   "source": [
    "print(ingred_cat_model)"
   ]
  },
  {
   "cell_type": "code",
   "execution_count": null,
   "metadata": {
    "collapsed": true
   },
   "outputs": [],
   "source": []
  },
  {
   "cell_type": "code",
   "execution_count": null,
   "metadata": {
    "collapsed": true
   },
   "outputs": [],
   "source": []
  },
  {
   "cell_type": "code",
   "execution_count": null,
   "metadata": {
    "collapsed": true
   },
   "outputs": [],
   "source": []
  },
  {
   "cell_type": "code",
   "execution_count": null,
   "metadata": {
    "collapsed": true
   },
   "outputs": [],
   "source": []
  },
  {
   "cell_type": "code",
   "execution_count": null,
   "metadata": {
    "collapsed": true
   },
   "outputs": [],
   "source": []
  },
  {
   "cell_type": "markdown",
   "metadata": {},
   "source": [
    "##### We will use TSNE to visualize the high dimensional data.<br>\n",
    "t-distributed stochastic neighbor embedding is a nonlinear dimensionality reduction technique that is useful for embedding high dimensional data into a space of two or three dimensions, which can then be ivuslized in a scatter plot. Similar objects are modeled by nearby points and dissimilar objects are modeled by distant points.[3]"
   ]
  },
  {
   "cell_type": "code",
   "execution_count": 59,
   "metadata": {
    "collapsed": true
   },
   "outputs": [],
   "source": [
    "# TSNE is a tool to visualize high dimensional data. \n",
    "tsne = sklearn.manifold.TSNE(n_components=2,random_state=0)"
   ]
  },
  {
   "cell_type": "code",
   "execution_count": 60,
   "metadata": {},
   "outputs": [
    {
     "name": "stderr",
     "output_type": "stream",
     "text": [
      "/usr/local/Cellar/python3/3.6.4_2/Frameworks/Python.framework/Versions/3.6/lib/python3.6/site-packages/ipykernel_launcher.py:1: DeprecationWarning: Call to deprecated `syn0` (Attribute will be removed in 4.0.0, use self.wv.vectors instead).\n",
      "  \"\"\"Entry point for launching an IPython kernel.\n"
     ]
    }
   ],
   "source": [
    "all_word_vectors_matrix = ingred_cat_model.wv.syn0"
   ]
  },
  {
   "cell_type": "code",
   "execution_count": 61,
   "metadata": {
    "collapsed": true
   },
   "outputs": [],
   "source": [
    "all_word_vectors_matrix_2d = tsne.fit_transform(all_word_vectors_matrix)"
   ]
  },
  {
   "cell_type": "code",
   "execution_count": 62,
   "metadata": {
    "collapsed": true
   },
   "outputs": [],
   "source": [
    "points = pd.DataFrame(\n",
    "    [\n",
    "        (word, coords[0], coords[1])\n",
    "        for word, coords in [\n",
    "            (word, all_word_vectors_matrix_2d[ingred_cat_model.wv.vocab[word].index])\n",
    "            for word in ingred_cat_model.wv.vocab\n",
    "        ]\n",
    "    ],\n",
    "    columns=[\"word\",\"x\",\"y\"]\n",
    ")"
   ]
  },
  {
   "cell_type": "code",
   "execution_count": 63,
   "metadata": {},
   "outputs": [
    {
     "data": {
      "text/html": [
       "<div>\n",
       "<style scoped>\n",
       "    .dataframe tbody tr th:only-of-type {\n",
       "        vertical-align: middle;\n",
       "    }\n",
       "\n",
       "    .dataframe tbody tr th {\n",
       "        vertical-align: top;\n",
       "    }\n",
       "\n",
       "    .dataframe thead th {\n",
       "        text-align: right;\n",
       "    }\n",
       "</style>\n",
       "<table border=\"1\" class=\"dataframe\">\n",
       "  <thead>\n",
       "    <tr style=\"text-align: right;\">\n",
       "      <th></th>\n",
       "      <th>word</th>\n",
       "      <th>x</th>\n",
       "      <th>y</th>\n",
       "    </tr>\n",
       "  </thead>\n",
       "  <tbody>\n",
       "    <tr>\n",
       "      <th>0</th>\n",
       "      <td>blackbeans</td>\n",
       "      <td>3.633086</td>\n",
       "      <td>-40.046722</td>\n",
       "    </tr>\n",
       "    <tr>\n",
       "      <th>1</th>\n",
       "      <td>chickenbroth</td>\n",
       "      <td>32.027565</td>\n",
       "      <td>-9.375919</td>\n",
       "    </tr>\n",
       "    <tr>\n",
       "      <th>2</th>\n",
       "      <td>more</td>\n",
       "      <td>-52.052685</td>\n",
       "      <td>-12.304726</td>\n",
       "    </tr>\n",
       "    <tr>\n",
       "      <th>3</th>\n",
       "      <td>tomatopaste</td>\n",
       "      <td>18.268381</td>\n",
       "      <td>-35.221241</td>\n",
       "    </tr>\n",
       "    <tr>\n",
       "      <th>4</th>\n",
       "      <td>groundcumin</td>\n",
       "      <td>4.575227</td>\n",
       "      <td>-38.123531</td>\n",
       "    </tr>\n",
       "  </tbody>\n",
       "</table>\n",
       "</div>"
      ],
      "text/plain": [
       "           word          x          y\n",
       "0    blackbeans   3.633086 -40.046722\n",
       "1  chickenbroth  32.027565  -9.375919\n",
       "2          more -52.052685 -12.304726\n",
       "3   tomatopaste  18.268381 -35.221241\n",
       "4   groundcumin   4.575227 -38.123531"
      ]
     },
     "execution_count": 63,
     "metadata": {},
     "output_type": "execute_result"
    }
   ],
   "source": [
    "points.head(5)"
   ]
  },
  {
   "cell_type": "markdown",
   "metadata": {},
   "source": [
    "Shown above is a sample of ingredients and there x,y coordinates."
   ]
  },
  {
   "cell_type": "code",
   "execution_count": 64,
   "metadata": {
    "collapsed": true
   },
   "outputs": [],
   "source": [
    "# Reset index of the main DataFrame and construct reverse mapping as before\n",
    "dataR = dataR.reset_index()\n",
    "indices = pd.Series(dataR.index, index=dataR['ingred_cat'])"
   ]
  },
  {
   "cell_type": "code",
   "execution_count": 65,
   "metadata": {
    "collapsed": true
   },
   "outputs": [],
   "source": [
    "import seaborn as sns\n",
    "sns.set_context(\"poster\")"
   ]
  },
  {
   "cell_type": "markdown",
   "metadata": {},
   "source": [
    "Here is a scatter plot of our ingredient words."
   ]
  },
  {
   "cell_type": "code",
   "execution_count": 66,
   "metadata": {},
   "outputs": [
    {
     "data": {
      "text/plain": [
       "<matplotlib.axes._subplots.AxesSubplot at 0x119630d68>"
      ]
     },
     "execution_count": 66,
     "metadata": {},
     "output_type": "execute_result"
    },
    {
     "data": {
      "image/png": "[encoded data removed]",
      "text/plain": [
       "<Figure size 1440x864 with 1 Axes>"
      ]
     },
     "metadata": {},
     "output_type": "display_data"
    }
   ],
   "source": [
    "#plot the word vectors\n",
    "points.plot.scatter(\"x\",\"y\", s=10, figsize=(20,12))"
   ]
  },
  {
   "cell_type": "markdown",
   "metadata": {},
   "source": [
    "Shown below is a zoomed in region of the scatter plot. It shows that similar items are located near each other.  For example, it shows how potato rounds are near hash brown potatoes."
   ]
  },
  {
   "cell_type": "code",
   "execution_count": 67,
   "metadata": {
    "collapsed": true
   },
   "outputs": [],
   "source": [
    "#zoom in\n",
    "\n",
    "def plot_region(x_bounds,y_bounds):\n",
    "    slice = points[\n",
    "        (x_bounds[0] <= points.x) &\n",
    "        (points.x <= x_bounds[1]) &\n",
    "        (y_bounds[0] <= points.y) &\n",
    "        (points.y <= y_bounds[1])\n",
    "    ]\n",
    "    \n",
    "    ax = slice.plot.scatter(\"x\", \"y\", s=35, figsize=(10,8))\n",
    "    for i, point in slice.iterrows():\n",
    "        ax.text(point.x + 0.005, point.y + 0.005, point.word, fontsize=11)\n",
    "        \n",
    "    "
   ]
  },
  {
   "cell_type": "code",
   "execution_count": 68,
   "metadata": {},
   "outputs": [
    {
     "data": {
      "image/png": "[encoded data removed]",
      "text/plain": [
       "<Figure size 720x576 with 1 Axes>"
      ]
     },
     "metadata": {},
     "output_type": "display_data"
    }
   ],
   "source": [
    "plot_region(x_bounds=(16.1,20.8), y_bounds=(16.1,23.1))"
   ]
  },
  {
   "cell_type": "markdown",
   "metadata": {},
   "source": [
    "### Finding items which are most similar to a given ingredient<br>"
   ]
  },
  {
   "cell_type": "markdown",
   "metadata": {},
   "source": [
    "We can now submit an ingredient and get a prediction of which other ingredients are most related to the given ingredient. Shown below are several examples."
   ]
  },
  {
   "cell_type": "markdown",
   "metadata": {},
   "source": [
    "##### Ingredients which are most related to ground beef:"
   ]
  },
  {
   "cell_type": "code",
   "execution_count": 69,
   "metadata": {},
   "outputs": [
    {
     "data": {
      "text/plain": [
       "[('extraleangroundbeef', 0.7815635204315186),\n",
       " ('condensedtomatosoup', 0.7164989113807678),\n",
       " ('stuffedmaindishes', 0.7025444507598877),\n",
       " ('groundsausage', 0.6991275548934937),\n",
       " ('meatloaf', 0.6882720589637756),\n",
       " ('groundround', 0.6846973896026611),\n",
       " ('tomatosauce', 0.6813905239105225),\n",
       " ('hotItaliansausage', 0.6812014579772949),\n",
       " ('extragroundbeef', 0.68055260181427),\n",
       " ('dryzitipasta', 0.6782288551330566)]"
      ]
     },
     "execution_count": 69,
     "metadata": {},
     "output_type": "execute_result"
    }
   ],
   "source": [
    "\n",
    "ingred_cat_model.wv.most_similar(\"groundbeef\")"
   ]
  },
  {
   "cell_type": "markdown",
   "metadata": {},
   "source": [
    "##### Ingredients which are most related to tomatoes:"
   ]
  },
  {
   "cell_type": "code",
   "execution_count": 70,
   "metadata": {},
   "outputs": [
    {
     "data": {
      "text/plain": [
       "[('cantomatoes', 0.7824949026107788),\n",
       " ('driedredpepperflakes', 0.7585841417312622),\n",
       " ('hotItaliansausage', 0.7573438882827759),\n",
       " ('Italiansausagelinks', 0.7511181831359863),\n",
       " ('Italianstyletomatoes', 0.7492751479148865),\n",
       " ('petitetomatoes', 0.747255802154541),\n",
       " ('groundround', 0.744871199131012),\n",
       " ('hotsalsa', 0.7416672706604004),\n",
       " ('vegetarianbakedbeans', 0.7406301498413086),\n",
       " ('Mexicanstyletomatoes', 0.7390763759613037)]"
      ]
     },
     "execution_count": 70,
     "metadata": {},
     "output_type": "execute_result"
    }
   ],
   "source": [
    "ingred_cat_model.wv.most_similar(\"tomatoes\")"
   ]
  },
  {
   "cell_type": "markdown",
   "metadata": {},
   "source": [
    "##### Ingredients which are most related to almond milk:"
   ]
  },
  {
   "cell_type": "code",
   "execution_count": 71,
   "metadata": {},
   "outputs": [
    {
     "data": {
      "text/plain": [
       "[('flaxseeds', 0.9394687414169312),\n",
       " ('flaxseedmeal', 0.9351227879524231),\n",
       " ('hempseeds', 0.9335111975669861),\n",
       " ('almondbutter', 0.9262481331825256),\n",
       " ('groundflaxseed', 0.9253771901130676),\n",
       " ('chiaseeds', 0.9219614267349243),\n",
       " ('soymilk', 0.9128957986831665),\n",
       " ('scoopvanillaproteinpowder', 0.9095502495765686),\n",
       " ('unsweetenedvanillaflavoredalmondmilk', 0.9084556102752686),\n",
       " ('flaxseed', 0.9062537550926208)]"
      ]
     },
     "execution_count": 71,
     "metadata": {},
     "output_type": "execute_result"
    }
   ],
   "source": [
    "ingred_cat_model.wv.most_similar(\"almondmilk\")"
   ]
  },
  {
   "cell_type": "markdown",
   "metadata": {},
   "source": [
    "##### Ingredients which are most related to cabbage:"
   ]
  },
  {
   "cell_type": "code",
   "execution_count": 72,
   "metadata": {},
   "outputs": [
    {
     "data": {
      "text/plain": [
       "[('headcabbage', 0.8049780130386353),\n",
       " ('containerschickenbroth', 0.7498348951339722),\n",
       " ('headredcabbage', 0.7484461069107056),\n",
       " ('carawayseeds', 0.7393940091133118),\n",
       " ('intomatchsticksize', 0.7312839031219482),\n",
       " ('bunchescollardgreens', 0.7075276374816895),\n",
       " ('quartswater', 0.7027681469917297),\n",
       " ('collardgreens', 0.7018463015556335),\n",
       " ('hamhocks', 0.7005892992019653),\n",
       " ('hamhock', 0.6983354091644287)]"
      ]
     },
     "execution_count": 72,
     "metadata": {},
     "output_type": "execute_result"
    }
   ],
   "source": [
    "ingred_cat_model.wv.most_similar(\"cabbage\")"
   ]
  },
  {
   "cell_type": "markdown",
   "metadata": {},
   "source": [
    "##### Ingredients which are most related to beef:"
   ]
  },
  {
   "cell_type": "code",
   "execution_count": 73,
   "metadata": {},
   "outputs": [
    {
     "data": {
      "text/plain": [
       "[('steaks', 0.8243405818939209),\n",
       " ('sirloinsteak', 0.7789937257766724),\n",
       " ('eyesteak', 0.7596133947372437),\n",
       " ('rib', 0.750706136226654),\n",
       " ('roundsteak', 0.7280023694038391),\n",
       " ('beefstroganoff', 0.7244558930397034),\n",
       " ('beefconsomme', 0.7226072549819946),\n",
       " ('filetmignon', 0.720965564250946),\n",
       " ('ribeyesteaks', 0.7188416719436646),\n",
       " ('cubesteaks', 0.7181291580200195)]"
      ]
     },
     "execution_count": 73,
     "metadata": {},
     "output_type": "execute_result"
    }
   ],
   "source": [
    "ingred_cat_model.wv.most_similar(\"beef\")"
   ]
  },
  {
   "cell_type": "code",
   "execution_count": 496,
   "metadata": {
    "collapsed": true
   },
   "outputs": [],
   "source": [
    "# Function that takes in ingredient as input and outputs most similar ingredients\n",
    "def get_recommendations_w2v(title, cosine_sim=cosine_sim):\n",
    "\n",
    "    # Get the index of the recipe title that matches the title\n",
    "    row = data.loc[data['title'] == title].index[0]\n",
    "    idx = indices[row]\n",
    "\n",
    "    # Get the pairwise similarity scores of all titles with that title\n",
    "    sim_scores = list(enumerate(cosine_sim[idx]))\n",
    "    \n",
    "    # Sort the movies based on the similarity scores    \n",
    "    sim_scores = sorted(sim_scores, key=lambda x: x[1], reverse=True)\n",
    "\n",
    "    # Get the scores of the 10 most similar movies\n",
    "    sim_scores = sim_scores[1:16]\n",
    " \n",
    "    # Get the recipe indices\n",
    "    recipe_indices = [i[0] for i in sim_scores]\n",
    "    \n",
    "    # Return the top 10-15 most similar recipes\n",
    "    return data['title'].iloc[recipe_indices].drop_duplicates()\n",
    "\n"
   ]
  },
  {
   "cell_type": "code",
   "execution_count": 499,
   "metadata": {},
   "outputs": [
    {
     "name": "stdout",
     "output_type": "stream",
     "text": [
      "[('steaks', 0.8381381630897522), ('sirloinsteak', 0.8020487427711487), ('rib', 0.7741457223892212), ('eyesteak', 0.7607206702232361), ('roundsteak', 0.7457110285758972), ('filetmignon', 0.7422102093696594), ('beefstroganoff', 0.7365869283676147), ('ribeyesteaks', 0.7317036390304565), ('teaks', 0.7315562963485718), ('beefconsomme', 0.7268845438957214)]\n"
     ]
    }
   ],
   "source": [
    "arr = ingred_cat_model.wv.most_similar(\"beef\")\n",
    "print(arr)\n",
    "#get_recommendations('steaks', cosine_sim) \n"
   ]
  },
  {
   "cell_type": "markdown",
   "metadata": {},
   "source": [
    "### Showing analogies: ingredient A is to ingredient B as ? is to ingredient C"
   ]
  },
  {
   "cell_type": "markdown",
   "metadata": {},
   "source": [
    "We can use the cosine similarity to calculate the similarities among ingredients. "
   ]
  },
  {
   "cell_type": "code",
   "execution_count": 74,
   "metadata": {
    "collapsed": true
   },
   "outputs": [],
   "source": [
    "# using cosine similarity \n",
    "def nearest_similarity_cosmul(start1, end1, end2):\n",
    "    similarities = ingred_cat_model.wv.most_similar_cosmul(\n",
    "        positive=[end2, start1],\n",
    "        negative=[end1]\n",
    "    )\n",
    "    start2 = similarities[0][0]\n",
    "    \n",
    "    print(start1, \"is related to\", end1, \"as\", start2, \"is related to\", end2)\n",
    "    return start2\n",
    "    "
   ]
  },
  {
   "cell_type": "markdown",
   "metadata": {},
   "source": [
    "We will pass in three parameters to the nearest_similarity_cosmul function: start1: ingredient A, end1: ingredient B, end2: ingredient C"
   ]
  },
  {
   "cell_type": "code",
   "execution_count": 75,
   "metadata": {},
   "outputs": [
    {
     "name": "stdout",
     "output_type": "stream",
     "text": [
      "salt is related to beef as margarinebutter is related to chicken\n"
     ]
    },
    {
     "data": {
      "text/plain": [
       "'margarinebutter'"
      ]
     },
     "execution_count": 75,
     "metadata": {},
     "output_type": "execute_result"
    }
   ],
   "source": [
    "nearest_similarity_cosmul(\"salt\",\"beef\",\"chicken\")"
   ]
  },
  {
   "cell_type": "code",
   "execution_count": 76,
   "metadata": {},
   "outputs": [
    {
     "name": "stdout",
     "output_type": "stream",
     "text": [
      "chickenstock is related to soup as flakedcoconut is related to cookies\n"
     ]
    },
    {
     "data": {
      "text/plain": [
       "'flakedcoconut'"
      ]
     },
     "execution_count": 76,
     "metadata": {},
     "output_type": "execute_result"
    }
   ],
   "source": [
    "nearest_similarity_cosmul(\"chickenstock\",\"soup\",\"cookies\")"
   ]
  },
  {
   "cell_type": "code",
   "execution_count": 77,
   "metadata": {},
   "outputs": [
    {
     "name": "stdout",
     "output_type": "stream",
     "text": [
      "onion is related to pork as tomatosauce is related to groundbeef\n"
     ]
    },
    {
     "data": {
      "text/plain": [
       "'tomatosauce'"
      ]
     },
     "execution_count": 77,
     "metadata": {},
     "output_type": "execute_result"
    }
   ],
   "source": [
    "nearest_similarity_cosmul(\"onion\",\"pork\", \"groundbeef\")"
   ]
  },
  {
   "cell_type": "markdown",
   "metadata": {},
   "source": [
    "The analogies tested above don't quite make sense but are not too far fetched."
   ]
  },
  {
   "cell_type": "markdown",
   "metadata": {},
   "source": [
    "#### Looking up recipes that contain multiple ingredients\n",
    "\n",
    "One of the objectives of this project is to be able to quickly find recipes given ingredients that the home cook has on hand.  We will now write a function that returns recipes which contain multiple ingredients and sort them by average rating."
   ]
  },
  {
   "cell_type": "code",
   "execution_count": 78,
   "metadata": {
    "collapsed": true
   },
   "outputs": [],
   "source": [
    "# Lookup recipes that contain ingredients\n",
    "def find_recipes_with_ingredient(ingred,ingred2):\n",
    "    match = dataR[dataR['ingred_cat'].str.contains(ingred)] \n",
    "    match2 = match[match['ingred_cat'].str.contains(ingred2)]\n",
    "    match3 = match2.sort_values('rating', ascending=False)\n",
    "    \n",
    "    return match3"
   ]
  },
  {
   "cell_type": "markdown",
   "metadata": {},
   "source": [
    "##### Recipes which contain both spinach and chicken, sorted by highest rating"
   ]
  },
  {
   "cell_type": "code",
   "execution_count": 79,
   "metadata": {
    "scrolled": false
   },
   "outputs": [
    {
     "data": {
      "text/plain": [
       "1953     Chicken, Spinach, and Potato Soup\n",
       "6533    Scrumptious Chicken Vegetable Stew\n",
       "Name: title, dtype: object"
      ]
     },
     "execution_count": 79,
     "metadata": {},
     "output_type": "execute_result"
    }
   ],
   "source": [
    "\n",
    "find_recipes_with_ingredient('spinach','chickenthighs')['title'].head(5)\n"
   ]
  },
  {
   "cell_type": "markdown",
   "metadata": {},
   "source": [
    "##### Recipes which contain both white chocolate chips and eggs, sorted by highest rating"
   ]
  },
  {
   "cell_type": "code",
   "execution_count": 80,
   "metadata": {},
   "outputs": [
    {
     "data": {
      "text/plain": [
       "8259    White Chocolate Raspberry Cheesecake\n",
       "8255    White Chocolate Chip Oatmeal Cookies\n",
       "7272        Stephen's Chocolate Chip Cookies\n",
       "8253            White Chip Chocolate Cookies\n",
       "8260      White Chocolate, Chocolate Cookies\n",
       "Name: title, dtype: object"
      ]
     },
     "execution_count": 80,
     "metadata": {},
     "output_type": "execute_result"
    }
   ],
   "source": [
    "find_recipes_with_ingredient('whitechocolatechips','eggs')['title'].head(5)"
   ]
  },
  {
   "cell_type": "markdown",
   "metadata": {
    "collapsed": true
   },
   "source": [
    "##### Recipes which contain both tomatoes and ground beef, sorted by highest rating"
   ]
  },
  {
   "cell_type": "code",
   "execution_count": 81,
   "metadata": {},
   "outputs": [
    {
     "data": {
      "text/plain": [
       "7607         Taco Chili from Publix®\n",
       "4964       Micah's 4 1/2-Alarm Chili\n",
       "5322              One-Pot Taco Chili\n",
       "4348    Karen's Chili Con Carne Soup\n",
       "2667         DB's Seven Pepper Chili\n",
       "Name: title, dtype: object"
      ]
     },
     "execution_count": 81,
     "metadata": {},
     "output_type": "execute_result"
    }
   ],
   "source": [
    "find_recipes_with_ingredient('tomatoes','groundbeef')['title'].head(5)"
   ]
  },
  {
   "cell_type": "markdown",
   "metadata": {},
   "source": [
    "##### Recipes which contain both white pork and beans, sorted by highest rating"
   ]
  },
  {
   "cell_type": "code",
   "execution_count": 82,
   "metadata": {},
   "outputs": [
    {
     "data": {
      "text/plain": [
       "760                 Bean-Hole Beans\n",
       "4108    Instant Pot® Brunswick Stew\n",
       "1649              Cattleman's Beans\n",
       "2118            Chuck's Super Chili\n",
       "5636    Picnic Baked Bean Casserole\n",
       "Name: title, dtype: object"
      ]
     },
     "execution_count": 82,
     "metadata": {},
     "output_type": "execute_result"
    }
   ],
   "source": [
    "find_recipes_with_ingredient('pork','beans')['title'].head(5)"
   ]
  },
  {
   "cell_type": "code",
   "execution_count": 83,
   "metadata": {},
   "outputs": [
    {
     "data": {
      "text/plain": [
       "7419                           Super Deluxe Steak Nachos\n",
       "1644              Catelli Bistro Beef and Broccoli Salad\n",
       "1597               Carne en su Jugo (Meat in its Juices)\n",
       "3933                          Hoisin-Ginger Beef Skewers\n",
       "1118              Blackened Tuna Steaks with Mango Salsa\n",
       "3634    Grilled Filet Mignon with Gorgonzola Cream Sauce\n",
       "792                                         Beef Bulgogi\n",
       "3603      Grilled Balsamic and Soy Marinated Flank Steak\n",
       "36                                Absolutely Amazing Ahi\n",
       "6914          Slow Cooker Venison Chili for the Big Game\n",
       "Name: title, dtype: object"
      ]
     },
     "execution_count": 83,
     "metadata": {},
     "output_type": "execute_result"
    }
   ],
   "source": [
    "find_recipes_with_ingredient('steak','onion')['title'].head(10)"
   ]
  },
  {
   "cell_type": "code",
   "execution_count": 84,
   "metadata": {},
   "outputs": [
    {
     "name": "stderr",
     "output_type": "stream",
     "text": [
      "/usr/local/Cellar/python3/3.6.4_2/Frameworks/Python.framework/Versions/3.6/lib/python3.6/site-packages/ipykernel_launcher.py:1: DeprecationWarning: Call to deprecated `__getitem__` (Method will be removed in 4.0.0, use self.wv.__getitem__() instead).\n",
      "  \"\"\"Entry point for launching an IPython kernel.\n"
     ]
    }
   ],
   "source": [
    "X = ingred_cat_model[ingred_cat_model.wv.vocab]"
   ]
  },
  {
   "cell_type": "markdown",
   "metadata": {},
   "source": [
    "#### Plot Word Vectors Using PCA\n",
    "\n",
    "We can create a 2-dimensional PCA model of the word vectors using the scikit-learn PCA class as follows."
   ]
  },
  {
   "cell_type": "code",
   "execution_count": 88,
   "metadata": {
    "collapsed": true
   },
   "outputs": [],
   "source": [
    "from sklearn.decomposition import PCA\n",
    "from matplotlib import pyplot\n",
    "\n",
    "pca = PCA(n_components=2)\n",
    "result = pca.fit_transform(X)"
   ]
  },
  {
   "cell_type": "code",
   "execution_count": 89,
   "metadata": {},
   "outputs": [
    {
     "data": {
      "text/plain": [
       "<matplotlib.collections.PathCollection at 0x11c18e5c0>"
      ]
     },
     "execution_count": 89,
     "metadata": {},
     "output_type": "execute_result"
    },
    {
     "data": {
      "image/png": "[encoded data removed]",
      "text/plain": [
       "<Figure size 432x288 with 1 Axes>"
      ]
     },
     "metadata": {},
     "output_type": "display_data"
    }
   ],
   "source": [
    "pyplot.scatter(result[:, 0], result[:, 1])"
   ]
  },
  {
   "cell_type": "code",
   "execution_count": 90,
   "metadata": {},
   "outputs": [
    {
     "data": {
      "image/png": "[encoded data removed]",
      "text/plain": [
       "<Figure size 432x288 with 1 Axes>"
      ]
     },
     "metadata": {},
     "output_type": "display_data"
    }
   ],
   "source": [
    "words = list(model.wv.vocab)\n",
    "for i, word in enumerate(words):\n",
    "    pyplot.annotate(word, xy=(result[i, 0], result[i, 1]))"
   ]
  },
  {
   "cell_type": "code",
   "execution_count": 98,
   "metadata": {},
   "outputs": [
    {
     "data": {
      "text/plain": [
       "(23545, 0)"
      ]
     },
     "execution_count": 98,
     "metadata": {},
     "output_type": "execute_result"
    }
   ],
   "source": [
    "\n",
    "from gensim.scripts.glove2word2vec import glove2word2vec\n",
    "glove_input_file = os.path.join(\"trained\", \"model.w2v\")\n",
    "\n",
    "word2vec_output_file = 'word2vec.txt'\n",
    "glove2word2vec(glove_input_file, word2vec_output_file)"
   ]
  },
  {
   "cell_type": "code",
   "execution_count": null,
   "metadata": {
    "collapsed": true
   },
   "outputs": [],
   "source": []
  },
  {
   "cell_type": "markdown",
   "metadata": {},
   "source": [
    "## Reflection\n"
   ]
  },
  {
   "cell_type": "markdown",
   "metadata": {},
   "source": [
    "Several approaches were attempted in order to develop a recommender system to make it easier for home cooks to choose recipes. A major part of the process was cleaning up the data and making it as understandable as possible for the algorithms to process.  For example, handling ingredients that consist of multiple words, such as \"olive oil\" and combining them into one term: \"oliveoil\" and eliminating irrelevant words such as measurement terms. The machine learning algorithms think in the language of math and so the words had to be easily translatable into numeric vectors.<br>\n",
    "\n",
    "The Word2Vec model gave impressive results when it came to predicting ingredients which are similar to a given ingredient. For example: given \"beef\", the ingredients which were predicted by the model include:<br>\n",
    "steaks, 83.94%<br>\n",
    "sirloinsteak, 80.14%<br>\n",
    "rib, 78.37%<br>\n",
    "eyesteak, 77.85%<br>\n",
    "filetmignon, 74.98%<br>\n",
    "ribeyesteaks, 73.85%<br>\n",
    "cubesteaks', 72.63%<br>\n",
    "beefstroganoff, 72.54%<br>\n",
    "flatironsteak, 71.61%<br>\n",
    "cornedbeef, 71.09%<br>\n",
    "\n",
    "A good use case for this would be if a user clicks on a recipe and the main ingredient in that recipe is \"beef\", then our algorithm could see the similar ingredients listed above and present recipes that contain those ingredients.  Word2Vec figured out that \"steak\" is similar to \"beef\". Our frontend app would now be able to present useful and relevant recipes for beef, even if none of the words in the recipe contains \"beef\"."
   ]
  },
  {
   "cell_type": "markdown",
   "metadata": {},
   "source": [
    "Using TF-IDF, we also are able to find recipes which are similar to a given recipe. So if a user has recently selected a recipe like \"Easy Lasagna I\", then our recommender system will find recipes that are similar to lasgna but don't necessarily contain the word \"lasagna\", for example: \"Meat Filled Manicotti\", \"Baked Spaghetti Casserole\", \"Manicotti\" and \"Italian Veggie Rolls\". "
   ]
  },
  {
   "cell_type": "markdown",
   "metadata": {},
   "source": [
    "Given that there are hundreds of thousands of recipes available online, it would be very useful to have a recommender system to help people choose. It would be an even better system if it can be personalized to each user. I would like to build a mobile app which tracks the recipes each user selects, the search terms they enter, and any recipe they save, so that the Recommender System can also make recommendationg based on collaborative filtering. With collaborative filtering, the system could show that people who liked the recipes that you like, also liked these other recipes and so there is a high probability that you may like them, too.  <br>\n",
    "\n",
    "While this project uses data scraped from AllRecipes.com, going forward, I would like to write scripts to scrape recipes from additional websites, for example: FoodNetwork.com, Delish.com, BettyCrocker.com, Epicurious.com, and more as long as the recipes are freely available and not behind a firewall. All of the major recipe websites use the same Google schema, so the basic script used for AllRecipes.com could be customized for each. Having more data would likely yield even better recommendations.<br>"
   ]
  },
  {
   "cell_type": "markdown",
   "metadata": {},
   "source": [
    "References: <br>\n",
    "[1] [http://adventuresinmachinelearning.com/word2vec-tutorial-tensorflow/]<br>\n",
    "[2] [https://en.wikipedia.org/wiki/Word2vec]<br>\n",
    "[3] https://en.wikipedia.org/wiki/T-distributed_stochastic_neighbor_embedding<br>\n",
    "[4] https://www.quora.com/How-does-Mikolovs-word-analogy-for-word-embedding-work-How-can-I-code-such-a-function?utm_medium=organic&utm_source=google_rich_qa&utm_campaign=google_rich_qa\n",
    "[5] https://papers.nips.cc/paper/5021-distributed-representations-of-words-and-phrases-and-their-compositionality.pdf\n"
   ]
  },
  {
   "cell_type": "code",
   "execution_count": null,
   "metadata": {
    "collapsed": true
   },
   "outputs": [],
   "source": []
  }
 ],
 "metadata": {
  "kernelspec": {
   "display_name": "Python 3",
   "language": "python",
   "name": "python3"
  },
  "language_info": {
   "codemirror_mode": {
    "name": "ipython",
    "version": 3
   },
   "file_extension": ".py",
   "mimetype": "text/x-python",
   "name": "python",
   "nbconvert_exporter": "python",
   "pygments_lexer": "ipython3",
   "version": "3.6.4"
  }
 },
 "nbformat": 4,
 "nbformat_minor": 2
}
