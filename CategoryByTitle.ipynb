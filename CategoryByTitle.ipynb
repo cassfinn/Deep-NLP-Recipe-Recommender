{
 "cells": [
  {
   "cell_type": "markdown",
   "metadata": {},
   "source": [
    "<div align=\"left\">\n",
    "# Capstone Project - Recommender System for Recipes\n",
    "## Machine Learning Engineer Nanodegree\n",
    "#### Claudia Cassidy, March 31, 2018\n",
    "</div>\n",
    "<hr>"
   ]
  },
  {
   "cell_type": "markdown",
   "metadata": {},
   "source": [
    "## Project Overview\n",
    "\n",
    "The goal of this project is to build a Recommender System for helping home cooks choose recipes. Unlike years ago, when people would look through recipe books and have index cards with a collection of up to 50 recipes, today there are hundreds of thousands of recipes freely available on the internet. With so many to choose from, it can be difficult to find just the right recipe that uses ingredients you have in your pantry, that takes just the right amount of time to prepare, and that will likely taste good to you and your family. This project aims to use machine learning to help home cooks answer the question: \"What's for dinner?\". <br>\n",
    "\n"
   ]
  },
  {
   "cell_type": "markdown",
   "metadata": {},
   "source": [
    "Recommender Systems are commonly used in online shopping, for example where products are recommended for you based on products you've clicked on or searched for in the past. They are also used to recommend movies, as in Netflix where personalized recommendations are provided to each user. News services recommend articles to online readers.<br>\n",
    "\n",
    "This report will look at Content-Based recommender systems in which properties of an item are examined so that other items which are similar to that item are recommended. In this project, we will examine recipe ingredients and categories to identify recipes that are similar to one another. We will also examine recipe ratings and number of reviews."
   ]
  },
  {
   "cell_type": "markdown",
   "metadata": {},
   "source": [
    "### Metrics\n",
    "\n",
    "We will use three metrics to measure model peformance. Using multiple metrics allows a more comprehensive comparison of the models. \n",
    "\n",
    "MSE provides \n",
    "\n",
    "Clearly define the metrics or calculations you will use to measure performance of a model or result in your project. These calculations and metrics should be justified based on the characteristics of the problem and problem domain. Questions to ask yourself when writing this section:\n",
    "\n",
    "Are the metrics you’ve chosen to measure the performance of your models clearly discussed and defined?\n",
    "Have you provided reasonable justification for the metrics chosen based on the problem and solution?"
   ]
  },
  {
   "cell_type": "markdown",
   "metadata": {},
   "source": [
    "## Content Based Recommender System \n",
    "\n",
    "We will build a recipe association recommender, which although not personalized, will examine the properties of the recipe that a user is looking at. Based on the recipe's ingredients, categories and title, it will provide recipe recommendations.<br>\n",
    "\n",
    "One way of providing these recommendations is to go through all the recipes and see \n",
    "what other ingredients have most frequently been part of the recipe along with the given ingredient in the same recipe. We can start by calculating what percentage of recipes with ingredient X (ingredient that the user is currently looking at) also has ingredient Y in the same recipe.<br>\n",
    "\n",
    "We can count the number of recipes that have ingredient X and Y, our numerator, and\n",
    "divide it by the number of recipes that have ingredient X. If, for example, at least 80% of recipes contain X and Y, then Y is a likely ingredient to add if you’re already using X. We will try to build a system that recommends recipes that are similar to a particular recipe and then list the top 10 closest matches."
   ]
  },
  {
   "cell_type": "markdown",
   "metadata": {},
   "source": [
    "### Analysis"
   ]
  },
  {
   "cell_type": "markdown",
   "metadata": {},
   "source": [
    "AllRecipes.com is a community based website where people, mostly home cooks, submit their own recipes and have them published on the website. Most of the people who contribute recipes are not professional chefs.<br>\n",
    "\n",
    "I was able to generate a dataset of over 8,100 recipes by scraping the web pages of AllRecipes.com.  An example of the script I wrote to scrape the recipes is in file \"arSaladR.py\". Recipes were scraped by categories as defined by AllRecipes.com. Using BeautifulSoup I scraped recipes in categories such as chicken, beef, salad, bread, pasta, vegetarian, cookies, beans, fish, and more. The data was written to csv files and then combined into a master spreadsheet.  "
   ]
  },
  {
   "cell_type": "markdown",
   "metadata": {},
   "source": [
    "### Data Structure\n",
    "\n",
    "Recipes on AllRecipes.com are structured according to Google's Recipe schema. Once scraped, the recipes were broken down into the following fields:<br>"
   ]
  },
  {
   "cell_type": "markdown",
   "metadata": {},
   "source": [
    "\n",
    "<li>title: recipe name\n",
    "<li>url: link to the original recipe on AllRecipes.com\n",
    "<li>category: one category that this recipe falls in, as defined by AllRecipes.com\n",
    "<li>prep time: how long it takes to prepare the ingredients before they are cooked\n",
    "<li>cook time: how long it takes to cook\n",
    "<li>total time: how long it takes to make this recipe: total of preparation time plus cooking time\n",
    "<li>servings: number of servings this recipe makes\n",
    "<li>rating: average overall rating for this recipe\n",
    "<li>review_count: number of reviews this recipe has received\n",
    "<li>categories: an array of food categories that this recipe falls in, as defined by AllRecipes.com\n",
    "<li>author: the person who contributed the recipe\n",
    "<li>ingredients: array of ingredients\n",
    "<li>instructions: array of instructions for how to make the recipe\n",
    "<li>fat: health information: amount of fat per serving\n",
    "<li>calories: health information: amount of calories per serving\n",
    "<li>carbohydrates: health information: amount of carbohydrates per serving\n",
    "<li>protein: health information: amount of protein per serving\n",
    "<li>cholesterol: health information: amount of cholesterol per serving\n",
    "<li>sodium: health information: amount of sodium per serving\n",
    "<li>reviews_text: the text of up to 6 reviews<br>\n",
    "<br>\n",
    "The fields which I selected from the dataset are title, categories, category and ingredients. I also experimented with rating and review_count. Here is a sample of the data.\n"
   ]
  },
  {
   "cell_type": "code",
   "execution_count": 1,
   "metadata": {
    "collapsed": true
   },
   "outputs": [],
   "source": [
    "#import needed packages\n",
    "from gensim.models import doc2vec\n",
    "\n",
    "import re\n",
    "import pandas as pd\n",
    "import numpy as np\n",
    "import copy\n",
    "\n",
    "# nltk processing\n",
    "import nltk\n",
    "from nltk.tag import pos_tag\n",
    "from nltk import word_tokenize\n",
    "from nltk.corpus import stopwords\n",
    "from nltk.classify import NaiveBayesClassifier"
   ]
  },
  {
   "cell_type": "markdown",
   "metadata": {},
   "source": [
    "### Data Exploration\n"
   ]
  },
  {
   "cell_type": "markdown",
   "metadata": {},
   "source": [
    "The master dataset was trimmed down to use the fields: title, category, categories, ingredients, rating and review_cnt. "
   ]
  },
  {
   "cell_type": "code",
   "execution_count": 2,
   "metadata": {},
   "outputs": [
    {
     "data": {
      "text/html": [
       "<div>\n",
       "<style scoped>\n",
       "    .dataframe tbody tr th:only-of-type {\n",
       "        vertical-align: middle;\n",
       "    }\n",
       "\n",
       "    .dataframe tbody tr th {\n",
       "        vertical-align: top;\n",
       "    }\n",
       "\n",
       "    .dataframe thead th {\n",
       "        text-align: right;\n",
       "    }\n",
       "</style>\n",
       "<table border=\"1\" class=\"dataframe\">\n",
       "  <thead>\n",
       "    <tr style=\"text-align: right;\">\n",
       "      <th></th>\n",
       "      <th>title</th>\n",
       "      <th>url</th>\n",
       "      <th>category</th>\n",
       "      <th>prep</th>\n",
       "      <th>cook</th>\n",
       "      <th>total</th>\n",
       "      <th>servings</th>\n",
       "      <th>rating</th>\n",
       "      <th>review_cnt</th>\n",
       "      <th>categories</th>\n",
       "      <th>...</th>\n",
       "      <th>ingred</th>\n",
       "      <th>instruct</th>\n",
       "      <th>fat</th>\n",
       "      <th>calories</th>\n",
       "      <th>carb</th>\n",
       "      <th>protein</th>\n",
       "      <th>chol</th>\n",
       "      <th>sodium</th>\n",
       "      <th>page</th>\n",
       "      <th>reviews_text</th>\n",
       "    </tr>\n",
       "  </thead>\n",
       "  <tbody>\n",
       "    <tr>\n",
       "      <th>0</th>\n",
       "      <td>'Anything Goes' Easy Black Beans</td>\n",
       "      <td>https://www.allrecipes.com/recipe/237247/anyth...</td>\n",
       "      <td>Beans and Peas</td>\n",
       "      <td>PT15M</td>\n",
       "      <td>PT25M</td>\n",
       "      <td>PT40M</td>\n",
       "      <td>8</td>\n",
       "      <td>3.50</td>\n",
       "      <td>6</td>\n",
       "      <td>['Side Dish', 'Beans and Peas']</td>\n",
       "      <td>...</td>\n",
       "      <td>['2 (15 ounce) cans black beans, rinsed and dr...</td>\n",
       "      <td>['Stir black beans, 1 cup chicken broth, tomat...</td>\n",
       "      <td>2.3</td>\n",
       "      <td>149 calories;</td>\n",
       "      <td>26.0</td>\n",
       "      <td>8.0</td>\n",
       "      <td>&lt; 1</td>\n",
       "      <td>701</td>\n",
       "      <td>76</td>\n",
       "      <td>['Darin and I liked it...boys thought so so', ...</td>\n",
       "    </tr>\n",
       "    <tr>\n",
       "      <th>1</th>\n",
       "      <td>'Calabacitas Guisada' (Stewed Mexican Zucchini)</td>\n",
       "      <td>https://www.allrecipes.com/recipe/203592/calab...</td>\n",
       "      <td>Tomatoes</td>\n",
       "      <td>PT10M</td>\n",
       "      <td>PT15M</td>\n",
       "      <td>PT30M</td>\n",
       "      <td>8</td>\n",
       "      <td>4.60</td>\n",
       "      <td>83</td>\n",
       "      <td>['Side Dish', 'Vegetables', 'Tomatoes']</td>\n",
       "      <td>...</td>\n",
       "      <td>['1 tablespoon vegetable oil', '1/2 small whit...</td>\n",
       "      <td>['Heat the vegetable oil in a saucepan over me...</td>\n",
       "      <td>6.6</td>\n",
       "      <td>97 calories;</td>\n",
       "      <td>5.8</td>\n",
       "      <td>4.8</td>\n",
       "      <td>15</td>\n",
       "      <td>202</td>\n",
       "      <td>15</td>\n",
       "      <td>['A simple and tasty dish! I also used olive o...</td>\n",
       "    </tr>\n",
       "    <tr>\n",
       "      <th>2</th>\n",
       "      <td>'Chinese Buffet' Green Beans</td>\n",
       "      <td>https://www.allrecipes.com/recipe/158854/chine...</td>\n",
       "      <td>Green Beans</td>\n",
       "      <td>PT15M</td>\n",
       "      <td>PT10M</td>\n",
       "      <td>PT25M</td>\n",
       "      <td>6</td>\n",
       "      <td>4.54</td>\n",
       "      <td>227</td>\n",
       "      <td>['Side Dish', 'Vegetables', 'Green Beans']</td>\n",
       "      <td>...</td>\n",
       "      <td>['1 tablespoon oil, peanut or sesame', '2 clov...</td>\n",
       "      <td>['Heat peanut oil in a wok or large skillet ov...</td>\n",
       "      <td>2.3</td>\n",
       "      <td>55 calories;</td>\n",
       "      <td>8.1</td>\n",
       "      <td>1.6</td>\n",
       "      <td>0</td>\n",
       "      <td>141</td>\n",
       "      <td>5</td>\n",
       "      <td>['**IMPORTANT NOTE** Thanks to everyone who ha...</td>\n",
       "    </tr>\n",
       "    <tr>\n",
       "      <th>3</th>\n",
       "      <td>'Meat's Too Expensive!' Vegetarian Burgers</td>\n",
       "      <td>https://www.allrecipes.com/recipe/237216/meats...</td>\n",
       "      <td>Everyday Cooking</td>\n",
       "      <td>PT15M</td>\n",
       "      <td>PT35M</td>\n",
       "      <td>PT50M</td>\n",
       "      <td>8</td>\n",
       "      <td>4.25</td>\n",
       "      <td>3</td>\n",
       "      <td>['Everyday Cooking']</td>\n",
       "      <td>...</td>\n",
       "      <td>['water to cover', '1 cup dried lentils', '1/2...</td>\n",
       "      <td>['Pour enough water into a pot that will cover...</td>\n",
       "      <td>9.0</td>\n",
       "      <td>195 calories;</td>\n",
       "      <td>19.8</td>\n",
       "      <td>9.7</td>\n",
       "      <td>26</td>\n",
       "      <td>35</td>\n",
       "      <td>83</td>\n",
       "      <td>['Best tasting veggie burger I have made, ever...</td>\n",
       "    </tr>\n",
       "    <tr>\n",
       "      <th>4</th>\n",
       "      <td>\"Couldn't Be Easier\" Three-Bean Salad</td>\n",
       "      <td>https://www.allrecipes.com/recipe/228260/could...</td>\n",
       "      <td>Three Bean Salad</td>\n",
       "      <td>PT10M</td>\n",
       "      <td></td>\n",
       "      <td>PT1Day10M</td>\n",
       "      <td>6</td>\n",
       "      <td>4.00</td>\n",
       "      <td>3</td>\n",
       "      <td>['Salad', 'Beans', 'Three Bean Salad']</td>\n",
       "      <td>...</td>\n",
       "      <td>['1 cup frozen cut green beans', '1 cup frozen...</td>\n",
       "      <td>['Combine green beans, lima beans, red beans, ...</td>\n",
       "      <td>4.9</td>\n",
       "      <td>124 calories;</td>\n",
       "      <td>16.0</td>\n",
       "      <td>3.9</td>\n",
       "      <td>0</td>\n",
       "      <td>161</td>\n",
       "      <td>84</td>\n",
       "      <td>['I thought this was good and it was even bett...</td>\n",
       "    </tr>\n",
       "  </tbody>\n",
       "</table>\n",
       "<p>5 rows × 21 columns</p>\n",
       "</div>"
      ],
      "text/plain": [
       "                                             title  \\\n",
       "0                 'Anything Goes' Easy Black Beans   \n",
       "1  'Calabacitas Guisada' (Stewed Mexican Zucchini)   \n",
       "2                     'Chinese Buffet' Green Beans   \n",
       "3       'Meat's Too Expensive!' Vegetarian Burgers   \n",
       "4            \"Couldn't Be Easier\" Three-Bean Salad   \n",
       "\n",
       "                                                 url          category   prep  \\\n",
       "0  https://www.allrecipes.com/recipe/237247/anyth...    Beans and Peas  PT15M   \n",
       "1  https://www.allrecipes.com/recipe/203592/calab...          Tomatoes  PT10M   \n",
       "2  https://www.allrecipes.com/recipe/158854/chine...       Green Beans  PT15M   \n",
       "3  https://www.allrecipes.com/recipe/237216/meats...  Everyday Cooking  PT15M   \n",
       "4  https://www.allrecipes.com/recipe/228260/could...  Three Bean Salad  PT10M   \n",
       "\n",
       "    cook      total  servings  rating  review_cnt  \\\n",
       "0  PT25M      PT40M         8    3.50           6   \n",
       "1  PT15M      PT30M         8    4.60          83   \n",
       "2  PT10M      PT25M         6    4.54         227   \n",
       "3  PT35M      PT50M         8    4.25           3   \n",
       "4         PT1Day10M         6    4.00           3   \n",
       "\n",
       "                                   categories  \\\n",
       "0             ['Side Dish', 'Beans and Peas']   \n",
       "1     ['Side Dish', 'Vegetables', 'Tomatoes']   \n",
       "2  ['Side Dish', 'Vegetables', 'Green Beans']   \n",
       "3                        ['Everyday Cooking']   \n",
       "4      ['Salad', 'Beans', 'Three Bean Salad']   \n",
       "\n",
       "                         ...                          \\\n",
       "0                        ...                           \n",
       "1                        ...                           \n",
       "2                        ...                           \n",
       "3                        ...                           \n",
       "4                        ...                           \n",
       "\n",
       "                                              ingred  \\\n",
       "0  ['2 (15 ounce) cans black beans, rinsed and dr...   \n",
       "1  ['1 tablespoon vegetable oil', '1/2 small whit...   \n",
       "2  ['1 tablespoon oil, peanut or sesame', '2 clov...   \n",
       "3  ['water to cover', '1 cup dried lentils', '1/2...   \n",
       "4  ['1 cup frozen cut green beans', '1 cup frozen...   \n",
       "\n",
       "                                            instruct  fat       calories  \\\n",
       "0  ['Stir black beans, 1 cup chicken broth, tomat...  2.3  149 calories;   \n",
       "1  ['Heat the vegetable oil in a saucepan over me...  6.6   97 calories;   \n",
       "2  ['Heat peanut oil in a wok or large skillet ov...  2.3   55 calories;   \n",
       "3  ['Pour enough water into a pot that will cover...  9.0  195 calories;   \n",
       "4  ['Combine green beans, lima beans, red beans, ...  4.9  124 calories;   \n",
       "\n",
       "   carb  protein  chol sodium page  \\\n",
       "0  26.0      8.0   < 1    701   76   \n",
       "1   5.8      4.8    15    202   15   \n",
       "2   8.1      1.6     0    141    5   \n",
       "3  19.8      9.7    26     35   83   \n",
       "4  16.0      3.9     0    161   84   \n",
       "\n",
       "                                        reviews_text  \n",
       "0  ['Darin and I liked it...boys thought so so', ...  \n",
       "1  ['A simple and tasty dish! I also used olive o...  \n",
       "2  ['**IMPORTANT NOTE** Thanks to everyone who ha...  \n",
       "3  ['Best tasting veggie burger I have made, ever...  \n",
       "4  ['I thought this was good and it was even bett...  \n",
       "\n",
       "[5 rows x 21 columns]"
      ]
     },
     "execution_count": 2,
     "metadata": {},
     "output_type": "execute_result"
    }
   ],
   "source": [
    "dataMaster = pd.read_csv(\"dataRecMaster2.csv\") \n",
    "dataMaster.head(5)"
   ]
  },
  {
   "cell_type": "code",
   "execution_count": 3,
   "metadata": {},
   "outputs": [
    {
     "data": {
      "text/html": [
       "<div>\n",
       "<style scoped>\n",
       "    .dataframe tbody tr th:only-of-type {\n",
       "        vertical-align: middle;\n",
       "    }\n",
       "\n",
       "    .dataframe tbody tr th {\n",
       "        vertical-align: top;\n",
       "    }\n",
       "\n",
       "    .dataframe thead th {\n",
       "        text-align: right;\n",
       "    }\n",
       "</style>\n",
       "<table border=\"1\" class=\"dataframe\">\n",
       "  <thead>\n",
       "    <tr style=\"text-align: right;\">\n",
       "      <th></th>\n",
       "      <th>title</th>\n",
       "      <th>category</th>\n",
       "      <th>categories</th>\n",
       "      <th>ingred</th>\n",
       "      <th>rating</th>\n",
       "      <th>review_cnt</th>\n",
       "      <th>reviews_text</th>\n",
       "    </tr>\n",
       "  </thead>\n",
       "  <tbody>\n",
       "    <tr>\n",
       "      <th>0</th>\n",
       "      <td>'Anything Goes' Easy Black Beans</td>\n",
       "      <td>Beans and Peas</td>\n",
       "      <td>['Side Dish', 'Beans and Peas']</td>\n",
       "      <td>['2 (15 ounce) cans black beans, rinsed and dr...</td>\n",
       "      <td>3.50</td>\n",
       "      <td>6</td>\n",
       "      <td>['Darin and I liked it...boys thought so so', ...</td>\n",
       "    </tr>\n",
       "    <tr>\n",
       "      <th>1</th>\n",
       "      <td>'Calabacitas Guisada' (Stewed Mexican Zucchini)</td>\n",
       "      <td>Tomatoes</td>\n",
       "      <td>['Side Dish', 'Vegetables', 'Tomatoes']</td>\n",
       "      <td>['1 tablespoon vegetable oil', '1/2 small whit...</td>\n",
       "      <td>4.60</td>\n",
       "      <td>83</td>\n",
       "      <td>['A simple and tasty dish! I also used olive o...</td>\n",
       "    </tr>\n",
       "    <tr>\n",
       "      <th>2</th>\n",
       "      <td>'Chinese Buffet' Green Beans</td>\n",
       "      <td>Green Beans</td>\n",
       "      <td>['Side Dish', 'Vegetables', 'Green Beans']</td>\n",
       "      <td>['1 tablespoon oil, peanut or sesame', '2 clov...</td>\n",
       "      <td>4.54</td>\n",
       "      <td>227</td>\n",
       "      <td>['**IMPORTANT NOTE** Thanks to everyone who ha...</td>\n",
       "    </tr>\n",
       "    <tr>\n",
       "      <th>3</th>\n",
       "      <td>'Meat's Too Expensive!' Vegetarian Burgers</td>\n",
       "      <td>Everyday Cooking</td>\n",
       "      <td>['Everyday Cooking']</td>\n",
       "      <td>['water to cover', '1 cup dried lentils', '1/2...</td>\n",
       "      <td>4.25</td>\n",
       "      <td>3</td>\n",
       "      <td>['Best tasting veggie burger I have made, ever...</td>\n",
       "    </tr>\n",
       "    <tr>\n",
       "      <th>4</th>\n",
       "      <td>\"Couldn't Be Easier\" Three-Bean Salad</td>\n",
       "      <td>Three Bean Salad</td>\n",
       "      <td>['Salad', 'Beans', 'Three Bean Salad']</td>\n",
       "      <td>['1 cup frozen cut green beans', '1 cup frozen...</td>\n",
       "      <td>4.00</td>\n",
       "      <td>3</td>\n",
       "      <td>['I thought this was good and it was even bett...</td>\n",
       "    </tr>\n",
       "  </tbody>\n",
       "</table>\n",
       "</div>"
      ],
      "text/plain": [
       "                                             title          category  \\\n",
       "0                 'Anything Goes' Easy Black Beans    Beans and Peas   \n",
       "1  'Calabacitas Guisada' (Stewed Mexican Zucchini)          Tomatoes   \n",
       "2                     'Chinese Buffet' Green Beans       Green Beans   \n",
       "3       'Meat's Too Expensive!' Vegetarian Burgers  Everyday Cooking   \n",
       "4            \"Couldn't Be Easier\" Three-Bean Salad  Three Bean Salad   \n",
       "\n",
       "                                   categories  \\\n",
       "0             ['Side Dish', 'Beans and Peas']   \n",
       "1     ['Side Dish', 'Vegetables', 'Tomatoes']   \n",
       "2  ['Side Dish', 'Vegetables', 'Green Beans']   \n",
       "3                        ['Everyday Cooking']   \n",
       "4      ['Salad', 'Beans', 'Three Bean Salad']   \n",
       "\n",
       "                                              ingred  rating  review_cnt  \\\n",
       "0  ['2 (15 ounce) cans black beans, rinsed and dr...    3.50           6   \n",
       "1  ['1 tablespoon vegetable oil', '1/2 small whit...    4.60          83   \n",
       "2  ['1 tablespoon oil, peanut or sesame', '2 clov...    4.54         227   \n",
       "3  ['water to cover', '1 cup dried lentils', '1/2...    4.25           3   \n",
       "4  ['1 cup frozen cut green beans', '1 cup frozen...    4.00           3   \n",
       "\n",
       "                                        reviews_text  \n",
       "0  ['Darin and I liked it...boys thought so so', ...  \n",
       "1  ['A simple and tasty dish! I also used olive o...  \n",
       "2  ['**IMPORTANT NOTE** Thanks to everyone who ha...  \n",
       "3  ['Best tasting veggie burger I have made, ever...  \n",
       "4  ['I thought this was good and it was even bett...  "
      ]
     },
     "execution_count": 3,
     "metadata": {},
     "output_type": "execute_result"
    }
   ],
   "source": [
    "\n",
    "data = dataMaster[['title','category','categories','ingred','rating','review_cnt','reviews_text']].copy()\n",
    "data.head(5)"
   ]
  },
  {
   "cell_type": "markdown",
   "metadata": {},
   "source": [
    "### Data Cleaning\n",
    "\n",
    "When looking at the data, it became clear that the most relevant words are the names of food items and categories.  Other words, characters and numbers would not be useful for this exercise. for example, we need to get rid of stop words (common words like \"as\", \"the\") and measurement words (for example 1/2 tablespoon) which don't say anything about the food. <br>\n",
    "For example, \"ground beef\" becomes \"groundbeef\", \"beef bouillon cube\" becomes \"beefbouilloncube\"."
   ]
  },
  {
   "cell_type": "markdown",
   "metadata": {},
   "source": [
    "The first step was to define a food vocabulary. Non-food words, such as measurements, punctuation, and descriptions about the state of a food item should be removed from the ingredients. Shown here is a function to remove non-food words from the ingredient words: \"clean_data_ingred()\"."
   ]
  },
  {
   "cell_type": "code",
   "execution_count": 4,
   "metadata": {
    "collapsed": true
   },
   "outputs": [],
   "source": [
    "### removed measurements, descriptive words and anything that's not an ingredient\n",
    "def clean_data_ingred(ds):\n",
    "    arr = [' to ',' into ', 'tablespoons','tablespoon','teaspoons','teaspoon','cups','cup',\n",
    "           'ounces','ounce','pounds','pound','pinches','pinch','tastes',\n",
    "           'taste','dashes','dash','/',' or ',' as ',' and ', '-','[',']',\n",
    "           '(',')','.','slices','sliced','slice', '0','1','2','3',\n",
    "           '4','5','6','7','8','9','juiced','diced','minced','chopped',\n",
    "           ' cans',' canned ', ' can ', ' inches ', ' inch ','package', \n",
    "           'finely', 'crushed', 'shredded', 'divided', ' melted ', ' jar ',\n",
    "           'thawed', ' cut ', ' to ', ' thick ', ' across ',' bones ', \n",
    "           'optional', ' split ', ' torn ', ' into ', ' strips ', 'peeled',\n",
    "           ' pieces', ' lightly ', ' beaten ','ground black', 'scrubbed', \n",
    "           'jars', 'beaten','pitted','halved', 'thinly','as needed','large',\n",
    "           'medium','small','roughly','fluid','drained','crumbled','rinsed',\n",
    "           'cubed','seeded','fresh',' plus ', ' more ', 'deboned', \n",
    "           'prepared', 'cubes', 'uncooked', 'cooked', 'grated', ' lean ',\n",
    "           'into chunks', 'coarsely','seeded','freshly',' freshly', 'fresh',\n",
    "           ' with ',  'liquid','quartered','lengthwise','small',' into ',\n",
    "           ' bite ', ' sized ', ' ly ', ' ed ', ' s ','cut into', ' up ', \n",
    "           'trimmed','frozen','chunks','segments','softened',' cut ', \n",
    "           ' stewed','pieces','broken',' cored',' rings',' torn ','seasoned',\n",
    "           ' into ','eighths','quarters','halves','thirds',' thick ', \n",
    "           'chilled',  ' more',' ',\"'\"]\n",
    "\n",
    "    ### merge terms that have multiple words, for example 'ground beef' becomes 'groundbeef'\n",
    "    for item in arr:\n",
    "        ds = ds.str.replace(item,'')\n",
    "    ds = ds.str.replace('saltpepper',\"salt,pepper\")\n",
    "    ds = ds.str.replace(',,',',')\n",
    "    return ds"
   ]
  },
  {
   "cell_type": "code",
   "execution_count": 5,
   "metadata": {
    "collapsed": true
   },
   "outputs": [],
   "source": [
    "### Remove measurements and anything else that is not a food ingredient from the ingredients data\n",
    "data['ingred'] = clean_data_ingred(data['ingred'])\n",
    "\n"
   ]
  },
  {
   "cell_type": "markdown",
   "metadata": {},
   "source": [
    "## Analysis"
   ]
  },
  {
   "cell_type": "markdown",
   "metadata": {},
   "source": [
    "The next step was to compute TF-IDF scores for the remaining words. Ingredient terms can consist of more than one word. In order to make sure that the model does not treat an ingredient like \"ground beef\" as two separate words, for example \"ground\" and \"beef\", ingredients with multiple words were combined into a single word. For example, \"ground beef\" becomes \"groundbeef\" and \"beef bouillon cube\" becomes \"beefbouilloncube\". Each term was then separated by a space."
   ]
  },
  {
   "cell_type": "code",
   "execution_count": 6,
   "metadata": {
    "collapsed": true
   },
   "outputs": [],
   "source": [
    "### separate each term with a space\n",
    "def create_soup(ds):\n",
    "    ds = ds.str.replace(',',' ')\n",
    "    return ds"
   ]
  },
  {
   "cell_type": "code",
   "execution_count": 7,
   "metadata": {
    "collapsed": true
   },
   "outputs": [],
   "source": [
    "### Separate each ingredient with a space\n",
    "data['ingredSpaces'] = create_soup(data['ingred'])\n"
   ]
  },
  {
   "cell_type": "markdown",
   "metadata": {},
   "source": [
    "### Adding Categories Feature\n",
    "As we did with the ingredients data, we will remove characters from the Categories data which are not letters, for example, punctuation marks. Multiple word terms will be combined into single words, for example: \"side dish\" becomes \"sidedish\"."
   ]
  },
  {
   "cell_type": "code",
   "execution_count": 8,
   "metadata": {
    "collapsed": true
   },
   "outputs": [],
   "source": [
    "def clean_categories(ds):\n",
    "    ds = ds.str.replace(' ','')\n",
    "    ds = ds.str.lower()\n",
    "    ds = ds.str.replace('[','')\n",
    "    ds = ds.str.replace(']','')\n",
    "    ds = ds.str.replace(\"''\",' ')\n",
    "    ds = ds.str.replace(',',' ')\n",
    "    ds = ds.str.replace(\"'\",\"\")\n",
    "    return ds"
   ]
  },
  {
   "cell_type": "code",
   "execution_count": 9,
   "metadata": {
    "collapsed": true
   },
   "outputs": [],
   "source": [
    "data['categories_clean'] = clean_categories(data['categories'])\n",
    "\n",
    "\n"
   ]
  },
  {
   "cell_type": "code",
   "execution_count": 155,
   "metadata": {},
   "outputs": [
    {
     "name": "stdout",
     "output_type": "stream",
     "text": [
      "0                           anything goes easy black beans\n",
      "1            calabacitas guisada (stewed mexican zucchini)\n",
      "2                               chinese buffet green beans\n",
      "3                  meats too expensive! vegetarian burgers\n",
      "4                       couldnt be easier three-bean salad\n",
      "5        eat them right out of the pot vegetarian colla...\n",
      "6                  pantry raid chicken enchilada casserole\n",
      "7                               the jackson detox smoothie\n",
      "8        these arent potatoes? garlic cauliflower au gr...\n",
      "9                  (i cant believe its) mashed cauliflower\n",
      "10                       1-2-3 complete breakfast smoothie\n",
      "11                                        1-dish taco bake\n",
      "12                              1-pot, 3-bean chicken stew\n",
      "13                                            11-can chili\n",
      "14                         15-minute dinner nachos supreme\n",
      "15                                2-step garlic pork chops\n",
      "16                   25-minute tunisian vegetable couscous\n",
      "17                        30 minute potato breakfast bowls\n",
      "18                              30-minute white bean chili\n",
      "19                                      4-bean baked beans\n",
      "20            4-ingredient chickpea burger for one (vegan)\n",
      "21                              4th of july blast smoothie\n",
      "22                          5 minute banana berry smoothie\n",
      "23                                   5-minute olive hummus\n",
      "24                                             6 can chili\n",
      "25                                 a firefighters meatloaf\n",
      "26                                  a fragrant, spicy rice\n",
      "27                              a good easy garlic chicken\n",
      "28                                 a nice slow-cooked pork\n",
      "29                           a very intense fruit smoothie\n",
      "                               ...                        \n",
      "10512                         penne with spring vegetables\n",
      "10513                                       tuna delicious\n",
      "10514                      orzo with tomato and fried tofu\n",
      "10515                                 creamy chicken pasta\n",
      "10516         summer pasta with basil, tomatoes and cheese\n",
      "10517                              pasta with peanut sauce\n",
      "10518                                   creamy penne pasta\n",
      "10519                                     tortellini bites\n",
      "10520                        slow cooker spaghetti chicken\n",
      "10521                                  rigatoni florentine\n",
      "10522                              chickpea macaroni salad\n",
      "10523                                    chocolate spiders\n",
      "10524                             three cheese noodle bake\n",
      "10525                            johnny marzetti casserole\n",
      "10526                                my chicken pho recipe\n",
      "10527                fire-roasted tomato and spinach pasta\n",
      "10528                         fresh mozzarella pasta salad\n",
      "10529                          shrimp scampi with linguini\n",
      "10530                             spicy vegetarian lasagna\n",
      "10531                            israeli moroccan couscous\n",
      "10532                        moms goulash in the microwave\n",
      "10533                      slow cooker vegetable beef soup\n",
      "10534                          bowties and italian sausage\n",
      "10535                                         pork lo mein\n",
      "10536                          old mans turkey noodle soup\n",
      "10537                        beans, greens and garlic soup\n",
      "10538                creamy chicken and broccoli casserole\n",
      "10539                                 beefy vegetable soup\n",
      "10540                                        pastitsio iii\n",
      "10541                                inside out ravioli ii\n",
      "Name: title_clean, Length: 10542, dtype: object\n"
     ]
    }
   ],
   "source": [
    "def clean_titles(ds):\n",
    "    ds = ds.str.replace('[','')\n",
    "    ds = ds.str.replace(']','')\n",
    "    ds = ds.str.replace(\"'\",\"\")\n",
    "    ds = ds.str.replace('\"','')\n",
    "\n",
    "    ds = ds.str.lower()\n",
    "    return ds\n",
    "\n",
    "\n",
    "data['title_clean'] = clean_titles(data['title'])\n",
    "\n",
    "print(data['title_clean'])"
   ]
  },
  {
   "cell_type": "code",
   "execution_count": null,
   "metadata": {
    "collapsed": true
   },
   "outputs": [],
   "source": []
  },
  {
   "cell_type": "code",
   "execution_count": null,
   "metadata": {
    "collapsed": true
   },
   "outputs": [],
   "source": []
  },
  {
   "cell_type": "markdown",
   "metadata": {},
   "source": [
    "### 1 - Predict Category from Title"
   ]
  },
  {
   "cell_type": "code",
   "execution_count": 10,
   "metadata": {},
   "outputs": [
    {
     "data": {
      "text/plain": [
       "0    blackbeans chickenbroth more tomatopaste groun...\n",
       "1    vegetableoil whiteonion clovesgarlic zucchini ...\n",
       "2    oil peanutsesame clovesgarlic greenbeans white...\n",
       "3    watercover driedlentils wheatgerm onion greenb...\n",
       "4    greenbeans limabeans redbeans redbellpepperstr...\n",
       "Name: ingred_cat, dtype: object"
      ]
     },
     "execution_count": 10,
     "metadata": {},
     "output_type": "execute_result"
    }
   ],
   "source": [
    "# Merge ingredients and categories into one column\n",
    "data['ingred_cat'] = data['ingredSpaces'] + ' ' + data['categories_clean'] \n",
    "data['ingred_cat'].head(5)"
   ]
  },
  {
   "cell_type": "code",
   "execution_count": 11,
   "metadata": {},
   "outputs": [
    {
     "name": "stdout",
     "output_type": "stream",
     "text": [
      "    Most_Common_Ingredients           ingred  count   percent\n",
      "0              (salt, 5386)             salt   5386  0.510909\n",
      "1            (pepper, 4269)           pepper   4269  0.404952\n",
      "2             (onion, 3071)            onion   3071  0.291311\n",
      "3          (oliveoil, 2412)         oliveoil   2412  0.228799\n",
      "4            (butter, 2299)           butter   2299  0.218080\n",
      "5      (clovesgarlic, 2099)     clovesgarlic   2099  0.199108\n",
      "6             (water, 1857)            water   1857  0.176153\n",
      "7                (or, 1156)               or   1156  0.109657\n",
      "8   (allpurposeflour, 1144)  allpurposeflour   1144  0.108518\n",
      "9        (whitesugar, 1128)       whitesugar   1128  0.107001\n",
      "10     (vegetableoil, 1058)     vegetableoil   1058  0.100360\n",
      "11    (Parmesancheese, 974)   Parmesancheese    974  0.092392\n",
      "12              (milk, 950)             milk    950  0.090116\n",
      "13        (groundbeef, 947)       groundbeef    947  0.089831\n",
      "14          (tomatoes, 923)         tomatoes    923  0.087555\n",
      "15              (eggs, 892)             eggs    892  0.084614\n",
      "16      (garlicpowder, 872)     garlicpowder    872  0.082717\n",
      "17             (bacon, 847)            bacon    847  0.080345\n",
      "18       (groundcumin, 823)      groundcumin    823  0.078069\n",
      "19       (clovegarlic, 707)      clovegarlic    707  0.067065\n"
     ]
    }
   ],
   "source": [
    "df = data['ingredSpaces']\n",
    "arr = []\n",
    "for item in df:\n",
    "    item2 = item.split()\n",
    "    for s in item2:\n",
    "        if len(s) > 1:\n",
    "            arr.append(s)\n",
    "            \n",
    "arr.sort()\n",
    "\n",
    "import collections\n",
    "counter = collections.Counter(arr)\n",
    "\n",
    "df2 = pd.DataFrame.from_dict({\"Most_Common_Ingredients\":counter.most_common(20)})\n",
    "df2['Most_Common_Ingredients'].apply(pd.Series)\n",
    "\n",
    "df2[['ingred', 'count']] = df2['Most_Common_Ingredients'].apply(pd.Series)\n",
    "\n",
    "df2['percent'] = df2['count'] // len(data)\n",
    "\n",
    "num_recipes = len(data)\n",
    "df2['percent'] = df2['count']/num_recipes\n",
    "\n",
    "print(df2.head(20))"
   ]
  },
  {
   "cell_type": "markdown",
   "metadata": {},
   "source": [
    "#### Ingredient plus Categories Word Cloud \n",
    "Shown below is a word cloud which illustrates how frequently some ingredients occur among all the recipes in our dataset."
   ]
  },
  {
   "cell_type": "code",
   "execution_count": 12,
   "metadata": {},
   "outputs": [
    {
     "data": {
      "text/plain": [
       "<Figure size 1600x1200 with 1 Axes>"
      ]
     },
     "metadata": {},
     "output_type": "display_data"
    }
   ],
   "source": [
    "from wordcloud import WordCloud\n",
    "\n",
    "wordcloud = WordCloud().generate(str(df2['Most_Common_Ingredients']))\n",
    "\n",
    "import matplotlib.pyplot as plt\n",
    "                               \n",
    "plt.figure(figsize=(16,12))\n",
    "plt.imshow(wordcloud, interpolation=\"bilinear\")\n",
    "plt.axis(\"off\")\n",
    "plt.show()\n",
    "\n"
   ]
  },
  {
   "cell_type": "markdown",
   "metadata": {},
   "source": [
    "The larger the font size, the more frequently the ingredient occurs in our dataset of recipes. The largest words, such as onion, oliveoil, butter, chickenbroth, clovesgarlic and vegetableoil can even be considered as what chef's call \"staples\", i.e. ingredients that are so frequently used that it can be assumed that every cook is well stocked with these items in their kitchens. For our purposes, these \"high frequency\" ingredients are less important because they are so common."
   ]
  },
  {
   "cell_type": "markdown",
   "metadata": {},
   "source": [
    "#### In order to perform machine learning on text documents, we first need to turn the text content into numerical feature vectors."
   ]
  },
  {
   "cell_type": "markdown",
   "metadata": {},
   "source": [
    "### Train, Test, Split"
   ]
  },
  {
   "cell_type": "code",
   "execution_count": 189,
   "metadata": {},
   "outputs": [
    {
     "data": {
      "text/html": [
       "<div>\n",
       "<style scoped>\n",
       "    .dataframe tbody tr th:only-of-type {\n",
       "        vertical-align: middle;\n",
       "    }\n",
       "\n",
       "    .dataframe tbody tr th {\n",
       "        vertical-align: top;\n",
       "    }\n",
       "\n",
       "    .dataframe thead th {\n",
       "        text-align: right;\n",
       "    }\n",
       "</style>\n",
       "<table border=\"1\" class=\"dataframe\">\n",
       "  <thead>\n",
       "    <tr style=\"text-align: right;\">\n",
       "      <th></th>\n",
       "      <th>category</th>\n",
       "      <th>ingred_cat</th>\n",
       "      <th>title_clean</th>\n",
       "    </tr>\n",
       "  </thead>\n",
       "  <tbody>\n",
       "    <tr>\n",
       "      <th>0</th>\n",
       "      <td>Beans and Peas</td>\n",
       "      <td>blackbeans chickenbroth more tomatopaste groun...</td>\n",
       "      <td>anything goes easy black beans</td>\n",
       "    </tr>\n",
       "    <tr>\n",
       "      <th>2</th>\n",
       "      <td>Green Beans</td>\n",
       "      <td>oil peanutsesame clovesgarlic greenbeans white...</td>\n",
       "      <td>chinese buffet green beans</td>\n",
       "    </tr>\n",
       "    <tr>\n",
       "      <th>15</th>\n",
       "      <td>Campbell's Kitchen</td>\n",
       "      <td>vegetableoil bonelessporkchops thick clovegarl...</td>\n",
       "      <td>2-step garlic pork chops</td>\n",
       "    </tr>\n",
       "    <tr>\n",
       "      <th>18</th>\n",
       "      <td>Turkey Chili</td>\n",
       "      <td>oliveoil groundturkeybreast onion greenbellpep...</td>\n",
       "      <td>30-minute white bean chili</td>\n",
       "    </tr>\n",
       "    <tr>\n",
       "      <th>20</th>\n",
       "      <td>Veggie</td>\n",
       "      <td>chickpeasgarbanzobeans mashed oats hummus crea...</td>\n",
       "      <td>4-ingredient chickpea burger for one (vegan)</td>\n",
       "    </tr>\n",
       "  </tbody>\n",
       "</table>\n",
       "</div>"
      ],
      "text/plain": [
       "              category                                         ingred_cat  \\\n",
       "0       Beans and Peas  blackbeans chickenbroth more tomatopaste groun...   \n",
       "2          Green Beans  oil peanutsesame clovesgarlic greenbeans white...   \n",
       "15  Campbell's Kitchen  vegetableoil bonelessporkchops thick clovegarl...   \n",
       "18        Turkey Chili  oliveoil groundturkeybreast onion greenbellpep...   \n",
       "20              Veggie  chickpeasgarbanzobeans mashed oats hummus crea...   \n",
       "\n",
       "                                     title_clean  \n",
       "0                 anything goes easy black beans  \n",
       "2                     chinese buffet green beans  \n",
       "15                      2-step garlic pork chops  \n",
       "18                    30-minute white bean chili  \n",
       "20  4-ingredient chickpea burger for one (vegan)  "
      ]
     },
     "execution_count": 189,
     "metadata": {},
     "output_type": "execute_result"
    }
   ],
   "source": [
    "data2 = data[['category','ingred_cat','title_clean']]\n",
    "\n",
    "X_train = data2.sample(frac=0.8, random_state=1)\n",
    "X_test = data2.loc[~data2.index.isin(X_train.index)]\n",
    "\n",
    "X_train = X_train.fillna(\"\")\n",
    "\n",
    "#data_cat_train = data_cat.sample(frac=0.8, random_state=1)\n",
    "#data_cat_test = data_cat.loc[~data_cat.index.isin(data_cat_train.index)]\n",
    "\n",
    "category = data[['category']]\n",
    "cat_train = category.sample(frac=0.8, random_state=1)\n",
    "cat_test = category.loc[~data_cat.index.isin(cat_train.index)]\n",
    "\n",
    "X_train.head(5)\n",
    "X_test.head(5)\n"
   ]
  },
  {
   "cell_type": "markdown",
   "metadata": {},
   "source": [
    "#### CountVectorizer\n"
   ]
  },
  {
   "cell_type": "code",
   "execution_count": 190,
   "metadata": {},
   "outputs": [
    {
     "data": {
      "text/plain": [
       "(8434, 3064)"
      ]
     },
     "execution_count": 190,
     "metadata": {},
     "output_type": "execute_result"
    }
   ],
   "source": [
    "# Import CountVectorizer and create the count matrix\n",
    "from sklearn.feature_extraction.text import CountVectorizer\n",
    "\n",
    "count_vect = CountVectorizer(stop_words='english')\n",
    "X_train_counts = count_vect.fit_transform(X_train.title_clean)\n",
    "\n",
    "X_train_counts.shape"
   ]
  },
  {
   "cell_type": "markdown",
   "metadata": {},
   "source": [
    "CountVectorizer supports counts of N-grams of words or consecutive characters. Once fitted, the vectorizer has built a dictionary of feature indices:"
   ]
  },
  {
   "cell_type": "code",
   "execution_count": 192,
   "metadata": {},
   "outputs": [
    {
     "data": {
      "text/plain": [
       "565"
      ]
     },
     "execution_count": 192,
     "metadata": {},
     "output_type": "execute_result"
    }
   ],
   "source": [
    "count_vect.vocabulary_.get(u'chicken')"
   ]
  },
  {
   "cell_type": "markdown",
   "metadata": {},
   "source": [
    "#### Compute tf and tf-idf"
   ]
  },
  {
   "cell_type": "code",
   "execution_count": 193,
   "metadata": {},
   "outputs": [
    {
     "data": {
      "text/plain": [
       "(8434, 3064)"
      ]
     },
     "execution_count": 193,
     "metadata": {},
     "output_type": "execute_result"
    }
   ],
   "source": [
    "from sklearn.feature_extraction.text import TfidfTransformer\n",
    "    \n",
    "tf_transformer = TfidfTransformer(use_idf=False).fit(X_train_counts)\n",
    "\n",
    "X_train_tf = tf_transformer.transform(X_train_counts)\n",
    "\n",
    "X_train_tf.shape\n"
   ]
  },
  {
   "cell_type": "code",
   "execution_count": 194,
   "metadata": {},
   "outputs": [
    {
     "data": {
      "text/plain": [
       "(8434, 3064)"
      ]
     },
     "execution_count": 194,
     "metadata": {},
     "output_type": "execute_result"
    }
   ],
   "source": [
    "tfidf_transformer = TfidfTransformer()\n",
    "X_train_tfidf = tfidf_transformer.fit_transform(X_train_counts)\n",
    "X_train_tfidf.shape\n"
   ]
  },
  {
   "cell_type": "markdown",
   "metadata": {},
   "source": [
    "#### Training a classifier"
   ]
  },
  {
   "cell_type": "markdown",
   "metadata": {},
   "source": [
    "Now that we have our features, we can train a classifier to try to predict the category of a post. Let’s start with a naïve Bayes classifier, which provides a nice baseline for this task. scikit-learn includes several variants of this classifier; the one most suitable for word counts is the multinomial variant:"
   ]
  },
  {
   "cell_type": "code",
   "execution_count": 213,
   "metadata": {},
   "outputs": [
    {
     "name": "stdout",
     "output_type": "stream",
     "text": [
      "['Russian' 'Vegetable Soup' 'Vegetable Soup' ... 'Sweet Potatoes' 'Salmon'\n",
      " 'Greens']\n"
     ]
    }
   ],
   "source": [
    "from sklearn.naive_bayes import MultinomialNB\n",
    "from sklearn import cross_validation\n",
    "#from sklearn.cross_validation import train_test_split\n",
    "\n",
    "cat_train['category'] = cat_train['category'].fillna(\"\")\n",
    "df = cat_train.category.values\n",
    "\n",
    "df_test = cat_test.category.values\n",
    "\n",
    "print(df)\n",
    "#clf = MultinomialNB().fit(X_train_tfidf, data['ingred_cat'])\n",
    "clf = MultinomialNB().fit(X_train_tfidf, df)\n",
    "\n"
   ]
  },
  {
   "cell_type": "markdown",
   "metadata": {},
   "source": [
    "from sklearn.pipeline import Pipeline"
   ]
  },
  {
   "cell_type": "markdown",
   "metadata": {},
   "source": [
    "\n"
   ]
  },
  {
   "cell_type": "code",
   "execution_count": 215,
   "metadata": {},
   "outputs": [
    {
     "data": {
      "text/plain": [
       "Pipeline(memory=None,\n",
       "     steps=[('vect', CountVectorizer(analyzer='word', binary=False, decode_error='strict',\n",
       "        dtype=<class 'numpy.int64'>, encoding='utf-8', input='content',\n",
       "        lowercase=True, max_df=1.0, max_features=None, min_df=1,\n",
       "        ngram_range=(1, 1), preprocessor=None, stop_words=None,\n",
       "        strip...inear_tf=False, use_idf=True)), ('clf', MultinomialNB(alpha=1.0, class_prior=None, fit_prior=True))])"
      ]
     },
     "execution_count": 215,
     "metadata": {},
     "output_type": "execute_result"
    }
   ],
   "source": [
    "from sklearn.pipeline import Pipeline\n",
    "text_clf = Pipeline([('vect', CountVectorizer()),\n",
    "    ('tfidf', TfidfTransformer()),\n",
    "    ('clf', MultinomialNB()),\n",
    "])\n",
    "\n",
    "text_clf.fit(X_train.title_clean, df) \n",
    "\n"
   ]
  },
  {
   "cell_type": "markdown",
   "metadata": {},
   "source": [
    "Evaluation of performance on the test set"
   ]
  },
  {
   "cell_type": "code",
   "execution_count": 216,
   "metadata": {},
   "outputs": [
    {
     "data": {
      "text/plain": [
       "0.29506641366223907"
      ]
     },
     "execution_count": 216,
     "metadata": {},
     "output_type": "execute_result"
    }
   ],
   "source": [
    "\n",
    "#docs_test = X_test\n",
    "\n",
    "predicted = text_clf.predict(X_test.title_clean.values)\n",
    "\n",
    "np.mean(predicted == df_test)\n",
    "\n",
    "#print(\"predicted: \",predicted)\n",
    "\n",
    "#print(X_test.title_clean.values)\n"
   ]
  },
  {
   "cell_type": "code",
   "execution_count": 217,
   "metadata": {},
   "outputs": [
    {
     "data": {
      "text/plain": [
       "0.5683111954459203"
      ]
     },
     "execution_count": 217,
     "metadata": {},
     "output_type": "execute_result"
    }
   ],
   "source": [
    "from sklearn.linear_model import SGDClassifier\n",
    "\n",
    "text_clf = Pipeline([('vect', CountVectorizer()),\n",
    "                    ('tfidf', TfidfTransformer()),\n",
    "                    ('clf', SGDClassifier(loss='hinge', penalty='l2',\n",
    "                         alpha=1e-3, random_state=42,\n",
    "                         max_iter=5, tol=None)),\n",
    "                    ])               \n",
    "                    \n",
    "text_clf.fit(X_train.title_clean.values, df)     \n",
    "    \n",
    "    \n",
    "predicted = text_clf.predict(X_test.title_clean.values)\n",
    "np.mean(predicted == df_test)  \n",
    "#print(predicted)\n",
    "#print(X_train.title_clean.values)"
   ]
  },
  {
   "cell_type": "code",
   "execution_count": 226,
   "metadata": {},
   "outputs": [
    {
     "name": "stdout",
     "output_type": "stream",
     "text": [
      "                                   precision    recall  f1-score   support\n",
      "\n",
      "                   Beans and Peas       0.86      0.86      0.86         7\n",
      "                      Green Beans       0.00      0.00      0.00         3\n",
      "               Campbell's Kitchen       0.00      0.00      0.00         1\n",
      "                     Turkey Chili       1.00      0.62      0.77         8\n",
      "                           Veggie       0.00      0.00      0.00         2\n",
      "                           Olives       1.00      1.00      1.00         1\n",
      "                        Pan-Fried       0.43      0.15      0.22        20\n",
      "                           Drinks       0.60      0.92      0.73        13\n",
      "                   Vegetable Soup       0.50      0.75      0.60         4\n",
      "                   Beans and Peas       0.75      0.69      0.72        13\n",
      "                      Potato Soup       0.53      0.53      0.53        19\n",
      "         Acorn Squash Side Dishes       0.58      1.00      0.73        11\n",
      "         Acorn Squash Side Dishes       1.00      1.00      1.00         1\n",
      "                           Ground       0.00      0.00      0.00         2\n",
      "                   Beans and Peas       0.00      0.00      0.00         7\n",
      "                       Vegetables       0.00      0.00      0.00         2\n",
      "                            Stews       0.00      0.00      0.00         0\n",
      "                 Everyday Cooking       0.00      0.00      0.00         1\n",
      "                           Salmon       1.00      0.50      0.67         2\n",
      "                        Beef Soup       0.38      0.43      0.40         7\n",
      "                       Vegetables       0.47      0.75      0.58        12\n",
      "                     Pasta Sauces       0.39      0.46      0.42        46\n",
      "                          Broiled       0.67      0.40      0.50         5\n",
      "                 Everyday Cooking       1.00      0.39      0.56        23\n",
      "                          Mexican       0.72      0.65      0.68        20\n",
      "             Farfalle Pasta Salad       0.73      0.85      0.79        13\n",
      "                       Vegetables       0.00      0.00      0.00         1\n",
      "                             Fish       0.00      0.00      0.00         1\n",
      "                          Italian       0.00      0.00      0.00         2\n",
      "                 Brussels Sprouts       0.00      0.00      0.00         3\n",
      "                           Squash       0.00      0.00      0.00         0\n",
      "                     Pasta Sauces       0.00      0.00      0.00         1\n",
      "                   Pasta by Shape       0.33      0.67      0.44         3\n",
      "                   Shepherd's Pie       0.75      0.55      0.63        11\n",
      "                   Beans and Rice       0.00      0.00      0.00         2\n",
      "                            Beans       0.00      0.00      0.00         0\n",
      "                             Soup       0.64      0.70      0.67        20\n",
      "                      Sloppy Joes       0.00      0.00      0.00         1\n",
      "                Stuffed Mushrooms       0.00      0.00      0.00         1\n",
      "                          Mexican       1.00      0.50      0.67         2\n",
      "                     Shrimp Salad       0.00      0.00      0.00         1\n",
      "                           Shrimp       0.25      0.50      0.33         2\n",
      "                           Drinks       0.90      0.75      0.82        12\n",
      "                             Rice       1.00      0.67      0.80         6\n",
      "                         Zucchini       1.00      0.50      0.67         4\n",
      "                           Drinks       0.00      0.00      0.00         1\n",
      "               Tomato Pasta Salad       0.00      0.00      0.00         2\n",
      "                          Seafood       0.00      0.00      0.00         1\n",
      "                            Irish       0.70      1.00      0.82        21\n",
      "                      Tomato Soup       0.00      0.00      0.00         1\n",
      "                           Drinks       0.00      0.00      0.00         1\n",
      "                   Apple Desserts       1.00      0.50      0.67         2\n",
      "             Breakfast and Brunch       0.00      0.00      0.00         2\n",
      "                           Roasts       0.81      0.94      0.87        18\n",
      "                       Pork Chops       0.00      0.00      0.00         1\n",
      "                   Apple Desserts       1.00      0.38      0.55         8\n",
      "                            Baked       0.00      0.00      0.00         2\n",
      "                            Baked       0.50      0.50      0.50         4\n",
      "                       Vegetables       0.71      0.86      0.77        14\n",
      "                          Turkish       0.00      0.00      0.00         8\n",
      "                             Thai       1.00      1.00      1.00         1\n",
      "                          Chinese       0.00      0.00      0.00         1\n",
      "                  Wraps and Rolls       0.67      0.40      0.50         5\n",
      "                       Strawberry       0.00      0.00      0.00         0\n",
      "                            Asian       1.00      0.33      0.50         3\n",
      "           Vegetarian Pasta Salad       0.33      0.09      0.14        11\n",
      "                           Salmon       0.43      0.67      0.53        15\n",
      "                       Vegetables       0.50      0.33      0.40         3\n",
      "                   Reynolds&#174;       0.00      0.00      0.00         1\n",
      "                        Asparagus       1.00      0.33      0.50         3\n",
      "                            Baked       0.00      0.00      0.00         4\n",
      "                            Bacon       0.00      0.00      0.00         1\n",
      "                            Baked       1.00      0.25      0.40         4\n",
      "                        Asparagus       0.00      0.00      0.00         1\n",
      "                      Baked Beans       0.17      0.14      0.15         7\n",
      "                   Sweet Potatoes       0.50      1.00      0.67         4\n",
      "                           Indian       0.00      0.00      0.00         2\n",
      "                        Egg Rolls       0.75      0.75      0.75         4\n",
      "                   Beans and Peas       0.00      0.00      0.00         0\n",
      "                          Seafood       0.83      1.00      0.91         5\n",
      "                           Drinks       0.00      0.00      0.00         2\n",
      "                            Dixie       0.00      0.00      0.00         1\n",
      "                           Drinks       0.62      0.96      0.75        24\n",
      "                     Drop Cookies       1.00      1.00      1.00         1\n",
      "                      White Chili       0.75      1.00      0.86         6\n",
      "                        Egg Rolls       0.00      0.00      0.00         1\n",
      "                 Everyday Cooking       0.00      0.00      0.00         3\n",
      "                           Roasts       0.67      0.67      0.67         3\n",
      "                        Marinades       1.00      1.00      1.00         1\n",
      "                        Asparagus       0.80      0.80      0.80         5\n",
      "            Romaine Lettuce Salad       1.00      1.00      1.00         2\n",
      "                            Beans       1.00      0.50      0.67         2\n",
      "                       Beef Chili       0.50      1.00      0.67         1\n",
      "                       Vegetables       1.00      1.00      1.00         1\n",
      "        PHILADELPHIA Cream Cheese       0.00      0.00      0.00         1\n",
      "                       Appetizers       0.00      0.00      0.00         2\n",
      "                    Pork Meatloaf       1.00      1.00      1.00         1\n",
      "                            Bacon       0.00      0.00      0.00         1\n",
      "                           Roasts       0.00      0.00      0.00         1\n",
      "               Rotini Pasta Salad       0.60      1.00      0.75         3\n",
      "                          Risotto       0.50      0.33      0.40         3\n",
      "                       Appetizers       0.00      0.00      0.00         1\n",
      "                       Appetizers       0.00      0.00      0.00         0\n",
      "                      Green Beans       0.00      0.00      0.00         0\n",
      "                  Chicken Breasts       0.00      0.00      0.00         1\n",
      "                        Asparagus       0.00      0.00      0.00         2\n",
      "                          Carrots       0.00      0.00      0.00         1\n",
      "                 Vegetable Salads       0.42      0.89      0.58        57\n",
      "         Acorn Squash Side Dishes       0.58      0.78      0.67         9\n",
      "                   Baby Back Ribs       0.00      0.00      0.00         1\n",
      "                       Vegetables       1.00      1.00      1.00         2\n",
      "                         Broccoli       0.80      1.00      0.89         4\n",
      "               Roasted Vegetables       0.50      0.50      0.50         2\n",
      "                           Squash       0.44      0.50      0.47         8\n",
      "                           Salmon       1.00      0.33      0.50         3\n",
      "                          Italian       1.00      0.50      0.67         2\n",
      "                             Eggs       1.00      0.50      0.67         2\n",
      "                         Eggplant       0.55      0.48      0.51        56\n",
      "                             Fish       1.00      1.00      1.00         1\n",
      "                            Whole       0.00      0.00      0.00         0\n",
      "                   Quick and Easy       0.59      1.00      0.74        10\n",
      "                       Casseroles       0.00      0.00      0.00         6\n",
      "                       Crab Cakes       0.00      0.00      0.00         1\n",
      "                          Italian       0.00      0.00      0.00         0\n",
      "                            Asian       1.00      1.00      1.00         1\n",
      "                          Tilapia       0.60      0.60      0.60         5\n",
      "                          Carrots       0.00      0.00      0.00         1\n",
      "                         Zucchini       1.00      1.00      1.00         4\n",
      "                       Ragu&#174;       0.25      1.00      0.40         1\n",
      "                 Brussels Sprouts       1.00      1.00      1.00         1\n",
      "                          Carrots       0.00      0.00      0.00         1\n",
      "                       Tuna Salad       0.00      0.00      0.00         1\n",
      "                     Truvia&#174;       0.00      0.00      0.00         0\n",
      "                  Banana Desserts       0.00      0.00      0.00         1\n",
      "                           Banana       0.00      0.00      0.00         1\n",
      "                           Indian       1.00      1.00      1.00         1\n",
      "                       Silk&#174;       0.40      0.29      0.33         7\n",
      "                           Banana       0.50      1.00      0.67         1\n",
      "                           Drinks       0.38      1.00      0.55         3\n",
      " Trusted Brands: Recipes and Tips       1.00      0.50      0.67         4\n",
      "                           Orange       1.00      0.50      0.67         2\n",
      "                  Wraps and Rolls       0.00      0.00      0.00         2\n",
      "                       Tuna Salad       0.52      0.93      0.67        14\n",
      "                   Barilla Canada       1.00      1.00      1.00         2\n",
      "                      Barley Soup       0.00      0.00      0.00         2\n",
      "                   Beans and Peas       0.33      0.50      0.40         2\n",
      "    Sausage Stuffing and Dressing       0.60      0.80      0.69        41\n",
      "                   Sweet Potatoes       0.50      0.50      0.50         2\n",
      "              Meatball Appetizers       1.00      0.14      0.25         7\n",
      "                         Tomatoes       0.00      0.00      0.00         1\n",
      "                       Appetizers       0.83      0.69      0.75        29\n",
      "                         Beef Pie       0.00      0.00      0.00         6\n",
      "                             Pork       0.50      0.86      0.63         7\n",
      "                   Dry Soup Mixes       0.00      0.00      0.00         0\n",
      "                            Salad       0.00      0.00      0.00         1\n",
      "                      Squash Soup       0.00      0.00      0.00         1\n",
      "                   Beans and Peas       0.00      0.00      0.00         4\n",
      "                   Beans and Peas       0.00      0.00      0.00         0\n",
      "                           Hummus       1.00      1.00      1.00         1\n",
      "                          Mexican       0.56      1.00      0.72        18\n",
      "                            Irish       0.00      0.00      0.00         1\n",
      "                      Baked Beans       0.00      0.00      0.00         1\n",
      "                            Vegan       1.00      0.31      0.48        16\n",
      "                             Beef       0.50      0.75      0.60         4\n",
      "             Stuffed Bell Peppers       0.67      0.62      0.64       104\n",
      "                          Noodles       0.00      0.00      0.00         3\n",
      "                          Mexican       0.67      1.00      0.80         2\n",
      "                      Barley Soup       1.00      1.00      1.00         2\n",
      "                   Pasta by Shape       0.00      0.00      0.00         0\n",
      "                        Main Dish       0.00      0.00      0.00         2\n",
      "                    Beef Meatloaf       0.00      0.00      0.00         2\n",
      "                           Roasts       0.00      0.00      0.00         4\n",
      "                        Vegetable       0.00      0.00      0.00         3\n",
      "                             Beef       0.50      0.33      0.40         3\n",
      "                          Mexican       1.00      0.33      0.50         3\n",
      "                 Everyday Cooking       0.56      1.00      0.71         5\n",
      "                          Noodles       0.64      0.78      0.70        18\n",
      "                          English       0.00      0.00      0.00         2\n",
      "                             Beef       0.67      1.00      0.80         2\n",
      "                          Italian       1.00      1.00      1.00         1\n",
      "                   Vegetable Soup       1.00      1.00      1.00         1\n",
      "                          Cabbage       0.62      0.45      0.53        11\n",
      "                           Roasts       0.00      0.00      0.00         2\n",
      "                   Beans and Peas       0.00      0.00      0.00         1\n",
      "                    Rib-Eye Steak       0.67      1.00      0.80         2\n",
      "       Cans Get You Cooking&#174;       0.00      0.00      0.00         1\n",
      "                           Greens       0.00      0.00      0.00         2\n",
      "                         Tomatoes       0.00      0.00      0.00         2\n",
      "                       Vegetables       0.00      0.00      0.00         1\n",
      "                       Vegetables       1.00      0.60      0.75         5\n",
      "                       Vegetables       0.38      1.00      0.55         3\n",
      "                       Vegetables       0.00      0.00      0.00         1\n",
      "                       Strawberry       0.00      0.00      0.00         1\n",
      "                       Strawberry       0.00      0.00      0.00         0\n",
      "                 Everyday Cooking       0.51      0.55      0.53        47\n",
      "                       Hamburgers       0.67      1.00      0.80         2\n",
      "                     Drop Cookies       0.00      0.00      0.00         1\n",
      "                       Beef Chili       0.50      0.33      0.40         3\n",
      "                       Crab Cakes       0.00      0.00      0.00         1\n",
      "                   Beans and Peas       0.00      0.00      0.00         1\n",
      "                           Veggie       0.00      0.00      0.00         1\n",
      "                      Green Beans       0.00      0.00      0.00         1\n",
      "                     Turkey Chili       0.83      0.71      0.77         7\n",
      "                     Drop Cookies       0.50      0.33      0.40         3\n",
      "                    Beef Meatloaf       0.56      0.45      0.50        11\n",
      "                          Italian       0.55      0.38      0.44        16\n",
      "                             Beef       1.00      0.60      0.75         5\n",
      "                           Hummus       1.00      0.50      0.67         4\n",
      "                          Mexican       1.00      1.00      1.00         3\n",
      "                       Corn Salad       0.00      0.00      0.00         2\n",
      "                   Beans and Rice       0.00      0.00      0.00         1\n",
      "                Old El Paso&#174;       0.48      0.53      0.50        19\n",
      "                       Rice Salad       0.00      0.00      0.00         1\n",
      "                       Casseroles       0.67      0.17      0.27        12\n",
      "                          Mexican       0.00      0.00      0.00         2\n",
      "                          Mexican       0.57      0.80      0.67         5\n",
      "                  Black Bean Soup       0.00      0.00      0.00         1\n",
      "                           Veggie       0.00      0.00      0.00         1\n",
      "                 Vegetable Salads       0.00      0.00      0.00         0\n",
      "                       Goya&#174;       1.00      0.33      0.50         3\n",
      "                  Black Bean Soup       0.73      0.80      0.76        10\n",
      "                  Black Bean Soup       0.57      0.63      0.60        49\n",
      "                           Ground       0.00      0.00      0.00         1\n",
      "                   Vegetable Soup       1.00      1.00      1.00         1\n",
      "                         Meatloaf       0.67      1.00      0.80         6\n",
      "                   Beans and Peas       1.00      1.00      1.00         2\n",
      "                   Beans and Peas       0.00      0.00      0.00         0\n",
      "                         Chowders       0.50      1.00      0.67         1\n",
      "                   Beans and Peas       0.00      0.00      0.00         1\n",
      "                            Vegan       0.00      0.00      0.00         1\n",
      "       Nestle&#174; Beneful&#174;       0.83      0.71      0.77        14\n",
      "                          Tilapia       0.71      0.56      0.63         9\n",
      "                             Tuna       0.94      0.61      0.74        28\n",
      "                           Brawny       1.00      1.00      1.00         2\n",
      "                Stuffed Mushrooms       1.00      1.00      1.00         2\n",
      "                         Potatoes       0.00      0.00      0.00         0\n",
      "                          Cereals       0.40      1.00      0.57         2\n",
      "                           Drinks       0.00      0.00      0.00         1\n",
      "                          Italian       0.80      1.00      0.89         4\n",
      "                       Vegetables       1.00      0.25      0.40         8\n",
      "                          Italian       0.00      0.00      0.00         1\n",
      "                            Spicy       0.00      0.00      0.00         1\n",
      "                    Rib-Eye Steak       0.00      0.00      0.00         1\n",
      "                  McCormick&#174;       0.00      0.00      0.00         1\n",
      "                      Baked Beans       0.00      0.00      0.00         1\n",
      "                 Everyday Cooking       0.00      0.00      0.00         1\n",
      "                   Pasta by Shape       0.00      0.00      0.00         1\n",
      "                             Ribs       0.00      0.00      0.00         2\n",
      "                   Beans and Peas       0.00      0.00      0.00         0\n",
      "                          Cabbage       1.00      0.33      0.50         3\n",
      "                   Chicken Thighs       0.00      0.00      0.00         1\n",
      "                           Greens       0.00      0.00      0.00         1\n",
      "                       Vegetables       0.00      0.00      0.00         5\n",
      "                           Greens       0.00      0.00      0.00         2\n",
      "                   Sweet Potatoes       1.00      0.25      0.40         4\n",
      "                           Shrimp       0.25      0.29      0.27         7\n",
      "                           Greens       1.00      0.25      0.40         4\n",
      "                           Greens       0.00      0.00      0.00         1\n",
      "                      Wheat Bread       1.00      0.67      0.80         3\n",
      "                 Brussels Sprouts       0.40      0.29      0.33        14\n",
      "                             Eggs       0.53      0.95      0.68        39\n",
      "                         Frittata       0.75      0.50      0.60         6\n",
      "                         Potatoes       1.00      0.33      0.50         3\n",
      "                          Italian       0.50      1.00      0.67         1\n",
      "                     Pasta Sauces       0.00      0.00      0.00         1\n",
      "                         Broccoli       0.50      0.83      0.62         6\n",
      "                         Broccoli       0.57      1.00      0.72        17\n",
      "                         Broccoli       0.00      0.00      0.00         1\n",
      "                   Broccoli Salad       0.00      0.00      0.00         3\n",
      "                         Broccoli       0.00      0.00      0.00         0\n",
      "                            Onion       0.00      0.00      0.00         1\n",
      "                         Broccoli       0.00      0.00      0.00         0\n",
      "                       Vegetables       1.00      1.00      1.00         3\n",
      "                         Broccoli       0.67      1.00      0.80         2\n",
      "                            Baked       0.00      0.00      0.00         0\n",
      "                           Shrimp       1.00      1.00      1.00         2\n",
      "                       Pork Chops       1.00      0.60      0.75         5\n",
      "                         Zucchini       0.50      0.50      0.50         2\n",
      "                          Tilapia       0.00      0.00      0.00         0\n",
      "                 Meat and Poultry       0.80      0.36      0.50        11\n",
      "                         Broccoli       0.00      0.00      0.00         1\n",
      "               Bush's Baked Beans       0.00      0.00      0.00         1\n",
      "                        Fruit Dip       0.60      1.00      0.75         3\n",
      "               Chocolate Brownies       0.56      0.85      0.68        27\n",
      "                   Brunswick Stew       1.00      1.00      1.00         2\n",
      "                 Brussels Sprouts       0.62      0.33      0.43        15\n",
      "                 Brussels Sprouts       0.00      0.00      0.00         1\n",
      "               Roasted Vegetables       1.00      1.00      1.00         1\n",
      "                 Brussels Sprouts       0.00      0.00      0.00         3\n",
      "                 Brussels Sprouts       0.50      1.00      0.67         3\n",
      "                 Brussels Sprouts       0.00      0.00      0.00         8\n",
      "                 Brussels Sprouts       0.00      0.00      0.00         2\n",
      "                        Vegetable       0.00      0.00      0.00         2\n",
      "                  No-Bake Cookies       0.29      0.15      0.20        13\n",
      "                           Korean       0.00      0.00      0.00         1\n",
      "                           Hummus       1.00      0.50      0.67         2\n",
      "                           Indian       1.00      0.50      0.67         2\n",
      "                           Greens       0.67      1.00      0.80         4\n",
      "                         Pretzels       0.50      0.50      0.50         2\n",
      "                     Cabbage Soup       0.75      0.21      0.33        14\n",
      "                          Cabbage       0.00      0.00      0.00         1\n",
      "                  Stuffed Cabbage       1.00      1.00      1.00         2\n",
      "                 Everyday Cooking       0.67      0.67      0.67         3\n",
      "                            Spicy       0.00      0.00      0.00         4\n",
      "                             Rice       0.25      1.00      0.40         1\n",
      "                          Seafood       0.50      0.86      0.63        14\n",
      "                   Vegetable Soup       0.00      0.00      0.00         0\n",
      "                          Seafood       1.00      0.33      0.50         3\n",
      "                         Boneless       0.29      0.67      0.40         3\n",
      "                           Shrimp       0.27      0.57      0.36         7\n",
      "                      Vanity Fair       1.00      1.00      1.00         1\n",
      "                   Reynolds&#174;       0.00      0.00      0.00        13\n",
      "                       Hamburgers       0.00      0.00      0.00         1\n",
      "                    Beef Meatloaf       0.50      0.83      0.62         6\n",
      "                         Zucchini       0.00      0.00      0.00         1\n",
      "                          No Mayo       0.00      0.00      0.00         2\n",
      "                       Strawberry       0.80      1.00      0.89         4\n",
      "                          Italian       0.00      0.00      0.00         2\n",
      "               Campbell's Kitchen       0.33      1.00      0.50         4\n",
      "               Campbell's Kitchen       0.67      0.50      0.57         4\n",
      "               Campbell's Kitchen       0.00      0.00      0.00         2\n",
      "                            Onion       0.00      0.00      0.00         1\n",
      "                             Corn       0.00      0.00      0.00         3\n",
      " Sweet Potatoes With Marshmallows       0.58      0.89      0.70        37\n",
      "                       Pork Chops       0.00      0.00      0.00         3\n",
      "                        Smoothies       0.00      0.00      0.00         1\n",
      "                       Vegetables       0.00      0.00      0.00         1\n",
      "    So Delicious&#174; Dairy Free       0.60      0.43      0.50         7\n",
      "                   Vegetable Soup       0.00      0.00      0.00         5\n",
      "                           Shrimp       0.67      0.67      0.67         3\n",
      "                 Vegetable Salads       0.80      0.67      0.73         6\n",
      "                   Beans and Peas       1.00      1.00      1.00         1\n",
      "                  Green Pea Salad       0.75      0.75      0.75         8\n",
      "                          Mexican       0.00      0.00      0.00         1\n",
      "                       Beef Chili       0.54      0.88      0.67         8\n",
      "                   Sweet Potatoes       0.75      1.00      0.86         3\n",
      "                       Sheet Cake       0.50      0.33      0.40         3\n",
      "                          Carrots       1.00      0.50      0.67         2\n",
      "                          Carrots       0.70      0.37      0.48        38\n",
      "                          Carrots       0.00      0.00      0.00         1\n",
      "                          Turkish       0.33      1.00      0.50         3\n",
      "                       Pork Chili       0.00      0.00      0.00         1\n",
      "                   Sweet Potatoes       0.00      0.00      0.00         2\n",
      "                       Vegetables       0.62      0.89      0.73         9\n",
      "                       Vegetables       0.88      1.00      0.93         7\n",
      "               Roasted Vegetables       1.00      1.00      1.00         1\n",
      "                       Vegetables       0.75      0.60      0.67         5\n",
      "                            Spicy       0.00      0.00      0.00         2\n",
      "                   Lemon Desserts       0.00      0.00      0.00         1\n",
      "                           Shrimp       0.00      0.00      0.00         1\n",
      "                           Indian       0.00      0.00      0.00         1\n",
      "                           Indian       0.00      0.00      0.00         1\n",
      "                            Bacon       0.00      0.00      0.00         3\n",
      "                          Mexican       0.00      0.00      0.00         8\n",
      "                     Lentil Salad       0.60      0.60      0.60         5\n",
      "                    Swanson&#174;       0.25      0.09      0.13        11\n",
      "                             Corn       0.52      0.46      0.49        28\n",
      "                       Casseroles       0.46      0.80      0.59        69\n",
      "         Acorn Squash Side Dishes       0.50      0.33      0.40         3\n",
      "                         Chowders       0.50      0.25      0.33         8\n",
      "                 Stuffed Meatloaf       0.00      0.00      0.00         1\n",
      "                           Salmon       0.14      0.07      0.09        15\n",
      "               Scalloped Potatoes       1.00      1.00      1.00         1\n",
      "         Acorn Squash Side Dishes       0.00      0.00      0.00         1\n",
      "                          Cabbage       1.00      1.00      1.00         1\n",
      "                  Beef Stroganoff       0.00      0.00      0.00         1\n",
      "                            Irish       0.00      0.00      0.00         0\n",
      "                 Everyday Cooking       0.00      0.00      0.00         1\n",
      "                       Fish Cakes       0.58      0.88      0.70         8\n",
      "                       Minestrone       0.50      1.00      0.67         4\n",
      "                          Italian       0.00      0.00      0.00         1\n",
      "                          Seafood       1.00      1.00      1.00         1\n",
      "                    Summer Squash       1.00      0.50      0.67         2\n",
      "                   Sweet Potatoes       0.80      0.67      0.73         6\n",
      "                         Tomatoes       1.00      1.00      1.00         1\n",
      "                           Greens       0.00      0.00      0.00         0\n",
      "                           Drinks       0.53      0.68      0.59        28\n",
      "                         Brownies       0.00      0.00      0.00         1\n",
      "\n",
      "                      avg / total       0.55      0.57      0.53      2108\n",
      "\n"
     ]
    },
    {
     "name": "stderr",
     "output_type": "stream",
     "text": [
      "/usr/local/Cellar/python3/3.6.4_2/Frameworks/Python.framework/Versions/3.6/lib/python3.6/site-packages/sklearn/metrics/classification.py:1428: UserWarning: labels size, 378, does not match size of target_names, 2108\n",
      "  .format(len(labels), len(target_names))\n",
      "/usr/local/Cellar/python3/3.6.4_2/Frameworks/Python.framework/Versions/3.6/lib/python3.6/site-packages/sklearn/metrics/classification.py:1135: UndefinedMetricWarning: Precision and F-score are ill-defined and being set to 0.0 in labels with no predicted samples.\n",
      "  'precision', 'predicted', average, warn_for)\n",
      "/usr/local/Cellar/python3/3.6.4_2/Frameworks/Python.framework/Versions/3.6/lib/python3.6/site-packages/sklearn/metrics/classification.py:1137: UndefinedMetricWarning: Recall and F-score are ill-defined and being set to 0.0 in labels with no true samples.\n",
      "  'recall', 'true', average, warn_for)\n"
     ]
    },
    {
     "data": {
      "text/plain": [
       "array([[ 6,  0,  0, ...,  0,  0,  0],\n",
       "       [ 0,  0,  0, ...,  0,  0,  0],\n",
       "       [ 0,  0,  0, ...,  0,  0,  0],\n",
       "       ...,\n",
       "       [ 0,  0,  0, ...,  0,  0,  0],\n",
       "       [ 0,  0,  0, ...,  0, 19,  0],\n",
       "       [ 0,  0,  0, ...,  0,  1,  0]])"
      ]
     },
     "execution_count": 226,
     "metadata": {},
     "output_type": "execute_result"
    }
   ],
   "source": [
    "from sklearn import metrics\n",
    "\n",
    "print(metrics.classification_report(df_test, predicted,\n",
    "                                    target_names = df_test))\n",
    "\n",
    "\n",
    "metrics.confusion_matrix(df_test, predicted)\n"
   ]
  },
  {
   "cell_type": "markdown",
   "metadata": {},
   "source": [
    "#### Parameter tuning using grid search\n",
    "\n",
    "We try out all classifiers on either words or bigrams, with or without idf, and with a penalty parameter of either 0.01 or 0.001 for the linear SVM:"
   ]
  },
  {
   "cell_type": "code",
   "execution_count": 257,
   "metadata": {},
   "outputs": [
    {
     "name": "stderr",
     "output_type": "stream",
     "text": [
      "/usr/local/Cellar/python3/3.6.4_2/Frameworks/Python.framework/Versions/3.6/lib/python3.6/site-packages/sklearn/model_selection/_split.py:605: Warning: The least populated class in y has only 1 members, which is too few. The minimum number of members in any class cannot be less than n_splits=3.\n",
      "  % (min_groups, self.n_splits)), Warning)\n"
     ]
    },
    {
     "data": {
      "text/plain": [
       "Everyday Cooking    NaN\n",
       "Name: title_clean, dtype: object"
      ]
     },
     "execution_count": 257,
     "metadata": {},
     "output_type": "execute_result"
    }
   ],
   "source": [
    "from sklearn.model_selection import GridSearchCV\n",
    "\n",
    "parameters = {'vect__ngram_range': [(1, 1), (1, 2)],\n",
    "              'tfidf__use_idf': (True, False),\n",
    "              'clf__alpha': (1e-2, 1e-3),\n",
    "             }\n",
    "   \n",
    "gs_clf = GridSearchCV(text_clf, parameters, n_jobs=-1)\n",
    "\n",
    "gs_clf = gs_clf.fit(X_train.title_clean, df)\n",
    "   \n",
    "    "
   ]
  },
  {
   "cell_type": "code",
   "execution_count": 258,
   "metadata": {},
   "outputs": [
    {
     "data": {
      "text/plain": [
       "Everyday Cooking    NaN\n",
       "Name: title_clean, dtype: object"
      ]
     },
     "execution_count": 258,
     "metadata": {},
     "output_type": "execute_result"
    }
   ],
   "source": [
    "X_train.title_clean[gs_clf.predict(['Simple Whole Roasted Chicken'])]\n"
   ]
  },
  {
   "cell_type": "code",
   "execution_count": 259,
   "metadata": {},
   "outputs": [
    {
     "data": {
      "text/plain": [
       "Zucchini    NaN\n",
       "Name: title_clean, dtype: object"
      ]
     },
     "execution_count": 259,
     "metadata": {},
     "output_type": "execute_result"
    }
   ],
   "source": [
    "X_train.title_clean[gs_clf.predict(['Steamed Asian Sesame Veggies'])]"
   ]
  },
  {
   "cell_type": "code",
   "execution_count": 249,
   "metadata": {},
   "outputs": [
    {
     "data": {
      "text/plain": [
       "0.5776618449134456"
      ]
     },
     "execution_count": 249,
     "metadata": {},
     "output_type": "execute_result"
    }
   ],
   "source": [
    "gs_clf.best_score_ "
   ]
  },
  {
   "cell_type": "code",
   "execution_count": null,
   "metadata": {
    "collapsed": true
   },
   "outputs": [],
   "source": []
  },
  {
   "cell_type": "code",
   "execution_count": 250,
   "metadata": {},
   "outputs": [
    {
     "name": "stdout",
     "output_type": "stream",
     "text": [
      "clf__alpha: 0.001\n",
      "tfidf__use_idf: True\n",
      "vect__ngram_range: (1, 2)\n"
     ]
    }
   ],
   "source": [
    "\n",
    "for param_name in sorted(parameters.keys()):\n",
    "    print(\"%s: %r\" % (param_name, gs_clf.best_params_[param_name]))\n",
    "\n"
   ]
  },
  {
   "cell_type": "code",
   "execution_count": 255,
   "metadata": {},
   "outputs": [
    {
     "name": "stdout",
     "output_type": "stream",
     "text": [
      "{'mean_fit_time': array([0.89816801, 1.10368967, 0.89422663, 1.09070706, 0.89634744,\n",
      "       1.08855573, 0.92030064, 1.0833168 ]), 'std_fit_time': array([0.13996422, 0.16872076, 0.1419875 , 0.15098039, 0.12979234,\n",
      "       0.16017012, 0.13085468, 0.15235864]), 'mean_score_time': array([0.05116359, 0.10547702, 0.0456334 , 0.09357421, 0.04642725,\n",
      "       0.09079766, 0.04366414, 0.0839227 ]), 'std_score_time': array([0.00193152, 0.00279984, 0.00270681, 0.00211805, 0.00310016,\n",
      "       0.00696772, 0.00094595, 0.00169728]), 'param_clf__alpha': masked_array(data=[0.01, 0.01, 0.01, 0.01, 0.001, 0.001, 0.001, 0.001],\n",
      "             mask=[False, False, False, False, False, False, False, False],\n",
      "       fill_value='?',\n",
      "            dtype=object), 'param_tfidf__use_idf': masked_array(data=[True, True, False, False, True, True, False, False],\n",
      "             mask=[False, False, False, False, False, False, False, False],\n",
      "       fill_value='?',\n",
      "            dtype=object), 'param_vect__ngram_range': masked_array(data=[(1, 1), (1, 2), (1, 1), (1, 2), (1, 1), (1, 2), (1, 1),\n",
      "                   (1, 2)],\n",
      "             mask=[False, False, False, False, False, False, False, False],\n",
      "       fill_value='?',\n",
      "            dtype=object), 'params': [{'clf__alpha': 0.01, 'tfidf__use_idf': True, 'vect__ngram_range': (1, 1)}, {'clf__alpha': 0.01, 'tfidf__use_idf': True, 'vect__ngram_range': (1, 2)}, {'clf__alpha': 0.01, 'tfidf__use_idf': False, 'vect__ngram_range': (1, 1)}, {'clf__alpha': 0.01, 'tfidf__use_idf': False, 'vect__ngram_range': (1, 2)}, {'clf__alpha': 0.001, 'tfidf__use_idf': True, 'vect__ngram_range': (1, 1)}, {'clf__alpha': 0.001, 'tfidf__use_idf': True, 'vect__ngram_range': (1, 2)}, {'clf__alpha': 0.001, 'tfidf__use_idf': False, 'vect__ngram_range': (1, 1)}, {'clf__alpha': 0.001, 'tfidf__use_idf': False, 'vect__ngram_range': (1, 2)}], 'split0_test_score': array([0.52865613, 0.55401845, 0.51284585, 0.54743083, 0.53227931,\n",
      "       0.55500659, 0.52239789, 0.55072464]), 'split1_test_score': array([0.53909613, 0.56994261, 0.52905308, 0.56635581, 0.53909613,\n",
      "       0.57245337, 0.53694405, 0.56850789]), 'split2_test_score': array([0.57701149, 0.60536398, 0.57662835, 0.60536398, 0.58122605,\n",
      "       0.60957854, 0.57279693, 0.60498084]), 'mean_test_score': array([0.54707138, 0.57517192, 0.53794166, 0.57161489, 0.54967987,\n",
      "       0.57766184, 0.54280294, 0.57339341]), 'std_test_score': array([0.0205062 , 0.02126521, 0.02675791, 0.02391979, 0.02130692,\n",
      "       0.02256032, 0.02096738, 0.02239732]), 'rank_test_score': array([6, 2, 8, 4, 5, 1, 7, 3], dtype=int32), 'split0_train_score': array([0.8316043 , 0.91774731, 0.79288625, 0.87995554, 0.83327158,\n",
      "       0.91922934, 0.80381623, 0.87977029]), 'split1_train_score': array([0.82536309, 0.91161885, 0.79649309, 0.87761247, 0.83705278,\n",
      "       0.91356713, 0.8072972 , 0.87991498]), 'split2_train_score': array([0.82760989, 0.91260302, 0.79550137, 0.8803228 , 0.82932692,\n",
      "       0.91500687, 0.80425824, 0.88118132]), 'mean_train_score': array([0.82819243, 0.91398973, 0.79496024, 0.87929694, 0.8332171 ,\n",
      "       0.91593445, 0.80512389, 0.88028886]), 'std_train_score': array([0.00258104, 0.00268722, 0.00152139, 0.0012005 , 0.0031543 ,\n",
      "       0.00240284, 0.00154732, 0.00063382])}\n"
     ]
    }
   ],
   "source": [
    "df_results = gs_clf.cv_results_\n",
    "print(df_results)"
   ]
  },
  {
   "cell_type": "code",
   "execution_count": 263,
   "metadata": {},
   "outputs": [
    {
     "data": {
      "text/plain": [
       "['30',\n",
       " 'aaron',\n",
       " 'abby',\n",
       " 'absolutely',\n",
       " 'acai',\n",
       " 'acorn',\n",
       " 'adas',\n",
       " 'adobo',\n",
       " 'adovada',\n",
       " 'afghan',\n",
       " 'african',\n",
       " 'agneau',\n",
       " 'agua',\n",
       " 'ahead',\n",
       " 'ahi',\n",
       " 'aimee',\n",
       " 'aka',\n",
       " 'al',\n",
       " 'ala',\n",
       " 'alabama',\n",
       " 'alarm',\n",
       " 'alaska',\n",
       " 'alaskan',\n",
       " 'albondigas',\n",
       " 'alfredo',\n",
       " 'ali',\n",
       " 'alice',\n",
       " 'alla',\n",
       " 'allana',\n",
       " 'allie',\n",
       " 'allison',\n",
       " 'almond',\n",
       " 'almondine',\n",
       " 'almonds',\n",
       " 'aloo',\n",
       " 'alternative',\n",
       " 'alysia',\n",
       " 'alyson',\n",
       " 'amatriciana',\n",
       " 'amazing',\n",
       " 'amelia',\n",
       " 'american',\n",
       " 'amish',\n",
       " 'amy',\n",
       " 'andie',\n",
       " 'andouille',\n",
       " 'andy',\n",
       " 'angel',\n",
       " 'angela',\n",
       " 'animal',\n",
       " 'ann',\n",
       " 'anna',\n",
       " 'anne',\n",
       " 'antilles',\n",
       " 'antipasto',\n",
       " 'appetizer',\n",
       " 'appetizers',\n",
       " 'apple',\n",
       " 'apples',\n",
       " 'applesauce',\n",
       " 'apricot',\n",
       " 'apricots',\n",
       " 'aren',\n",
       " 'arepas',\n",
       " 'argentine',\n",
       " 'arizona',\n",
       " 'armenian',\n",
       " 'arrabiata',\n",
       " 'arti',\n",
       " 'artichoke',\n",
       " 'artichokes',\n",
       " 'arugula',\n",
       " 'asada',\n",
       " 'ashley',\n",
       " 'asiago',\n",
       " 'asian',\n",
       " 'asparagus',\n",
       " 'aspic',\n",
       " 'attack',\n",
       " 'atu',\n",
       " 'au',\n",
       " 'aunt',\n",
       " 'aunty',\n",
       " 'aussie',\n",
       " 'authentic',\n",
       " 'autumn',\n",
       " 'avocado',\n",
       " 'award',\n",
       " 'awesome',\n",
       " 'baby',\n",
       " 'bacon',\n",
       " 'bada',\n",
       " 'bagel',\n",
       " 'bahama',\n",
       " 'baja',\n",
       " 'bake',\n",
       " 'baked',\n",
       " 'balela',\n",
       " 'ball',\n",
       " 'balls',\n",
       " 'balsamic',\n",
       " 'banana',\n",
       " 'bandito',\n",
       " 'bangers',\n",
       " 'bar',\n",
       " 'barb',\n",
       " 'barbecue',\n",
       " 'barbecued',\n",
       " 'barbecues',\n",
       " 'barbeque',\n",
       " 'barbequed',\n",
       " 'barilla',\n",
       " 'barley',\n",
       " 'bars',\n",
       " 'basic',\n",
       " 'basil',\n",
       " 'bass',\n",
       " 'bats',\n",
       " 'batter',\n",
       " 'bay',\n",
       " 'bbq',\n",
       " 'bean',\n",
       " 'beans',\n",
       " 'bear',\n",
       " 'bed',\n",
       " 'beef',\n",
       " 'beefaroni',\n",
       " 'beefy',\n",
       " 'beer',\n",
       " 'beet',\n",
       " 'beetroot',\n",
       " 'beets',\n",
       " 'belgian',\n",
       " 'bell',\n",
       " 'belle',\n",
       " 'benedict',\n",
       " 'bermuda',\n",
       " 'berries',\n",
       " 'berry',\n",
       " 'best',\n",
       " 'beth',\n",
       " 'better',\n",
       " 'bhaji',\n",
       " 'bhindi',\n",
       " 'bierocks',\n",
       " 'big',\n",
       " 'bing',\n",
       " 'bird',\n",
       " 'biscotti',\n",
       " 'biscuit',\n",
       " 'biscuits',\n",
       " 'bison',\n",
       " 'bisque',\n",
       " 'bites',\n",
       " 'black',\n",
       " 'blackberry',\n",
       " 'blackened',\n",
       " 'blanco',\n",
       " 'blanket',\n",
       " 'blast',\n",
       " 'blend',\n",
       " 'bleu',\n",
       " 'bliss',\n",
       " 'blissful',\n",
       " 'blistered',\n",
       " 'blonde',\n",
       " 'bloody',\n",
       " 'blossom',\n",
       " 'blossoms',\n",
       " 'blt',\n",
       " 'blue',\n",
       " 'blueberry',\n",
       " 'boats',\n",
       " 'bob',\n",
       " 'bodacious',\n",
       " 'boiled',\n",
       " 'bok',\n",
       " 'bolognese',\n",
       " 'bonanza',\n",
       " 'bone',\n",
       " 'boneless',\n",
       " 'bones',\n",
       " 'bool',\n",
       " 'booster',\n",
       " 'borracho',\n",
       " 'boston',\n",
       " 'bourbon',\n",
       " 'bourguignon',\n",
       " 'boursin',\n",
       " 'bow',\n",
       " 'bowl',\n",
       " 'bowls',\n",
       " 'bowtie',\n",
       " 'bowties',\n",
       " 'box',\n",
       " 'boys',\n",
       " 'braid',\n",
       " 'braised',\n",
       " 'brandied',\n",
       " 'brandy',\n",
       " 'brats',\n",
       " 'bratwurst',\n",
       " 'brazilian',\n",
       " 'bread',\n",
       " 'breaded',\n",
       " 'breakfast',\n",
       " 'breast',\n",
       " 'breasts',\n",
       " 'breeze',\n",
       " 'breezy',\n",
       " 'brenda',\n",
       " 'brian',\n",
       " 'brie',\n",
       " 'brine',\n",
       " 'brined',\n",
       " 'brinjal',\n",
       " 'brisket',\n",
       " 'broccoli',\n",
       " 'broccolini',\n",
       " 'broil',\n",
       " 'broiled',\n",
       " 'brooklyn',\n",
       " 'brown',\n",
       " 'browned',\n",
       " 'brownie',\n",
       " 'brownies',\n",
       " 'browns',\n",
       " 'brunch',\n",
       " 'brunswick',\n",
       " 'bruschetta',\n",
       " 'brussels',\n",
       " 'bubba',\n",
       " 'bubble',\n",
       " 'bucatini',\n",
       " 'buckwheat',\n",
       " 'buddha',\n",
       " 'buffalo',\n",
       " 'buffet',\n",
       " 'bulgogi',\n",
       " 'bulgur',\n",
       " 'bull',\n",
       " 'bundles',\n",
       " 'burger',\n",
       " 'burgers',\n",
       " 'burgundy',\n",
       " 'burner',\n",
       " 'burrito',\n",
       " 'burritos',\n",
       " 'busy',\n",
       " 'butt',\n",
       " 'butter',\n",
       " 'buttered',\n",
       " 'buttermilk',\n",
       " 'butternut',\n",
       " 'buttery',\n",
       " 'cabbage',\n",
       " 'cacciatore',\n",
       " 'cacio',\n",
       " 'cactus',\n",
       " 'caesar',\n",
       " 'cajun',\n",
       " 'cake',\n",
       " 'cakes',\n",
       " 'cal',\n",
       " 'calabacitas',\n",
       " 'calamari',\n",
       " 'caldo',\n",
       " 'calico',\n",
       " 'california',\n",
       " 'camarones',\n",
       " 'camp',\n",
       " 'campbell',\n",
       " 'campfire',\n",
       " 'canadian',\n",
       " 'candied',\n",
       " 'candy',\n",
       " 'cannellini',\n",
       " 'cannelloni',\n",
       " 'cantaloupe',\n",
       " 'cantonese',\n",
       " 'capers',\n",
       " 'caprese',\n",
       " 'cara',\n",
       " 'caramel',\n",
       " 'caramelized',\n",
       " 'caraway',\n",
       " 'carb',\n",
       " 'carbonara',\n",
       " 'cardamom',\n",
       " 'caribbean',\n",
       " 'carmel',\n",
       " 'carne',\n",
       " 'carnitas',\n",
       " 'carol',\n",
       " 'carolina',\n",
       " 'carrie',\n",
       " 'carrot',\n",
       " 'carrots',\n",
       " 'cashew',\n",
       " 'cashews',\n",
       " 'casserole',\n",
       " 'cassoulet',\n",
       " 'catfish',\n",
       " 'catherine',\n",
       " 'cauliflower',\n",
       " 'cavatelli',\n",
       " 'caviar',\n",
       " 'cedar',\n",
       " 'celery',\n",
       " 'center',\n",
       " 'ceviche',\n",
       " 'chalupas',\n",
       " 'champagne',\n",
       " 'chana',\n",
       " 'chap',\n",
       " 'chard',\n",
       " 'charleston',\n",
       " 'charlie',\n",
       " 'charlotte',\n",
       " 'charra',\n",
       " 'charred',\n",
       " 'charro',\n",
       " 'chayote',\n",
       " 'cheap',\n",
       " 'cheapskate',\n",
       " 'cheddar',\n",
       " 'chee',\n",
       " 'cheese',\n",
       " 'cheeseburger',\n",
       " 'cheesecake',\n",
       " 'cheesesteak',\n",
       " 'cheesy',\n",
       " 'chef',\n",
       " 'cherries',\n",
       " 'cherry',\n",
       " 'cheryl',\n",
       " 'chesapeake',\n",
       " 'chestnut',\n",
       " 'chestnuts',\n",
       " 'chewy',\n",
       " 'chia',\n",
       " 'chicago',\n",
       " 'chicken',\n",
       " 'chickpea',\n",
       " 'chickpeas',\n",
       " 'chile',\n",
       " 'chiles',\n",
       " 'chili',\n",
       " 'chiliville',\n",
       " 'chimichangas',\n",
       " 'chimichurri',\n",
       " 'chinese',\n",
       " 'chip',\n",
       " 'chipotle',\n",
       " 'chipped',\n",
       " 'chips',\n",
       " 'chive',\n",
       " 'chives',\n",
       " 'chocolate',\n",
       " 'chole',\n",
       " 'chop',\n",
       " 'chopped',\n",
       " 'chops',\n",
       " 'chorizo',\n",
       " 'choux',\n",
       " 'chow',\n",
       " 'chowder',\n",
       " 'choy',\n",
       " 'chris',\n",
       " 'christina',\n",
       " 'christmas',\n",
       " 'chron',\n",
       " 'chuck',\n",
       " 'chuckwagon',\n",
       " 'chunky',\n",
       " 'cider',\n",
       " 'cilantro',\n",
       " 'cincinnati',\n",
       " 'cindi',\n",
       " 'cindy',\n",
       " 'cinnamon',\n",
       " 'cioppino',\n",
       " 'citrus',\n",
       " 'city',\n",
       " 'clam',\n",
       " 'clams',\n",
       " 'clark',\n",
       " 'classic',\n",
       " 'clean',\n",
       " 'cleanser',\n",
       " 'club',\n",
       " 'coating',\n",
       " 'cob',\n",
       " 'cobb',\n",
       " 'cobwebs',\n",
       " 'cocktail',\n",
       " 'cocoa',\n",
       " 'coconut',\n",
       " 'cod',\n",
       " 'coffee',\n",
       " 'cola',\n",
       " 'colada',\n",
       " 'colcannon',\n",
       " 'cold',\n",
       " 'coleslaw',\n",
       " 'collard',\n",
       " 'collards',\n",
       " 'colorado',\n",
       " 'colorful',\n",
       " 'comfort',\n",
       " 'company',\n",
       " 'complete',\n",
       " 'confetti',\n",
       " 'confit',\n",
       " 'contadina',\n",
       " 'cook',\n",
       " 'cooked',\n",
       " 'cooker',\n",
       " 'cookie',\n",
       " 'cookies',\n",
       " 'cool',\n",
       " 'cooler',\n",
       " 'cordon',\n",
       " 'coriander',\n",
       " 'corn',\n",
       " 'cornbread',\n",
       " 'corned',\n",
       " 'cornish',\n",
       " 'corny',\n",
       " 'corrigan',\n",
       " 'cottage',\n",
       " 'country',\n",
       " 'county',\n",
       " 'couscous',\n",
       " 'covered',\n",
       " 'cowboy',\n",
       " 'crab',\n",
       " 'crabby',\n",
       " 'crabmeat',\n",
       " 'cracked',\n",
       " 'cracker',\n",
       " 'crackers',\n",
       " 'cran',\n",
       " 'cranberries',\n",
       " 'cranberry',\n",
       " 'crawfish',\n",
       " 'crazy',\n",
       " 'cream',\n",
       " 'creamed',\n",
       " 'creamy',\n",
       " 'crema',\n",
       " 'creme',\n",
       " 'creole',\n",
       " 'crepes',\n",
       " 'crescent',\n",
       " 'crescents',\n",
       " 'crisp',\n",
       " 'crispy',\n",
       " 'cristo',\n",
       " 'croutons',\n",
       " 'crowd',\n",
       " 'crumb',\n",
       " 'crumble',\n",
       " 'crunch',\n",
       " 'crunchy',\n",
       " 'crust',\n",
       " 'crusted',\n",
       " 'crystal',\n",
       " 'cuban',\n",
       " 'cube',\n",
       " 'cucumber',\n",
       " 'cucumbers',\n",
       " 'cumin',\n",
       " 'cup',\n",
       " 'cupcakes',\n",
       " 'cups',\n",
       " 'curly',\n",
       " 'currant',\n",
       " 'curried',\n",
       " 'curry',\n",
       " 'currywurst',\n",
       " 'custard',\n",
       " 'cut',\n",
       " 'cutlets',\n",
       " 'czech',\n",
       " 'daal',\n",
       " 'dad',\n",
       " 'daddy',\n",
       " 'dae',\n",
       " 'dahl',\n",
       " 'dairy',\n",
       " 'dal',\n",
       " 'dan',\n",
       " 'dana',\n",
       " 'dandelion',\n",
       " 'dandelions',\n",
       " 'danish',\n",
       " 'dark',\n",
       " 'date',\n",
       " 'dates',\n",
       " 'dave',\n",
       " 'david',\n",
       " 'day',\n",
       " 'deborah',\n",
       " 'dee',\n",
       " 'deeann',\n",
       " 'deep',\n",
       " 'del',\n",
       " 'delicata',\n",
       " 'delicious',\n",
       " 'delight',\n",
       " 'delilah',\n",
       " 'delish',\n",
       " 'deluxe',\n",
       " 'dessert',\n",
       " 'detox',\n",
       " 'deviled',\n",
       " 'dhal',\n",
       " 'di',\n",
       " 'diablo',\n",
       " 'diavolo',\n",
       " 'die',\n",
       " 'different',\n",
       " 'dijon',\n",
       " 'dill',\n",
       " 'dinah',\n",
       " 'dinner',\n",
       " 'dip',\n",
       " 'dippers',\n",
       " 'dipping',\n",
       " 'dirty',\n",
       " 'dish',\n",
       " 'divan',\n",
       " 'divine',\n",
       " 'dixie',\n",
       " 'doesn',\n",
       " 'dog',\n",
       " 'dollar',\n",
       " 'don',\n",
       " 'doreen',\n",
       " 'double',\n",
       " 'dough',\n",
       " 'dragon',\n",
       " 'dream',\n",
       " 'dressing',\n",
       " 'dried',\n",
       " 'drink',\n",
       " 'drops',\n",
       " 'drunken',\n",
       " 'dry',\n",
       " 'duck',\n",
       " 'dumpling',\n",
       " 'dumplings',\n",
       " 'duper',\n",
       " 'durango',\n",
       " 'dutch',\n",
       " 'easiest',\n",
       " 'easter',\n",
       " 'eastern',\n",
       " 'easy',\n",
       " 'ed',\n",
       " 'edamame',\n",
       " 'eddie',\n",
       " 'egg',\n",
       " 'eggplant',\n",
       " 'eggs',\n",
       " 'egyptian',\n",
       " 'elbows',\n",
       " 'elegant',\n",
       " 'elixir',\n",
       " 'elote',\n",
       " 'emily',\n",
       " 'enchilada',\n",
       " 'enchiladas',\n",
       " 'encrusted',\n",
       " 'endive',\n",
       " 'energy',\n",
       " 'england',\n",
       " 'english',\n",
       " 'escarole',\n",
       " 'ethiopian',\n",
       " 'etouffee',\n",
       " 'excellent',\n",
       " 'exchange',\n",
       " 'exotic',\n",
       " 'eye',\n",
       " 'eyed',\n",
       " 'ez',\n",
       " 'ezekiel',\n",
       " 'fabienne',\n",
       " 'fabulous',\n",
       " 'faced',\n",
       " 'factory',\n",
       " 'fagioli',\n",
       " 'fail',\n",
       " 'fajita',\n",
       " 'fajitas',\n",
       " 'falafel',\n",
       " 'falafels',\n",
       " 'fall',\n",
       " 'family',\n",
       " 'famous',\n",
       " 'fannie',\n",
       " 'fantastic',\n",
       " 'farm',\n",
       " 'farro',\n",
       " 'fashioned',\n",
       " 'fast',\n",
       " 'fat',\n",
       " 'faux',\n",
       " 'fave',\n",
       " 'favorite',\n",
       " 'faye',\n",
       " 'fazool',\n",
       " 'fe',\n",
       " 'feijoada',\n",
       " 'fennel',\n",
       " 'festive',\n",
       " 'feta',\n",
       " 'fettuccine',\n",
       " 'fettuccini',\n",
       " 'fiddleheads',\n",
       " 'fields',\n",
       " 'fiery',\n",
       " 'fiesta',\n",
       " 'filet',\n",
       " 'filets',\n",
       " 'filipino',\n",
       " 'filled',\n",
       " 'fillet',\n",
       " 'fillets',\n",
       " 'filling',\n",
       " 'fingers',\n",
       " 'finnish',\n",
       " 'firecracker',\n",
       " 'firecrackers',\n",
       " 'firehouse',\n",
       " 'fish',\n",
       " 'fix',\n",
       " 'flank',\n",
       " 'flat',\n",
       " 'flavored',\n",
       " 'flavors',\n",
       " 'flax',\n",
       " 'florentine',\n",
       " 'flounder',\n",
       " 'flourless',\n",
       " 'foil',\n",
       " 'fontina',\n",
       " 'foo',\n",
       " 'food',\n",
       " 'foolproof',\n",
       " 'football',\n",
       " 'fra',\n",
       " 'fragrant',\n",
       " 'francisco',\n",
       " 'freak',\n",
       " 'free',\n",
       " 'french',\n",
       " 'fresca',\n",
       " 'fresh',\n",
       " 'fried',\n",
       " 'friendly',\n",
       " 'fries',\n",
       " 'frijoles',\n",
       " 'frittata',\n",
       " 'fritter',\n",
       " 'fritters',\n",
       " 'frog',\n",
       " 'frosted',\n",
       " 'frosting',\n",
       " 'frozen',\n",
       " 'fruit',\n",
       " 'fruity',\n",
       " 'fry',\n",
       " 'fudge',\n",
       " 'funky',\n",
       " 'fusion',\n",
       " 'fuss',\n",
       " 'gail',\n",
       " 'gallo',\n",
       " 'game',\n",
       " 'gang',\n",
       " 'garbanzo',\n",
       " 'garbanzos',\n",
       " 'garden',\n",
       " 'garlic',\n",
       " 'garlicky',\n",
       " 'gazpacho',\n",
       " 'georgia',\n",
       " 'georgian',\n",
       " 'german',\n",
       " 'gift',\n",
       " 'ginger',\n",
       " 'gingerbread',\n",
       " 'gingered',\n",
       " 'girl',\n",
       " 'glaze',\n",
       " 'glazed',\n",
       " 'glo',\n",
       " 'glorious',\n",
       " 'gluten',\n",
       " 'gnocchi',\n",
       " 'goat',\n",
       " 'gobi',\n",
       " 'goetta',\n",
       " 'gogi',\n",
       " 'goji',\n",
       " 'gold',\n",
       " 'golden',\n",
       " 'gomen',\n",
       " 'good',\n",
       " 'goodness',\n",
       " 'gorgonzola',\n",
       " 'gouda',\n",
       " 'goulash',\n",
       " 'gourmet',\n",
       " 'goya',\n",
       " 'grain',\n",
       " 'gramma',\n",
       " 'grandma',\n",
       " 'grandmother',\n",
       " 'granny',\n",
       " 'grannylin',\n",
       " 'granola',\n",
       " 'grape',\n",
       " 'grapefruit',\n",
       " 'grapes',\n",
       " 'gratin',\n",
       " 'gravy',\n",
       " 'great',\n",
       " 'grecian',\n",
       " 'greek',\n",
       " 'green',\n",
       " 'greens',\n",
       " 'grill',\n",
       " 'grilled',\n",
       " 'grits',\n",
       " 'ground',\n",
       " 'grouper',\n",
       " 'guacamole',\n",
       " 'guinness',\n",
       " 'guisada',\n",
       " 'guisado',\n",
       " 'gumbo',\n",
       " 'gyoza',\n",
       " 'gyro',\n",
       " 'habanero',\n",
       " 'haddock',\n",
       " 'hair',\n",
       " 'haitian',\n",
       " 'halibut',\n",
       " 'halloween',\n",
       " 'ham',\n",
       " 'hamburger',\n",
       " 'hamburgers',\n",
       " 'happy',\n",
       " 'harira',\n",
       " 'harissa',\n",
       " 'harvard',\n",
       " 'harvest',\n",
       " 'harvey',\n",
       " 'hasenpfeffer',\n",
       " 'hash',\n",
       " 'havana',\n",
       " 'hawaiian',\n",
       " 'haystacks',\n",
       " 'hazelnut',\n",
       " 'hazelnuts',\n",
       " 'head',\n",
       " 'health',\n",
       " 'healthier',\n",
       " 'healthy',\n",
       " 'heart',\n",
       " 'hearts',\n",
       " 'hearty',\n",
       " 'heather',\n",
       " 'heavenly',\n",
       " 'hellfire',\n",
       " 'hemp',\n",
       " 'herb',\n",
       " 'herbed',\n",
       " 'herbes',\n",
       " 'herbs',\n",
       " 'hero',\n",
       " 'hibb',\n",
       " 'high',\n",
       " 'hillshire',\n",
       " 'hint',\n",
       " 'hobo',\n",
       " 'hock',\n",
       " 'hocks',\n",
       " 'hoisin',\n",
       " 'holiday',\n",
       " 'hollandaise',\n",
       " 'holly',\n",
       " 'home',\n",
       " 'homemade',\n",
       " 'homestyle',\n",
       " 'hominy',\n",
       " 'honey',\n",
       " 'honeydew',\n",
       " 'honeyed',\n",
       " 'hong',\n",
       " 'hoppin',\n",
       " 'horseradish',\n",
       " 'hot',\n",
       " 'hour',\n",
       " 'house',\n",
       " 'huevos',\n",
       " 'hummus',\n",
       " 'hungarian',\n",
       " 'husband',\n",
       " 'ice',\n",
       " 'iced',\n",
       " 'idahoan',\n",
       " 'ii',\n",
       " 'iii',\n",
       " 'impossibly',\n",
       " 'indian',\n",
       " 'indiana',\n",
       " 'individual',\n",
       " 'ing',\n",
       " 'ingredient',\n",
       " 'insalata',\n",
       " 'inside',\n",
       " 'inspired',\n",
       " 'instant',\n",
       " 'iowa',\n",
       " 'irish',\n",
       " 'iron',\n",
       " 'island',\n",
       " 'israeli',\n",
       " 'italian',\n",
       " 'italiano',\n",
       " 'iv',\n",
       " 'ix',\n",
       " 'jack',\n",
       " 'jackie',\n",
       " 'jagerschnitzel',\n",
       " 'jalapeno',\n",
       " 'jalapenos',\n",
       " 'jamaican',\n",
       " 'jambalasta',\n",
       " 'jambalaya',\n",
       " 'jamie',\n",
       " 'jan',\n",
       " 'japanese',\n",
       " 'jar',\n",
       " 'jay',\n",
       " 'jean',\n",
       " 'jeannie',\n",
       " 'jeff',\n",
       " 'jelly',\n",
       " 'jen',\n",
       " 'jenn',\n",
       " 'jerk',\n",
       " 'jerky',\n",
       " 'jerre',\n",
       " 'jessica',\n",
       " 'ji',\n",
       " 'jim',\n",
       " 'jimmy',\n",
       " 'joanne',\n",
       " 'joe',\n",
       " 'joes',\n",
       " 'john',\n",
       " 'johnny',\n",
       " 'johnsonville',\n",
       " 'joseph',\n",
       " 'juice',\n",
       " 'juicy',\n",
       " 'jumbo',\n",
       " 'jus',\n",
       " 'just',\n",
       " 'ka',\n",
       " 'kabobs',\n",
       " 'kabocha',\n",
       " 'kahlua',\n",
       " 'kala',\n",
       " 'kalamata',\n",
       " 'kale',\n",
       " 'kalua',\n",
       " 'kansas',\n",
       " 'kapusta',\n",
       " 'karen',\n",
       " 'kate',\n",
       " 'kathy',\n",
       " 'kefir',\n",
       " 'kelly',\n",
       " 'kelsey',\n",
       " 'ken',\n",
       " 'kentucky',\n",
       " 'kerry',\n",
       " 'ketchup',\n",
       " 'kevin',\n",
       " 'key',\n",
       " 'kick',\n",
       " 'kicked',\n",
       " 'kickin',\n",
       " 'kid',\n",
       " 'kidney',\n",
       " 'kids',\n",
       " 'kielbasa',\n",
       " 'killer',\n",
       " 'kim',\n",
       " 'kimchi',\n",
       " 'king',\n",
       " 'kiss',\n",
       " 'kitchen',\n",
       " 'kiwi',\n",
       " 'knorr',\n",
       " 'kohlrabi',\n",
       " 'kong',\n",
       " 'korean',\n",
       " 'koshary',\n",
       " 'kottbullar',\n",
       " 'kraut',\n",
       " 'kris',\n",
       " 'kristen',\n",
       " 'kugel',\n",
       " 'la',\n",
       " 'lamb',\n",
       " 'lambsquarters',\n",
       " 'lancaster',\n",
       " 'lasagna',\n",
       " 'lassi',\n",
       " 'latkes',\n",
       " 'laura',\n",
       " 'law',\n",
       " 'layer',\n",
       " 'layered',\n",
       " 'lazy',\n",
       " 'lean',\n",
       " 'lebanese',\n",
       " 'leek',\n",
       " 'leeks',\n",
       " 'leftover',\n",
       " 'legs',\n",
       " 'lemon',\n",
       " 'lemonade',\n",
       " 'lemony',\n",
       " 'lentil',\n",
       " 'lentils',\n",
       " 'leslie',\n",
       " 'lettuce',\n",
       " 'light',\n",
       " 'lighter',\n",
       " 'like',\n",
       " 'lima',\n",
       " 'lime',\n",
       " 'limeade',\n",
       " 'linda',\n",
       " 'line',\n",
       " 'linguine',\n",
       " 'linguini',\n",
       " 'lion',\n",
       " 'lisa',\n",
       " 'little',\n",
       " 'live',\n",
       " 'll',\n",
       " 'lo',\n",
       " 'loaded',\n",
       " 'loaf',\n",
       " 'lobster',\n",
       " 'loin',\n",
       " 'london',\n",
       " 'long',\n",
       " 'loose',\n",
       " 'lori',\n",
       " 'lorraine',\n",
       " 'louisiana',\n",
       " 'love',\n",
       " 'lover',\n",
       " 'lovers',\n",
       " 'low',\n",
       " 'lucky',\n",
       " 'lucy',\n",
       " 'lumpia',\n",
       " 'lunch',\n",
       " 'luscious',\n",
       " 'ma',\n",
       " 'mac',\n",
       " 'maca',\n",
       " 'macadamia',\n",
       " 'macaroni',\n",
       " 'machine',\n",
       " 'madness',\n",
       " 'madrid',\n",
       " 'magic',\n",
       " 'mahi',\n",
       " 'maine',\n",
       " 'maize',\n",
       " 'make',\n",
       " 'makhani',\n",
       " 'mal',\n",
       " 'mama',\n",
       " 'man',\n",
       " 'mandarin',\n",
       " 'mango',\n",
       " ...]"
      ]
     },
     "execution_count": 263,
     "metadata": {},
     "output_type": "execute_result"
    }
   ],
   "source": [
    "tfidf.get_feature_names()\n"
   ]
  },
  {
   "cell_type": "code",
   "execution_count": null,
   "metadata": {
    "collapsed": true
   },
   "outputs": [],
   "source": []
  },
  {
   "cell_type": "code",
   "execution_count": null,
   "metadata": {
    "collapsed": true
   },
   "outputs": [],
   "source": []
  },
  {
   "cell_type": "code",
   "execution_count": 261,
   "metadata": {
    "collapsed": true
   },
   "outputs": [],
   "source": [
    "from sklearn.decomposition import TruncatedSVD\n",
    "from sklearn.preprocessing import Normalizer\n",
    "from sklearn.cluster import KMeans, MiniBatchKMeans\n",
    "import warnings\n",
    "\n",
    "warnings.filterwarnings(\"ignore\", category=DeprecationWarning,module=\"pandas\")\n",
    "\n",
    "\n"
   ]
  },
  {
   "cell_type": "markdown",
   "metadata": {},
   "source": [
    "#### Singular value decomposition and LSA"
   ]
  },
  {
   "cell_type": "code",
   "execution_count": 266,
   "metadata": {},
   "outputs": [],
   "source": [
    "# Fit LSA. Use algorithm = “randomized” for large datasets \n",
    "lsa = TruncatedSVD(2, algorithm = 'arpack')\n",
    "dtm_lsa = lsa.fit_transform(X_train_tfidf)\n",
    "dtm_lsa = Normalizer(copy=False).fit_transform(dtm_lsa)"
   ]
  },
  {
   "cell_type": "code",
   "execution_count": 269,
   "metadata": {},
   "outputs": [
    {
     "ename": "ValueError",
     "evalue": "Shape of passed values is (3064, 2), indices imply (1838, 2)",
     "output_type": "error",
     "traceback": [
      "\u001b[0;31m---------------------------------------------------------------------------\u001b[0m",
      "\u001b[0;31mValueError\u001b[0m                                Traceback (most recent call last)",
      "\u001b[0;32m/usr/local/Cellar/python3/3.6.4_2/Frameworks/Python.framework/Versions/3.6/lib/python3.6/site-packages/pandas/core/internals.py\u001b[0m in \u001b[0;36mcreate_block_manager_from_blocks\u001b[0;34m(blocks, axes)\u001b[0m\n\u001b[1;32m   4621\u001b[0m                 blocks = [make_block(values=blocks[0],\n\u001b[0;32m-> 4622\u001b[0;31m                                      placement=slice(0, len(axes[0])))]\n\u001b[0m\u001b[1;32m   4623\u001b[0m \u001b[0;34m\u001b[0m\u001b[0m\n",
      "\u001b[0;32m/usr/local/Cellar/python3/3.6.4_2/Frameworks/Python.framework/Versions/3.6/lib/python3.6/site-packages/pandas/core/internals.py\u001b[0m in \u001b[0;36mmake_block\u001b[0;34m(values, placement, klass, ndim, dtype, fastpath)\u001b[0m\n\u001b[1;32m   2956\u001b[0m \u001b[0;34m\u001b[0m\u001b[0m\n\u001b[0;32m-> 2957\u001b[0;31m     \u001b[0;32mreturn\u001b[0m \u001b[0mklass\u001b[0m\u001b[0;34m(\u001b[0m\u001b[0mvalues\u001b[0m\u001b[0;34m,\u001b[0m \u001b[0mndim\u001b[0m\u001b[0;34m=\u001b[0m\u001b[0mndim\u001b[0m\u001b[0;34m,\u001b[0m \u001b[0mfastpath\u001b[0m\u001b[0;34m=\u001b[0m\u001b[0mfastpath\u001b[0m\u001b[0;34m,\u001b[0m \u001b[0mplacement\u001b[0m\u001b[0;34m=\u001b[0m\u001b[0mplacement\u001b[0m\u001b[0;34m)\u001b[0m\u001b[0;34m\u001b[0m\u001b[0m\n\u001b[0m\u001b[1;32m   2958\u001b[0m \u001b[0;34m\u001b[0m\u001b[0m\n",
      "\u001b[0;32m/usr/local/Cellar/python3/3.6.4_2/Frameworks/Python.framework/Versions/3.6/lib/python3.6/site-packages/pandas/core/internals.py\u001b[0m in \u001b[0;36m__init__\u001b[0;34m(self, values, placement, ndim, fastpath)\u001b[0m\n\u001b[1;32m    119\u001b[0m                              'implies %d' % (len(self.values),\n\u001b[0;32m--> 120\u001b[0;31m                                              len(self.mgr_locs)))\n\u001b[0m\u001b[1;32m    121\u001b[0m \u001b[0;34m\u001b[0m\u001b[0m\n",
      "\u001b[0;31mValueError\u001b[0m: Wrong number of items passed 3064, placement implies 1838",
      "\nDuring handling of the above exception, another exception occurred:\n",
      "\u001b[0;31mValueError\u001b[0m                                Traceback (most recent call last)",
      "\u001b[0;32m<ipython-input-269-c75d767ed571>\u001b[0m in \u001b[0;36m<module>\u001b[0;34m()\u001b[0m\n\u001b[0;32m----> 1\u001b[0;31m \u001b[0mpd\u001b[0m\u001b[0;34m.\u001b[0m\u001b[0mDataFrame\u001b[0m\u001b[0;34m(\u001b[0m\u001b[0mlsa\u001b[0m\u001b[0;34m.\u001b[0m\u001b[0mcomponents_\u001b[0m\u001b[0;34m,\u001b[0m\u001b[0mindex\u001b[0m \u001b[0;34m=\u001b[0m \u001b[0;34m[\u001b[0m\u001b[0;36m0\u001b[0m\u001b[0;34m,\u001b[0m\u001b[0;36m1\u001b[0m\u001b[0;34m]\u001b[0m\u001b[0;34m,\u001b[0m\u001b[0mcolumns\u001b[0m \u001b[0;34m=\u001b[0m \u001b[0mtfidf\u001b[0m\u001b[0;34m.\u001b[0m\u001b[0mget_feature_names\u001b[0m\u001b[0;34m(\u001b[0m\u001b[0;34m)\u001b[0m\u001b[0;34m)\u001b[0m\u001b[0;34m\u001b[0m\u001b[0m\n\u001b[0m",
      "\u001b[0;32m/usr/local/Cellar/python3/3.6.4_2/Frameworks/Python.framework/Versions/3.6/lib/python3.6/site-packages/pandas/core/frame.py\u001b[0m in \u001b[0;36m__init__\u001b[0;34m(self, data, index, columns, dtype, copy)\u001b[0m\n\u001b[1;32m    359\u001b[0m             \u001b[0;32melse\u001b[0m\u001b[0;34m:\u001b[0m\u001b[0;34m\u001b[0m\u001b[0m\n\u001b[1;32m    360\u001b[0m                 mgr = self._init_ndarray(data, index, columns, dtype=dtype,\n\u001b[0;32m--> 361\u001b[0;31m                                          copy=copy)\n\u001b[0m\u001b[1;32m    362\u001b[0m         \u001b[0;32melif\u001b[0m \u001b[0misinstance\u001b[0m\u001b[0;34m(\u001b[0m\u001b[0mdata\u001b[0m\u001b[0;34m,\u001b[0m \u001b[0;34m(\u001b[0m\u001b[0mlist\u001b[0m\u001b[0;34m,\u001b[0m \u001b[0mtypes\u001b[0m\u001b[0;34m.\u001b[0m\u001b[0mGeneratorType\u001b[0m\u001b[0;34m)\u001b[0m\u001b[0;34m)\u001b[0m\u001b[0;34m:\u001b[0m\u001b[0;34m\u001b[0m\u001b[0m\n\u001b[1;32m    363\u001b[0m             \u001b[0;32mif\u001b[0m \u001b[0misinstance\u001b[0m\u001b[0;34m(\u001b[0m\u001b[0mdata\u001b[0m\u001b[0;34m,\u001b[0m \u001b[0mtypes\u001b[0m\u001b[0;34m.\u001b[0m\u001b[0mGeneratorType\u001b[0m\u001b[0;34m)\u001b[0m\u001b[0;34m:\u001b[0m\u001b[0;34m\u001b[0m\u001b[0m\n",
      "\u001b[0;32m/usr/local/Cellar/python3/3.6.4_2/Frameworks/Python.framework/Versions/3.6/lib/python3.6/site-packages/pandas/core/frame.py\u001b[0m in \u001b[0;36m_init_ndarray\u001b[0;34m(self, values, index, columns, dtype, copy)\u001b[0m\n\u001b[1;32m    531\u001b[0m             \u001b[0mvalues\u001b[0m \u001b[0;34m=\u001b[0m \u001b[0mmaybe_infer_to_datetimelike\u001b[0m\u001b[0;34m(\u001b[0m\u001b[0mvalues\u001b[0m\u001b[0;34m)\u001b[0m\u001b[0;34m\u001b[0m\u001b[0m\n\u001b[1;32m    532\u001b[0m \u001b[0;34m\u001b[0m\u001b[0m\n\u001b[0;32m--> 533\u001b[0;31m         \u001b[0;32mreturn\u001b[0m \u001b[0mcreate_block_manager_from_blocks\u001b[0m\u001b[0;34m(\u001b[0m\u001b[0;34m[\u001b[0m\u001b[0mvalues\u001b[0m\u001b[0;34m]\u001b[0m\u001b[0;34m,\u001b[0m \u001b[0;34m[\u001b[0m\u001b[0mcolumns\u001b[0m\u001b[0;34m,\u001b[0m \u001b[0mindex\u001b[0m\u001b[0;34m]\u001b[0m\u001b[0;34m)\u001b[0m\u001b[0;34m\u001b[0m\u001b[0m\n\u001b[0m\u001b[1;32m    534\u001b[0m \u001b[0;34m\u001b[0m\u001b[0m\n\u001b[1;32m    535\u001b[0m     \u001b[0;34m@\u001b[0m\u001b[0mproperty\u001b[0m\u001b[0;34m\u001b[0m\u001b[0m\n",
      "\u001b[0;32m/usr/local/Cellar/python3/3.6.4_2/Frameworks/Python.framework/Versions/3.6/lib/python3.6/site-packages/pandas/core/internals.py\u001b[0m in \u001b[0;36mcreate_block_manager_from_blocks\u001b[0;34m(blocks, axes)\u001b[0m\n\u001b[1;32m   4629\u001b[0m         \u001b[0mblocks\u001b[0m \u001b[0;34m=\u001b[0m \u001b[0;34m[\u001b[0m\u001b[0mgetattr\u001b[0m\u001b[0;34m(\u001b[0m\u001b[0mb\u001b[0m\u001b[0;34m,\u001b[0m \u001b[0;34m'values'\u001b[0m\u001b[0;34m,\u001b[0m \u001b[0mb\u001b[0m\u001b[0;34m)\u001b[0m \u001b[0;32mfor\u001b[0m \u001b[0mb\u001b[0m \u001b[0;32min\u001b[0m \u001b[0mblocks\u001b[0m\u001b[0;34m]\u001b[0m\u001b[0;34m\u001b[0m\u001b[0m\n\u001b[1;32m   4630\u001b[0m         \u001b[0mtot_items\u001b[0m \u001b[0;34m=\u001b[0m \u001b[0msum\u001b[0m\u001b[0;34m(\u001b[0m\u001b[0mb\u001b[0m\u001b[0;34m.\u001b[0m\u001b[0mshape\u001b[0m\u001b[0;34m[\u001b[0m\u001b[0;36m0\u001b[0m\u001b[0;34m]\u001b[0m \u001b[0;32mfor\u001b[0m \u001b[0mb\u001b[0m \u001b[0;32min\u001b[0m \u001b[0mblocks\u001b[0m\u001b[0;34m)\u001b[0m\u001b[0;34m\u001b[0m\u001b[0m\n\u001b[0;32m-> 4631\u001b[0;31m         \u001b[0mconstruction_error\u001b[0m\u001b[0;34m(\u001b[0m\u001b[0mtot_items\u001b[0m\u001b[0;34m,\u001b[0m \u001b[0mblocks\u001b[0m\u001b[0;34m[\u001b[0m\u001b[0;36m0\u001b[0m\u001b[0;34m]\u001b[0m\u001b[0;34m.\u001b[0m\u001b[0mshape\u001b[0m\u001b[0;34m[\u001b[0m\u001b[0;36m1\u001b[0m\u001b[0;34m:\u001b[0m\u001b[0;34m]\u001b[0m\u001b[0;34m,\u001b[0m \u001b[0maxes\u001b[0m\u001b[0;34m,\u001b[0m \u001b[0me\u001b[0m\u001b[0;34m)\u001b[0m\u001b[0;34m\u001b[0m\u001b[0m\n\u001b[0m\u001b[1;32m   4632\u001b[0m \u001b[0;34m\u001b[0m\u001b[0m\n\u001b[1;32m   4633\u001b[0m \u001b[0;34m\u001b[0m\u001b[0m\n",
      "\u001b[0;32m/usr/local/Cellar/python3/3.6.4_2/Frameworks/Python.framework/Versions/3.6/lib/python3.6/site-packages/pandas/core/internals.py\u001b[0m in \u001b[0;36mconstruction_error\u001b[0;34m(tot_items, block_shape, axes, e)\u001b[0m\n\u001b[1;32m   4606\u001b[0m         \u001b[0;32mraise\u001b[0m \u001b[0mValueError\u001b[0m\u001b[0;34m(\u001b[0m\u001b[0;34m\"Empty data passed with indices specified.\"\u001b[0m\u001b[0;34m)\u001b[0m\u001b[0;34m\u001b[0m\u001b[0m\n\u001b[1;32m   4607\u001b[0m     raise ValueError(\"Shape of passed values is {0}, indices imply {1}\".format(\n\u001b[0;32m-> 4608\u001b[0;31m         passed, implied))\n\u001b[0m\u001b[1;32m   4609\u001b[0m \u001b[0;34m\u001b[0m\u001b[0m\n\u001b[1;32m   4610\u001b[0m \u001b[0;34m\u001b[0m\u001b[0m\n",
      "\u001b[0;31mValueError\u001b[0m: Shape of passed values is (3064, 2), indices imply (1838, 2)"
     ]
    }
   ],
   "source": [
    "pd.DataFrame(lsa.components_,index = [\"comp\"],columns = tfidf.get_feature_names())"
   ]
  },
  {
   "cell_type": "code",
   "execution_count": null,
   "metadata": {
    "collapsed": true
   },
   "outputs": [],
   "source": []
  },
  {
   "cell_type": "code",
   "execution_count": 260,
   "metadata": {},
   "outputs": [
    {
     "ename": "NameError",
     "evalue": "name 'lsa' is not defined",
     "output_type": "error",
     "traceback": [
      "\u001b[0;31m---------------------------------------------------------------------------\u001b[0m",
      "\u001b[0;31mNameError\u001b[0m                                 Traceback (most recent call last)",
      "\u001b[0;32m<ipython-input-260-cb2c4023748b>\u001b[0m in \u001b[0;36m<module>\u001b[0;34m()\u001b[0m\n\u001b[1;32m      1\u001b[0m \u001b[0;31m# Run SVD on the training data, then project the training data.\u001b[0m\u001b[0;34m\u001b[0m\u001b[0;34m\u001b[0m\u001b[0m\n\u001b[0;32m----> 2\u001b[0;31m \u001b[0mX_train_lsa\u001b[0m \u001b[0;34m=\u001b[0m \u001b[0mlsa\u001b[0m\u001b[0;34m.\u001b[0m\u001b[0mfit_transform\u001b[0m\u001b[0;34m(\u001b[0m\u001b[0mtfidf_matrix\u001b[0m\u001b[0;34m,\u001b[0m \u001b[0my\u001b[0m\u001b[0;34m=\u001b[0m\u001b[0mdf\u001b[0m\u001b[0;34m)\u001b[0m\u001b[0;34m\u001b[0m\u001b[0m\n\u001b[0m",
      "\u001b[0;31mNameError\u001b[0m: name 'lsa' is not defined"
     ]
    }
   ],
   "source": [
    "# Run SVD on the training data, then project the training data.\n",
    "X_train_lsa = lsa.fit_transform(tfidf_matrix, y=df)"
   ]
  },
  {
   "cell_type": "code",
   "execution_count": 501,
   "metadata": {},
   "outputs": [
    {
     "name": "stdout",
     "output_type": "stream",
     "text": [
      "  Explained variance of the SVD step: 35%\n"
     ]
    }
   ],
   "source": [
    "explained_variance = svd.explained_variance_ratio_.sum()\n",
    "print(\"  Explained variance of the SVD step: {}%\".format(int(explained_variance * 100)))\n"
   ]
  },
  {
   "cell_type": "code",
   "execution_count": 502,
   "metadata": {},
   "outputs": [
    {
     "data": {
      "text/plain": [
       "KNeighborsClassifier(algorithm='brute', leaf_size=30, metric='cosine',\n",
       "           metric_params=None, n_jobs=1, n_neighbors=5, p=2,\n",
       "           weights='uniform')"
      ]
     },
     "execution_count": 502,
     "metadata": {},
     "output_type": "execute_result"
    }
   ],
   "source": [
    "# Build a k-NN classifier. Use k = 5 (majority wins), the cosine distance, \n",
    "# and brute-force calculation of distances.\n",
    "knn_tfidf = KNeighborsClassifier(n_neighbors=5, algorithm='brute', metric='cosine')\n",
    "knn_tfidf.fit(tfidf_matrix, data['ingred_cat'])\n"
   ]
  },
  {
   "cell_type": "code",
   "execution_count": null,
   "metadata": {
    "collapsed": true
   },
   "outputs": [],
   "source": []
  },
  {
   "cell_type": "code",
   "execution_count": null,
   "metadata": {
    "collapsed": true
   },
   "outputs": [],
   "source": []
  },
  {
   "cell_type": "code",
   "execution_count": null,
   "metadata": {
    "collapsed": true
   },
   "outputs": [],
   "source": []
  },
  {
   "cell_type": "code",
   "execution_count": null,
   "metadata": {
    "collapsed": true
   },
   "outputs": [],
   "source": []
  },
  {
   "cell_type": "code",
   "execution_count": null,
   "metadata": {
    "collapsed": true
   },
   "outputs": [],
   "source": []
  },
  {
   "cell_type": "code",
   "execution_count": 503,
   "metadata": {},
   "outputs": [
    {
     "data": {
      "text/plain": [
       "TruncatedSVD(algorithm='randomized', n_components=5, n_iter=7,\n",
       "       random_state=42, tol=0.0)"
      ]
     },
     "execution_count": 503,
     "metadata": {},
     "output_type": "execute_result"
    }
   ],
   "source": [
    "\n",
    "svd = TruncatedSVD(n_components=5, n_iter=7, random_state=42)\n",
    "svd.fit(tfidf_matrix)"
   ]
  },
  {
   "cell_type": "code",
   "execution_count": 504,
   "metadata": {},
   "outputs": [
    {
     "name": "stdout",
     "output_type": "stream",
     "text": [
      "[0.00693269 0.01540656 0.01224332 0.01095575 0.01077255]\n"
     ]
    }
   ],
   "source": [
    "print(svd.explained_variance_ratio_) "
   ]
  },
  {
   "cell_type": "code",
   "execution_count": 505,
   "metadata": {},
   "outputs": [
    {
     "name": "stdout",
     "output_type": "stream",
     "text": [
      "0.05631086881657645\n"
     ]
    }
   ],
   "source": [
    "print(svd.explained_variance_ratio_.sum())"
   ]
  },
  {
   "cell_type": "code",
   "execution_count": 506,
   "metadata": {},
   "outputs": [
    {
     "name": "stdout",
     "output_type": "stream",
     "text": [
      "[19.12619688 12.56778773 11.37240123 10.62152975 10.51017742]\n"
     ]
    }
   ],
   "source": [
    "print(svd.singular_values_)  "
   ]
  },
  {
   "cell_type": "code",
   "execution_count": null,
   "metadata": {
    "collapsed": true
   },
   "outputs": [],
   "source": []
  },
  {
   "cell_type": "code",
   "execution_count": null,
   "metadata": {
    "collapsed": true
   },
   "outputs": [],
   "source": []
  },
  {
   "cell_type": "code",
   "execution_count": null,
   "metadata": {
    "collapsed": true
   },
   "outputs": [],
   "source": []
  },
  {
   "cell_type": "code",
   "execution_count": null,
   "metadata": {
    "collapsed": true
   },
   "outputs": [],
   "source": []
  },
  {
   "cell_type": "markdown",
   "metadata": {},
   "source": [
    "#### Latent Semantic Analysis\n",
    "\n",
    "Latent Semantic Analysis (LSA) is a technique for creating a vector representation of a document. Having a vector representation of a document gives you a way to compare documents for their similarity by calculating the distance between the vectors. This in turn means you can do handy things like classifying documents to determine which of a set of known topics they most likely belong to."
   ]
  },
  {
   "cell_type": "code",
   "execution_count": 351,
   "metadata": {
    "collapsed": true
   },
   "outputs": [],
   "source": [
    "from sklearn.decomposition import TruncatedSVD\n",
    "from sklearn.pipeline import make_pipeline\n",
    "from sklearn.preprocessing import Normalizer\n",
    "from sklearn.neighbors import KNeighborsClassifier"
   ]
  },
  {
   "cell_type": "code",
   "execution_count": null,
   "metadata": {
    "collapsed": true
   },
   "outputs": [],
   "source": []
  },
  {
   "cell_type": "code",
   "execution_count": null,
   "metadata": {
    "collapsed": true
   },
   "outputs": [],
   "source": []
  },
  {
   "cell_type": "code",
   "execution_count": null,
   "metadata": {
    "collapsed": true
   },
   "outputs": [],
   "source": []
  },
  {
   "cell_type": "code",
   "execution_count": null,
   "metadata": {
    "collapsed": true
   },
   "outputs": [],
   "source": []
  },
  {
   "cell_type": "code",
   "execution_count": null,
   "metadata": {
    "collapsed": true
   },
   "outputs": [],
   "source": []
  },
  {
   "cell_type": "code",
   "execution_count": null,
   "metadata": {
    "collapsed": true
   },
   "outputs": [],
   "source": []
  },
  {
   "cell_type": "code",
   "execution_count": 245,
   "metadata": {},
   "outputs": [
    {
     "ename": "NameError",
     "evalue": "name 'cosine_sim' is not defined",
     "output_type": "error",
     "traceback": [
      "\u001b[0;31m---------------------------------------------------------------------------\u001b[0m",
      "\u001b[0;31mNameError\u001b[0m                                 Traceback (most recent call last)",
      "\u001b[0;32m<ipython-input-245-4c52a91554b5>\u001b[0m in \u001b[0;36m<module>\u001b[0;34m()\u001b[0m\n\u001b[1;32m      1\u001b[0m \u001b[0;31m# Function that takes in ingredient as input and outputs most similar ingredients\u001b[0m\u001b[0;34m\u001b[0m\u001b[0;34m\u001b[0m\u001b[0m\n\u001b[0;32m----> 2\u001b[0;31m \u001b[0;32mdef\u001b[0m \u001b[0mget_recommendations\u001b[0m\u001b[0;34m(\u001b[0m\u001b[0mtitle\u001b[0m\u001b[0;34m,\u001b[0m \u001b[0mcosine_sim\u001b[0m\u001b[0;34m=\u001b[0m\u001b[0mcosine_sim\u001b[0m\u001b[0;34m)\u001b[0m\u001b[0;34m:\u001b[0m\u001b[0;34m\u001b[0m\u001b[0m\n\u001b[0m\u001b[1;32m      3\u001b[0m \u001b[0;34m\u001b[0m\u001b[0m\n\u001b[1;32m      4\u001b[0m     \u001b[0;31m# Get the index of the recipe title that matches the title\u001b[0m\u001b[0;34m\u001b[0m\u001b[0;34m\u001b[0m\u001b[0m\n\u001b[1;32m      5\u001b[0m     \u001b[0mrow\u001b[0m \u001b[0;34m=\u001b[0m \u001b[0mdata\u001b[0m\u001b[0;34m.\u001b[0m\u001b[0mloc\u001b[0m\u001b[0;34m[\u001b[0m\u001b[0mdata\u001b[0m\u001b[0;34m[\u001b[0m\u001b[0;34m'title'\u001b[0m\u001b[0;34m]\u001b[0m \u001b[0;34m==\u001b[0m \u001b[0mtitle\u001b[0m\u001b[0;34m]\u001b[0m\u001b[0;34m.\u001b[0m\u001b[0mindex\u001b[0m\u001b[0;34m[\u001b[0m\u001b[0;36m0\u001b[0m\u001b[0;34m]\u001b[0m\u001b[0;34m\u001b[0m\u001b[0m\n",
      "\u001b[0;31mNameError\u001b[0m: name 'cosine_sim' is not defined"
     ]
    }
   ],
   "source": [
    "# Function that takes in ingredient as input and outputs most similar ingredients\n",
    "def get_recommendations(title, cosine_sim=cosine_sim):\n",
    "\n",
    "    # Get the index of the recipe title that matches the title\n",
    "    row = data.loc[data['title'] == title].index[0]\n",
    "    idx = indices[row]\n",
    "\n",
    "    # Get the pairwise similarity scores of all titles with that title\n",
    "    sim_scores = list(enumerate(cosine_sim[idx]))\n",
    "    \n",
    "    # Sort the recipes based on the similarity scores    \n",
    "    sim_scores = sorted(sim_scores, key=lambda x: x[1], reverse=True)\n",
    "\n",
    "    # Get the scores of the 10 most similar recipes\n",
    "    sim_scores = sim_scores[1:16]\n",
    " \n",
    "    # Get the recipe indices\n",
    "    recipe_indices = [i[0] for i in sim_scores]\n",
    "    recipe_scores = [i[1] for i in sim_scores]\n",
    "    \n",
    "    data_sim = pd.DataFrame(sim_scores).drop_duplicates()\n",
    "    print(data_sim.head(15))\n",
    "\n",
    "    data_title = data['title'].iloc[recipe_indices].to_frame()\n",
    "    #print(data_title.head(15))\n",
    "        \n",
    "    return data['title'].iloc[recipe_indices].drop_duplicates()\n"
   ]
  },
  {
   "cell_type": "markdown",
   "metadata": {},
   "source": [
    "#### Results\n",
    "Here are some examples of recipe recommendations. We call the \"get_recommendations()\" function and pass in the index of the recipe and specify cosine similarity. The function returns a list of up to 10 closest recipes."
   ]
  },
  {
   "cell_type": "code",
   "execution_count": null,
   "metadata": {},
   "outputs": [],
   "source": []
  },
  {
   "cell_type": "markdown",
   "metadata": {},
   "source": [
    "##### Example: Baked Slow Cooker Chicken, TF-IDF"
   ]
  },
  {
   "cell_type": "code",
   "execution_count": 246,
   "metadata": {},
   "outputs": [
    {
     "ename": "NameError",
     "evalue": "name 'get_recommendations' is not defined",
     "output_type": "error",
     "traceback": [
      "\u001b[0;31m---------------------------------------------------------------------------\u001b[0m",
      "\u001b[0;31mNameError\u001b[0m                                 Traceback (most recent call last)",
      "\u001b[0;32m<ipython-input-246-a7c5802fc296>\u001b[0m in \u001b[0;36m<module>\u001b[0;34m()\u001b[0m\n\u001b[0;32m----> 1\u001b[0;31m \u001b[0mget_recommendations\u001b[0m\u001b[0;34m(\u001b[0m\u001b[0;34m'Baked Slow Cooker Chicken'\u001b[0m\u001b[0;34m,\u001b[0m \u001b[0mcosine_sim\u001b[0m\u001b[0;34m)\u001b[0m\u001b[0;34m\u001b[0m\u001b[0m\n\u001b[0m",
      "\u001b[0;31mNameError\u001b[0m: name 'get_recommendations' is not defined"
     ]
    }
   ],
   "source": [
    "get_recommendations('Baked Slow Cooker Chicken', cosine_sim)  \n"
   ]
  },
  {
   "cell_type": "markdown",
   "metadata": {},
   "source": [
    "##### Example: Baked Slow Cooker Chicken, CountVectorizer"
   ]
  },
  {
   "cell_type": "code",
   "execution_count": 247,
   "metadata": {},
   "outputs": [
    {
     "ename": "NameError",
     "evalue": "name 'get_recommendations' is not defined",
     "output_type": "error",
     "traceback": [
      "\u001b[0;31m---------------------------------------------------------------------------\u001b[0m",
      "\u001b[0;31mNameError\u001b[0m                                 Traceback (most recent call last)",
      "\u001b[0;32m<ipython-input-247-b55fb0c8d0bf>\u001b[0m in \u001b[0;36m<module>\u001b[0;34m()\u001b[0m\n\u001b[0;32m----> 1\u001b[0;31m \u001b[0mget_recommendations\u001b[0m\u001b[0;34m(\u001b[0m\u001b[0;34m'Baked Slow Cooker Chicken'\u001b[0m\u001b[0;34m,\u001b[0m \u001b[0mcosine_sim2\u001b[0m\u001b[0;34m)\u001b[0m\u001b[0;34m\u001b[0m\u001b[0m\n\u001b[0m",
      "\u001b[0;31mNameError\u001b[0m: name 'get_recommendations' is not defined"
     ]
    }
   ],
   "source": [
    "get_recommendations('Baked Slow Cooker Chicken', cosine_sim2) "
   ]
  },
  {
   "cell_type": "markdown",
   "metadata": {},
   "source": [
    "##### Example: Steamed Asian Sesame Veggies, TF-IDF"
   ]
  },
  {
   "cell_type": "code",
   "execution_count": 663,
   "metadata": {},
   "outputs": [
    {
     "name": "stdout",
     "output_type": "stream",
     "text": [
      "       0         1\n",
      "0   1283  0.504103\n",
      "1   7258  0.449227\n",
      "2   7637  0.427245\n",
      "3   1298  0.348638\n",
      "4   6968  0.337125\n",
      "5   6202  0.321062\n",
      "6   1754  0.302598\n",
      "7   6568  0.300468\n",
      "8   4235  0.298663\n",
      "9   6569  0.297340\n",
      "10  7286  0.294773\n",
      "11  1287  0.284801\n",
      "12  6967  0.282917\n",
      "13  1277  0.280748\n",
      "14  1942  0.274139\n"
     ]
    },
    {
     "data": {
      "text/plain": [
       "1283         Broccoli in Roast Chicken Drippings\n",
       "7258                            Steamed Broccoli\n",
       "7637                              Tangy Broccoli\n",
       "1298           Broccoli With Lemon Almond Butter\n",
       "6968              Snow Peas with Water Chestnuts\n",
       "6202                      Roasted Broccoli Salad\n",
       "1754      Cheesy Cauliflower and Broccoli Gratin\n",
       "6568                             Sesame Broccoli\n",
       "4235    Japanese Spinach with Sweet Sesame Seeds\n",
       "6569                Sesame Cabbage and Mushrooms\n",
       "7286                          Stir-Fried Pumpkin\n",
       "1287                          Broccoli Polonaise\n",
       "6967                          Snow Peas Oriental\n",
       "1277         Broccoli Cheese Casserole with Rice\n",
       "1942                            Chicken Stir-Fry\n",
       "Name: title, dtype: object"
      ]
     },
     "execution_count": 663,
     "metadata": {},
     "output_type": "execute_result"
    }
   ],
   "source": [
    "get_recommendations('Steamed Asian Sesame Veggies', cosine_sim) "
   ]
  },
  {
   "cell_type": "markdown",
   "metadata": {},
   "source": [
    "##### Example: Steamed Asian Sesame Veggies, CountVectorizer"
   ]
  },
  {
   "cell_type": "code",
   "execution_count": 664,
   "metadata": {},
   "outputs": [
    {
     "name": "stdout",
     "output_type": "stream",
     "text": [
      "       0         1\n",
      "0   1283  0.566947\n",
      "1   7637  0.472456\n",
      "2   1277  0.433013\n",
      "3   6568  0.416667\n",
      "4   7258  0.416667\n",
      "5   1298  0.395285\n",
      "6   1754  0.381881\n",
      "7   1287  0.376889\n",
      "8   6202  0.376889\n",
      "9   7250  0.376889\n",
      "10  7291  0.376889\n",
      "11  2888  0.375000\n",
      "12  3337  0.360844\n",
      "13  7100  0.360844\n",
      "14  4235  0.353553\n"
     ]
    },
    {
     "data": {
      "text/plain": [
       "1283         Broccoli in Roast Chicken Drippings\n",
       "7637                              Tangy Broccoli\n",
       "1277         Broccoli Cheese Casserole with Rice\n",
       "6568                             Sesame Broccoli\n",
       "7258                            Steamed Broccoli\n",
       "1298           Broccoli With Lemon Almond Butter\n",
       "1754      Cheesy Cauliflower and Broccoli Gratin\n",
       "1287                          Broccoli Polonaise\n",
       "6202                      Roasted Broccoli Salad\n",
       "7250         Stacey's Fabulous Broccoli Fritters\n",
       "7291         Stir-Fry Broccoli With Orange Sauce\n",
       "2888              Easy Lemon and Garlic Broccoli\n",
       "3337                    Garlic-Sauteed Asparagus\n",
       "7100              Spicy Bok Choy in Garlic Sauce\n",
       "4235    Japanese Spinach with Sweet Sesame Seeds\n",
       "Name: title, dtype: object"
      ]
     },
     "execution_count": 664,
     "metadata": {},
     "output_type": "execute_result"
    }
   ],
   "source": [
    "get_recommendations('Steamed Asian Sesame Veggies', cosine_sim2) "
   ]
  },
  {
   "cell_type": "markdown",
   "metadata": {},
   "source": [
    "##### Example: Urban Legend Chocolate Chip Cookies, TF-IDF"
   ]
  },
  {
   "cell_type": "code",
   "execution_count": 665,
   "metadata": {},
   "outputs": [
    {
     "name": "stdout",
     "output_type": "stream",
     "text": [
      "       0         1\n",
      "0   2353  0.648004\n",
      "1   5271  0.602544\n",
      "2   5200  0.594870\n",
      "3   3365  0.581585\n",
      "4    930  0.566191\n",
      "5   6337  0.553787\n",
      "6    167  0.553109\n",
      "7   2352  0.553017\n",
      "8    355  0.527386\n",
      "9   5272  0.526252\n",
      "10  5372  0.525950\n",
      "11  2056  0.519328\n",
      "12  2053  0.515440\n",
      "13  1169  0.501648\n",
      "14  2057  0.498228\n"
     ]
    },
    {
     "data": {
      "text/plain": [
       "2353                           Cowboy Cookies III\n",
       "5271             Oatmeal Chocolate  Coconut Chewy\n",
       "5200            Never Fail Chocolate Chip Cookies\n",
       "3365                  Giant Chocolate Chip Cookie\n",
       "930                   Best Chocolate Chip Cookies\n",
       "6337                                     Rugelach\n",
       "167                 Anna's Chocolate Chip Cookies\n",
       "2352                   Cowboy Cookie Mix in a Jar\n",
       "355     Award Winning Soft Chocolate Chip Cookies\n",
       "5272             Oatmeal Chocolate Chip Cookies I\n",
       "5372            Outrageous Chocolate Chip Cookies\n",
       "2056           Chocolate Chocolate Chip Cookies I\n",
       "2053               Chocolate Chip Pudding Cookies\n",
       "1169                     Bobbie's Oatmeal Cookies\n",
       "2057          Chocolate Chocolate Chip Cookies II\n",
       "Name: title, dtype: object"
      ]
     },
     "execution_count": 665,
     "metadata": {},
     "output_type": "execute_result"
    }
   ],
   "source": [
    "get_recommendations('Urban Legend Chocolate Chip Cookies', cosine_sim)"
   ]
  },
  {
   "cell_type": "markdown",
   "metadata": {},
   "source": [
    "##### Example: Urban Legend Chocolate Chip Cookies, CountVectorizer"
   ]
  },
  {
   "cell_type": "code",
   "execution_count": 666,
   "metadata": {},
   "outputs": [
    {
     "name": "stdout",
     "output_type": "stream",
     "text": [
      "       0         1\n",
      "0   2353  0.842665\n",
      "1   3365  0.807207\n",
      "2   5200  0.807207\n",
      "3   5271  0.788241\n",
      "4    930  0.777844\n",
      "5    167  0.770154\n",
      "6    355  0.739940\n",
      "7   2056  0.739940\n",
      "8   1169  0.727607\n",
      "9     39  0.713024\n",
      "10  1860  0.713024\n",
      "11  3054  0.713024\n",
      "12  5372  0.713024\n",
      "13  1861  0.700140\n",
      "14  2057  0.700140\n"
     ]
    },
    {
     "data": {
      "text/plain": [
       "2353                                   Cowboy Cookies III\n",
       "3365                          Giant Chocolate Chip Cookie\n",
       "5200                    Never Fail Chocolate Chip Cookies\n",
       "5271                     Oatmeal Chocolate  Coconut Chewy\n",
       "930                           Best Chocolate Chip Cookies\n",
       "167                         Anna's Chocolate Chip Cookies\n",
       "355             Award Winning Soft Chocolate Chip Cookies\n",
       "2056                   Chocolate Chocolate Chip Cookies I\n",
       "1169                             Bobbie's Oatmeal Cookies\n",
       "39      Absolutely Sinful Chocolate Chocolate Chip Coo...\n",
       "1860                 Chewy Chocolate Chip Oatmeal Cookies\n",
       "3054                            Excellent Oatmeal Cookies\n",
       "5372                    Outrageous Chocolate Chip Cookies\n",
       "1861                            Chewy Chocolate Cookies I\n",
       "2057                  Chocolate Chocolate Chip Cookies II\n",
       "Name: title, dtype: object"
      ]
     },
     "execution_count": 666,
     "metadata": {},
     "output_type": "execute_result"
    }
   ],
   "source": [
    "get_recommendations('Urban Legend Chocolate Chip Cookies', cosine_sim2) "
   ]
  },
  {
   "cell_type": "markdown",
   "metadata": {
    "collapsed": true
   },
   "source": [
    "##### Example: Easy Lasagna I, TF-IDF"
   ]
  },
  {
   "cell_type": "code",
   "execution_count": 667,
   "metadata": {},
   "outputs": [
    {
     "name": "stdout",
     "output_type": "stream",
     "text": [
      "        0         1\n",
      "0    9751  1.000000\n",
      "1    2885  0.770240\n",
      "2    9676  0.770240\n",
      "3   10164  0.758116\n",
      "4    9726  0.638372\n",
      "5    6847  0.629023\n",
      "6    9678  0.629023\n",
      "7   10166  0.619934\n",
      "8    4598  0.592855\n",
      "9    9638  0.592855\n",
      "10   9755  0.574881\n",
      "11  10138  0.572962\n",
      "12   9925  0.564682\n",
      "13   2886  0.553953\n",
      "14  10418  0.553953\n"
     ]
    },
    {
     "data": {
      "text/plain": [
       "9751                            Easy Lasagna I\n",
       "2885                           Easy Lasagna II\n",
       "10164                 Easy Four Cheese Lasagna\n",
       "9726                                 Manicotti\n",
       "6847                       Slow Cooker Lasagna\n",
       "10166                Baked Spaghetti Casserole\n",
       "4598                           Linda's Lasagna\n",
       "9755                  Lasagna Alfredo Roll Ups\n",
       "10138                           Cheese Lasagna\n",
       "9925     Easy Spinach Lasagna with White Sauce\n",
       "2886                          Easy Lasagna III\n",
       "Name: title, dtype: object"
      ]
     },
     "execution_count": 667,
     "metadata": {},
     "output_type": "execute_result"
    }
   ],
   "source": [
    "get_recommendations('Easy Lasagna I', cosine_sim)"
   ]
  },
  {
   "cell_type": "markdown",
   "metadata": {},
   "source": [
    "##### Example: Easy Lasagna I, CountVectorizer"
   ]
  },
  {
   "cell_type": "code",
   "execution_count": 668,
   "metadata": {},
   "outputs": [
    {
     "name": "stdout",
     "output_type": "stream",
     "text": [
      "        0         1\n",
      "0    9751  1.000000\n",
      "1    2885  0.741249\n",
      "2    9676  0.741249\n",
      "3   10164  0.739600\n",
      "4    4470  0.686406\n",
      "5   10378  0.686406\n",
      "6    4815  0.668994\n",
      "7    9986  0.668994\n",
      "8   10166  0.668994\n",
      "9    6847  0.667124\n",
      "10   9678  0.667124\n",
      "11   9670  0.644503\n",
      "12   9726  0.640513\n",
      "13  10464  0.624038\n",
      "14    841  0.613941\n"
     ]
    },
    {
     "data": {
      "text/plain": [
       "9751                Easy Lasagna I\n",
       "2885               Easy Lasagna II\n",
       "10164     Easy Four Cheese Lasagna\n",
       "4470               Lazy Lasagna II\n",
       "4815         Meat Filled Manicotti\n",
       "10166    Baked Spaghetti Casserole\n",
       "6847           Slow Cooker Lasagna\n",
       "9670      Hearty Vegetable Lasagna\n",
       "9726                     Manicotti\n",
       "10464         Italian Veggie Rolls\n",
       "841            Beefy Baked Ravioli\n",
       "Name: title, dtype: object"
      ]
     },
     "execution_count": 668,
     "metadata": {},
     "output_type": "execute_result"
    }
   ],
   "source": [
    "get_recommendations('Easy Lasagna I', cosine_sim2)"
   ]
  },
  {
   "cell_type": "markdown",
   "metadata": {},
   "source": [
    "##### Example: \"The Best Post Workout Shake\", TF-IDF"
   ]
  },
  {
   "cell_type": "code",
   "execution_count": 669,
   "metadata": {},
   "outputs": [
    {
     "name": "stdout",
     "output_type": "stream",
     "text": [
      "       0         1\n",
      "0   2642  0.561046\n",
      "1    630  0.506937\n",
      "2    908  0.456710\n",
      "3   3158  0.411110\n",
      "4   7448  0.410628\n",
      "5   5553  0.405977\n",
      "6   3855  0.350684\n",
      "7     29  0.335999\n",
      "8   2413  0.331109\n",
      "9   4320  0.325505\n",
      "10    47  0.309078\n",
      "11  7446  0.306040\n",
      "12  6745  0.300364\n",
      "13  3578  0.300162\n",
      "14  1855  0.296936\n"
     ]
    },
    {
     "data": {
      "text/plain": [
       "2642    Dairy-Free Chocolate Peanut Banana Smoothie\n",
       "630           Banana Chocolate Almond Milk Smoothie\n",
       "908                                 Berry Delicious\n",
       "3158                             Flax Seed Smoothie\n",
       "7448           Superfood Chocolate Pudding Smoothie\n",
       "5553              Peanut Butter Strawberry Smoothie\n",
       "3855             Healthy Cocoa, Banana, PB Smoothie\n",
       "29                    A Very Intense Fruit Smoothie\n",
       "2413                             Cranberry Smoothie\n",
       "4320            Kale and Berries Breakfast Smoothie\n",
       "47                 Acai Rainbow Smoothie Bowl for 2\n",
       "7446                 Superfood Berry-Green Smoothie\n",
       "6745                       Skinny Almond Milk Shake\n",
       "3578                                 Green Smoothie\n",
       "1855                        Cherry Vanilla Smoothie\n",
       "Name: title, dtype: object"
      ]
     },
     "execution_count": 669,
     "metadata": {},
     "output_type": "execute_result"
    }
   ],
   "source": [
    "get_recommendations('The Best Post Workout Shake', cosine_sim) "
   ]
  },
  {
   "cell_type": "markdown",
   "metadata": {},
   "source": [
    "##### Example: \"The Best Post Workout Shake\", CountVectorizer"
   ]
  },
  {
   "cell_type": "code",
   "execution_count": 670,
   "metadata": {},
   "outputs": [
    {
     "name": "stdout",
     "output_type": "stream",
     "text": [
      "       0         1\n",
      "0   2642  0.597614\n",
      "1   7448  0.527046\n",
      "2    630  0.478091\n",
      "3    908  0.478091\n",
      "4   3158  0.478091\n",
      "5   3855  0.478091\n",
      "6   5553  0.478091\n",
      "7   5855  0.447214\n",
      "8   6745  0.447214\n",
      "9     29  0.424264\n",
      "10   642  0.421637\n",
      "11  2047  0.421637\n",
      "12  2413  0.421637\n",
      "13  3578  0.421637\n",
      "14  3900  0.421637\n"
     ]
    },
    {
     "data": {
      "text/plain": [
       "2642     Dairy-Free Chocolate Peanut Banana Smoothie\n",
       "7448            Superfood Chocolate Pudding Smoothie\n",
       "630            Banana Chocolate Almond Milk Smoothie\n",
       "908                                  Berry Delicious\n",
       "3158                              Flax Seed Smoothie\n",
       "3855              Healthy Cocoa, Banana, PB Smoothie\n",
       "5553               Peanut Butter Strawberry Smoothie\n",
       "5855                         Pumpkin Banana Smoothie\n",
       "6745                        Skinny Almond Milk Shake\n",
       "29                     A Very Intense Fruit Smoothie\n",
       "642                       Banana Mocha Protein Shake\n",
       "2047    Chocolate Banana Peanut Butter Protein Shake\n",
       "2413                              Cranberry Smoothie\n",
       "3578                                  Green Smoothie\n",
       "3900                     Heavenly Blueberry Smoothie\n",
       "Name: title, dtype: object"
      ]
     },
     "execution_count": 670,
     "metadata": {},
     "output_type": "execute_result"
    }
   ],
   "source": [
    "get_recommendations('The Best Post Workout Shake', cosine_sim2) "
   ]
  },
  {
   "cell_type": "markdown",
   "metadata": {},
   "source": [
    "#### Results:\n",
    "Both TF-IDF and CountVectorizer produced reasonable recipe recommendations based on the submitted recipe title. Many of the first few recipes returned were the same, but there were variations after about the fourth recipe. Overall, while both produced reasonable results, I found that the TF-IDF matrix returned recipes which were closer to the recipe title submitted. For example, \"Steamed Asian Vegetables\" results using the TF-IDF matrix returned on the mark recipes like \"Stir-Fry Broccoli With Orange Sauce\", while the CountVectorizer matrix, we see somewhat off the mark recipes like \"Cheesy Cauliflower and Broccoli Gratin\".\n"
   ]
  },
  {
   "cell_type": "markdown",
   "metadata": {},
   "source": [
    "## 2 - Recommender System Considering Ratings and Number of Reviews"
   ]
  },
  {
   "cell_type": "markdown",
   "metadata": {},
   "source": [
    "Since ratings can be different based on the number of reviews, for example should a recipe with only 3 ratings, where the average rating is 5.0, be evaluated as having a truly higher rating than a recipe with 500 ratings, where the average rating is about 4.0?<br>\n",
    "\n",
    "In order to be fair, we are going to use a weighted ratings.<br>\n",
    "\n",
    "v: number of reviews for the recipe<br>\n",
    "\n",
    "m: minimum number of votes required to be listed<br>\n",
    "\n",
    "R: average rating of the recipe<br>\n",
    "\n",
    "C: mean vote across all recipes<br>\n",
    "\n",
    "We will use 90th percentile as the cutoff in terms of number of reviews.<br>\n"
   ]
  },
  {
   "cell_type": "code",
   "execution_count": 671,
   "metadata": {
    "collapsed": true
   },
   "outputs": [],
   "source": [
    "# read in fields title, ingredients and categories\n",
    "dataR = data \n"
   ]
  },
  {
   "cell_type": "code",
   "execution_count": 672,
   "metadata": {},
   "outputs": [
    {
     "name": "stdout",
     "output_type": "stream",
     "text": [
      "average rating of all recipes:  4.166075697211155\n"
     ]
    }
   ],
   "source": [
    "C = dataR['rating'].mean()\n",
    "print(\"average rating of all recipes: \",C)"
   ]
  },
  {
   "cell_type": "code",
   "execution_count": 673,
   "metadata": {
    "scrolled": true
   },
   "outputs": [
    {
     "name": "stdout",
     "output_type": "stream",
     "text": [
      "90th percentile for number of reviews, i.e. the top 10th percentile recipes that have been reviewed the most:  474.0\n"
     ]
    }
   ],
   "source": [
    "m = dataR['review_cnt'].quantile(0.9)\n",
    "print(\"90th percentile for number of reviews, i.e. the top 10th percentile recipes that have been reviewed the most: \",m)"
   ]
  },
  {
   "cell_type": "code",
   "execution_count": 674,
   "metadata": {},
   "outputs": [
    {
     "data": {
      "text/plain": [
       "(1058, 10)"
      ]
     },
     "execution_count": 674,
     "metadata": {},
     "output_type": "execute_result"
    }
   ],
   "source": [
    "# Filter out all qualified recipes into a new DataFrame\n",
    "q_data = dataR.copy().loc[dataR['review_cnt'] >= m]\n",
    "q_data.shape"
   ]
  },
  {
   "cell_type": "markdown",
   "metadata": {},
   "source": [
    "There are 872 recipes which qualify to be in this list. Now, we need to calculate our metric for each qualified recipe. To do this, we will define a function, weighted_rating() and define a new feature score, of which we'll calculate the value by applying this function to our dataframe of qualified recipes:"
   ]
  },
  {
   "cell_type": "code",
   "execution_count": 675,
   "metadata": {
    "collapsed": true
   },
   "outputs": [],
   "source": [
    "# Function that computes the weighted rating of each recipe\n",
    "def weighted_rating(x, m=m, C=C):\n",
    "    v = x['review_cnt']\n",
    "    R = x['rating']\n",
    "    # Calculation based on the IMDB formula\n",
    "    return (v/(v+m) * R) + (m/(m+v) * C)\n"
   ]
  },
  {
   "cell_type": "code",
   "execution_count": 676,
   "metadata": {
    "collapsed": true
   },
   "outputs": [],
   "source": [
    "# Define a new feature 'score' and calculate its value with `weighted_rating()`\n",
    "q_data['score'] = q_data.apply(weighted_rating, axis=1)"
   ]
  },
  {
   "cell_type": "code",
   "execution_count": 677,
   "metadata": {
    "collapsed": true
   },
   "outputs": [],
   "source": [
    "#Sort recipes based on score calculated above\n",
    "q_data = q_data.sort_values('score', ascending=False)\n",
    "q_data2 = q_data[['title','category', 'review_cnt', 'rating', 'score']].drop_duplicates('title',keep=False)\n"
   ]
  },
  {
   "cell_type": "markdown",
   "metadata": {},
   "source": [
    "#### Top 20 Recipes by Average Rating and Number of Reviews"
   ]
  },
  {
   "cell_type": "code",
   "execution_count": 678,
   "metadata": {},
   "outputs": [
    {
     "data": {
      "text/html": [
       "<div>\n",
       "<style scoped>\n",
       "    .dataframe tbody tr th:only-of-type {\n",
       "        vertical-align: middle;\n",
       "    }\n",
       "\n",
       "    .dataframe tbody tr th {\n",
       "        vertical-align: top;\n",
       "    }\n",
       "\n",
       "    .dataframe thead th {\n",
       "        text-align: right;\n",
       "    }\n",
       "</style>\n",
       "<table border=\"1\" class=\"dataframe\">\n",
       "  <thead>\n",
       "    <tr style=\"text-align: right;\">\n",
       "      <th></th>\n",
       "      <th>title</th>\n",
       "      <th>category</th>\n",
       "      <th>review_cnt</th>\n",
       "      <th>rating</th>\n",
       "      <th>score</th>\n",
       "    </tr>\n",
       "  </thead>\n",
       "  <tbody>\n",
       "    <tr>\n",
       "      <th>3163</th>\n",
       "      <td>Fluffy Pancakes</td>\n",
       "      <td>Pancakes</td>\n",
       "      <td>9933</td>\n",
       "      <td>4.82</td>\n",
       "      <td>4.790216</td>\n",
       "    </tr>\n",
       "    <tr>\n",
       "      <th>1932</th>\n",
       "      <td>Chicken Pot Pie IX</td>\n",
       "      <td>Chicken Breasts</td>\n",
       "      <td>8068</td>\n",
       "      <td>4.81</td>\n",
       "      <td>4.774268</td>\n",
       "    </tr>\n",
       "    <tr>\n",
       "      <th>636</th>\n",
       "      <td>Banana Crumb Muffins</td>\n",
       "      <td>Banana Muffins</td>\n",
       "      <td>9774</td>\n",
       "      <td>4.80</td>\n",
       "      <td>4.770679</td>\n",
       "    </tr>\n",
       "    <tr>\n",
       "      <th>2760</th>\n",
       "      <td>Downeast Maine Pumpkin Bread</td>\n",
       "      <td>Breakfast Bread</td>\n",
       "      <td>6877</td>\n",
       "      <td>4.81</td>\n",
       "      <td>4.768479</td>\n",
       "    </tr>\n",
       "    <tr>\n",
       "      <th>4229</th>\n",
       "      <td>Janet's Rich Banana Bread</td>\n",
       "      <td>Banana Bread</td>\n",
       "      <td>4944</td>\n",
       "      <td>4.82</td>\n",
       "      <td>4.762791</td>\n",
       "    </tr>\n",
       "    <tr>\n",
       "      <th>2185</th>\n",
       "      <td>Clone of a Cinnabon</td>\n",
       "      <td>Yeast Bread</td>\n",
       "      <td>5629</td>\n",
       "      <td>4.81</td>\n",
       "      <td>4.759989</td>\n",
       "    </tr>\n",
       "    <tr>\n",
       "      <th>7618</th>\n",
       "      <td>Taco Seasoning I</td>\n",
       "      <td>Mexican</td>\n",
       "      <td>4348</td>\n",
       "      <td>4.82</td>\n",
       "      <td>4.755720</td>\n",
       "    </tr>\n",
       "    <tr>\n",
       "      <th>3494</th>\n",
       "      <td>Grandmother's Buttermilk Cornbread</td>\n",
       "      <td>Cornbread</td>\n",
       "      <td>4906</td>\n",
       "      <td>4.81</td>\n",
       "      <td>4.753268</td>\n",
       "    </tr>\n",
       "    <tr>\n",
       "      <th>1172</th>\n",
       "      <td>Boilermaker Tailgate Chili</td>\n",
       "      <td>Beef Chili</td>\n",
       "      <td>4663</td>\n",
       "      <td>4.81</td>\n",
       "      <td>4.750584</td>\n",
       "    </tr>\n",
       "    <tr>\n",
       "      <th>3731</th>\n",
       "      <td>Guacamole</td>\n",
       "      <td>Guacamole</td>\n",
       "      <td>4222</td>\n",
       "      <td>4.81</td>\n",
       "      <td>4.745004</td>\n",
       "    </tr>\n",
       "    <tr>\n",
       "      <th>196</th>\n",
       "      <td>Apple Pie by Grandma Ople</td>\n",
       "      <td>Fruit Pies</td>\n",
       "      <td>7720</td>\n",
       "      <td>4.77</td>\n",
       "      <td>4.735065</td>\n",
       "    </tr>\n",
       "    <tr>\n",
       "      <th>6702</th>\n",
       "      <td>Simple Scones</td>\n",
       "      <td>Scones</td>\n",
       "      <td>1917</td>\n",
       "      <td>4.87</td>\n",
       "      <td>4.730452</td>\n",
       "    </tr>\n",
       "    <tr>\n",
       "      <th>7866</th>\n",
       "      <td>Too Much Chocolate Cake</td>\n",
       "      <td>Chocolate</td>\n",
       "      <td>5200</td>\n",
       "      <td>4.78</td>\n",
       "      <td>4.728713</td>\n",
       "    </tr>\n",
       "    <tr>\n",
       "      <th>136</th>\n",
       "      <td>Amish White Bread</td>\n",
       "      <td>White Bread</td>\n",
       "      <td>4277</td>\n",
       "      <td>4.79</td>\n",
       "      <td>4.727752</td>\n",
       "    </tr>\n",
       "    <tr>\n",
       "      <th>1907</th>\n",
       "      <td>Chicken Cordon Bleu II</td>\n",
       "      <td>French</td>\n",
       "      <td>4443</td>\n",
       "      <td>4.78</td>\n",
       "      <td>4.720818</td>\n",
       "    </tr>\n",
       "    <tr>\n",
       "      <th>5549</th>\n",
       "      <td>Peanut Butter Cup Cookies</td>\n",
       "      <td>Cookies</td>\n",
       "      <td>3063</td>\n",
       "      <td>4.80</td>\n",
       "      <td>4.715047</td>\n",
       "    </tr>\n",
       "    <tr>\n",
       "      <th>8259</th>\n",
       "      <td>White Chocolate Raspberry Cheesecake</td>\n",
       "      <td>Raspberry Desserts</td>\n",
       "      <td>2263</td>\n",
       "      <td>4.83</td>\n",
       "      <td>4.715020</td>\n",
       "    </tr>\n",
       "    <tr>\n",
       "      <th>5073</th>\n",
       "      <td>Mom's Zucchini Bread</td>\n",
       "      <td>Breakfast Bread</td>\n",
       "      <td>6621</td>\n",
       "      <td>4.75</td>\n",
       "      <td>4.710989</td>\n",
       "    </tr>\n",
       "    <tr>\n",
       "      <th>654</th>\n",
       "      <td>Banana Sour Cream Bread</td>\n",
       "      <td>Breakfast Bread</td>\n",
       "      <td>4118</td>\n",
       "      <td>4.77</td>\n",
       "      <td>4.707661</td>\n",
       "    </tr>\n",
       "    <tr>\n",
       "      <th>1571</th>\n",
       "      <td>Caramel Popcorn</td>\n",
       "      <td>Popcorn Candy</td>\n",
       "      <td>1777</td>\n",
       "      <td>4.85</td>\n",
       "      <td>4.705984</td>\n",
       "    </tr>\n",
       "  </tbody>\n",
       "</table>\n",
       "</div>"
      ],
      "text/plain": [
       "                                     title            category  review_cnt  \\\n",
       "3163                       Fluffy Pancakes            Pancakes        9933   \n",
       "1932                    Chicken Pot Pie IX     Chicken Breasts        8068   \n",
       "636                   Banana Crumb Muffins      Banana Muffins        9774   \n",
       "2760          Downeast Maine Pumpkin Bread     Breakfast Bread        6877   \n",
       "4229             Janet's Rich Banana Bread        Banana Bread        4944   \n",
       "2185                   Clone of a Cinnabon         Yeast Bread        5629   \n",
       "7618                      Taco Seasoning I             Mexican        4348   \n",
       "3494    Grandmother's Buttermilk Cornbread           Cornbread        4906   \n",
       "1172            Boilermaker Tailgate Chili          Beef Chili        4663   \n",
       "3731                             Guacamole           Guacamole        4222   \n",
       "196              Apple Pie by Grandma Ople          Fruit Pies        7720   \n",
       "6702                         Simple Scones              Scones        1917   \n",
       "7866               Too Much Chocolate Cake           Chocolate        5200   \n",
       "136                      Amish White Bread         White Bread        4277   \n",
       "1907                Chicken Cordon Bleu II              French        4443   \n",
       "5549             Peanut Butter Cup Cookies             Cookies        3063   \n",
       "8259  White Chocolate Raspberry Cheesecake  Raspberry Desserts        2263   \n",
       "5073                  Mom's Zucchini Bread     Breakfast Bread        6621   \n",
       "654                Banana Sour Cream Bread     Breakfast Bread        4118   \n",
       "1571                       Caramel Popcorn       Popcorn Candy        1777   \n",
       "\n",
       "      rating     score  \n",
       "3163    4.82  4.790216  \n",
       "1932    4.81  4.774268  \n",
       "636     4.80  4.770679  \n",
       "2760    4.81  4.768479  \n",
       "4229    4.82  4.762791  \n",
       "2185    4.81  4.759989  \n",
       "7618    4.82  4.755720  \n",
       "3494    4.81  4.753268  \n",
       "1172    4.81  4.750584  \n",
       "3731    4.81  4.745004  \n",
       "196     4.77  4.735065  \n",
       "6702    4.87  4.730452  \n",
       "7866    4.78  4.728713  \n",
       "136     4.79  4.727752  \n",
       "1907    4.78  4.720818  \n",
       "5549    4.80  4.715047  \n",
       "8259    4.83  4.715020  \n",
       "5073    4.75  4.710989  \n",
       "654     4.77  4.707661  \n",
       "1571    4.85  4.705984  "
      ]
     },
     "execution_count": 678,
     "metadata": {},
     "output_type": "execute_result"
    }
   ],
   "source": [
    "#Print the top 20 recipes\n",
    "q_data2.head(20)"
   ]
  },
  {
   "cell_type": "markdown",
   "metadata": {},
   "source": [
    "Our dataset does not include individual user ratings. Shown above we can see the highest rated recipes overall as determined by the average rating and number of reviews. While this may represent the overall average ratings, it is not personalized to individual preferences. We would need individual user preference data to better recommend recipes for individuals.  For example, if someone is following a low-carb diet, then almost none of these highest rated recipes would be relevant to that person.  "
   ]
  },
  {
   "cell_type": "markdown",
   "metadata": {},
   "source": [
    "## 3 - Recommender System with Word2Vec"
   ]
  },
  {
   "cell_type": "markdown",
   "metadata": {},
   "source": [
    "One of the key ideas in Natural Language Processing (NLP) is converting words into numeric vectors. The vectors are then fed into machine learning models in order to perform predictions.\n",
    "One way of converting words into numeric vectors is to use a \"one-hot\" method whick converts one element of the vector to a 1 value with the rest of the elements being 0. So a sentence like \"the cat sat on the mat\" would be converted to a 6x5 matrix that looks like:\n",
    "\n",
    "the 1 0 0 0 0<br>\n",
    "cat 0 1 0 0 0<br>\n",
    "sat 0 0 1 0 0<br>\n",
    "on  0 0 0 1 0<br>\n",
    "the 1 0 0 0 0<br>\n",
    "mat 0 0 0 0 1<br>\n",
    "\n",
    "As the dataset grows larger, the one hot encoding method becomes inefficient. It also does not show the similarity among words. <br>\n",
    "\n",
    "The first component to the Word2Vec methodology is word embedding while maintaining context. One approach to doing this is the Skip-Gram method in which we take an input word and then try to estimate the probability of other words appearing close to that word. The second method is Continuous Bag of Words (CBOW), which does the opposite.  It takes some context words as input and then tries to find a single word that has the highest probability of fitting that context.[1]<br>\n",
    "\n"
   ]
  },
  {
   "cell_type": "markdown",
   "metadata": {},
   "source": [
    "### Gensim Word2Vec"
   ]
  },
  {
   "cell_type": "code",
   "execution_count": 478,
   "metadata": {
    "collapsed": true
   },
   "outputs": [],
   "source": [
    "from string import punctuation\n",
    "from os import listdir\n",
    "from nltk.corpus import stopwords\n",
    "from gensim.models import Word2Vec\n",
    "import gensim \n",
    "import urllib\n",
    "import collections\n",
    "import os\n",
    "import zipfile\n",
    "from __future__ import absolute_import, division, print_function\n",
    "import codecs\n",
    "import glob\n",
    "import multiprocessing\n",
    "import pprint\n",
    "import re\n",
    "import nltk\n",
    "import gensim.models.word2vec as w2v\n",
    "import sklearn.manifold\n",
    "import matplotlib.pyplot as plt\n",
    "import pandas as pd\n"
   ]
  },
  {
   "cell_type": "markdown",
   "metadata": {},
   "source": [
    "Word2Vec is a group of related models that are used to produce word embeddings. These models are shallow, two layer neural networks that are trained to reconstruct linguistic contexts of words. Word2Vec produces a vector space of hundreds of dimensions, with each unique word assigned a corresponding vector in the space. Word vectors are positioned in the vector space such that words that share common contexts are located near to one another in the space.[2]"
   ]
  },
  {
   "cell_type": "markdown",
   "metadata": {},
   "source": [
    "Word2Vec learns the context of a word by looking at the words which commonly occur around the target word. Words which have similar contexts share meaning under Word2Vec, and their reduced vector representations will be similar.  In the skip-gram model version of Word2Vec the goal is to take a target word and predict the surrounding context words. We will attempt to apply this technique to recipe ingredients, learning ingredients that commonly occur together. <br>\n",
    "\n",
    "We will supply our input target words as one-hot vectors to the neural network.  Then, via a hidden layer, we will train the neural network to increase the probability of valid context words, while decreasing the probability of invalid context words.<br>\n",
    "\n",
    "There are two variants of the Word2Vec paradigm: skip-gram and CBOW. The skip-gram variant takes a target word and tries to predict the surrounding context words. The CBOW (continuous bag of words) variant takes a set of context words and tries to predict a target word.  In this case, we will be considering the skip-gram variant."
   ]
  },
  {
   "cell_type": "markdown",
   "metadata": {},
   "source": [
    "We also need a way of ensuring that as the network trains, words which are similar end up having similar embedding vectors.  We want to ensure that the trained network will always output a 1 when it is supplied words which are in the same context, but 0 when it is supplied words which are never in the same context. Therefore, we need a vector similarity score supplied to the output sigmoid layer – with similar vectors outputting a high score and un-similar vectors outputting a low score. As we did previously, we will use the cosine similarity score.<br>\n"
   ]
  },
  {
   "cell_type": "code",
   "execution_count": 479,
   "metadata": {},
   "outputs": [
    {
     "name": "stdout",
     "output_type": "stream",
     "text": [
      "[nltk_data] Downloading package punkt to\n",
      "[nltk_data]     /Users/claudiacassidy/nltk_data...\n",
      "[nltk_data]   Package punkt is already up-to-date!\n",
      "[nltk_data] Downloading package stopwords to\n",
      "[nltk_data]     /Users/claudiacassidy/nltk_data...\n",
      "[nltk_data]   Package stopwords is already up-to-date!\n"
     ]
    },
    {
     "data": {
      "text/plain": [
       "True"
      ]
     },
     "execution_count": 479,
     "metadata": {},
     "output_type": "execute_result"
    }
   ],
   "source": [
    "nltk.download('punkt')\n",
    "nltk.download('stopwords')"
   ]
  },
  {
   "cell_type": "code",
   "execution_count": 480,
   "metadata": {
    "collapsed": true
   },
   "outputs": [],
   "source": [
    "tokenizer = nltk.data.load('tokenizers/punkt/english.pickle')\n"
   ]
  },
  {
   "cell_type": "code",
   "execution_count": 481,
   "metadata": {
    "collapsed": true
   },
   "outputs": [],
   "source": [
    "dataR = data[['title','category','categories','ingred','ingred_cat','rating','review_cnt','reviews_text']].copy()\n"
   ]
  },
  {
   "cell_type": "markdown",
   "metadata": {},
   "source": [
    "##### Convert the ingredients and categories into a list of words"
   ]
  },
  {
   "cell_type": "code",
   "execution_count": 482,
   "metadata": {
    "collapsed": true
   },
   "outputs": [],
   "source": [
    "# Convert ingred_cat into a list of words\n",
    "# Remove unnnecessary characters, split into words\n",
    "def sentence_to_wordlist(raw):\n",
    "    clean = re.sub(\"[^a-zA-Z]\",\" \", raw)\n",
    "    words = clean.split()\n",
    "    return words"
   ]
  },
  {
   "cell_type": "markdown",
   "metadata": {},
   "source": [
    "##### Create tokens for each word"
   ]
  },
  {
   "cell_type": "code",
   "execution_count": 483,
   "metadata": {
    "collapsed": true
   },
   "outputs": [],
   "source": [
    "sentences = []\n",
    "for raw_sentence in dataR['ingred_cat']:\n",
    "    if len(raw_sentence) > 0:\n",
    "        sentences.append(sentence_to_wordlist(raw_sentence))"
   ]
  },
  {
   "cell_type": "code",
   "execution_count": 484,
   "metadata": {},
   "outputs": [
    {
     "name": "stdout",
     "output_type": "stream",
     "text": [
      "The recipes corpus contains 140,329 tokens\n"
     ]
    }
   ],
   "source": [
    "\n",
    "token_count = sum([len(words) for words in sentences])\n",
    "print(\"The recipes corpus contains {0:,} tokens\".format(token_count))"
   ]
  },
  {
   "cell_type": "markdown",
   "metadata": {},
   "source": [
    "The quality of word embedding increases with higher dimensionality, but after reaching some point, marginal gain will diminish and it can become more computationally expensive to train. Typically, the dimensionality of the vectors is set to be between 100 and 1,000.  We will set the dimensionality to 300.[2] "
   ]
  },
  {
   "cell_type": "code",
   "execution_count": 485,
   "metadata": {
    "collapsed": true
   },
   "outputs": [],
   "source": [
    "#vectors help with distance, similarity, ranking\n",
    "\n",
    "num_features = 300\n",
    "\n",
    "#minimum word count threshold\n",
    "min_word_count = 3\n",
    "\n",
    "num_workers = multiprocessing.cpu_count()\n",
    "\n",
    "#context window length\n",
    "context_size = 7\n",
    "\n",
    "#downsample setting for frequent words\n",
    "#0 - 1e-5 is good for this\n",
    "downsampling = 1e-3\n",
    "\n",
    "#random number generator\n",
    "#deterministic, good for debugging\n",
    "seed = 1\n"
   ]
  },
  {
   "cell_type": "markdown",
   "metadata": {},
   "source": [
    "### Training Word2vec"
   ]
  },
  {
   "cell_type": "code",
   "execution_count": 486,
   "metadata": {
    "collapsed": true
   },
   "outputs": [],
   "source": [
    "model = w2v.Word2Vec(sg=1,\n",
    "                     seed=seed,\n",
    "                     workers=num_workers,\n",
    "                     size=num_features,\n",
    "                     min_count=min_word_count,\n",
    "                     window=context_size,\n",
    "                     sample=downsampling)"
   ]
  },
  {
   "cell_type": "code",
   "execution_count": 487,
   "metadata": {
    "collapsed": true
   },
   "outputs": [],
   "source": [
    "# loads corpus into memory\n",
    "model.build_vocab(sentences, update=False)\n"
   ]
  },
  {
   "cell_type": "code",
   "execution_count": 488,
   "metadata": {},
   "outputs": [
    {
     "data": {
      "text/plain": [
       "(987523, 1403290)"
      ]
     },
     "execution_count": 488,
     "metadata": {},
     "output_type": "execute_result"
    }
   ],
   "source": [
    "model.train(sentences,total_examples=model.corpus_count,epochs=10)"
   ]
  },
  {
   "cell_type": "code",
   "execution_count": 489,
   "metadata": {
    "collapsed": true
   },
   "outputs": [],
   "source": [
    "#model.wv.accuracy(sentences)"
   ]
  },
  {
   "cell_type": "code",
   "execution_count": 491,
   "metadata": {
    "collapsed": true
   },
   "outputs": [],
   "source": [
    "#from gensim.models import KeyedVectors\n",
    "\n",
    "#model_tfidf = Word2Vec(tfidf_matrix, size=100, window=5, min_count=5, workers=4)\n",
    "\n",
    "#model_tfidf.build_vocab(tfidf_matrix, update=False)\n",
    "\n"
   ]
  },
  {
   "cell_type": "code",
   "execution_count": null,
   "metadata": {
    "collapsed": true
   },
   "outputs": [],
   "source": []
  },
  {
   "cell_type": "code",
   "execution_count": null,
   "metadata": {
    "collapsed": true
   },
   "outputs": [],
   "source": []
  },
  {
   "cell_type": "code",
   "execution_count": null,
   "metadata": {
    "collapsed": true
   },
   "outputs": [],
   "source": []
  },
  {
   "cell_type": "code",
   "execution_count": 492,
   "metadata": {
    "collapsed": true
   },
   "outputs": [],
   "source": [
    "# save the trained model to file model.w2v\n",
    "if not os.path.exists(\"trained\"):\n",
    "    os.makedirs(\"trained\")\n",
    "\n",
    "model.save(os.path.join(\"trained\",\"model.w2v\"))"
   ]
  },
  {
   "cell_type": "code",
   "execution_count": 493,
   "metadata": {
    "collapsed": true
   },
   "outputs": [],
   "source": [
    "# to load the model from file\n",
    "ingred_cat_model = w2v.Word2Vec.load(os.path.join(\"trained\", \"model.w2v\"))"
   ]
  },
  {
   "cell_type": "code",
   "execution_count": 494,
   "metadata": {},
   "outputs": [
    {
     "name": "stdout",
     "output_type": "stream",
     "text": [
      "Word2Vec(vocab=2859, size=300, alpha=0.025)\n"
     ]
    }
   ],
   "source": [
    "print(ingred_cat_model)"
   ]
  },
  {
   "cell_type": "code",
   "execution_count": null,
   "metadata": {
    "collapsed": true
   },
   "outputs": [],
   "source": []
  },
  {
   "cell_type": "code",
   "execution_count": null,
   "metadata": {
    "collapsed": true
   },
   "outputs": [],
   "source": []
  },
  {
   "cell_type": "code",
   "execution_count": null,
   "metadata": {
    "collapsed": true
   },
   "outputs": [],
   "source": []
  },
  {
   "cell_type": "code",
   "execution_count": null,
   "metadata": {
    "collapsed": true
   },
   "outputs": [],
   "source": []
  },
  {
   "cell_type": "code",
   "execution_count": null,
   "metadata": {
    "collapsed": true
   },
   "outputs": [],
   "source": []
  },
  {
   "cell_type": "markdown",
   "metadata": {},
   "source": [
    "##### We will use TSNE to visualize the high dimensional data.<br>\n",
    "t-distributed stochastic neighbor embedding is a nonlinear dimensionality reduction technique that is useful for embedding high dimensional data into a space of two or three dimensions, which can then be ivuslized in a scatter plot. Similar objects are modeled by nearby points and dissimilar objects are modeled by distant points.[3]"
   ]
  },
  {
   "cell_type": "code",
   "execution_count": 59,
   "metadata": {
    "collapsed": true
   },
   "outputs": [],
   "source": [
    "# TSNE is a tool to visualize high dimensional data. \n",
    "tsne = sklearn.manifold.TSNE(n_components=2,random_state=0)"
   ]
  },
  {
   "cell_type": "code",
   "execution_count": 60,
   "metadata": {},
   "outputs": [
    {
     "name": "stderr",
     "output_type": "stream",
     "text": [
      "/usr/local/Cellar/python3/3.6.4_2/Frameworks/Python.framework/Versions/3.6/lib/python3.6/site-packages/ipykernel_launcher.py:1: DeprecationWarning: Call to deprecated `syn0` (Attribute will be removed in 4.0.0, use self.wv.vectors instead).\n",
      "  \"\"\"Entry point for launching an IPython kernel.\n"
     ]
    }
   ],
   "source": [
    "all_word_vectors_matrix = ingred_cat_model.wv.syn0"
   ]
  },
  {
   "cell_type": "code",
   "execution_count": 61,
   "metadata": {
    "collapsed": true
   },
   "outputs": [],
   "source": [
    "all_word_vectors_matrix_2d = tsne.fit_transform(all_word_vectors_matrix)"
   ]
  },
  {
   "cell_type": "code",
   "execution_count": 62,
   "metadata": {
    "collapsed": true
   },
   "outputs": [],
   "source": [
    "points = pd.DataFrame(\n",
    "    [\n",
    "        (word, coords[0], coords[1])\n",
    "        for word, coords in [\n",
    "            (word, all_word_vectors_matrix_2d[ingred_cat_model.wv.vocab[word].index])\n",
    "            for word in ingred_cat_model.wv.vocab\n",
    "        ]\n",
    "    ],\n",
    "    columns=[\"word\",\"x\",\"y\"]\n",
    ")"
   ]
  },
  {
   "cell_type": "code",
   "execution_count": 63,
   "metadata": {},
   "outputs": [
    {
     "data": {
      "text/html": [
       "<div>\n",
       "<style scoped>\n",
       "    .dataframe tbody tr th:only-of-type {\n",
       "        vertical-align: middle;\n",
       "    }\n",
       "\n",
       "    .dataframe tbody tr th {\n",
       "        vertical-align: top;\n",
       "    }\n",
       "\n",
       "    .dataframe thead th {\n",
       "        text-align: right;\n",
       "    }\n",
       "</style>\n",
       "<table border=\"1\" class=\"dataframe\">\n",
       "  <thead>\n",
       "    <tr style=\"text-align: right;\">\n",
       "      <th></th>\n",
       "      <th>word</th>\n",
       "      <th>x</th>\n",
       "      <th>y</th>\n",
       "    </tr>\n",
       "  </thead>\n",
       "  <tbody>\n",
       "    <tr>\n",
       "      <th>0</th>\n",
       "      <td>blackbeans</td>\n",
       "      <td>3.633086</td>\n",
       "      <td>-40.046722</td>\n",
       "    </tr>\n",
       "    <tr>\n",
       "      <th>1</th>\n",
       "      <td>chickenbroth</td>\n",
       "      <td>32.027565</td>\n",
       "      <td>-9.375919</td>\n",
       "    </tr>\n",
       "    <tr>\n",
       "      <th>2</th>\n",
       "      <td>more</td>\n",
       "      <td>-52.052685</td>\n",
       "      <td>-12.304726</td>\n",
       "    </tr>\n",
       "    <tr>\n",
       "      <th>3</th>\n",
       "      <td>tomatopaste</td>\n",
       "      <td>18.268381</td>\n",
       "      <td>-35.221241</td>\n",
       "    </tr>\n",
       "    <tr>\n",
       "      <th>4</th>\n",
       "      <td>groundcumin</td>\n",
       "      <td>4.575227</td>\n",
       "      <td>-38.123531</td>\n",
       "    </tr>\n",
       "  </tbody>\n",
       "</table>\n",
       "</div>"
      ],
      "text/plain": [
       "           word          x          y\n",
       "0    blackbeans   3.633086 -40.046722\n",
       "1  chickenbroth  32.027565  -9.375919\n",
       "2          more -52.052685 -12.304726\n",
       "3   tomatopaste  18.268381 -35.221241\n",
       "4   groundcumin   4.575227 -38.123531"
      ]
     },
     "execution_count": 63,
     "metadata": {},
     "output_type": "execute_result"
    }
   ],
   "source": [
    "points.head(5)"
   ]
  },
  {
   "cell_type": "markdown",
   "metadata": {},
   "source": [
    "Shown above is a sample of ingredients and there x,y coordinates."
   ]
  },
  {
   "cell_type": "code",
   "execution_count": 64,
   "metadata": {
    "collapsed": true
   },
   "outputs": [],
   "source": [
    "# Reset index of the main DataFrame and construct reverse mapping as before\n",
    "dataR = dataR.reset_index()\n",
    "indices = pd.Series(dataR.index, index=dataR['ingred_cat'])"
   ]
  },
  {
   "cell_type": "code",
   "execution_count": 65,
   "metadata": {
    "collapsed": true
   },
   "outputs": [],
   "source": [
    "import seaborn as sns\n",
    "sns.set_context(\"poster\")"
   ]
  },
  {
   "cell_type": "markdown",
   "metadata": {},
   "source": [
    "Here is a scatter plot of our ingredient words."
   ]
  },
  {
   "cell_type": "code",
   "execution_count": 66,
   "metadata": {},
   "outputs": [
    {
     "data": {
      "text/plain": [
       "<matplotlib.axes._subplots.AxesSubplot at 0x119630d68>"
      ]
     },
     "execution_count": 66,
     "metadata": {},
     "output_type": "execute_result"
    },
    {
     "data": {
      "image/png": "[encoded data removed]",
      "text/plain": [
       "<Figure size 1440x864 with 1 Axes>"
      ]
     },
     "metadata": {},
     "output_type": "display_data"
    }
   ],
   "source": [
    "#plot the word vectors\n",
    "points.plot.scatter(\"x\",\"y\", s=10, figsize=(20,12))"
   ]
  },
  {
   "cell_type": "markdown",
   "metadata": {},
   "source": [
    "Shown below is a zoomed in region of the scatter plot. It shows that similar items are located near each other.  For example, it shows how potato rounds are near hash brown potatoes."
   ]
  },
  {
   "cell_type": "code",
   "execution_count": 67,
   "metadata": {
    "collapsed": true
   },
   "outputs": [],
   "source": [
    "#zoom in\n",
    "\n",
    "def plot_region(x_bounds,y_bounds):\n",
    "    slice = points[\n",
    "        (x_bounds[0] <= points.x) &\n",
    "        (points.x <= x_bounds[1]) &\n",
    "        (y_bounds[0] <= points.y) &\n",
    "        (points.y <= y_bounds[1])\n",
    "    ]\n",
    "    \n",
    "    ax = slice.plot.scatter(\"x\", \"y\", s=35, figsize=(10,8))\n",
    "    for i, point in slice.iterrows():\n",
    "        ax.text(point.x + 0.005, point.y + 0.005, point.word, fontsize=11)\n",
    "        \n",
    "    "
   ]
  },
  {
   "cell_type": "code",
   "execution_count": 68,
   "metadata": {},
   "outputs": [
    {
     "data": {
      "image/png": "[encoded data removed]",
      "text/plain": [
       "<Figure size 720x576 with 1 Axes>"
      ]
     },
     "metadata": {},
     "output_type": "display_data"
    }
   ],
   "source": [
    "plot_region(x_bounds=(16.1,20.8), y_bounds=(16.1,23.1))"
   ]
  },
  {
   "cell_type": "markdown",
   "metadata": {},
   "source": [
    "### Finding items which are most similar to a given ingredient<br>"
   ]
  },
  {
   "cell_type": "markdown",
   "metadata": {},
   "source": [
    "We can now submit an ingredient and get a prediction of which other ingredients are most related to the given ingredient. Shown below are several examples."
   ]
  },
  {
   "cell_type": "markdown",
   "metadata": {},
   "source": [
    "##### Ingredients which are most related to ground beef:"
   ]
  },
  {
   "cell_type": "code",
   "execution_count": 69,
   "metadata": {},
   "outputs": [
    {
     "data": {
      "text/plain": [
       "[('extraleangroundbeef', 0.7815635204315186),\n",
       " ('condensedtomatosoup', 0.7164989113807678),\n",
       " ('stuffedmaindishes', 0.7025444507598877),\n",
       " ('groundsausage', 0.6991275548934937),\n",
       " ('meatloaf', 0.6882720589637756),\n",
       " ('groundround', 0.6846973896026611),\n",
       " ('tomatosauce', 0.6813905239105225),\n",
       " ('hotItaliansausage', 0.6812014579772949),\n",
       " ('extragroundbeef', 0.68055260181427),\n",
       " ('dryzitipasta', 0.6782288551330566)]"
      ]
     },
     "execution_count": 69,
     "metadata": {},
     "output_type": "execute_result"
    }
   ],
   "source": [
    "\n",
    "ingred_cat_model.wv.most_similar(\"groundbeef\")"
   ]
  },
  {
   "cell_type": "markdown",
   "metadata": {},
   "source": [
    "##### Ingredients which are most related to tomatoes:"
   ]
  },
  {
   "cell_type": "code",
   "execution_count": 70,
   "metadata": {},
   "outputs": [
    {
     "data": {
      "text/plain": [
       "[('cantomatoes', 0.7824949026107788),\n",
       " ('driedredpepperflakes', 0.7585841417312622),\n",
       " ('hotItaliansausage', 0.7573438882827759),\n",
       " ('Italiansausagelinks', 0.7511181831359863),\n",
       " ('Italianstyletomatoes', 0.7492751479148865),\n",
       " ('petitetomatoes', 0.747255802154541),\n",
       " ('groundround', 0.744871199131012),\n",
       " ('hotsalsa', 0.7416672706604004),\n",
       " ('vegetarianbakedbeans', 0.7406301498413086),\n",
       " ('Mexicanstyletomatoes', 0.7390763759613037)]"
      ]
     },
     "execution_count": 70,
     "metadata": {},
     "output_type": "execute_result"
    }
   ],
   "source": [
    "ingred_cat_model.wv.most_similar(\"tomatoes\")"
   ]
  },
  {
   "cell_type": "markdown",
   "metadata": {},
   "source": [
    "##### Ingredients which are most related to almond milk:"
   ]
  },
  {
   "cell_type": "code",
   "execution_count": 71,
   "metadata": {},
   "outputs": [
    {
     "data": {
      "text/plain": [
       "[('flaxseeds', 0.9394687414169312),\n",
       " ('flaxseedmeal', 0.9351227879524231),\n",
       " ('hempseeds', 0.9335111975669861),\n",
       " ('almondbutter', 0.9262481331825256),\n",
       " ('groundflaxseed', 0.9253771901130676),\n",
       " ('chiaseeds', 0.9219614267349243),\n",
       " ('soymilk', 0.9128957986831665),\n",
       " ('scoopvanillaproteinpowder', 0.9095502495765686),\n",
       " ('unsweetenedvanillaflavoredalmondmilk', 0.9084556102752686),\n",
       " ('flaxseed', 0.9062537550926208)]"
      ]
     },
     "execution_count": 71,
     "metadata": {},
     "output_type": "execute_result"
    }
   ],
   "source": [
    "ingred_cat_model.wv.most_similar(\"almondmilk\")"
   ]
  },
  {
   "cell_type": "markdown",
   "metadata": {},
   "source": [
    "##### Ingredients which are most related to cabbage:"
   ]
  },
  {
   "cell_type": "code",
   "execution_count": 72,
   "metadata": {},
   "outputs": [
    {
     "data": {
      "text/plain": [
       "[('headcabbage', 0.8049780130386353),\n",
       " ('containerschickenbroth', 0.7498348951339722),\n",
       " ('headredcabbage', 0.7484461069107056),\n",
       " ('carawayseeds', 0.7393940091133118),\n",
       " ('intomatchsticksize', 0.7312839031219482),\n",
       " ('bunchescollardgreens', 0.7075276374816895),\n",
       " ('quartswater', 0.7027681469917297),\n",
       " ('collardgreens', 0.7018463015556335),\n",
       " ('hamhocks', 0.7005892992019653),\n",
       " ('hamhock', 0.6983354091644287)]"
      ]
     },
     "execution_count": 72,
     "metadata": {},
     "output_type": "execute_result"
    }
   ],
   "source": [
    "ingred_cat_model.wv.most_similar(\"cabbage\")"
   ]
  },
  {
   "cell_type": "markdown",
   "metadata": {},
   "source": [
    "##### Ingredients which are most related to beef:"
   ]
  },
  {
   "cell_type": "code",
   "execution_count": 73,
   "metadata": {},
   "outputs": [
    {
     "data": {
      "text/plain": [
       "[('steaks', 0.8243405818939209),\n",
       " ('sirloinsteak', 0.7789937257766724),\n",
       " ('eyesteak', 0.7596133947372437),\n",
       " ('rib', 0.750706136226654),\n",
       " ('roundsteak', 0.7280023694038391),\n",
       " ('beefstroganoff', 0.7244558930397034),\n",
       " ('beefconsomme', 0.7226072549819946),\n",
       " ('filetmignon', 0.720965564250946),\n",
       " ('ribeyesteaks', 0.7188416719436646),\n",
       " ('cubesteaks', 0.7181291580200195)]"
      ]
     },
     "execution_count": 73,
     "metadata": {},
     "output_type": "execute_result"
    }
   ],
   "source": [
    "ingred_cat_model.wv.most_similar(\"beef\")"
   ]
  },
  {
   "cell_type": "code",
   "execution_count": 496,
   "metadata": {
    "collapsed": true
   },
   "outputs": [],
   "source": [
    "# Function that takes in ingredient as input and outputs most similar ingredients\n",
    "def get_recommendations_w2v(title, cosine_sim=cosine_sim):\n",
    "\n",
    "    # Get the index of the recipe title that matches the title\n",
    "    row = data.loc[data['title'] == title].index[0]\n",
    "    idx = indices[row]\n",
    "\n",
    "    # Get the pairwise similarity scores of all titles with that title\n",
    "    sim_scores = list(enumerate(cosine_sim[idx]))\n",
    "    \n",
    "    # Sort the movies based on the similarity scores    \n",
    "    sim_scores = sorted(sim_scores, key=lambda x: x[1], reverse=True)\n",
    "\n",
    "    # Get the scores of the 10 most similar movies\n",
    "    sim_scores = sim_scores[1:16]\n",
    " \n",
    "    # Get the recipe indices\n",
    "    recipe_indices = [i[0] for i in sim_scores]\n",
    "    \n",
    "    # Return the top 10-15 most similar recipes\n",
    "    return data['title'].iloc[recipe_indices].drop_duplicates()\n",
    "\n"
   ]
  },
  {
   "cell_type": "code",
   "execution_count": 499,
   "metadata": {},
   "outputs": [
    {
     "name": "stdout",
     "output_type": "stream",
     "text": [
      "[('steaks', 0.8381381630897522), ('sirloinsteak', 0.8020487427711487), ('rib', 0.7741457223892212), ('eyesteak', 0.7607206702232361), ('roundsteak', 0.7457110285758972), ('filetmignon', 0.7422102093696594), ('beefstroganoff', 0.7365869283676147), ('ribeyesteaks', 0.7317036390304565), ('teaks', 0.7315562963485718), ('beefconsomme', 0.7268845438957214)]\n"
     ]
    }
   ],
   "source": [
    "arr = ingred_cat_model.wv.most_similar(\"beef\")\n",
    "print(arr)\n",
    "#get_recommendations('steaks', cosine_sim) \n"
   ]
  },
  {
   "cell_type": "markdown",
   "metadata": {},
   "source": [
    "### Showing analogies: ingredient A is to ingredient B as ? is to ingredient C"
   ]
  },
  {
   "cell_type": "markdown",
   "metadata": {},
   "source": [
    "We can use the cosine similarity to calculate the similarities among ingredients. "
   ]
  },
  {
   "cell_type": "code",
   "execution_count": 74,
   "metadata": {
    "collapsed": true
   },
   "outputs": [],
   "source": [
    "# using cosine similarity \n",
    "def nearest_similarity_cosmul(start1, end1, end2):\n",
    "    similarities = ingred_cat_model.wv.most_similar_cosmul(\n",
    "        positive=[end2, start1],\n",
    "        negative=[end1]\n",
    "    )\n",
    "    start2 = similarities[0][0]\n",
    "    \n",
    "    print(start1, \"is related to\", end1, \"as\", start2, \"is related to\", end2)\n",
    "    return start2\n",
    "    "
   ]
  },
  {
   "cell_type": "markdown",
   "metadata": {},
   "source": [
    "We will pass in three parameters to the nearest_similarity_cosmul function: start1: ingredient A, end1: ingredient B, end2: ingredient C"
   ]
  },
  {
   "cell_type": "code",
   "execution_count": 75,
   "metadata": {},
   "outputs": [
    {
     "name": "stdout",
     "output_type": "stream",
     "text": [
      "salt is related to beef as margarinebutter is related to chicken\n"
     ]
    },
    {
     "data": {
      "text/plain": [
       "'margarinebutter'"
      ]
     },
     "execution_count": 75,
     "metadata": {},
     "output_type": "execute_result"
    }
   ],
   "source": [
    "nearest_similarity_cosmul(\"salt\",\"beef\",\"chicken\")"
   ]
  },
  {
   "cell_type": "code",
   "execution_count": 76,
   "metadata": {},
   "outputs": [
    {
     "name": "stdout",
     "output_type": "stream",
     "text": [
      "chickenstock is related to soup as flakedcoconut is related to cookies\n"
     ]
    },
    {
     "data": {
      "text/plain": [
       "'flakedcoconut'"
      ]
     },
     "execution_count": 76,
     "metadata": {},
     "output_type": "execute_result"
    }
   ],
   "source": [
    "nearest_similarity_cosmul(\"chickenstock\",\"soup\",\"cookies\")"
   ]
  },
  {
   "cell_type": "code",
   "execution_count": 77,
   "metadata": {},
   "outputs": [
    {
     "name": "stdout",
     "output_type": "stream",
     "text": [
      "onion is related to pork as tomatosauce is related to groundbeef\n"
     ]
    },
    {
     "data": {
      "text/plain": [
       "'tomatosauce'"
      ]
     },
     "execution_count": 77,
     "metadata": {},
     "output_type": "execute_result"
    }
   ],
   "source": [
    "nearest_similarity_cosmul(\"onion\",\"pork\", \"groundbeef\")"
   ]
  },
  {
   "cell_type": "markdown",
   "metadata": {},
   "source": [
    "The analogies tested above don't quite make sense but are not too far fetched."
   ]
  },
  {
   "cell_type": "markdown",
   "metadata": {},
   "source": [
    "#### Looking up recipes that contain multiple ingredients\n",
    "\n",
    "One of the objectives of this project is to be able to quickly find recipes given ingredients that the home cook has on hand.  We will now write a function that returns recipes which contain multiple ingredients and sort them by average rating."
   ]
  },
  {
   "cell_type": "code",
   "execution_count": 78,
   "metadata": {
    "collapsed": true
   },
   "outputs": [],
   "source": [
    "# Lookup recipes that contain ingredients\n",
    "def find_recipes_with_ingredient(ingred,ingred2):\n",
    "    match = dataR[dataR['ingred_cat'].str.contains(ingred)] \n",
    "    match2 = match[match['ingred_cat'].str.contains(ingred2)]\n",
    "    match3 = match2.sort_values('rating', ascending=False)\n",
    "    \n",
    "    return match3"
   ]
  },
  {
   "cell_type": "markdown",
   "metadata": {},
   "source": [
    "##### Recipes which contain both spinach and chicken, sorted by highest rating"
   ]
  },
  {
   "cell_type": "code",
   "execution_count": 79,
   "metadata": {
    "scrolled": false
   },
   "outputs": [
    {
     "data": {
      "text/plain": [
       "1953     Chicken, Spinach, and Potato Soup\n",
       "6533    Scrumptious Chicken Vegetable Stew\n",
       "Name: title, dtype: object"
      ]
     },
     "execution_count": 79,
     "metadata": {},
     "output_type": "execute_result"
    }
   ],
   "source": [
    "\n",
    "find_recipes_with_ingredient('spinach','chickenthighs')['title'].head(5)\n"
   ]
  },
  {
   "cell_type": "markdown",
   "metadata": {},
   "source": [
    "##### Recipes which contain both white chocolate chips and eggs, sorted by highest rating"
   ]
  },
  {
   "cell_type": "code",
   "execution_count": 80,
   "metadata": {},
   "outputs": [
    {
     "data": {
      "text/plain": [
       "8259    White Chocolate Raspberry Cheesecake\n",
       "8255    White Chocolate Chip Oatmeal Cookies\n",
       "7272        Stephen's Chocolate Chip Cookies\n",
       "8253            White Chip Chocolate Cookies\n",
       "8260      White Chocolate, Chocolate Cookies\n",
       "Name: title, dtype: object"
      ]
     },
     "execution_count": 80,
     "metadata": {},
     "output_type": "execute_result"
    }
   ],
   "source": [
    "find_recipes_with_ingredient('whitechocolatechips','eggs')['title'].head(5)"
   ]
  },
  {
   "cell_type": "markdown",
   "metadata": {
    "collapsed": true
   },
   "source": [
    "##### Recipes which contain both tomatoes and ground beef, sorted by highest rating"
   ]
  },
  {
   "cell_type": "code",
   "execution_count": 81,
   "metadata": {},
   "outputs": [
    {
     "data": {
      "text/plain": [
       "7607         Taco Chili from Publix®\n",
       "4964       Micah's 4 1/2-Alarm Chili\n",
       "5322              One-Pot Taco Chili\n",
       "4348    Karen's Chili Con Carne Soup\n",
       "2667         DB's Seven Pepper Chili\n",
       "Name: title, dtype: object"
      ]
     },
     "execution_count": 81,
     "metadata": {},
     "output_type": "execute_result"
    }
   ],
   "source": [
    "find_recipes_with_ingredient('tomatoes','groundbeef')['title'].head(5)"
   ]
  },
  {
   "cell_type": "markdown",
   "metadata": {},
   "source": [
    "##### Recipes which contain both white pork and beans, sorted by highest rating"
   ]
  },
  {
   "cell_type": "code",
   "execution_count": 82,
   "metadata": {},
   "outputs": [
    {
     "data": {
      "text/plain": [
       "760                 Bean-Hole Beans\n",
       "4108    Instant Pot® Brunswick Stew\n",
       "1649              Cattleman's Beans\n",
       "2118            Chuck's Super Chili\n",
       "5636    Picnic Baked Bean Casserole\n",
       "Name: title, dtype: object"
      ]
     },
     "execution_count": 82,
     "metadata": {},
     "output_type": "execute_result"
    }
   ],
   "source": [
    "find_recipes_with_ingredient('pork','beans')['title'].head(5)"
   ]
  },
  {
   "cell_type": "code",
   "execution_count": 83,
   "metadata": {},
   "outputs": [
    {
     "data": {
      "text/plain": [
       "7419                           Super Deluxe Steak Nachos\n",
       "1644              Catelli Bistro Beef and Broccoli Salad\n",
       "1597               Carne en su Jugo (Meat in its Juices)\n",
       "3933                          Hoisin-Ginger Beef Skewers\n",
       "1118              Blackened Tuna Steaks with Mango Salsa\n",
       "3634    Grilled Filet Mignon with Gorgonzola Cream Sauce\n",
       "792                                         Beef Bulgogi\n",
       "3603      Grilled Balsamic and Soy Marinated Flank Steak\n",
       "36                                Absolutely Amazing Ahi\n",
       "6914          Slow Cooker Venison Chili for the Big Game\n",
       "Name: title, dtype: object"
      ]
     },
     "execution_count": 83,
     "metadata": {},
     "output_type": "execute_result"
    }
   ],
   "source": [
    "find_recipes_with_ingredient('steak','onion')['title'].head(10)"
   ]
  },
  {
   "cell_type": "code",
   "execution_count": 84,
   "metadata": {},
   "outputs": [
    {
     "name": "stderr",
     "output_type": "stream",
     "text": [
      "/usr/local/Cellar/python3/3.6.4_2/Frameworks/Python.framework/Versions/3.6/lib/python3.6/site-packages/ipykernel_launcher.py:1: DeprecationWarning: Call to deprecated `__getitem__` (Method will be removed in 4.0.0, use self.wv.__getitem__() instead).\n",
      "  \"\"\"Entry point for launching an IPython kernel.\n"
     ]
    }
   ],
   "source": [
    "X = ingred_cat_model[ingred_cat_model.wv.vocab]"
   ]
  },
  {
   "cell_type": "markdown",
   "metadata": {},
   "source": [
    "#### Plot Word Vectors Using PCA\n",
    "\n",
    "We can create a 2-dimensional PCA model of the word vectors using the scikit-learn PCA class as follows."
   ]
  },
  {
   "cell_type": "code",
   "execution_count": 88,
   "metadata": {
    "collapsed": true
   },
   "outputs": [],
   "source": [
    "from sklearn.decomposition import PCA\n",
    "from matplotlib import pyplot\n",
    "\n",
    "pca = PCA(n_components=2)\n",
    "result = pca.fit_transform(X)"
   ]
  },
  {
   "cell_type": "code",
   "execution_count": 89,
   "metadata": {},
   "outputs": [
    {
     "data": {
      "text/plain": [
       "<matplotlib.collections.PathCollection at 0x11c18e5c0>"
      ]
     },
     "execution_count": 89,
     "metadata": {},
     "output_type": "execute_result"
    },
    {
     "data": {
      "image/png": "[encoded data removed]",
      "text/plain": [
       "<Figure size 432x288 with 1 Axes>"
      ]
     },
     "metadata": {},
     "output_type": "display_data"
    }
   ],
   "source": [
    "pyplot.scatter(result[:, 0], result[:, 1])"
   ]
  },
  {
   "cell_type": "code",
   "execution_count": 90,
   "metadata": {},
   "outputs": [
    {
     "data": {
      "image/png": "[encoded data removed]",
      "text/plain": [
       "<Figure size 432x288 with 1 Axes>"
      ]
     },
     "metadata": {},
     "output_type": "display_data"
    }
   ],
   "source": [
    "words = list(model.wv.vocab)\n",
    "for i, word in enumerate(words):\n",
    "    pyplot.annotate(word, xy=(result[i, 0], result[i, 1]))"
   ]
  },
  {
   "cell_type": "code",
   "execution_count": 98,
   "metadata": {},
   "outputs": [
    {
     "data": {
      "text/plain": [
       "(23545, 0)"
      ]
     },
     "execution_count": 98,
     "metadata": {},
     "output_type": "execute_result"
    }
   ],
   "source": [
    "\n",
    "from gensim.scripts.glove2word2vec import glove2word2vec\n",
    "glove_input_file = os.path.join(\"trained\", \"model.w2v\")\n",
    "\n",
    "word2vec_output_file = 'word2vec.txt'\n",
    "glove2word2vec(glove_input_file, word2vec_output_file)"
   ]
  },
  {
   "cell_type": "code",
   "execution_count": null,
   "metadata": {
    "collapsed": true
   },
   "outputs": [],
   "source": []
  },
  {
   "cell_type": "markdown",
   "metadata": {},
   "source": [
    "## Reflection\n"
   ]
  },
  {
   "cell_type": "markdown",
   "metadata": {},
   "source": [
    "Several approaches were attempted in order to develop a recommender system to make it easier for home cooks to choose recipes. A major part of the process was cleaning up the data and making it as understandable as possible for the algorithms to process.  For example, handling ingredients that consist of multiple words, such as \"olive oil\" and combining them into one term: \"oliveoil\" and eliminating irrelevant words such as measurement terms. The machine learning algorithms think in the language of math and so the words had to be easily translatable into numeric vectors.<br>\n",
    "\n",
    "The Word2Vec model gave impressive results when it came to predicting ingredients which are similar to a given ingredient. For example: given \"beef\", the ingredients which were predicted by the model include:<br>\n",
    "steaks, 83.94%<br>\n",
    "sirloinsteak, 80.14%<br>\n",
    "rib, 78.37%<br>\n",
    "eyesteak, 77.85%<br>\n",
    "filetmignon, 74.98%<br>\n",
    "ribeyesteaks, 73.85%<br>\n",
    "cubesteaks', 72.63%<br>\n",
    "beefstroganoff, 72.54%<br>\n",
    "flatironsteak, 71.61%<br>\n",
    "cornedbeef, 71.09%<br>\n",
    "\n",
    "A good use case for this would be if a user clicks on a recipe and the main ingredient in that recipe is \"beef\", then our algorithm could see the similar ingredients listed above and present recipes that contain those ingredients.  Word2Vec figured out that \"steak\" is similar to \"beef\". Our frontend app would now be able to present useful and relevant recipes for beef, even if none of the words in the recipe contains \"beef\"."
   ]
  },
  {
   "cell_type": "markdown",
   "metadata": {},
   "source": [
    "Using TF-IDF, we also are able to find recipes which are similar to a given recipe. So if a user has recently selected a recipe like \"Easy Lasagna I\", then our recommender system will find recipes that are similar to lasgna but don't necessarily contain the word \"lasagna\", for example: \"Meat Filled Manicotti\", \"Baked Spaghetti Casserole\", \"Manicotti\" and \"Italian Veggie Rolls\". "
   ]
  },
  {
   "cell_type": "markdown",
   "metadata": {},
   "source": [
    "Given that there are hundreds of thousands of recipes available online, it would be very useful to have a recommender system to help people choose. It would be an even better system if it can be personalized to each user. I would like to build a mobile app which tracks the recipes each user selects, the search terms they enter, and any recipe they save, so that the Recommender System can also make recommendationg based on collaborative filtering. With collaborative filtering, the system could show that people who liked the recipes that you like, also liked these other recipes and so there is a high probability that you may like them, too.  <br>\n",
    "\n",
    "While this project uses data scraped from AllRecipes.com, going forward, I would like to write scripts to scrape recipes from additional websites, for example: FoodNetwork.com, Delish.com, BettyCrocker.com, Epicurious.com, and more as long as the recipes are freely available and not behind a firewall. All of the major recipe websites use the same Google schema, so the basic script used for AllRecipes.com could be customized for each. Having more data would likely yield even better recommendations.<br>"
   ]
  },
  {
   "cell_type": "markdown",
   "metadata": {},
   "source": [
    "References: <br>\n",
    "[1] [http://adventuresinmachinelearning.com/word2vec-tutorial-tensorflow/]<br>\n",
    "[2] [https://en.wikipedia.org/wiki/Word2vec]<br>\n",
    "[3] https://en.wikipedia.org/wiki/T-distributed_stochastic_neighbor_embedding<br>\n",
    "[4] https://www.quora.com/How-does-Mikolovs-word-analogy-for-word-embedding-work-How-can-I-code-such-a-function?utm_medium=organic&utm_source=google_rich_qa&utm_campaign=google_rich_qa\n",
    "[5] https://papers.nips.cc/paper/5021-distributed-representations-of-words-and-phrases-and-their-compositionality.pdf\n"
   ]
  },
  {
   "cell_type": "code",
   "execution_count": null,
   "metadata": {
    "collapsed": true
   },
   "outputs": [],
   "source": []
  }
 ],
 "metadata": {
  "kernelspec": {
   "display_name": "Python 3",
   "language": "python",
   "name": "python3"
  },
  "language_info": {
   "codemirror_mode": {
    "name": "ipython",
    "version": 3
   },
   "file_extension": ".py",
   "mimetype": "text/x-python",
   "name": "python",
   "nbconvert_exporter": "python",
   "pygments_lexer": "ipython3",
   "version": "3.6.4"
  }
 },
 "nbformat": 4,
 "nbformat_minor": 2
}
