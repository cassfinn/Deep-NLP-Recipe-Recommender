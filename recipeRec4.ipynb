{
 "cells": [
  {
   "cell_type": "markdown",
   "metadata": {},
   "source": [
    "### 1. Content Based Recommender System \n",
    "\n",
    "We will try to build a system that recommends recipes that are similar to a particular recipe. We will use recipe ingredients and categories to determine similarity and then list the top 10 closest matches."
   ]
  },
  {
   "cell_type": "code",
   "execution_count": 5,
   "metadata": {},
   "outputs": [
    {
     "name": "stdout",
     "output_type": "stream",
     "text": [
      "The Cython extension is already loaded. To reload it, use:\n",
      "  %reload_ext Cython\n",
      "CPU times: user 2 µs, sys: 0 ns, total: 2 µs\n",
      "Wall time: 4.05 µs\n"
     ]
    },
    {
     "name": "stderr",
     "output_type": "stream",
     "text": [
      "UsageError: Line magic function `%cython` not found (But cell magic `%%cython` exists, did you mean that instead?).\n"
     ]
    }
   ],
   "source": [
    "%load_ext Cython\n",
    "%time\n",
    "%cython"
   ]
  },
  {
   "cell_type": "code",
   "execution_count": 6,
   "metadata": {
    "collapsed": true
   },
   "outputs": [],
   "source": [
    "#import needed packages\n",
    "from gensim.models import doc2vec\n",
    "\n",
    "import re\n",
    "import pandas as pd\n",
    "import numpy as np\n",
    "import copy\n",
    "\n",
    "# nltk processing\n",
    "import nltk\n",
    "from nltk.tag import pos_tag\n",
    "from nltk import word_tokenize\n",
    "from nltk.corpus import stopwords\n",
    "from nltk.classify import NaiveBayesClassifier"
   ]
  },
  {
   "cell_type": "code",
   "execution_count": 9,
   "metadata": {},
   "outputs": [],
   "source": [
    "# read in fields title, ingredients and categories\n",
    "data = pd.read_csv(\"dataRecTitleCatsIngred.csv\") \n",
    "\n",
    "#data.duplicated()\n"
   ]
  },
  {
   "cell_type": "code",
   "execution_count": 10,
   "metadata": {},
   "outputs": [
    {
     "data": {
      "text/html": [
       "<div>\n",
       "<style scoped>\n",
       "    .dataframe tbody tr th:only-of-type {\n",
       "        vertical-align: middle;\n",
       "    }\n",
       "\n",
       "    .dataframe tbody tr th {\n",
       "        vertical-align: top;\n",
       "    }\n",
       "\n",
       "    .dataframe thead th {\n",
       "        text-align: right;\n",
       "    }\n",
       "</style>\n",
       "<table border=\"1\" class=\"dataframe\">\n",
       "  <thead>\n",
       "    <tr style=\"text-align: right;\">\n",
       "      <th></th>\n",
       "      <th>title</th>\n",
       "      <th>categories</th>\n",
       "      <th>ingred</th>\n",
       "    </tr>\n",
       "  </thead>\n",
       "  <tbody>\n",
       "    <tr>\n",
       "      <th>0</th>\n",
       "      <td>1-Dish Taco Bake</td>\n",
       "      <td>['Trusted Brands: Recipes and Tips', \"ARGO&amp;#17...</td>\n",
       "      <td>['Taco Meat Filling:', '1 pound ground beef', ...</td>\n",
       "    </tr>\n",
       "    <tr>\n",
       "      <th>1</th>\n",
       "      <td>15-Minute Dinner Nachos Supreme</td>\n",
       "      <td>['Trusted Brands: Recipes and Tips', \"Campbell...</td>\n",
       "      <td>['1 pound ground beef', '1 (1.12 ounce) packag...</td>\n",
       "    </tr>\n",
       "    <tr>\n",
       "      <th>2</th>\n",
       "      <td>A Firefighter's Meatloaf</td>\n",
       "      <td>['Main Dish', 'Meatloaf', 'Beef Meatloaf']</td>\n",
       "      <td>['2 slices whole wheat bread', '2 pounds groun...</td>\n",
       "    </tr>\n",
       "    <tr>\n",
       "      <th>3</th>\n",
       "      <td>Aaron's Missouri Burger</td>\n",
       "      <td>['Main Dish', 'Burgers', 'Hamburgers']</td>\n",
       "      <td>['1 pound lean ground beef', '2 teaspoons onio...</td>\n",
       "    </tr>\n",
       "    <tr>\n",
       "      <th>4</th>\n",
       "      <td>Absolute Best Liver and Onions</td>\n",
       "      <td>['Main Dish']</td>\n",
       "      <td>['2 pounds sliced beef liver', '1 1/2 cups mil...</td>\n",
       "    </tr>\n",
       "    <tr>\n",
       "      <th>5</th>\n",
       "      <td>Adobo Sirloin</td>\n",
       "      <td>['World Cuisine', 'Latin American', 'Mexican']</td>\n",
       "      <td>['1 lime, juiced', '1 tablespoon minced garlic...</td>\n",
       "    </tr>\n",
       "    <tr>\n",
       "      <th>6</th>\n",
       "      <td>Albondigas</td>\n",
       "      <td>['Soups, Stews and Chili', 'Soup', 'Beef Soup']</td>\n",
       "      <td>['1 quart water', '4 carrots, sliced', '2 smal...</td>\n",
       "    </tr>\n",
       "    <tr>\n",
       "      <th>7</th>\n",
       "      <td>Albondigas Soup I</td>\n",
       "      <td>['Soups, Stews and Chili', 'Soup', 'Pork Soup']</td>\n",
       "      <td>['1 pound lean ground beef', '1/4 pound pork s...</td>\n",
       "    </tr>\n",
       "    <tr>\n",
       "      <th>8</th>\n",
       "      <td>Albondigas Soup II</td>\n",
       "      <td>['Soups, Stews and Chili', 'Soup', 'Beef Soup']</td>\n",
       "      <td>['1 pound lean ground beef', '2 cubes beef bou...</td>\n",
       "    </tr>\n",
       "    <tr>\n",
       "      <th>9</th>\n",
       "      <td>Alison's Slow Cooker Vegetable Beef Soup</td>\n",
       "      <td>['Soups, Stews and Chili', 'Soup', 'Beef Soup']</td>\n",
       "      <td>['1 1/2 pounds cubed beef stew meat', '2 cups ...</td>\n",
       "    </tr>\n",
       "    <tr>\n",
       "      <th>10</th>\n",
       "      <td>All American Roast Beef</td>\n",
       "      <td>['Everyday Cooking']</td>\n",
       "      <td>['3 pounds beef eye of round roast', '1/2 teas...</td>\n",
       "    </tr>\n",
       "    <tr>\n",
       "      <th>11</th>\n",
       "      <td>All Protein Meatloaf</td>\n",
       "      <td>['Main Dish', 'Meatloaf', 'Beef Meatloaf']</td>\n",
       "      <td>['1 1/2 pounds ground beef', '1 tablespoon Wor...</td>\n",
       "    </tr>\n",
       "    <tr>\n",
       "      <th>12</th>\n",
       "      <td>Alysia's Basic Meat Lasagna</td>\n",
       "      <td>['World Cuisine', 'European', 'Italian']</td>\n",
       "      <td>['1 1/2 pounds ground beef', '1 teaspoon garli...</td>\n",
       "    </tr>\n",
       "    <tr>\n",
       "      <th>13</th>\n",
       "      <td>American Chop Suey II</td>\n",
       "      <td>['Pasta and Noodles', 'Pasta by Shape']</td>\n",
       "      <td>['1 (16 ounce) package uncooked elbow macaroni...</td>\n",
       "    </tr>\n",
       "    <tr>\n",
       "      <th>14</th>\n",
       "      <td>American Lasagna</td>\n",
       "      <td>['World Cuisine', 'European', 'Italian']</td>\n",
       "      <td>['1 1/2 pounds lean ground beef', '1 onion, ch...</td>\n",
       "    </tr>\n",
       "    <tr>\n",
       "      <th>15</th>\n",
       "      <td>American Shepherd's Pie</td>\n",
       "      <td>['Main Dish', 'Savory Pies', \"Shepherd's Pie\"]</td>\n",
       "      <td>['1 pound lean ground beef', '1/2 cup chopped ...</td>\n",
       "    </tr>\n",
       "    <tr>\n",
       "      <th>16</th>\n",
       "      <td>Amish Meatloaf</td>\n",
       "      <td>['Main Dish', 'Meatloaf', 'Beef Meatloaf']</td>\n",
       "      <td>['2 pounds ground beef', '2 1/2 cups crushed b...</td>\n",
       "    </tr>\n",
       "    <tr>\n",
       "      <th>17</th>\n",
       "      <td>Amish Yumazuti</td>\n",
       "      <td>['Pasta and Noodles', 'Noodles']</td>\n",
       "      <td>['1 pound ground beef', '1 onion, chopped', '3...</td>\n",
       "    </tr>\n",
       "    <tr>\n",
       "      <th>18</th>\n",
       "      <td>Andie's Stuffed Mushrooms</td>\n",
       "      <td>['Appetizers and Snacks', 'Vegetable', 'Mushro...</td>\n",
       "      <td>['1 pound lean ground beef', '2 pounds fresh m...</td>\n",
       "    </tr>\n",
       "    <tr>\n",
       "      <th>19</th>\n",
       "      <td>Angel's Old Fashioned Beef Stew</td>\n",
       "      <td>['Soups, Stews and Chili', 'Stews', 'Beef']</td>\n",
       "      <td>['4 tablespoons vegetable oil', '1/2 cup all-p...</td>\n",
       "    </tr>\n",
       "    <tr>\n",
       "      <th>20</th>\n",
       "      <td>Ann's Dirty Rice</td>\n",
       "      <td>['Side Dish', 'Rice']</td>\n",
       "      <td>['1 pound ground beef', '1 yellow onion, chopp...</td>\n",
       "    </tr>\n",
       "    <tr>\n",
       "      <th>21</th>\n",
       "      <td>Ann's Sister's Meatloaf Recipe</td>\n",
       "      <td>['Main Dish', 'Meatloaf', 'Pork Meatloaf']</td>\n",
       "      <td>['2 pounds lean ground beef', '2 eggs', '1 1/2...</td>\n",
       "    </tr>\n",
       "    <tr>\n",
       "      <th>22</th>\n",
       "      <td>Apple and Brown Sugar Corned Beef</td>\n",
       "      <td>['World Cuisine', 'European', 'UK and Ireland'...</td>\n",
       "      <td>['4 cups apple juice', '1/2 cup brown sugar', ...</td>\n",
       "    </tr>\n",
       "    <tr>\n",
       "      <th>23</th>\n",
       "      <td>Apple Flavored Pot Roast</td>\n",
       "      <td>['Main Dish', 'Roasts']</td>\n",
       "      <td>['1 (3 pound) boneless beef chuck roast', '1 (...</td>\n",
       "    </tr>\n",
       "    <tr>\n",
       "      <th>24</th>\n",
       "      <td>Argentine Meat Empanadas</td>\n",
       "      <td>['World Cuisine', 'Latin American', 'South Ame...</td>\n",
       "      <td>['1/2 cup shortening', '2 onions, chopped', '1...</td>\n",
       "    </tr>\n",
       "    <tr>\n",
       "      <th>25</th>\n",
       "      <td>Army SOS Creamed Ground Beef</td>\n",
       "      <td>['Everyday Cooking']</td>\n",
       "      <td>['1 pound ground beef', '1/4 cup all-purpose f...</td>\n",
       "    </tr>\n",
       "    <tr>\n",
       "      <th>26</th>\n",
       "      <td>Asian Barbequed Steak</td>\n",
       "      <td>['World Cuisine', 'Asian', 'Thai']</td>\n",
       "      <td>['1/4 cup chili sauce', '1/4 cup fish sauce', ...</td>\n",
       "    </tr>\n",
       "    <tr>\n",
       "      <th>27</th>\n",
       "      <td>Asian Beef Skewers</td>\n",
       "      <td>['Everyday Cooking']</td>\n",
       "      <td>['3 tablespoons hoisin sauce', '3 tablespoons ...</td>\n",
       "    </tr>\n",
       "    <tr>\n",
       "      <th>28</th>\n",
       "      <td>Asian Beef with Snow Peas</td>\n",
       "      <td>['World Cuisine', 'Asian', 'Chinese']</td>\n",
       "      <td>['3 tablespoons soy sauce', '2 tablespoons ric...</td>\n",
       "    </tr>\n",
       "    <tr>\n",
       "      <th>29</th>\n",
       "      <td>Asian Fire Meat</td>\n",
       "      <td>['World Cuisine', 'Asian', 'Chinese']</td>\n",
       "      <td>['1/2 cup soy sauce', '1 tablespoon sesame oil...</td>\n",
       "    </tr>\n",
       "    <tr>\n",
       "      <th>...</th>\n",
       "      <td>...</td>\n",
       "      <td>...</td>\n",
       "      <td>...</td>\n",
       "    </tr>\n",
       "    <tr>\n",
       "      <th>8079</th>\n",
       "      <td>Grilled Salmon with Bacon and Corn Relish</td>\n",
       "      <td>['Seafood', 'Fish', 'Salmon']</td>\n",
       "      <td>['6 slices bacon, cut crosswise into 1/2-inch ...</td>\n",
       "    </tr>\n",
       "    <tr>\n",
       "      <th>8080</th>\n",
       "      <td>Kevin's Sea Shells</td>\n",
       "      <td>['Seafood', 'Shellfish', 'Shrimp']</td>\n",
       "      <td>['1 1/2 pounds large shrimp, peeled and devein...</td>\n",
       "    </tr>\n",
       "    <tr>\n",
       "      <th>8081</th>\n",
       "      <td>Seafood Creole</td>\n",
       "      <td>['Seafood', 'Fish']</td>\n",
       "      <td>['3/4 teaspoon dried oregano', '1/2 teaspoon s...</td>\n",
       "    </tr>\n",
       "    <tr>\n",
       "      <th>8082</th>\n",
       "      <td>Broiled Sweet and Tangy Tilapia</td>\n",
       "      <td>['Seafood', 'Fish', 'Tilapia']</td>\n",
       "      <td>['2 tablespoons butter', '3 teaspoons lemon ju...</td>\n",
       "    </tr>\n",
       "    <tr>\n",
       "      <th>8083</th>\n",
       "      <td>Shrimp and Quinoa</td>\n",
       "      <td>['Seafood', 'Shellfish', 'Shrimp']</td>\n",
       "      <td>['1 1/2 cups water', '1 cup uncooked quinoa', ...</td>\n",
       "    </tr>\n",
       "    <tr>\n",
       "      <th>8084</th>\n",
       "      <td>One-Dish Rockfish</td>\n",
       "      <td>['Seafood', 'Fish']</td>\n",
       "      <td>['5 cups fresh spinach', '2 (6 ounce) fillets ...</td>\n",
       "    </tr>\n",
       "    <tr>\n",
       "      <th>8085</th>\n",
       "      <td>Phyllo Turnovers with Shrimp and Ricotta Filling</td>\n",
       "      <td>['Appetizers and Snacks', 'Seafood', 'Shrimp']</td>\n",
       "      <td>['3 tablespoons butter', '1 tablespoon canola ...</td>\n",
       "    </tr>\n",
       "    <tr>\n",
       "      <th>8086</th>\n",
       "      <td>Grilled Shrimp and Apple Skewers</td>\n",
       "      <td>['Seafood', 'Shellfish', 'Shrimp']</td>\n",
       "      <td>['3 tablespoons honey', '3 tablespoons olive o...</td>\n",
       "    </tr>\n",
       "    <tr>\n",
       "      <th>8088</th>\n",
       "      <td>Caesar Salad I</td>\n",
       "      <td>['Salad', 'Green Salads', 'Romaine Lettuce Sal...</td>\n",
       "      <td>['1 head romaine lettuce', '3/4 cup extra virg...</td>\n",
       "    </tr>\n",
       "    <tr>\n",
       "      <th>8089</th>\n",
       "      <td>Light and Spicy Fish</td>\n",
       "      <td>['Seafood', 'Fish']</td>\n",
       "      <td>['2 (6 ounce) fillets red snapper', '1/4 teasp...</td>\n",
       "    </tr>\n",
       "    <tr>\n",
       "      <th>8090</th>\n",
       "      <td>Spicy Red Snapper</td>\n",
       "      <td>['Seafood', 'Fish']</td>\n",
       "      <td>['2 tablespoons extra virgin olive oil', '1 on...</td>\n",
       "    </tr>\n",
       "    <tr>\n",
       "      <th>8091</th>\n",
       "      <td>Crab Quiche II</td>\n",
       "      <td>['Breakfast and Brunch', 'Eggs']</td>\n",
       "      <td>['1 (9 inch) deep dish pie crust', '2 eggs, be...</td>\n",
       "    </tr>\n",
       "    <tr>\n",
       "      <th>8092</th>\n",
       "      <td>Linguini with White Clam Sauce</td>\n",
       "      <td>['Seafood', 'Shellfish', 'Clams']</td>\n",
       "      <td>['1 (16 ounce) package linguine pasta', '4 tab...</td>\n",
       "    </tr>\n",
       "    <tr>\n",
       "      <th>8093</th>\n",
       "      <td>Crusted Salmon with Honey-Mustard Sauce</td>\n",
       "      <td>['Seafood', 'Fish', 'Salmon']</td>\n",
       "      <td>['1 (1.5 pound) skinless center-cut salmon fil...</td>\n",
       "    </tr>\n",
       "    <tr>\n",
       "      <th>8094</th>\n",
       "      <td>Cinnamon-Curry Tuna Salad</td>\n",
       "      <td>['Salad', 'Seafood Salad', 'Tuna Salad']</td>\n",
       "      <td>['2 (5 ounce) cans water packed tuna, drained ...</td>\n",
       "    </tr>\n",
       "    <tr>\n",
       "      <th>8095</th>\n",
       "      <td>Lobster Newburg</td>\n",
       "      <td>['Seafood', 'Shellfish', 'Lobster']</td>\n",
       "      <td>['2 egg yolks, beaten', '1/2 cup heavy cream',...</td>\n",
       "    </tr>\n",
       "    <tr>\n",
       "      <th>8096</th>\n",
       "      <td>Easy Weeknight Tuna Pot Pie</td>\n",
       "      <td>['Seafood', 'Fish', 'Tuna']</td>\n",
       "      <td>['2 tablespoons butter', '1 small onion, diced...</td>\n",
       "    </tr>\n",
       "    <tr>\n",
       "      <th>8097</th>\n",
       "      <td>Vermicelli Noodle Bowl</td>\n",
       "      <td>['World Cuisine', 'Asian', 'Vietnamese']</td>\n",
       "      <td>['1/4 cup white vinegar', '1/4 cup fish sauce'...</td>\n",
       "    </tr>\n",
       "    <tr>\n",
       "      <th>8098</th>\n",
       "      <td>The Best Smoked Salmon Spread</td>\n",
       "      <td>['Appetizers and Snacks', 'Seafood']</td>\n",
       "      <td>['1 (8 ounce) package cream cheese, softened',...</td>\n",
       "    </tr>\n",
       "    <tr>\n",
       "      <th>8099</th>\n",
       "      <td>Honey Lime Tilapia</td>\n",
       "      <td>['Seafood', 'Fish', 'Tilapia']</td>\n",
       "      <td>['1/4 cup honey', '3 tablespoons lime juice', ...</td>\n",
       "    </tr>\n",
       "    <tr>\n",
       "      <th>8100</th>\n",
       "      <td>Tuna Salad with Cranberries</td>\n",
       "      <td>['Salad', 'Seafood Salad', 'Tuna Salad']</td>\n",
       "      <td>['2 (5 ounce) cans solid white tuna packed in ...</td>\n",
       "    </tr>\n",
       "    <tr>\n",
       "      <th>8101</th>\n",
       "      <td>Salmon in Lemon-Dill Sauce</td>\n",
       "      <td>['Seafood', 'Fish', 'Salmon']</td>\n",
       "      <td>['4 (5 ounce) salmon fillets', '5 tablespoons ...</td>\n",
       "    </tr>\n",
       "    <tr>\n",
       "      <th>8102</th>\n",
       "      <td>Authentic Thai Coconut Soup</td>\n",
       "      <td>['Soups, Stews and Chili', 'Soup', 'Seafood']</td>\n",
       "      <td>['1 pound medium shrimp - peeled and deveined'...</td>\n",
       "    </tr>\n",
       "    <tr>\n",
       "      <th>8103</th>\n",
       "      <td>Crab Salad</td>\n",
       "      <td>['Salad', 'Seafood Salad', 'Crab Salad']</td>\n",
       "      <td>['1/2 green bell pepper, chopped', '1 onion, c...</td>\n",
       "    </tr>\n",
       "    <tr>\n",
       "      <th>8104</th>\n",
       "      <td>Jambalaya With Shrimp</td>\n",
       "      <td>['Soups, Stews and Chili', 'Stews', 'Seafood']</td>\n",
       "      <td>['4 tablespoons butter', '2 tablespoons all-pu...</td>\n",
       "    </tr>\n",
       "    <tr>\n",
       "      <th>8105</th>\n",
       "      <td>Angel Hair Pasta Salad</td>\n",
       "      <td>['Salad', 'Seafood Salad', 'Shrimp Salad']</td>\n",
       "      <td>['2 (8 ounce) packages angel hair pasta', '1/2...</td>\n",
       "    </tr>\n",
       "    <tr>\n",
       "      <th>8106</th>\n",
       "      <td>Aunty Pasto's Seafood Lasagna</td>\n",
       "      <td>['Seafood', 'Shellfish', 'Crab']</td>\n",
       "      <td>['8 lasagna noodles', '2 tablespoons butter', ...</td>\n",
       "    </tr>\n",
       "    <tr>\n",
       "      <th>8107</th>\n",
       "      <td>Poached Salmon II</td>\n",
       "      <td>['Seafood', 'Fish', 'Salmon']</td>\n",
       "      <td>['1/2 cup dry white wine', '1/2 cup water', '2...</td>\n",
       "    </tr>\n",
       "    <tr>\n",
       "      <th>8108</th>\n",
       "      <td>Mainely Fish</td>\n",
       "      <td>['Seafood', 'Fish']</td>\n",
       "      <td>['6 (3 ounce) fillets haddock', 'salt and pepp...</td>\n",
       "    </tr>\n",
       "    <tr>\n",
       "      <th>8109</th>\n",
       "      <td>Asparagus and Smoked Salmon Salad</td>\n",
       "      <td>['Salad', 'Seafood Salad', 'Salmon Salad']</td>\n",
       "      <td>['1 pound fresh asparagus, trimmed and cut int...</td>\n",
       "    </tr>\n",
       "  </tbody>\n",
       "</table>\n",
       "<p>6447 rows × 3 columns</p>\n",
       "</div>"
      ],
      "text/plain": [
       "                                                 title  \\\n",
       "0                                     1-Dish Taco Bake   \n",
       "1                      15-Minute Dinner Nachos Supreme   \n",
       "2                             A Firefighter's Meatloaf   \n",
       "3                              Aaron's Missouri Burger   \n",
       "4                       Absolute Best Liver and Onions   \n",
       "5                                        Adobo Sirloin   \n",
       "6                                           Albondigas   \n",
       "7                                    Albondigas Soup I   \n",
       "8                                   Albondigas Soup II   \n",
       "9             Alison's Slow Cooker Vegetable Beef Soup   \n",
       "10                             All American Roast Beef   \n",
       "11                                All Protein Meatloaf   \n",
       "12                         Alysia's Basic Meat Lasagna   \n",
       "13                               American Chop Suey II   \n",
       "14                                    American Lasagna   \n",
       "15                             American Shepherd's Pie   \n",
       "16                                      Amish Meatloaf   \n",
       "17                                      Amish Yumazuti   \n",
       "18                           Andie's Stuffed Mushrooms   \n",
       "19                     Angel's Old Fashioned Beef Stew   \n",
       "20                                    Ann's Dirty Rice   \n",
       "21                      Ann's Sister's Meatloaf Recipe   \n",
       "22                   Apple and Brown Sugar Corned Beef   \n",
       "23                            Apple Flavored Pot Roast   \n",
       "24                            Argentine Meat Empanadas   \n",
       "25                        Army SOS Creamed Ground Beef   \n",
       "26                               Asian Barbequed Steak   \n",
       "27                                  Asian Beef Skewers   \n",
       "28                           Asian Beef with Snow Peas   \n",
       "29                                     Asian Fire Meat   \n",
       "...                                                ...   \n",
       "8079         Grilled Salmon with Bacon and Corn Relish   \n",
       "8080                                Kevin's Sea Shells   \n",
       "8081                                    Seafood Creole   \n",
       "8082                   Broiled Sweet and Tangy Tilapia   \n",
       "8083                                 Shrimp and Quinoa   \n",
       "8084                                 One-Dish Rockfish   \n",
       "8085  Phyllo Turnovers with Shrimp and Ricotta Filling   \n",
       "8086                  Grilled Shrimp and Apple Skewers   \n",
       "8088                                    Caesar Salad I   \n",
       "8089                              Light and Spicy Fish   \n",
       "8090                                 Spicy Red Snapper   \n",
       "8091                                    Crab Quiche II   \n",
       "8092                    Linguini with White Clam Sauce   \n",
       "8093           Crusted Salmon with Honey-Mustard Sauce   \n",
       "8094                         Cinnamon-Curry Tuna Salad   \n",
       "8095                                   Lobster Newburg   \n",
       "8096                       Easy Weeknight Tuna Pot Pie   \n",
       "8097                            Vermicelli Noodle Bowl   \n",
       "8098                     The Best Smoked Salmon Spread   \n",
       "8099                                Honey Lime Tilapia   \n",
       "8100                       Tuna Salad with Cranberries   \n",
       "8101                        Salmon in Lemon-Dill Sauce   \n",
       "8102                       Authentic Thai Coconut Soup   \n",
       "8103                                        Crab Salad   \n",
       "8104                             Jambalaya With Shrimp   \n",
       "8105                            Angel Hair Pasta Salad   \n",
       "8106                     Aunty Pasto's Seafood Lasagna   \n",
       "8107                                 Poached Salmon II   \n",
       "8108                                      Mainely Fish   \n",
       "8109                 Asparagus and Smoked Salmon Salad   \n",
       "\n",
       "                                             categories  \\\n",
       "0     ['Trusted Brands: Recipes and Tips', \"ARGO&#17...   \n",
       "1     ['Trusted Brands: Recipes and Tips', \"Campbell...   \n",
       "2            ['Main Dish', 'Meatloaf', 'Beef Meatloaf']   \n",
       "3                ['Main Dish', 'Burgers', 'Hamburgers']   \n",
       "4                                         ['Main Dish']   \n",
       "5        ['World Cuisine', 'Latin American', 'Mexican']   \n",
       "6       ['Soups, Stews and Chili', 'Soup', 'Beef Soup']   \n",
       "7       ['Soups, Stews and Chili', 'Soup', 'Pork Soup']   \n",
       "8       ['Soups, Stews and Chili', 'Soup', 'Beef Soup']   \n",
       "9       ['Soups, Stews and Chili', 'Soup', 'Beef Soup']   \n",
       "10                                 ['Everyday Cooking']   \n",
       "11           ['Main Dish', 'Meatloaf', 'Beef Meatloaf']   \n",
       "12             ['World Cuisine', 'European', 'Italian']   \n",
       "13              ['Pasta and Noodles', 'Pasta by Shape']   \n",
       "14             ['World Cuisine', 'European', 'Italian']   \n",
       "15       ['Main Dish', 'Savory Pies', \"Shepherd's Pie\"]   \n",
       "16           ['Main Dish', 'Meatloaf', 'Beef Meatloaf']   \n",
       "17                     ['Pasta and Noodles', 'Noodles']   \n",
       "18    ['Appetizers and Snacks', 'Vegetable', 'Mushro...   \n",
       "19          ['Soups, Stews and Chili', 'Stews', 'Beef']   \n",
       "20                                ['Side Dish', 'Rice']   \n",
       "21           ['Main Dish', 'Meatloaf', 'Pork Meatloaf']   \n",
       "22    ['World Cuisine', 'European', 'UK and Ireland'...   \n",
       "23                              ['Main Dish', 'Roasts']   \n",
       "24    ['World Cuisine', 'Latin American', 'South Ame...   \n",
       "25                                 ['Everyday Cooking']   \n",
       "26                   ['World Cuisine', 'Asian', 'Thai']   \n",
       "27                                 ['Everyday Cooking']   \n",
       "28                ['World Cuisine', 'Asian', 'Chinese']   \n",
       "29                ['World Cuisine', 'Asian', 'Chinese']   \n",
       "...                                                 ...   \n",
       "8079                      ['Seafood', 'Fish', 'Salmon']   \n",
       "8080                 ['Seafood', 'Shellfish', 'Shrimp']   \n",
       "8081                                ['Seafood', 'Fish']   \n",
       "8082                     ['Seafood', 'Fish', 'Tilapia']   \n",
       "8083                 ['Seafood', 'Shellfish', 'Shrimp']   \n",
       "8084                                ['Seafood', 'Fish']   \n",
       "8085     ['Appetizers and Snacks', 'Seafood', 'Shrimp']   \n",
       "8086                 ['Seafood', 'Shellfish', 'Shrimp']   \n",
       "8088  ['Salad', 'Green Salads', 'Romaine Lettuce Sal...   \n",
       "8089                                ['Seafood', 'Fish']   \n",
       "8090                                ['Seafood', 'Fish']   \n",
       "8091                   ['Breakfast and Brunch', 'Eggs']   \n",
       "8092                  ['Seafood', 'Shellfish', 'Clams']   \n",
       "8093                      ['Seafood', 'Fish', 'Salmon']   \n",
       "8094           ['Salad', 'Seafood Salad', 'Tuna Salad']   \n",
       "8095                ['Seafood', 'Shellfish', 'Lobster']   \n",
       "8096                        ['Seafood', 'Fish', 'Tuna']   \n",
       "8097           ['World Cuisine', 'Asian', 'Vietnamese']   \n",
       "8098               ['Appetizers and Snacks', 'Seafood']   \n",
       "8099                     ['Seafood', 'Fish', 'Tilapia']   \n",
       "8100           ['Salad', 'Seafood Salad', 'Tuna Salad']   \n",
       "8101                      ['Seafood', 'Fish', 'Salmon']   \n",
       "8102      ['Soups, Stews and Chili', 'Soup', 'Seafood']   \n",
       "8103           ['Salad', 'Seafood Salad', 'Crab Salad']   \n",
       "8104     ['Soups, Stews and Chili', 'Stews', 'Seafood']   \n",
       "8105         ['Salad', 'Seafood Salad', 'Shrimp Salad']   \n",
       "8106                   ['Seafood', 'Shellfish', 'Crab']   \n",
       "8107                      ['Seafood', 'Fish', 'Salmon']   \n",
       "8108                                ['Seafood', 'Fish']   \n",
       "8109         ['Salad', 'Seafood Salad', 'Salmon Salad']   \n",
       "\n",
       "                                                 ingred  \n",
       "0     ['Taco Meat Filling:', '1 pound ground beef', ...  \n",
       "1     ['1 pound ground beef', '1 (1.12 ounce) packag...  \n",
       "2     ['2 slices whole wheat bread', '2 pounds groun...  \n",
       "3     ['1 pound lean ground beef', '2 teaspoons onio...  \n",
       "4     ['2 pounds sliced beef liver', '1 1/2 cups mil...  \n",
       "5     ['1 lime, juiced', '1 tablespoon minced garlic...  \n",
       "6     ['1 quart water', '4 carrots, sliced', '2 smal...  \n",
       "7     ['1 pound lean ground beef', '1/4 pound pork s...  \n",
       "8     ['1 pound lean ground beef', '2 cubes beef bou...  \n",
       "9     ['1 1/2 pounds cubed beef stew meat', '2 cups ...  \n",
       "10    ['3 pounds beef eye of round roast', '1/2 teas...  \n",
       "11    ['1 1/2 pounds ground beef', '1 tablespoon Wor...  \n",
       "12    ['1 1/2 pounds ground beef', '1 teaspoon garli...  \n",
       "13    ['1 (16 ounce) package uncooked elbow macaroni...  \n",
       "14    ['1 1/2 pounds lean ground beef', '1 onion, ch...  \n",
       "15    ['1 pound lean ground beef', '1/2 cup chopped ...  \n",
       "16    ['2 pounds ground beef', '2 1/2 cups crushed b...  \n",
       "17    ['1 pound ground beef', '1 onion, chopped', '3...  \n",
       "18    ['1 pound lean ground beef', '2 pounds fresh m...  \n",
       "19    ['4 tablespoons vegetable oil', '1/2 cup all-p...  \n",
       "20    ['1 pound ground beef', '1 yellow onion, chopp...  \n",
       "21    ['2 pounds lean ground beef', '2 eggs', '1 1/2...  \n",
       "22    ['4 cups apple juice', '1/2 cup brown sugar', ...  \n",
       "23    ['1 (3 pound) boneless beef chuck roast', '1 (...  \n",
       "24    ['1/2 cup shortening', '2 onions, chopped', '1...  \n",
       "25    ['1 pound ground beef', '1/4 cup all-purpose f...  \n",
       "26    ['1/4 cup chili sauce', '1/4 cup fish sauce', ...  \n",
       "27    ['3 tablespoons hoisin sauce', '3 tablespoons ...  \n",
       "28    ['3 tablespoons soy sauce', '2 tablespoons ric...  \n",
       "29    ['1/2 cup soy sauce', '1 tablespoon sesame oil...  \n",
       "...                                                 ...  \n",
       "8079  ['6 slices bacon, cut crosswise into 1/2-inch ...  \n",
       "8080  ['1 1/2 pounds large shrimp, peeled and devein...  \n",
       "8081  ['3/4 teaspoon dried oregano', '1/2 teaspoon s...  \n",
       "8082  ['2 tablespoons butter', '3 teaspoons lemon ju...  \n",
       "8083  ['1 1/2 cups water', '1 cup uncooked quinoa', ...  \n",
       "8084  ['5 cups fresh spinach', '2 (6 ounce) fillets ...  \n",
       "8085  ['3 tablespoons butter', '1 tablespoon canola ...  \n",
       "8086  ['3 tablespoons honey', '3 tablespoons olive o...  \n",
       "8088  ['1 head romaine lettuce', '3/4 cup extra virg...  \n",
       "8089  ['2 (6 ounce) fillets red snapper', '1/4 teasp...  \n",
       "8090  ['2 tablespoons extra virgin olive oil', '1 on...  \n",
       "8091  ['1 (9 inch) deep dish pie crust', '2 eggs, be...  \n",
       "8092  ['1 (16 ounce) package linguine pasta', '4 tab...  \n",
       "8093  ['1 (1.5 pound) skinless center-cut salmon fil...  \n",
       "8094  ['2 (5 ounce) cans water packed tuna, drained ...  \n",
       "8095  ['2 egg yolks, beaten', '1/2 cup heavy cream',...  \n",
       "8096  ['2 tablespoons butter', '1 small onion, diced...  \n",
       "8097  ['1/4 cup white vinegar', '1/4 cup fish sauce'...  \n",
       "8098  ['1 (8 ounce) package cream cheese, softened',...  \n",
       "8099  ['1/4 cup honey', '3 tablespoons lime juice', ...  \n",
       "8100  ['2 (5 ounce) cans solid white tuna packed in ...  \n",
       "8101  ['4 (5 ounce) salmon fillets', '5 tablespoons ...  \n",
       "8102  ['1 pound medium shrimp - peeled and deveined'...  \n",
       "8103  ['1/2 green bell pepper, chopped', '1 onion, c...  \n",
       "8104  ['4 tablespoons butter', '2 tablespoons all-pu...  \n",
       "8105  ['2 (8 ounce) packages angel hair pasta', '1/2...  \n",
       "8106  ['8 lasagna noodles', '2 tablespoons butter', ...  \n",
       "8107  ['1/2 cup dry white wine', '1/2 cup water', '2...  \n",
       "8108  ['6 (3 ounce) fillets haddock', 'salt and pepp...  \n",
       "8109  ['1 pound fresh asparagus, trimmed and cut int...  \n",
       "\n",
       "[6447 rows x 3 columns]"
      ]
     },
     "execution_count": 10,
     "metadata": {},
     "output_type": "execute_result"
    }
   ],
   "source": [
    "data.drop_duplicates()"
   ]
  },
  {
   "cell_type": "markdown",
   "metadata": {},
   "source": [
    "We will define a food vocabulary. Non-food words, such as measurements, punctuation, and descriptions about the state of a food item should be removed."
   ]
  },
  {
   "cell_type": "code",
   "execution_count": 11,
   "metadata": {
    "collapsed": true
   },
   "outputs": [],
   "source": [
    "### removed measurements, descriptive words and anything that's not an ingredient\n",
    "def clean_data_ingred(ds):\n",
    "    arr = ['tablespoons','tablespoon','teaspoons','teaspoon','cups','cup','ounces','ounce','pounds','pound','pinches','pinch','tastes','taste','dashes','dash','/',' or ',' as ',' and ',\n",
    "          '-','[',']','(',')','.','slices','sliced','slice', '0','1','2','3','4','5','6','7','8','9','juiced','diced','minced','chopped',' cans',' canned ',' can ', ' inches ', ' inch ',\n",
    "          'package', 'finely', 'crushed', 'shredded', 'divided', ' melted ', ' jar ','thawed', ' cut ', ' to ', ' thick ', ' across ', ' bones ', 'optional', ' split ', ' torn ',\n",
    "          ' into ', ' strips ', 'peeled',' pieces', ' lightly ', ' beaten ','ground black', 'scrubbed', 'jars', 'beaten','pitted','halved', 'thinly','as needed','large','medium','small'\n",
    "          'roughly','fluid','drained','crumbled','rinsed','cubed','seeded','fresh',' plus ', ' more ', 'deboned', 'prepared', 'cubes', 'uncooked', 'cooked', 'grated', ' lean ','into chunks',\n",
    "          'coarsely','seeded','freshly',' freshly', 'fresh', ' with ', 'liquid','quartered','lengthwise','small',' into ',' bite ', ' sized ', ' ly ', ' ed ', ' s ','cut into', ' up ',\n",
    "          'trimmed','frozen','chunks','segments','softened',' cut ','pieces','broken',' rings',' torn ',' into ','eighths','quarters','halves','thirds',' thick ', ' ',\"'\"]\n",
    "\n",
    "    ### merge multiple words, for example 'ground beef' becomes 'groundbeef'\n",
    "    for item in arr:\n",
    "        ds = ds.str.replace(item,'')\n",
    "     \n",
    "    return ds"
   ]
  },
  {
   "cell_type": "code",
   "execution_count": 12,
   "metadata": {},
   "outputs": [
    {
     "data": {
      "text/plain": [
       "0    TacoMeatFilling:,groundbeef,tacoseasoning,Batt...\n",
       "1    groundbeef,Pace®TacoSeasoningMix,\"Campbells®Co...\n",
       "2    wholewheatbread,groundbeef,greenonion,,onion,s...\n",
       "3    groundbeef,onionpowder,honeymustard,garlicpowd...\n",
       "4    beefliver,milk,,butter,,Vidaliaonions,,allpurp...\n",
       "5    lime,,garlic,driedoregano,groundcumin,chipotle...\n",
       "6    quartwater,carrots,,potatoes,,onion,,salsa,hot...\n",
       "7    groundbeef,porksausage,onion,,egg,,salt,pepper...\n",
       "8    groundbeef,beefbouilloncube,water,clovesgarlic...\n",
       "9    beefstewmeat,water,onion,,tomatoes,mixedvegeta...\n",
       "Name: ingred, dtype: object"
      ]
     },
     "execution_count": 12,
     "metadata": {},
     "output_type": "execute_result"
    }
   ],
   "source": [
    "### Remove measurements and anything else that is not a food ingredient\n",
    "data['ingred'] = clean_data_ingred(data['ingred'])\n",
    "\n",
    "#data['title'] = clean_data(data['title'])\n",
    "#dfIngred.to_csv('ingredClean.csv', sep=' ')\n",
    "\n",
    "data['ingred'].head(10)"
   ]
  },
  {
   "cell_type": "code",
   "execution_count": 13,
   "metadata": {
    "collapsed": true
   },
   "outputs": [],
   "source": [
    "### separate each term with a space\n",
    "def create_soup(ds):\n",
    "    ds = ds.str.replace(',',' ')\n",
    "    return ds"
   ]
  },
  {
   "cell_type": "code",
   "execution_count": 14,
   "metadata": {},
   "outputs": [
    {
     "data": {
      "text/plain": [
       "0    TacoMeatFilling: groundbeef tacoseasoning Batt...\n",
       "1    groundbeef Pace®TacoSeasoningMix \"Campbells®Co...\n",
       "2    wholewheatbread groundbeef greenonion  onion s...\n",
       "3    groundbeef onionpowder honeymustard garlicpowd...\n",
       "4    beefliver milk  butter  Vidaliaonions  allpurp...\n",
       "5    lime  garlic driedoregano groundcumin chipotle...\n",
       "6    quartwater carrots  potatoes  onion  salsa hot...\n",
       "7    groundbeef porksausage onion  egg  salt pepper...\n",
       "8    groundbeef beefbouilloncube water clovesgarlic...\n",
       "9    beefstewmeat water onion  tomatoes mixedvegeta...\n",
       "Name: ingredSpaces, dtype: object"
      ]
     },
     "execution_count": 14,
     "metadata": {},
     "output_type": "execute_result"
    }
   ],
   "source": [
    "### Separate each ingredient with a space\n",
    "data['ingredSpaces'] = create_soup(data['ingred'])\n",
    "data['ingredSpaces'].head(10)"
   ]
  },
  {
   "cell_type": "markdown",
   "metadata": {},
   "source": [
    "#### Compute Term Frequency-Inverse Document Frequency (TF-IDF) vectors for each recipe\n",
    "This will give us a matrix where each column represents a word in the overview vocabulary \n",
    "(all the words that appear in at least one recipe) and each column represents a recipe\n",
    "\n",
    "The TF-IDF score is the frequency of an ingredient occurring in a recipe, down-weighted \n",
    "by the number of recipes in which it occurs.\n"
   ]
  },
  {
   "cell_type": "code",
   "execution_count": 16,
   "metadata": {},
   "outputs": [
    {
     "data": {
      "text/plain": [
       "(8110, 5459)"
      ]
     },
     "execution_count": 16,
     "metadata": {},
     "output_type": "execute_result"
    }
   ],
   "source": [
    "#Import TfIdfVectorizer from scikit-learn\n",
    "from sklearn.feature_extraction.text import TfidfVectorizer\n",
    "\n",
    "#Define a TF-IDF Vectorizer Object. Remove all english stop words such as 'the', 'a'\n",
    "tfidf = TfidfVectorizer(stop_words='english')\n",
    "\n",
    "#Construct the required TF-IDF matrix by fitting and transforming the data\n",
    "tfidf_matrix = tfidf.fit_transform(data['ingredSpaces'])\n",
    "\n",
    "#Output the shape of tfidf_matrix\n",
    "tfidf_matrix.shape"
   ]
  },
  {
   "cell_type": "code",
   "execution_count": 17,
   "metadata": {},
   "outputs": [
    {
     "name": "stdout",
     "output_type": "stream",
     "text": [
      "5,459 different words were used to describe 8,110 recipes in the dataset\n"
     ]
    }
   ],
   "source": [
    "print(\"5,459 different words were used to describe 8,110 recipes in the dataset\")"
   ]
  },
  {
   "cell_type": "markdown",
   "metadata": {},
   "source": [
    "Using this matrix we can compute a similarity score. We will use a cosine similarity to calculate a number that denotes the similarity between two recipes.\n",
    "\n",
    "cosine(x,y0 = x.y^T / ||x||.||y||\n",
    "\n",
    "Since we have used the TF-IDF vectorizer, calculating the dot product will give us the cosine similarity score. We will use sklearn's linear_kernel() because it is faster.\n"
   ]
  },
  {
   "cell_type": "code",
   "execution_count": 18,
   "metadata": {
    "collapsed": true
   },
   "outputs": [],
   "source": [
    "# Import linear_kernel\n",
    "from sklearn.metrics.pairwise import linear_kernel\n",
    "\n",
    "# Compute the cosine similarity matrix\n",
    "cosine_sim = linear_kernel(tfidf_matrix, tfidf_matrix)"
   ]
  },
  {
   "cell_type": "markdown",
   "metadata": {},
   "source": [
    "We're going to define a function that takes in a recipe title as an input and outputs a list of the 10 most similar recipes. \n",
    "\n",
    "To do this, we will need a reverse mapping of recipe titles and dataframe indices. This will give us a way to identify the index of a recipe, given its title."
   ]
  },
  {
   "cell_type": "code",
   "execution_count": 19,
   "metadata": {},
   "outputs": [
    {
     "data": {
      "text/plain": [
       "ingredSpaces\n",
       "TacoMeatFilling: groundbeef tacoseasoning Batter: MazolaPure®CookingSpray allpurposeflour masacornflourORcornmeal \"envelopesFleischmanns®RapidRiseYeast\" sugar salt verywarmmilkdegreesFdegreesF Mazola®CornOil egg Topping: chunkysalsa Mexicanstylecheese cornchips partially    0\n",
       "groundbeef Pace®TacoSeasoningMix \"Campbells®CondensedTomatoSoup\" water instantwhiterice Pace®Thick&ChunkySalsa ShreddedCheddarcheese Shreddedlettuce Tortillachips                                                                                                                 1\n",
       "wholewheatbread groundbeef greenonion  onion salsa wholegrainDijonmustard Worcestershiresauce garlic saltpepper barbequesauce                                                                                                                                                      2\n",
       "groundbeef onionpowder honeymustard garlicpowder redpepper salt brownsugar oliveoil Swisscheese hamburgerbuns                                                                                                                                                                      3\n",
       "beefliver milk  butter  Vidaliaonions  allpurposeflour  saltpepper                                                                                                                                                                                                                 4\n",
       "dtype: int64"
      ]
     },
     "execution_count": 19,
     "metadata": {},
     "output_type": "execute_result"
    }
   ],
   "source": [
    "#Construct a reverse map of indices and movie titles\n",
    "indices = pd.Series(data.index, index=data['ingredSpaces']).drop_duplicates()\n",
    "\n",
    "indices.head()"
   ]
  },
  {
   "cell_type": "code",
   "execution_count": 20,
   "metadata": {
    "collapsed": true
   },
   "outputs": [],
   "source": [
    "# Import CountVectorizer and create the count matrix\n",
    "from sklearn.feature_extraction.text import CountVectorizer\n",
    "\n",
    "count = CountVectorizer(stop_words='english')\n",
    "count_matrix = count.fit_transform(data['ingredSpaces'])\n"
   ]
  },
  {
   "cell_type": "code",
   "execution_count": 21,
   "metadata": {
    "collapsed": true
   },
   "outputs": [],
   "source": [
    "# Compute the Cosine Similarity matrix based on the count_matrix\n",
    "from sklearn.metrics.pairwise import cosine_similarity\n",
    "\n",
    "cosine_sim2 = cosine_similarity(count_matrix, count_matrix)"
   ]
  },
  {
   "cell_type": "code",
   "execution_count": 22,
   "metadata": {
    "collapsed": true
   },
   "outputs": [],
   "source": [
    "# Reset index of our main DataFrame and construct reverse mapping\n",
    "data = data.reset_index()\n",
    "indices = pd.Series(data.index, index=data['ingred'])"
   ]
  },
  {
   "cell_type": "code",
   "execution_count": null,
   "metadata": {
    "collapsed": true
   },
   "outputs": [],
   "source": []
  },
  {
   "cell_type": "code",
   "execution_count": 23,
   "metadata": {
    "collapsed": true
   },
   "outputs": [],
   "source": [
    "# Function that takes in ingredient as input and outputs most similar ingredients\n",
    "def get_recommendations(title, cosine_sim=cosine_sim):\n",
    "    # Get the index of the recipe title that matches the title\n",
    "    idx = indices[title]\n",
    "\n",
    "    print(\"idx[title] = \",idx)\n",
    "    \n",
    "    # Get the pairwise similarity scores of all titles with that title\n",
    "    sim_scores = list(enumerate(cosine_sim[idx]))\n",
    "    \n",
    "    # Sort the movies based on the similarity scores    \n",
    "    sim_scores = sorted(sim_scores, key=lambda x: x[1], reverse=True)\n",
    "\n",
    "    # Get the scores of the 10 most similar movies\n",
    "    sim_scores = sim_scores[1:11]\n",
    " \n",
    "    # Get the movie indices\n",
    "    recipe_indices = [i[0] for i in sim_scores]\n",
    "\n",
    "    # Return the top 10 most similar recipes\n",
    "    return data['title'].iloc[recipe_indices]"
   ]
  },
  {
   "cell_type": "code",
   "execution_count": 24,
   "metadata": {},
   "outputs": [
    {
     "name": "stdout",
     "output_type": "stream",
     "text": [
      "idx[title] =  20\n"
     ]
    },
    {
     "data": {
      "text/plain": [
       "1257                 Ann's Dirty Rice\n",
       "848                        Porcupines\n",
       "2085                       Porcupines\n",
       "236                 Cabbage Rolls III\n",
       "557               Hamburger Rice Soup\n",
       "1473                Cabbage Rolls III\n",
       "1794              Hamburger Rice Soup\n",
       "3489                   Zucchini Saute\n",
       "728     Melinda's Porcupine Meatballs\n",
       "1965    Melinda's Porcupine Meatballs\n",
       "Name: title, dtype: object"
      ]
     },
     "execution_count": 24,
     "metadata": {},
     "output_type": "execute_result"
    }
   ],
   "source": [
    "get_recommendations(20, cosine_sim2)  #Ann's Dirty Rice\n"
   ]
  },
  {
   "cell_type": "code",
   "execution_count": 25,
   "metadata": {},
   "outputs": [
    {
     "name": "stdout",
     "output_type": "stream",
     "text": [
      "idx[title] =  8083\n"
     ]
    },
    {
     "data": {
      "text/plain": [
       "3166                      Grilled Asparagus\n",
       "3170                     Asparagus Parmesan\n",
       "2536    Cranberry and Cilantro Quinoa Salad\n",
       "8030                          Shrimp Quinoa\n",
       "4300                Spicy and Sweet Spinach\n",
       "3151                    Pan-Fried Asparagus\n",
       "7880                  Shrimp and Okra Gumbo\n",
       "5972       Goat Cheese and Asparagus Quinoa\n",
       "3520             The Best Steamed Asparagus\n",
       "5988                 Spiced Quinoa Porridge\n",
       "Name: title, dtype: object"
      ]
     },
     "execution_count": 25,
     "metadata": {},
     "output_type": "execute_result"
    }
   ],
   "source": [
    "get_recommendations(8083) #Shrimp and Quinoa"
   ]
  },
  {
   "cell_type": "code",
   "execution_count": 26,
   "metadata": {},
   "outputs": [
    {
     "name": "stdout",
     "output_type": "stream",
     "text": [
      "idx[title] =  8100\n"
     ]
    },
    {
     "data": {
      "text/plain": [
       "7980                            Quick Tuna Salad\n",
       "7750                      Avocado and Tuna Tapas\n",
       "2568                                 Egg Salad I\n",
       "2543                        Mom's Cucumber Salad\n",
       "7958                              Halibut Weaver\n",
       "3568    Asparagus with Cranberries and Pine Nuts\n",
       "4324                   Creamy Buttered Cucumbers\n",
       "2473                       Holiday Chicken Salad\n",
       "2722                       Holiday Chicken Salad\n",
       "8062                         Cheesy Baked Salmon\n",
       "Name: title, dtype: object"
      ]
     },
     "execution_count": 26,
     "metadata": {},
     "output_type": "execute_result"
    }
   ],
   "source": [
    "get_recommendations(8100) #tuna salad with cranberries"
   ]
  },
  {
   "cell_type": "code",
   "execution_count": 27,
   "metadata": {},
   "outputs": [
    {
     "data": {
      "text/plain": [
       "0                   1-Dish Taco Bake\n",
       "1    15-Minute Dinner Nachos Supreme\n",
       "2           A Firefighter's Meatloaf\n",
       "3            Aaron's Missouri Burger\n",
       "4     Absolute Best Liver and Onions\n",
       "Name: title, dtype: object"
      ]
     },
     "execution_count": 27,
     "metadata": {},
     "output_type": "execute_result"
    }
   ],
   "source": [
    "data['title'].head()"
   ]
  },
  {
   "cell_type": "code",
   "execution_count": 28,
   "metadata": {},
   "outputs": [
    {
     "name": "stdout",
     "output_type": "stream",
     "text": [
      "idx[title] =  14\n"
     ]
    },
    {
     "data": {
      "text/plain": [
       "1251          American Lasagna\n",
       "6180          American Lasagna\n",
       "669     Lasagna Stuffed Shells\n",
       "1906    Lasagna Stuffed Shells\n",
       "410             Easy Lasagna I\n",
       "1647            Easy Lasagna I\n",
       "1164         That's-a Meatloaf\n",
       "2400         That's-a Meatloaf\n",
       "1042          Spaghetti Pie II\n",
       "2278          Spaghetti Pie II\n",
       "Name: title, dtype: object"
      ]
     },
     "execution_count": 28,
     "metadata": {},
     "output_type": "execute_result"
    }
   ],
   "source": [
    "get_recommendations(14) #american lasagne"
   ]
  },
  {
   "cell_type": "code",
   "execution_count": 29,
   "metadata": {},
   "outputs": [
    {
     "name": "stdout",
     "output_type": "stream",
     "text": [
      "idx[title] =  8108\n"
     ]
    },
    {
     "data": {
      "text/plain": [
       "3354             Summer Vegetable Ratatouille\n",
       "4087                          Sauteed Cabbage\n",
       "253                      Carne Asada Marinade\n",
       "1490                     Carne Asada Marinade\n",
       "3390                         Roasted Broccoli\n",
       "3337    Olive Oil Roasted Eggplant with Lemon\n",
       "7892       Pan-Poached Alaskan Salmon Piccata\n",
       "7493         Grilled Tilapia with Mango Salsa\n",
       "4924     Spring Fiddleheads and Sweet Peppers\n",
       "7857                    Pasta With Tuna Sauce\n",
       "Name: title, dtype: object"
      ]
     },
     "execution_count": 29,
     "metadata": {},
     "output_type": "execute_result"
    }
   ],
   "source": [
    "get_recommendations(8108) #Mainely Fish"
   ]
  },
  {
   "cell_type": "markdown",
   "metadata": {},
   "source": [
    "### Next, we'll add more features to help improve recommendations. We'll add Categories and Title."
   ]
  },
  {
   "cell_type": "code",
   "execution_count": 30,
   "metadata": {},
   "outputs": [],
   "source": [
    "def clean_categories(ds):\n",
    "#    for item in ds:\n",
    "    ds = ds.str.replace(' ','')\n",
    "    ds = ds.str.lower()\n",
    "    ds = ds.str.replace('[','')\n",
    "    ds = ds.str.replace(']','')\n",
    "    ds = ds.str.replace(\"''\",' ')\n",
    "    ds = ds.str.replace(',',' ')\n",
    "    ds = ds.str.replace(\"'\",\"\")\n",
    "    return ds\n",
    "\n"
   ]
  },
  {
   "cell_type": "code",
   "execution_count": 31,
   "metadata": {},
   "outputs": [
    {
     "data": {
      "text/plain": [
       "0    trustedbrands:recipesandtips \"argo&#174; karo&...\n",
       "1      trustedbrands:recipesandtips \"campbellskitchen\"\n",
       "2                       maindish meatloaf beefmeatloaf\n",
       "3                          maindish burgers hamburgers\n",
       "4                                             maindish\n",
       "Name: categories_clean, dtype: object"
      ]
     },
     "execution_count": 31,
     "metadata": {},
     "output_type": "execute_result"
    }
   ],
   "source": [
    "data['categories_clean'] = clean_categories(data['categories'])\n",
    "data['categories_clean'].head()"
   ]
  },
  {
   "cell_type": "markdown",
   "metadata": {},
   "source": [
    "We will use the CountVectorizer() instead of TF-IDF. This is because we do not want to down-weight the presence of an ingredient if it appears in relatively more recipes."
   ]
  },
  {
   "cell_type": "code",
   "execution_count": 32,
   "metadata": {},
   "outputs": [],
   "source": [
    "# Merge ingredients and categories into one column\n",
    "data['ingred_cat'] = data['ingredSpaces'] + ' ' + data['categories_clean'] \n"
   ]
  },
  {
   "cell_type": "code",
   "execution_count": 33,
   "metadata": {
    "collapsed": true
   },
   "outputs": [],
   "source": [
    "from sklearn.feature_extraction.text import CountVectorizer\n",
    "\n",
    "count = CountVectorizer(stop_words='english')\n",
    "count_matrix = count.fit_transform(data['ingred_cat'])"
   ]
  },
  {
   "cell_type": "code",
   "execution_count": 34,
   "metadata": {
    "collapsed": true
   },
   "outputs": [],
   "source": [
    "# Compute the Cosine Similarity matrix based on the count_matrix\n",
    "from sklearn.metrics.pairwise import cosine_similarity\n",
    "\n",
    "cosine_sim2 = cosine_similarity(count_matrix, count_matrix)"
   ]
  },
  {
   "cell_type": "code",
   "execution_count": 35,
   "metadata": {},
   "outputs": [],
   "source": [
    "# Reset index of the main DataFrame and construct reverse mapping as before\n",
    "data = data.reset_index()\n",
    "indices = pd.Series(data.index, index=data['ingred_cat'])"
   ]
  },
  {
   "cell_type": "code",
   "execution_count": 36,
   "metadata": {},
   "outputs": [
    {
     "data": {
      "text/plain": [
       "ingred_cat\n",
       "TacoMeatFilling: groundbeef tacoseasoning Batter: MazolaPure®CookingSpray allpurposeflour masacornflourORcornmeal \"envelopesFleischmanns®RapidRiseYeast\" sugar salt verywarmmilkdegreesFdegreesF Mazola®CornOil egg Topping: chunkysalsa Mexicanstylecheese cornchips partially trustedbrands:recipesandtips \"argo&#174; karo&#174; fleischmanns&#174;\"    0\n",
       "groundbeef Pace®TacoSeasoningMix \"Campbells®CondensedTomatoSoup\" water instantwhiterice Pace®Thick&ChunkySalsa ShreddedCheddarcheese Shreddedlettuce Tortillachips trustedbrands:recipesandtips \"campbellskitchen\"                                                                                                                                         1\n",
       "wholewheatbread groundbeef greenonion  onion salsa wholegrainDijonmustard Worcestershiresauce garlic saltpepper barbequesauce maindish meatloaf beefmeatloaf                                                                                                                                                                                               2\n",
       "groundbeef onionpowder honeymustard garlicpowder redpepper salt brownsugar oliveoil Swisscheese hamburgerbuns maindish burgers hamburgers                                                                                                                                                                                                                  3\n",
       "beefliver milk  butter  Vidaliaonions  allpurposeflour  saltpepper maindish                                                                                                                                                                                                                                                                                4\n",
       "dtype: int64"
      ]
     },
     "execution_count": 36,
     "metadata": {},
     "output_type": "execute_result"
    }
   ],
   "source": [
    "indices.head()"
   ]
  },
  {
   "cell_type": "code",
   "execution_count": 37,
   "metadata": {},
   "outputs": [
    {
     "name": "stdout",
     "output_type": "stream",
     "text": [
      "idx[title] =  19\n"
     ]
    },
    {
     "data": {
      "text/plain": [
       "1256    Angel's Old Fashioned Beef Stew\n",
       "827          Pauline Werner's Beef Stew\n",
       "2064         Pauline Werner's Beef Stew\n",
       "477                    French Beef Stew\n",
       "1714                   French Beef Stew\n",
       "806             Old-Fashioned Beef Stew\n",
       "2043            Old-Fashioned Beef Stew\n",
       "600                     Irish Beef Stew\n",
       "1837                    Irish Beef Stew\n",
       "979             Slow Cooker Beef Stew I\n",
       "Name: title, dtype: object"
      ]
     },
     "execution_count": 37,
     "metadata": {},
     "output_type": "execute_result"
    }
   ],
   "source": [
    "get_recommendations(19, cosine_sim2)"
   ]
  },
  {
   "cell_type": "code",
   "execution_count": 38,
   "metadata": {},
   "outputs": [
    {
     "name": "stdout",
     "output_type": "stream",
     "text": [
      "idx[title] =  477\n"
     ]
    },
    {
     "data": {
      "text/plain": [
       "1714                   French Beef Stew\n",
       "160                   Beer Beef Stew II\n",
       "568                    Hearty Beef Stew\n",
       "1397                  Beer Beef Stew II\n",
       "1805                   Hearty Beef Stew\n",
       "19      Angel's Old Fashioned Beef Stew\n",
       "1256    Angel's Old Fashioned Beef Stew\n",
       "979             Slow Cooker Beef Stew I\n",
       "2215            Slow Cooker Beef Stew I\n",
       "6060            Slow Cooker Beef Stew I\n",
       "Name: title, dtype: object"
      ]
     },
     "execution_count": 38,
     "metadata": {},
     "output_type": "execute_result"
    }
   ],
   "source": [
    "get_recommendations(477, cosine_sim2)"
   ]
  },
  {
   "cell_type": "code",
   "execution_count": 39,
   "metadata": {},
   "outputs": [
    {
     "name": "stdout",
     "output_type": "stream",
     "text": [
      "idx[title] =  8108\n"
     ]
    },
    {
     "data": {
      "text/plain": [
       "8090                                 Spicy Red Snapper\n",
       "7493                  Grilled Tilapia with Mango Salsa\n",
       "7791                             Red Snapper Livornese\n",
       "8026                                 Easiest Spicy Cod\n",
       "7784                                     Fish Roll-Ups\n",
       "7857                             Pasta With Tuna Sauce\n",
       "7745                               Haddock Bubbly Bake\n",
       "7892                Pan-Poached Alaskan Salmon Piccata\n",
       "3354                      Summer Vegetable Ratatouille\n",
       "7781    Pan Fried Halibut Steak with Light Green Sauce\n",
       "Name: title, dtype: object"
      ]
     },
     "execution_count": 39,
     "metadata": {},
     "output_type": "execute_result"
    }
   ],
   "source": [
    "get_recommendations(8108, cosine_sim2) #Mainely Fish"
   ]
  },
  {
   "cell_type": "code",
   "execution_count": 40,
   "metadata": {},
   "outputs": [
    {
     "name": "stdout",
     "output_type": "stream",
     "text": [
      "idx[title] =  0\n"
     ]
    },
    {
     "data": {
      "text/plain": [
       "1237                                     1-Dish Taco Bake\n",
       "2766                                    Blackened Chicken\n",
       "5875                              Mango- Coconut Smoothie\n",
       "3099    Original Nestle® Toll House Chocolate Chip Coo...\n",
       "4076                          Creamed Spinach from Oikos®\n",
       "511                              Grands!® Easy Taco Melts\n",
       "1748                             Grands!® Easy Taco Melts\n",
       "5874                          Beet-Red Raspberry Smoothie\n",
       "596                      Impossibly Easy Cheeseburger Pie\n",
       "1833                     Impossibly Easy Cheeseburger Pie\n",
       "Name: title, dtype: object"
      ]
     },
     "execution_count": 40,
     "metadata": {},
     "output_type": "execute_result"
    }
   ],
   "source": [
    "get_recommendations(0, cosine_sim2) #1 dish taco bake"
   ]
  },
  {
   "cell_type": "code",
   "execution_count": 41,
   "metadata": {},
   "outputs": [
    {
     "name": "stdout",
     "output_type": "stream",
     "text": [
      "idx[title] =  8083\n"
     ]
    },
    {
     "data": {
      "text/plain": [
       "8030                                     Shrimp Quinoa\n",
       "8040                                      Shrimp Verde\n",
       "7966              Shrimp with Tomatoes and Feta Cheese\n",
       "8034                        Lemon Pepper Pasta Seafood\n",
       "7853                     Lemony Shrimp over Brown Rice\n",
       "7909               Camarones al Ajillo (Garlic Shrimp)\n",
       "7833                                Sexy Shrimp Scampi\n",
       "7681    Fire Roasted Tomato and Feta Pasta with Shrimp\n",
       "7441                  Garlicky Appetizer Shrimp Scampi\n",
       "7789                  Garlicky Appetizer Shrimp Scampi\n",
       "Name: title, dtype: object"
      ]
     },
     "execution_count": 41,
     "metadata": {},
     "output_type": "execute_result"
    }
   ],
   "source": [
    "get_recommendations(8083, cosine_sim2) #Shrimp and Quinoa"
   ]
  },
  {
   "cell_type": "markdown",
   "metadata": {},
   "source": [
    "## 2 - Recommender System Considering Ratings and Number of Reviews"
   ]
  },
  {
   "cell_type": "markdown",
   "metadata": {},
   "source": [
    "Since ratings can be different based on the number of reviews, for example should a recipe with only 3 ratings, where the average rating is 5.0, be evaluated as having a truly higher rating than a recipe with 500 ratings, where the average rating is about 4.0?<br>\n",
    "\n",
    "In order to be fair, we are going to use a weighted ratings.<br>\n",
    "\n",
    "v: number of reviews for the recipe<br>\n",
    "\n",
    "m: minimum number of votes required to be listed<br>\n",
    "\n",
    "R: average rating of the recipe<br>\n",
    "\n",
    "C: mean vote across all recipes<br>\n",
    "\n",
    "We will use 90th percentile as the cutoff in terms of number of reviews.<br>\n"
   ]
  },
  {
   "cell_type": "code",
   "execution_count": 42,
   "metadata": {},
   "outputs": [
    {
     "data": {
      "text/html": [
       "<div>\n",
       "<style scoped>\n",
       "    .dataframe tbody tr th:only-of-type {\n",
       "        vertical-align: middle;\n",
       "    }\n",
       "\n",
       "    .dataframe tbody tr th {\n",
       "        vertical-align: top;\n",
       "    }\n",
       "\n",
       "    .dataframe thead th {\n",
       "        text-align: right;\n",
       "    }\n",
       "</style>\n",
       "<table border=\"1\" class=\"dataframe\">\n",
       "  <thead>\n",
       "    <tr style=\"text-align: right;\">\n",
       "      <th></th>\n",
       "      <th>title</th>\n",
       "      <th>categories</th>\n",
       "      <th>ingred</th>\n",
       "      <th>rating</th>\n",
       "      <th>review_cnt</th>\n",
       "    </tr>\n",
       "  </thead>\n",
       "  <tbody>\n",
       "    <tr>\n",
       "      <th>0</th>\n",
       "      <td>1-Dish Taco Bake</td>\n",
       "      <td>['Trusted Brands: Recipes and Tips', \"ARGO&amp;#17...</td>\n",
       "      <td>['Taco Meat Filling:', '1 pound ground beef', ...</td>\n",
       "      <td>4.41</td>\n",
       "      <td>86</td>\n",
       "    </tr>\n",
       "    <tr>\n",
       "      <th>1</th>\n",
       "      <td>15-Minute Dinner Nachos Supreme</td>\n",
       "      <td>['Trusted Brands: Recipes and Tips', \"Campbell...</td>\n",
       "      <td>['1 pound ground beef', '1 (1.12 ounce) packag...</td>\n",
       "      <td>4.00</td>\n",
       "      <td>1</td>\n",
       "    </tr>\n",
       "    <tr>\n",
       "      <th>2</th>\n",
       "      <td>A Firefighter's Meatloaf</td>\n",
       "      <td>['Main Dish', 'Meatloaf', 'Beef Meatloaf']</td>\n",
       "      <td>['2 slices whole wheat bread', '2 pounds groun...</td>\n",
       "      <td>4.37</td>\n",
       "      <td>262</td>\n",
       "    </tr>\n",
       "    <tr>\n",
       "      <th>3</th>\n",
       "      <td>Aaron's Missouri Burger</td>\n",
       "      <td>['Main Dish', 'Burgers', 'Hamburgers']</td>\n",
       "      <td>['1 pound lean ground beef', '2 teaspoons onio...</td>\n",
       "      <td>4.67</td>\n",
       "      <td>150</td>\n",
       "    </tr>\n",
       "    <tr>\n",
       "      <th>4</th>\n",
       "      <td>Absolute Best Liver and Onions</td>\n",
       "      <td>['Main Dish']</td>\n",
       "      <td>['2 pounds sliced beef liver', '1 1/2 cups mil...</td>\n",
       "      <td>4.17</td>\n",
       "      <td>9</td>\n",
       "    </tr>\n",
       "    <tr>\n",
       "      <th>5</th>\n",
       "      <td>Adobo Sirloin</td>\n",
       "      <td>['World Cuisine', 'Latin American', 'Mexican']</td>\n",
       "      <td>['1 lime, juiced', '1 tablespoon minced garlic...</td>\n",
       "      <td>4.00</td>\n",
       "      <td>4</td>\n",
       "    </tr>\n",
       "    <tr>\n",
       "      <th>6</th>\n",
       "      <td>Albondigas</td>\n",
       "      <td>['Soups, Stews and Chili', 'Soup', 'Beef Soup']</td>\n",
       "      <td>['1 quart water', '4 carrots, sliced', '2 smal...</td>\n",
       "      <td>4.25</td>\n",
       "      <td>1362</td>\n",
       "    </tr>\n",
       "    <tr>\n",
       "      <th>7</th>\n",
       "      <td>Albondigas Soup I</td>\n",
       "      <td>['Soups, Stews and Chili', 'Soup', 'Pork Soup']</td>\n",
       "      <td>['1 pound lean ground beef', '1/4 pound pork s...</td>\n",
       "      <td>4.28</td>\n",
       "      <td>34</td>\n",
       "    </tr>\n",
       "    <tr>\n",
       "      <th>8</th>\n",
       "      <td>Albondigas Soup II</td>\n",
       "      <td>['Soups, Stews and Chili', 'Soup', 'Beef Soup']</td>\n",
       "      <td>['1 pound lean ground beef', '2 cubes beef bou...</td>\n",
       "      <td>4.00</td>\n",
       "      <td>2</td>\n",
       "    </tr>\n",
       "    <tr>\n",
       "      <th>9</th>\n",
       "      <td>Alison's Slow Cooker Vegetable Beef Soup</td>\n",
       "      <td>['Soups, Stews and Chili', 'Soup', 'Beef Soup']</td>\n",
       "      <td>['1 1/2 pounds cubed beef stew meat', '2 cups ...</td>\n",
       "      <td>4.71</td>\n",
       "      <td>6</td>\n",
       "    </tr>\n",
       "    <tr>\n",
       "      <th>10</th>\n",
       "      <td>All American Roast Beef</td>\n",
       "      <td>['Everyday Cooking']</td>\n",
       "      <td>['3 pounds beef eye of round roast', '1/2 teas...</td>\n",
       "      <td>4.42</td>\n",
       "      <td>43</td>\n",
       "    </tr>\n",
       "    <tr>\n",
       "      <th>11</th>\n",
       "      <td>All Protein Meatloaf</td>\n",
       "      <td>['Main Dish', 'Meatloaf', 'Beef Meatloaf']</td>\n",
       "      <td>['1 1/2 pounds ground beef', '1 tablespoon Wor...</td>\n",
       "      <td>4.42</td>\n",
       "      <td>43</td>\n",
       "    </tr>\n",
       "    <tr>\n",
       "      <th>12</th>\n",
       "      <td>Alysia's Basic Meat Lasagna</td>\n",
       "      <td>['World Cuisine', 'European', 'Italian']</td>\n",
       "      <td>['1 1/2 pounds ground beef', '1 teaspoon garli...</td>\n",
       "      <td>4.61</td>\n",
       "      <td>41</td>\n",
       "    </tr>\n",
       "    <tr>\n",
       "      <th>13</th>\n",
       "      <td>American Chop Suey II</td>\n",
       "      <td>['Pasta and Noodles', 'Pasta by Shape']</td>\n",
       "      <td>['1 (16 ounce) package uncooked elbow macaroni...</td>\n",
       "      <td>4.07</td>\n",
       "      <td>12</td>\n",
       "    </tr>\n",
       "    <tr>\n",
       "      <th>14</th>\n",
       "      <td>American Lasagna</td>\n",
       "      <td>['World Cuisine', 'European', 'Italian']</td>\n",
       "      <td>['1 1/2 pounds lean ground beef', '1 onion, ch...</td>\n",
       "      <td>4.50</td>\n",
       "      <td>3</td>\n",
       "    </tr>\n",
       "    <tr>\n",
       "      <th>15</th>\n",
       "      <td>American Shepherd's Pie</td>\n",
       "      <td>['Main Dish', 'Savory Pies', \"Shepherd's Pie\"]</td>\n",
       "      <td>['1 pound lean ground beef', '1/2 cup chopped ...</td>\n",
       "      <td>4.47</td>\n",
       "      <td>13</td>\n",
       "    </tr>\n",
       "    <tr>\n",
       "      <th>16</th>\n",
       "      <td>Amish Meatloaf</td>\n",
       "      <td>['Main Dish', 'Meatloaf', 'Beef Meatloaf']</td>\n",
       "      <td>['2 pounds ground beef', '2 1/2 cups crushed b...</td>\n",
       "      <td>4.67</td>\n",
       "      <td>4</td>\n",
       "    </tr>\n",
       "    <tr>\n",
       "      <th>17</th>\n",
       "      <td>Amish Yumazuti</td>\n",
       "      <td>['Pasta and Noodles', 'Noodles']</td>\n",
       "      <td>['1 pound ground beef', '1 onion, chopped', '3...</td>\n",
       "      <td>4.60</td>\n",
       "      <td>5</td>\n",
       "    </tr>\n",
       "    <tr>\n",
       "      <th>18</th>\n",
       "      <td>Andie's Stuffed Mushrooms</td>\n",
       "      <td>['Appetizers and Snacks', 'Vegetable', 'Mushro...</td>\n",
       "      <td>['1 pound lean ground beef', '2 pounds fresh m...</td>\n",
       "      <td>0.00</td>\n",
       "      <td>0</td>\n",
       "    </tr>\n",
       "    <tr>\n",
       "      <th>19</th>\n",
       "      <td>Angel's Old Fashioned Beef Stew</td>\n",
       "      <td>['Soups, Stews and Chili', 'Stews', 'Beef']</td>\n",
       "      <td>['4 tablespoons vegetable oil', '1/2 cup all-p...</td>\n",
       "      <td>3.50</td>\n",
       "      <td>4</td>\n",
       "    </tr>\n",
       "    <tr>\n",
       "      <th>20</th>\n",
       "      <td>Ann's Dirty Rice</td>\n",
       "      <td>['Side Dish', 'Rice']</td>\n",
       "      <td>['1 pound ground beef', '1 yellow onion, chopp...</td>\n",
       "      <td>5.00</td>\n",
       "      <td>1</td>\n",
       "    </tr>\n",
       "    <tr>\n",
       "      <th>21</th>\n",
       "      <td>Ann's Sister's Meatloaf Recipe</td>\n",
       "      <td>['Main Dish', 'Meatloaf', 'Pork Meatloaf']</td>\n",
       "      <td>['2 pounds lean ground beef', '2 eggs', '1 1/2...</td>\n",
       "      <td>5.00</td>\n",
       "      <td>1</td>\n",
       "    </tr>\n",
       "    <tr>\n",
       "      <th>22</th>\n",
       "      <td>Apple and Brown Sugar Corned Beef</td>\n",
       "      <td>['World Cuisine', 'European', 'UK and Ireland'...</td>\n",
       "      <td>['4 cups apple juice', '1/2 cup brown sugar', ...</td>\n",
       "      <td>5.00</td>\n",
       "      <td>1</td>\n",
       "    </tr>\n",
       "    <tr>\n",
       "      <th>23</th>\n",
       "      <td>Apple Flavored Pot Roast</td>\n",
       "      <td>['Main Dish', 'Roasts']</td>\n",
       "      <td>['1 (3 pound) boneless beef chuck roast', '1 (...</td>\n",
       "      <td>4.39</td>\n",
       "      <td>137</td>\n",
       "    </tr>\n",
       "    <tr>\n",
       "      <th>24</th>\n",
       "      <td>Argentine Meat Empanadas</td>\n",
       "      <td>['World Cuisine', 'Latin American', 'South Ame...</td>\n",
       "      <td>['1/2 cup shortening', '2 onions, chopped', '1...</td>\n",
       "      <td>4.37</td>\n",
       "      <td>40</td>\n",
       "    </tr>\n",
       "    <tr>\n",
       "      <th>25</th>\n",
       "      <td>Army SOS Creamed Ground Beef</td>\n",
       "      <td>['Everyday Cooking']</td>\n",
       "      <td>['1 pound ground beef', '1/4 cup all-purpose f...</td>\n",
       "      <td>4.45</td>\n",
       "      <td>70</td>\n",
       "    </tr>\n",
       "    <tr>\n",
       "      <th>26</th>\n",
       "      <td>Asian Barbequed Steak</td>\n",
       "      <td>['World Cuisine', 'Asian', 'Thai']</td>\n",
       "      <td>['1/4 cup chili sauce', '1/4 cup fish sauce', ...</td>\n",
       "      <td>4.56</td>\n",
       "      <td>9</td>\n",
       "    </tr>\n",
       "    <tr>\n",
       "      <th>27</th>\n",
       "      <td>Asian Beef Skewers</td>\n",
       "      <td>['Everyday Cooking']</td>\n",
       "      <td>['3 tablespoons hoisin sauce', '3 tablespoons ...</td>\n",
       "      <td>4.65</td>\n",
       "      <td>3837</td>\n",
       "    </tr>\n",
       "    <tr>\n",
       "      <th>28</th>\n",
       "      <td>Asian Beef with Snow Peas</td>\n",
       "      <td>['World Cuisine', 'Asian', 'Chinese']</td>\n",
       "      <td>['3 tablespoons soy sauce', '2 tablespoons ric...</td>\n",
       "      <td>4.65</td>\n",
       "      <td>3837</td>\n",
       "    </tr>\n",
       "    <tr>\n",
       "      <th>29</th>\n",
       "      <td>Asian Fire Meat</td>\n",
       "      <td>['World Cuisine', 'Asian', 'Chinese']</td>\n",
       "      <td>['1/2 cup soy sauce', '1 tablespoon sesame oil...</td>\n",
       "      <td>4.64</td>\n",
       "      <td>3837</td>\n",
       "    </tr>\n",
       "    <tr>\n",
       "      <th>...</th>\n",
       "      <td>...</td>\n",
       "      <td>...</td>\n",
       "      <td>...</td>\n",
       "      <td>...</td>\n",
       "      <td>...</td>\n",
       "    </tr>\n",
       "    <tr>\n",
       "      <th>8080</th>\n",
       "      <td>Kevin's Sea Shells</td>\n",
       "      <td>['Seafood', 'Shellfish', 'Shrimp']</td>\n",
       "      <td>['1 1/2 pounds large shrimp, peeled and devein...</td>\n",
       "      <td>4.41</td>\n",
       "      <td>17</td>\n",
       "    </tr>\n",
       "    <tr>\n",
       "      <th>8081</th>\n",
       "      <td>Seafood Creole</td>\n",
       "      <td>['Seafood', 'Fish']</td>\n",
       "      <td>['3/4 teaspoon dried oregano', '1/2 teaspoon s...</td>\n",
       "      <td>4.68</td>\n",
       "      <td>331</td>\n",
       "    </tr>\n",
       "    <tr>\n",
       "      <th>8082</th>\n",
       "      <td>Broiled Sweet and Tangy Tilapia</td>\n",
       "      <td>['Seafood', 'Fish', 'Tilapia']</td>\n",
       "      <td>['2 tablespoons butter', '3 teaspoons lemon ju...</td>\n",
       "      <td>2.00</td>\n",
       "      <td>3</td>\n",
       "    </tr>\n",
       "    <tr>\n",
       "      <th>8083</th>\n",
       "      <td>Shrimp and Quinoa</td>\n",
       "      <td>['Seafood', 'Shellfish', 'Shrimp']</td>\n",
       "      <td>['1 1/2 cups water', '1 cup uncooked quinoa', ...</td>\n",
       "      <td>4.64</td>\n",
       "      <td>451</td>\n",
       "    </tr>\n",
       "    <tr>\n",
       "      <th>8084</th>\n",
       "      <td>One-Dish Rockfish</td>\n",
       "      <td>['Seafood', 'Fish']</td>\n",
       "      <td>['5 cups fresh spinach', '2 (6 ounce) fillets ...</td>\n",
       "      <td>4.64</td>\n",
       "      <td>451</td>\n",
       "    </tr>\n",
       "    <tr>\n",
       "      <th>8085</th>\n",
       "      <td>Phyllo Turnovers with Shrimp and Ricotta Filling</td>\n",
       "      <td>['Appetizers and Snacks', 'Seafood', 'Shrimp']</td>\n",
       "      <td>['3 tablespoons butter', '1 tablespoon canola ...</td>\n",
       "      <td>4.00</td>\n",
       "      <td>8</td>\n",
       "    </tr>\n",
       "    <tr>\n",
       "      <th>8086</th>\n",
       "      <td>Grilled Shrimp and Apple Skewers</td>\n",
       "      <td>['Seafood', 'Shellfish', 'Shrimp']</td>\n",
       "      <td>['3 tablespoons honey', '3 tablespoons olive o...</td>\n",
       "      <td>4.30</td>\n",
       "      <td>115</td>\n",
       "    </tr>\n",
       "    <tr>\n",
       "      <th>8087</th>\n",
       "      <td>Avocado-Shrimp Salad</td>\n",
       "      <td>['Salad', 'Seafood Salad', 'Shrimp Salad']</td>\n",
       "      <td>['2 avocados - peeled, pitted, and cubed', '2 ...</td>\n",
       "      <td>4.47</td>\n",
       "      <td>218</td>\n",
       "    </tr>\n",
       "    <tr>\n",
       "      <th>8088</th>\n",
       "      <td>Caesar Salad I</td>\n",
       "      <td>['Salad', 'Green Salads', 'Romaine Lettuce Sal...</td>\n",
       "      <td>['1 head romaine lettuce', '3/4 cup extra virg...</td>\n",
       "      <td>4.47</td>\n",
       "      <td>218</td>\n",
       "    </tr>\n",
       "    <tr>\n",
       "      <th>8089</th>\n",
       "      <td>Light and Spicy Fish</td>\n",
       "      <td>['Seafood', 'Fish']</td>\n",
       "      <td>['2 (6 ounce) fillets red snapper', '1/4 teasp...</td>\n",
       "      <td>4.32</td>\n",
       "      <td>300</td>\n",
       "    </tr>\n",
       "    <tr>\n",
       "      <th>8090</th>\n",
       "      <td>Spicy Red Snapper</td>\n",
       "      <td>['Seafood', 'Fish']</td>\n",
       "      <td>['2 tablespoons extra virgin olive oil', '1 on...</td>\n",
       "      <td>4.53</td>\n",
       "      <td>104</td>\n",
       "    </tr>\n",
       "    <tr>\n",
       "      <th>8091</th>\n",
       "      <td>Crab Quiche II</td>\n",
       "      <td>['Breakfast and Brunch', 'Eggs']</td>\n",
       "      <td>['1 (9 inch) deep dish pie crust', '2 eggs, be...</td>\n",
       "      <td>5.00</td>\n",
       "      <td>9</td>\n",
       "    </tr>\n",
       "    <tr>\n",
       "      <th>8092</th>\n",
       "      <td>Linguini with White Clam Sauce</td>\n",
       "      <td>['Seafood', 'Shellfish', 'Clams']</td>\n",
       "      <td>['1 (16 ounce) package linguine pasta', '4 tab...</td>\n",
       "      <td>5.00</td>\n",
       "      <td>4</td>\n",
       "    </tr>\n",
       "    <tr>\n",
       "      <th>8093</th>\n",
       "      <td>Crusted Salmon with Honey-Mustard Sauce</td>\n",
       "      <td>['Seafood', 'Fish', 'Salmon']</td>\n",
       "      <td>['1 (1.5 pound) skinless center-cut salmon fil...</td>\n",
       "      <td>4.67</td>\n",
       "      <td>3</td>\n",
       "    </tr>\n",
       "    <tr>\n",
       "      <th>8094</th>\n",
       "      <td>Cinnamon-Curry Tuna Salad</td>\n",
       "      <td>['Salad', 'Seafood Salad', 'Tuna Salad']</td>\n",
       "      <td>['2 (5 ounce) cans water packed tuna, drained ...</td>\n",
       "      <td>4.21</td>\n",
       "      <td>215</td>\n",
       "    </tr>\n",
       "    <tr>\n",
       "      <th>8095</th>\n",
       "      <td>Lobster Newburg</td>\n",
       "      <td>['Seafood', 'Shellfish', 'Lobster']</td>\n",
       "      <td>['2 egg yolks, beaten', '1/2 cup heavy cream',...</td>\n",
       "      <td>4.60</td>\n",
       "      <td>14</td>\n",
       "    </tr>\n",
       "    <tr>\n",
       "      <th>8096</th>\n",
       "      <td>Easy Weeknight Tuna Pot Pie</td>\n",
       "      <td>['Seafood', 'Fish', 'Tuna']</td>\n",
       "      <td>['2 tablespoons butter', '1 small onion, diced...</td>\n",
       "      <td>4.55</td>\n",
       "      <td>107</td>\n",
       "    </tr>\n",
       "    <tr>\n",
       "      <th>8097</th>\n",
       "      <td>Vermicelli Noodle Bowl</td>\n",
       "      <td>['World Cuisine', 'Asian', 'Vietnamese']</td>\n",
       "      <td>['1/4 cup white vinegar', '1/4 cup fish sauce'...</td>\n",
       "      <td>4.55</td>\n",
       "      <td>107</td>\n",
       "    </tr>\n",
       "    <tr>\n",
       "      <th>8098</th>\n",
       "      <td>The Best Smoked Salmon Spread</td>\n",
       "      <td>['Appetizers and Snacks', 'Seafood']</td>\n",
       "      <td>['1 (8 ounce) package cream cheese, softened',...</td>\n",
       "      <td>4.55</td>\n",
       "      <td>107</td>\n",
       "    </tr>\n",
       "    <tr>\n",
       "      <th>8099</th>\n",
       "      <td>Honey Lime Tilapia</td>\n",
       "      <td>['Seafood', 'Fish', 'Tilapia']</td>\n",
       "      <td>['1/4 cup honey', '3 tablespoons lime juice', ...</td>\n",
       "      <td>0.00</td>\n",
       "      <td>0</td>\n",
       "    </tr>\n",
       "    <tr>\n",
       "      <th>8100</th>\n",
       "      <td>Tuna Salad with Cranberries</td>\n",
       "      <td>['Salad', 'Seafood Salad', 'Tuna Salad']</td>\n",
       "      <td>['2 (5 ounce) cans solid white tuna packed in ...</td>\n",
       "      <td>4.50</td>\n",
       "      <td>65</td>\n",
       "    </tr>\n",
       "    <tr>\n",
       "      <th>8101</th>\n",
       "      <td>Salmon in Lemon-Dill Sauce</td>\n",
       "      <td>['Seafood', 'Fish', 'Salmon']</td>\n",
       "      <td>['4 (5 ounce) salmon fillets', '5 tablespoons ...</td>\n",
       "      <td>0.00</td>\n",
       "      <td>0</td>\n",
       "    </tr>\n",
       "    <tr>\n",
       "      <th>8102</th>\n",
       "      <td>Authentic Thai Coconut Soup</td>\n",
       "      <td>['Soups, Stews and Chili', 'Soup', 'Seafood']</td>\n",
       "      <td>['1 pound medium shrimp - peeled and deveined'...</td>\n",
       "      <td>5.00</td>\n",
       "      <td>4</td>\n",
       "    </tr>\n",
       "    <tr>\n",
       "      <th>8103</th>\n",
       "      <td>Crab Salad</td>\n",
       "      <td>['Salad', 'Seafood Salad', 'Crab Salad']</td>\n",
       "      <td>['1/2 green bell pepper, chopped', '1 onion, c...</td>\n",
       "      <td>4.55</td>\n",
       "      <td>183</td>\n",
       "    </tr>\n",
       "    <tr>\n",
       "      <th>8104</th>\n",
       "      <td>Jambalaya With Shrimp</td>\n",
       "      <td>['Soups, Stews and Chili', 'Stews', 'Seafood']</td>\n",
       "      <td>['4 tablespoons butter', '2 tablespoons all-pu...</td>\n",
       "      <td>4.55</td>\n",
       "      <td>183</td>\n",
       "    </tr>\n",
       "    <tr>\n",
       "      <th>8105</th>\n",
       "      <td>Angel Hair Pasta Salad</td>\n",
       "      <td>['Salad', 'Seafood Salad', 'Shrimp Salad']</td>\n",
       "      <td>['2 (8 ounce) packages angel hair pasta', '1/2...</td>\n",
       "      <td>4.48</td>\n",
       "      <td>282</td>\n",
       "    </tr>\n",
       "    <tr>\n",
       "      <th>8106</th>\n",
       "      <td>Aunty Pasto's Seafood Lasagna</td>\n",
       "      <td>['Seafood', 'Shellfish', 'Crab']</td>\n",
       "      <td>['8 lasagna noodles', '2 tablespoons butter', ...</td>\n",
       "      <td>4.43</td>\n",
       "      <td>141</td>\n",
       "    </tr>\n",
       "    <tr>\n",
       "      <th>8107</th>\n",
       "      <td>Poached Salmon II</td>\n",
       "      <td>['Seafood', 'Fish', 'Salmon']</td>\n",
       "      <td>['1/2 cup dry white wine', '1/2 cup water', '2...</td>\n",
       "      <td>4.43</td>\n",
       "      <td>141</td>\n",
       "    </tr>\n",
       "    <tr>\n",
       "      <th>8108</th>\n",
       "      <td>Mainely Fish</td>\n",
       "      <td>['Seafood', 'Fish']</td>\n",
       "      <td>['6 (3 ounce) fillets haddock', 'salt and pepp...</td>\n",
       "      <td>4.00</td>\n",
       "      <td>36</td>\n",
       "    </tr>\n",
       "    <tr>\n",
       "      <th>8109</th>\n",
       "      <td>Asparagus and Smoked Salmon Salad</td>\n",
       "      <td>['Salad', 'Seafood Salad', 'Salmon Salad']</td>\n",
       "      <td>['1 pound fresh asparagus, trimmed and cut int...</td>\n",
       "      <td>4.43</td>\n",
       "      <td>141</td>\n",
       "    </tr>\n",
       "  </tbody>\n",
       "</table>\n",
       "<p>8102 rows × 5 columns</p>\n",
       "</div>"
      ],
      "text/plain": [
       "                                                 title  \\\n",
       "0                                     1-Dish Taco Bake   \n",
       "1                      15-Minute Dinner Nachos Supreme   \n",
       "2                             A Firefighter's Meatloaf   \n",
       "3                              Aaron's Missouri Burger   \n",
       "4                       Absolute Best Liver and Onions   \n",
       "5                                        Adobo Sirloin   \n",
       "6                                           Albondigas   \n",
       "7                                    Albondigas Soup I   \n",
       "8                                   Albondigas Soup II   \n",
       "9             Alison's Slow Cooker Vegetable Beef Soup   \n",
       "10                             All American Roast Beef   \n",
       "11                                All Protein Meatloaf   \n",
       "12                         Alysia's Basic Meat Lasagna   \n",
       "13                               American Chop Suey II   \n",
       "14                                    American Lasagna   \n",
       "15                             American Shepherd's Pie   \n",
       "16                                      Amish Meatloaf   \n",
       "17                                      Amish Yumazuti   \n",
       "18                           Andie's Stuffed Mushrooms   \n",
       "19                     Angel's Old Fashioned Beef Stew   \n",
       "20                                    Ann's Dirty Rice   \n",
       "21                      Ann's Sister's Meatloaf Recipe   \n",
       "22                   Apple and Brown Sugar Corned Beef   \n",
       "23                            Apple Flavored Pot Roast   \n",
       "24                            Argentine Meat Empanadas   \n",
       "25                        Army SOS Creamed Ground Beef   \n",
       "26                               Asian Barbequed Steak   \n",
       "27                                  Asian Beef Skewers   \n",
       "28                           Asian Beef with Snow Peas   \n",
       "29                                     Asian Fire Meat   \n",
       "...                                                ...   \n",
       "8080                                Kevin's Sea Shells   \n",
       "8081                                    Seafood Creole   \n",
       "8082                   Broiled Sweet and Tangy Tilapia   \n",
       "8083                                 Shrimp and Quinoa   \n",
       "8084                                 One-Dish Rockfish   \n",
       "8085  Phyllo Turnovers with Shrimp and Ricotta Filling   \n",
       "8086                  Grilled Shrimp and Apple Skewers   \n",
       "8087                              Avocado-Shrimp Salad   \n",
       "8088                                    Caesar Salad I   \n",
       "8089                              Light and Spicy Fish   \n",
       "8090                                 Spicy Red Snapper   \n",
       "8091                                    Crab Quiche II   \n",
       "8092                    Linguini with White Clam Sauce   \n",
       "8093           Crusted Salmon with Honey-Mustard Sauce   \n",
       "8094                         Cinnamon-Curry Tuna Salad   \n",
       "8095                                   Lobster Newburg   \n",
       "8096                       Easy Weeknight Tuna Pot Pie   \n",
       "8097                            Vermicelli Noodle Bowl   \n",
       "8098                     The Best Smoked Salmon Spread   \n",
       "8099                                Honey Lime Tilapia   \n",
       "8100                       Tuna Salad with Cranberries   \n",
       "8101                        Salmon in Lemon-Dill Sauce   \n",
       "8102                       Authentic Thai Coconut Soup   \n",
       "8103                                        Crab Salad   \n",
       "8104                             Jambalaya With Shrimp   \n",
       "8105                            Angel Hair Pasta Salad   \n",
       "8106                     Aunty Pasto's Seafood Lasagna   \n",
       "8107                                 Poached Salmon II   \n",
       "8108                                      Mainely Fish   \n",
       "8109                 Asparagus and Smoked Salmon Salad   \n",
       "\n",
       "                                             categories  \\\n",
       "0     ['Trusted Brands: Recipes and Tips', \"ARGO&#17...   \n",
       "1     ['Trusted Brands: Recipes and Tips', \"Campbell...   \n",
       "2            ['Main Dish', 'Meatloaf', 'Beef Meatloaf']   \n",
       "3                ['Main Dish', 'Burgers', 'Hamburgers']   \n",
       "4                                         ['Main Dish']   \n",
       "5        ['World Cuisine', 'Latin American', 'Mexican']   \n",
       "6       ['Soups, Stews and Chili', 'Soup', 'Beef Soup']   \n",
       "7       ['Soups, Stews and Chili', 'Soup', 'Pork Soup']   \n",
       "8       ['Soups, Stews and Chili', 'Soup', 'Beef Soup']   \n",
       "9       ['Soups, Stews and Chili', 'Soup', 'Beef Soup']   \n",
       "10                                 ['Everyday Cooking']   \n",
       "11           ['Main Dish', 'Meatloaf', 'Beef Meatloaf']   \n",
       "12             ['World Cuisine', 'European', 'Italian']   \n",
       "13              ['Pasta and Noodles', 'Pasta by Shape']   \n",
       "14             ['World Cuisine', 'European', 'Italian']   \n",
       "15       ['Main Dish', 'Savory Pies', \"Shepherd's Pie\"]   \n",
       "16           ['Main Dish', 'Meatloaf', 'Beef Meatloaf']   \n",
       "17                     ['Pasta and Noodles', 'Noodles']   \n",
       "18    ['Appetizers and Snacks', 'Vegetable', 'Mushro...   \n",
       "19          ['Soups, Stews and Chili', 'Stews', 'Beef']   \n",
       "20                                ['Side Dish', 'Rice']   \n",
       "21           ['Main Dish', 'Meatloaf', 'Pork Meatloaf']   \n",
       "22    ['World Cuisine', 'European', 'UK and Ireland'...   \n",
       "23                              ['Main Dish', 'Roasts']   \n",
       "24    ['World Cuisine', 'Latin American', 'South Ame...   \n",
       "25                                 ['Everyday Cooking']   \n",
       "26                   ['World Cuisine', 'Asian', 'Thai']   \n",
       "27                                 ['Everyday Cooking']   \n",
       "28                ['World Cuisine', 'Asian', 'Chinese']   \n",
       "29                ['World Cuisine', 'Asian', 'Chinese']   \n",
       "...                                                 ...   \n",
       "8080                 ['Seafood', 'Shellfish', 'Shrimp']   \n",
       "8081                                ['Seafood', 'Fish']   \n",
       "8082                     ['Seafood', 'Fish', 'Tilapia']   \n",
       "8083                 ['Seafood', 'Shellfish', 'Shrimp']   \n",
       "8084                                ['Seafood', 'Fish']   \n",
       "8085     ['Appetizers and Snacks', 'Seafood', 'Shrimp']   \n",
       "8086                 ['Seafood', 'Shellfish', 'Shrimp']   \n",
       "8087         ['Salad', 'Seafood Salad', 'Shrimp Salad']   \n",
       "8088  ['Salad', 'Green Salads', 'Romaine Lettuce Sal...   \n",
       "8089                                ['Seafood', 'Fish']   \n",
       "8090                                ['Seafood', 'Fish']   \n",
       "8091                   ['Breakfast and Brunch', 'Eggs']   \n",
       "8092                  ['Seafood', 'Shellfish', 'Clams']   \n",
       "8093                      ['Seafood', 'Fish', 'Salmon']   \n",
       "8094           ['Salad', 'Seafood Salad', 'Tuna Salad']   \n",
       "8095                ['Seafood', 'Shellfish', 'Lobster']   \n",
       "8096                        ['Seafood', 'Fish', 'Tuna']   \n",
       "8097           ['World Cuisine', 'Asian', 'Vietnamese']   \n",
       "8098               ['Appetizers and Snacks', 'Seafood']   \n",
       "8099                     ['Seafood', 'Fish', 'Tilapia']   \n",
       "8100           ['Salad', 'Seafood Salad', 'Tuna Salad']   \n",
       "8101                      ['Seafood', 'Fish', 'Salmon']   \n",
       "8102      ['Soups, Stews and Chili', 'Soup', 'Seafood']   \n",
       "8103           ['Salad', 'Seafood Salad', 'Crab Salad']   \n",
       "8104     ['Soups, Stews and Chili', 'Stews', 'Seafood']   \n",
       "8105         ['Salad', 'Seafood Salad', 'Shrimp Salad']   \n",
       "8106                   ['Seafood', 'Shellfish', 'Crab']   \n",
       "8107                      ['Seafood', 'Fish', 'Salmon']   \n",
       "8108                                ['Seafood', 'Fish']   \n",
       "8109         ['Salad', 'Seafood Salad', 'Salmon Salad']   \n",
       "\n",
       "                                                 ingred  rating  review_cnt  \n",
       "0     ['Taco Meat Filling:', '1 pound ground beef', ...    4.41          86  \n",
       "1     ['1 pound ground beef', '1 (1.12 ounce) packag...    4.00           1  \n",
       "2     ['2 slices whole wheat bread', '2 pounds groun...    4.37         262  \n",
       "3     ['1 pound lean ground beef', '2 teaspoons onio...    4.67         150  \n",
       "4     ['2 pounds sliced beef liver', '1 1/2 cups mil...    4.17           9  \n",
       "5     ['1 lime, juiced', '1 tablespoon minced garlic...    4.00           4  \n",
       "6     ['1 quart water', '4 carrots, sliced', '2 smal...    4.25        1362  \n",
       "7     ['1 pound lean ground beef', '1/4 pound pork s...    4.28          34  \n",
       "8     ['1 pound lean ground beef', '2 cubes beef bou...    4.00           2  \n",
       "9     ['1 1/2 pounds cubed beef stew meat', '2 cups ...    4.71           6  \n",
       "10    ['3 pounds beef eye of round roast', '1/2 teas...    4.42          43  \n",
       "11    ['1 1/2 pounds ground beef', '1 tablespoon Wor...    4.42          43  \n",
       "12    ['1 1/2 pounds ground beef', '1 teaspoon garli...    4.61          41  \n",
       "13    ['1 (16 ounce) package uncooked elbow macaroni...    4.07          12  \n",
       "14    ['1 1/2 pounds lean ground beef', '1 onion, ch...    4.50           3  \n",
       "15    ['1 pound lean ground beef', '1/2 cup chopped ...    4.47          13  \n",
       "16    ['2 pounds ground beef', '2 1/2 cups crushed b...    4.67           4  \n",
       "17    ['1 pound ground beef', '1 onion, chopped', '3...    4.60           5  \n",
       "18    ['1 pound lean ground beef', '2 pounds fresh m...    0.00           0  \n",
       "19    ['4 tablespoons vegetable oil', '1/2 cup all-p...    3.50           4  \n",
       "20    ['1 pound ground beef', '1 yellow onion, chopp...    5.00           1  \n",
       "21    ['2 pounds lean ground beef', '2 eggs', '1 1/2...    5.00           1  \n",
       "22    ['4 cups apple juice', '1/2 cup brown sugar', ...    5.00           1  \n",
       "23    ['1 (3 pound) boneless beef chuck roast', '1 (...    4.39         137  \n",
       "24    ['1/2 cup shortening', '2 onions, chopped', '1...    4.37          40  \n",
       "25    ['1 pound ground beef', '1/4 cup all-purpose f...    4.45          70  \n",
       "26    ['1/4 cup chili sauce', '1/4 cup fish sauce', ...    4.56           9  \n",
       "27    ['3 tablespoons hoisin sauce', '3 tablespoons ...    4.65        3837  \n",
       "28    ['3 tablespoons soy sauce', '2 tablespoons ric...    4.65        3837  \n",
       "29    ['1/2 cup soy sauce', '1 tablespoon sesame oil...    4.64        3837  \n",
       "...                                                 ...     ...         ...  \n",
       "8080  ['1 1/2 pounds large shrimp, peeled and devein...    4.41          17  \n",
       "8081  ['3/4 teaspoon dried oregano', '1/2 teaspoon s...    4.68         331  \n",
       "8082  ['2 tablespoons butter', '3 teaspoons lemon ju...    2.00           3  \n",
       "8083  ['1 1/2 cups water', '1 cup uncooked quinoa', ...    4.64         451  \n",
       "8084  ['5 cups fresh spinach', '2 (6 ounce) fillets ...    4.64         451  \n",
       "8085  ['3 tablespoons butter', '1 tablespoon canola ...    4.00           8  \n",
       "8086  ['3 tablespoons honey', '3 tablespoons olive o...    4.30         115  \n",
       "8087  ['2 avocados - peeled, pitted, and cubed', '2 ...    4.47         218  \n",
       "8088  ['1 head romaine lettuce', '3/4 cup extra virg...    4.47         218  \n",
       "8089  ['2 (6 ounce) fillets red snapper', '1/4 teasp...    4.32         300  \n",
       "8090  ['2 tablespoons extra virgin olive oil', '1 on...    4.53         104  \n",
       "8091  ['1 (9 inch) deep dish pie crust', '2 eggs, be...    5.00           9  \n",
       "8092  ['1 (16 ounce) package linguine pasta', '4 tab...    5.00           4  \n",
       "8093  ['1 (1.5 pound) skinless center-cut salmon fil...    4.67           3  \n",
       "8094  ['2 (5 ounce) cans water packed tuna, drained ...    4.21         215  \n",
       "8095  ['2 egg yolks, beaten', '1/2 cup heavy cream',...    4.60          14  \n",
       "8096  ['2 tablespoons butter', '1 small onion, diced...    4.55         107  \n",
       "8097  ['1/4 cup white vinegar', '1/4 cup fish sauce'...    4.55         107  \n",
       "8098  ['1 (8 ounce) package cream cheese, softened',...    4.55         107  \n",
       "8099  ['1/4 cup honey', '3 tablespoons lime juice', ...    0.00           0  \n",
       "8100  ['2 (5 ounce) cans solid white tuna packed in ...    4.50          65  \n",
       "8101  ['4 (5 ounce) salmon fillets', '5 tablespoons ...    0.00           0  \n",
       "8102  ['1 pound medium shrimp - peeled and deveined'...    5.00           4  \n",
       "8103  ['1/2 green bell pepper, chopped', '1 onion, c...    4.55         183  \n",
       "8104  ['4 tablespoons butter', '2 tablespoons all-pu...    4.55         183  \n",
       "8105  ['2 (8 ounce) packages angel hair pasta', '1/2...    4.48         282  \n",
       "8106  ['8 lasagna noodles', '2 tablespoons butter', ...    4.43         141  \n",
       "8107  ['1/2 cup dry white wine', '1/2 cup water', '2...    4.43         141  \n",
       "8108  ['6 (3 ounce) fillets haddock', 'salt and pepp...    4.00          36  \n",
       "8109  ['1 pound fresh asparagus, trimmed and cut int...    4.43         141  \n",
       "\n",
       "[8102 rows x 5 columns]"
      ]
     },
     "execution_count": 42,
     "metadata": {},
     "output_type": "execute_result"
    }
   ],
   "source": [
    "# read in fields title, ingredients and categories\n",
    "dataR = pd.read_csv(\"dataRecTitleCatsIngredRatRev.csv\") \n",
    "\n",
    "dataR.duplicated()\n",
    "dataR.drop_duplicates()"
   ]
  },
  {
   "cell_type": "code",
   "execution_count": 43,
   "metadata": {},
   "outputs": [
    {
     "name": "stdout",
     "output_type": "stream",
     "text": [
      "average rating of all recipes:  4.158191122071517\n"
     ]
    }
   ],
   "source": [
    "C = dataR['rating'].mean()\n",
    "print(\"average rating of all recipes: \",C)"
   ]
  },
  {
   "cell_type": "code",
   "execution_count": 44,
   "metadata": {},
   "outputs": [
    {
     "name": "stdout",
     "output_type": "stream",
     "text": [
      "50th percentile number of reviews:  74.0\n"
     ]
    }
   ],
   "source": [
    "m = dataR['review_cnt'].quantile(0.5)\n",
    "print(\"50th percentile number of reviews: \",m)"
   ]
  },
  {
   "cell_type": "code",
   "execution_count": 45,
   "metadata": {},
   "outputs": [
    {
     "data": {
      "text/plain": [
       "(4068, 5)"
      ]
     },
     "execution_count": 45,
     "metadata": {},
     "output_type": "execute_result"
    }
   ],
   "source": [
    "# Filter out all qualified recipes into a new DataFrame\n",
    "q_data = dataR.copy().loc[dataR['review_cnt'] >= m]\n",
    "q_data.shape"
   ]
  },
  {
   "cell_type": "code",
   "execution_count": 46,
   "metadata": {},
   "outputs": [
    {
     "data": {
      "text/html": [
       "<div>\n",
       "<style scoped>\n",
       "    .dataframe tbody tr th:only-of-type {\n",
       "        vertical-align: middle;\n",
       "    }\n",
       "\n",
       "    .dataframe tbody tr th {\n",
       "        vertical-align: top;\n",
       "    }\n",
       "\n",
       "    .dataframe thead th {\n",
       "        text-align: right;\n",
       "    }\n",
       "</style>\n",
       "<table border=\"1\" class=\"dataframe\">\n",
       "  <thead>\n",
       "    <tr style=\"text-align: right;\">\n",
       "      <th></th>\n",
       "      <th>title</th>\n",
       "      <th>categories</th>\n",
       "      <th>ingred</th>\n",
       "      <th>rating</th>\n",
       "      <th>review_cnt</th>\n",
       "    </tr>\n",
       "  </thead>\n",
       "  <tbody>\n",
       "    <tr>\n",
       "      <th>0</th>\n",
       "      <td>1-Dish Taco Bake</td>\n",
       "      <td>['Trusted Brands: Recipes and Tips', \"ARGO&amp;#17...</td>\n",
       "      <td>['Taco Meat Filling:', '1 pound ground beef', ...</td>\n",
       "      <td>4.41</td>\n",
       "      <td>86</td>\n",
       "    </tr>\n",
       "    <tr>\n",
       "      <th>2</th>\n",
       "      <td>A Firefighter's Meatloaf</td>\n",
       "      <td>['Main Dish', 'Meatloaf', 'Beef Meatloaf']</td>\n",
       "      <td>['2 slices whole wheat bread', '2 pounds groun...</td>\n",
       "      <td>4.37</td>\n",
       "      <td>262</td>\n",
       "    </tr>\n",
       "    <tr>\n",
       "      <th>3</th>\n",
       "      <td>Aaron's Missouri Burger</td>\n",
       "      <td>['Main Dish', 'Burgers', 'Hamburgers']</td>\n",
       "      <td>['1 pound lean ground beef', '2 teaspoons onio...</td>\n",
       "      <td>4.67</td>\n",
       "      <td>150</td>\n",
       "    </tr>\n",
       "    <tr>\n",
       "      <th>6</th>\n",
       "      <td>Albondigas</td>\n",
       "      <td>['Soups, Stews and Chili', 'Soup', 'Beef Soup']</td>\n",
       "      <td>['1 quart water', '4 carrots, sliced', '2 smal...</td>\n",
       "      <td>4.25</td>\n",
       "      <td>1362</td>\n",
       "    </tr>\n",
       "    <tr>\n",
       "      <th>23</th>\n",
       "      <td>Apple Flavored Pot Roast</td>\n",
       "      <td>['Main Dish', 'Roasts']</td>\n",
       "      <td>['1 (3 pound) boneless beef chuck roast', '1 (...</td>\n",
       "      <td>4.39</td>\n",
       "      <td>137</td>\n",
       "    </tr>\n",
       "    <tr>\n",
       "      <th>27</th>\n",
       "      <td>Asian Beef Skewers</td>\n",
       "      <td>['Everyday Cooking']</td>\n",
       "      <td>['3 tablespoons hoisin sauce', '3 tablespoons ...</td>\n",
       "      <td>4.65</td>\n",
       "      <td>3837</td>\n",
       "    </tr>\n",
       "    <tr>\n",
       "      <th>28</th>\n",
       "      <td>Asian Beef with Snow Peas</td>\n",
       "      <td>['World Cuisine', 'Asian', 'Chinese']</td>\n",
       "      <td>['3 tablespoons soy sauce', '2 tablespoons ric...</td>\n",
       "      <td>4.65</td>\n",
       "      <td>3837</td>\n",
       "    </tr>\n",
       "    <tr>\n",
       "      <th>29</th>\n",
       "      <td>Asian Fire Meat</td>\n",
       "      <td>['World Cuisine', 'Asian', 'Chinese']</td>\n",
       "      <td>['1/2 cup soy sauce', '1 tablespoon sesame oil...</td>\n",
       "      <td>4.64</td>\n",
       "      <td>3837</td>\n",
       "    </tr>\n",
       "    <tr>\n",
       "      <th>32</th>\n",
       "      <td>Asian Style Meatloaf</td>\n",
       "      <td>['World Cuisine', 'Asian']</td>\n",
       "      <td>['1 1/2 pounds ground beef', '1/2 pound ground...</td>\n",
       "      <td>4.47</td>\n",
       "      <td>115</td>\n",
       "    </tr>\n",
       "    <tr>\n",
       "      <th>33</th>\n",
       "      <td>Atomic Canuck Chili</td>\n",
       "      <td>['Soups, Stews and Chili', 'Chili', 'Beef Chili']</td>\n",
       "      <td>['2 pounds lean ground beef', '1/2 large onion...</td>\n",
       "      <td>4.61</td>\n",
       "      <td>325</td>\n",
       "    </tr>\n",
       "    <tr>\n",
       "      <th>38</th>\n",
       "      <td>Award Winning Chili</td>\n",
       "      <td>['Soups, Stews and Chili', 'Chili', 'Pork Chili']</td>\n",
       "      <td>['1 (14.5 ounce) can stewed tomatoes, chopped'...</td>\n",
       "      <td>4.54</td>\n",
       "      <td>624</td>\n",
       "    </tr>\n",
       "    <tr>\n",
       "      <th>39</th>\n",
       "      <td>Award Winning Chili Con Carne</td>\n",
       "      <td>['Soups, Stews and Chili', 'Chili', 'Beef Chili']</td>\n",
       "      <td>['4 tablespoons vegetable oil', '1 green bell ...</td>\n",
       "      <td>4.65</td>\n",
       "      <td>340</td>\n",
       "    </tr>\n",
       "    <tr>\n",
       "      <th>42</th>\n",
       "      <td>Awesome Roast Beef</td>\n",
       "      <td>['Everyday Cooking']</td>\n",
       "      <td>['3 pounds rump roast', '1 (10.75 ounce) can c...</td>\n",
       "      <td>4.17</td>\n",
       "      <td>166</td>\n",
       "    </tr>\n",
       "    <tr>\n",
       "      <th>43</th>\n",
       "      <td>Awesome Slow Cooker Pot Roast</td>\n",
       "      <td>['Main Dish', 'Roasts']</td>\n",
       "      <td>['2 (10.75 ounce) cans condensed cream of mush...</td>\n",
       "      <td>4.17</td>\n",
       "      <td>166</td>\n",
       "    </tr>\n",
       "    <tr>\n",
       "      <th>44</th>\n",
       "      <td>Awesome Spicy Beef Kabobs OR Haitian Voodoo St...</td>\n",
       "      <td>['Everyday Cooking']</td>\n",
       "      <td>['2 tablespoons beef bouillon granules', '2 ta...</td>\n",
       "      <td>4.40</td>\n",
       "      <td>171</td>\n",
       "    </tr>\n",
       "    <tr>\n",
       "      <th>45</th>\n",
       "      <td>Awesome Steak Marinade</td>\n",
       "      <td>['Side Dish', 'Sauces and Condiments', 'Marina...</td>\n",
       "      <td>['1 1/2 cups steak sauce', '1 tablespoon soy s...</td>\n",
       "      <td>4.71</td>\n",
       "      <td>342</td>\n",
       "    </tr>\n",
       "    <tr>\n",
       "      <th>46</th>\n",
       "      <td>Bachelor's Stew</td>\n",
       "      <td>['Soups, Stews and Chili', 'Stews', 'Beef']</td>\n",
       "      <td>['2 pounds lean beef chuck, trimmed and cut in...</td>\n",
       "      <td>4.71</td>\n",
       "      <td>342</td>\n",
       "    </tr>\n",
       "    <tr>\n",
       "      <th>47</th>\n",
       "      <td>Bacon Cheeseburger Meatloaf</td>\n",
       "      <td>['Main Dish', 'Meatloaf', 'Pork Meatloaf']</td>\n",
       "      <td>['10 slices bacon', '1/3 cup ketchup', '2 tabl...</td>\n",
       "      <td>4.71</td>\n",
       "      <td>342</td>\n",
       "    </tr>\n",
       "    <tr>\n",
       "      <th>48</th>\n",
       "      <td>Bacon Cheeseburger Upside Down Pizza</td>\n",
       "      <td>['Main Dish', 'Pizza', 'Beef']</td>\n",
       "      <td>['8 slices bacon', '1 pound ground beef', '1 o...</td>\n",
       "      <td>4.71</td>\n",
       "      <td>342</td>\n",
       "    </tr>\n",
       "    <tr>\n",
       "      <th>49</th>\n",
       "      <td>Bacon Mushroom Swiss Meatloaf</td>\n",
       "      <td>['Main Dish', 'Meatloaf', 'Pork Meatloaf']</td>\n",
       "      <td>['12 ounces chopped raw bacon', '1 small white...</td>\n",
       "      <td>4.46</td>\n",
       "      <td>90</td>\n",
       "    </tr>\n",
       "    <tr>\n",
       "      <th>50</th>\n",
       "      <td>Bacon Wrapped Hamburgers</td>\n",
       "      <td>['Main Dish', 'Burgers', 'Hamburgers']</td>\n",
       "      <td>['1/2 cup shredded Cheddar cheese', '1 tablesp...</td>\n",
       "      <td>4.46</td>\n",
       "      <td>90</td>\n",
       "    </tr>\n",
       "    <tr>\n",
       "      <th>54</th>\n",
       "      <td>Baked Pasta</td>\n",
       "      <td>['World Cuisine', 'European', 'Italian']</td>\n",
       "      <td>['1 (16 ounce) package dry pasta', '1 pound le...</td>\n",
       "      <td>4.70</td>\n",
       "      <td>702</td>\n",
       "    </tr>\n",
       "    <tr>\n",
       "      <th>55</th>\n",
       "      <td>Baked Penne</td>\n",
       "      <td>['Trusted Brands: Recipes and Tips', 'PHILADEL...</td>\n",
       "      <td>['1/2 pound extra lean ground beef', '1/2 cup ...</td>\n",
       "      <td>4.29</td>\n",
       "      <td>205</td>\n",
       "    </tr>\n",
       "    <tr>\n",
       "      <th>56</th>\n",
       "      <td>Baked Spaghetti</td>\n",
       "      <td>['Pasta and Noodles', 'Pasta by Shape']</td>\n",
       "      <td>['1 (16 ounce) package spaghetti', '1 pound gr...</td>\n",
       "      <td>4.51</td>\n",
       "      <td>137</td>\n",
       "    </tr>\n",
       "    <tr>\n",
       "      <th>58</th>\n",
       "      <td>Baked Spaghetti II</td>\n",
       "      <td>['Pasta and Noodles', 'Pasta by Shape']</td>\n",
       "      <td>['1 pound spaghetti', '1 pound lean ground bee...</td>\n",
       "      <td>4.78</td>\n",
       "      <td>2939</td>\n",
       "    </tr>\n",
       "    <tr>\n",
       "      <th>59</th>\n",
       "      <td>Baked Spaghetti Squash with Beef and Veggies</td>\n",
       "      <td>['Fruits and Vegetables', 'Vegetables', 'Squas...</td>\n",
       "      <td>['1 spaghetti squash, halved and seeded', '1 p...</td>\n",
       "      <td>4.27</td>\n",
       "      <td>102</td>\n",
       "    </tr>\n",
       "    <tr>\n",
       "      <th>60</th>\n",
       "      <td>Baked Ziti I</td>\n",
       "      <td>['Pasta and Noodles', 'Pasta by Shape']</td>\n",
       "      <td>['1 pound dry ziti pasta', '1 onion, chopped',...</td>\n",
       "      <td>4.27</td>\n",
       "      <td>102</td>\n",
       "    </tr>\n",
       "    <tr>\n",
       "      <th>61</th>\n",
       "      <td>Baked Ziti III</td>\n",
       "      <td>['Pasta and Noodles', 'Pasta by Shape']</td>\n",
       "      <td>['1 (16 ounce) package dry ziti pasta', '1 pou...</td>\n",
       "      <td>4.27</td>\n",
       "      <td>102</td>\n",
       "    </tr>\n",
       "    <tr>\n",
       "      <th>68</th>\n",
       "      <td>Barbecued Beef Cubes or Hamburger</td>\n",
       "      <td>['Pasta and Noodles', 'Pasta by Shape']</td>\n",
       "      <td>['1 onion, chopped', '1 tablespoon butter', '1...</td>\n",
       "      <td>4.16</td>\n",
       "      <td>107</td>\n",
       "    </tr>\n",
       "    <tr>\n",
       "      <th>69</th>\n",
       "      <td>Barbecued Meatballs</td>\n",
       "      <td>['Appetizers and Snacks', 'Meat and Poultry', ...</td>\n",
       "      <td>['2 pounds ground beef', '1 1/2 cups fresh bre...</td>\n",
       "      <td>4.83</td>\n",
       "      <td>218</td>\n",
       "    </tr>\n",
       "    <tr>\n",
       "      <th>...</th>\n",
       "      <td>...</td>\n",
       "      <td>...</td>\n",
       "      <td>...</td>\n",
       "      <td>...</td>\n",
       "      <td>...</td>\n",
       "    </tr>\n",
       "    <tr>\n",
       "      <th>8051</th>\n",
       "      <td>Clam Chowder III</td>\n",
       "      <td>['Soups, Stews and Chili', 'Soup', 'Seafood']</td>\n",
       "      <td>['1 cup chopped onion', '3 cloves garlic', '4 ...</td>\n",
       "      <td>4.57</td>\n",
       "      <td>93</td>\n",
       "    </tr>\n",
       "    <tr>\n",
       "      <th>8056</th>\n",
       "      <td>Lemon and Cilantro Shrimp</td>\n",
       "      <td>['Seafood', 'Shellfish', 'Shrimp']</td>\n",
       "      <td>['20 jumbo shrimp, peeled and deveined', '6 le...</td>\n",
       "      <td>4.35</td>\n",
       "      <td>85</td>\n",
       "    </tr>\n",
       "    <tr>\n",
       "      <th>8062</th>\n",
       "      <td>Cheesy Baked Salmon</td>\n",
       "      <td>['Seafood', 'Fish', 'Salmon']</td>\n",
       "      <td>['2 pounds salmon fillets', '2 cloves garlic, ...</td>\n",
       "      <td>4.60</td>\n",
       "      <td>87</td>\n",
       "    </tr>\n",
       "    <tr>\n",
       "      <th>8063</th>\n",
       "      <td>Grilled Salmon Steaks with Savory Blueberry Sauce</td>\n",
       "      <td>['Seafood', 'Fish', 'Salmon']</td>\n",
       "      <td>['1/2 cup chicken stock', '1/4 cup balsamic vi...</td>\n",
       "      <td>4.60</td>\n",
       "      <td>87</td>\n",
       "    </tr>\n",
       "    <tr>\n",
       "      <th>8071</th>\n",
       "      <td>Basil Pan-Seared Scallops over Pasta</td>\n",
       "      <td>['Seafood', 'Shellfish', 'Scallops']</td>\n",
       "      <td>['1 (16 ounce) package farfalle (bow tie) past...</td>\n",
       "      <td>4.43</td>\n",
       "      <td>240</td>\n",
       "    </tr>\n",
       "    <tr>\n",
       "      <th>8073</th>\n",
       "      <td>Crispy Chipotle Lime Tilapia with Cool Avocado...</td>\n",
       "      <td>['Seafood', 'Fish', 'Tilapia']</td>\n",
       "      <td>['1 canned chipotle pepper in adobo sauce', '2...</td>\n",
       "      <td>4.67</td>\n",
       "      <td>4914</td>\n",
       "    </tr>\n",
       "    <tr>\n",
       "      <th>8074</th>\n",
       "      <td>Dad's Excellent Scallops</td>\n",
       "      <td>['Seafood', 'Shellfish', 'Scallops']</td>\n",
       "      <td>['2 pounds shelled, large sea scallops', '1/2 ...</td>\n",
       "      <td>4.67</td>\n",
       "      <td>4912</td>\n",
       "    </tr>\n",
       "    <tr>\n",
       "      <th>8075</th>\n",
       "      <td>Local Kine Wontons</td>\n",
       "      <td>['Appetizers and Snacks', 'Seafood']</td>\n",
       "      <td>['1 quart oil for deep frying', '2 (8 ounce) p...</td>\n",
       "      <td>4.67</td>\n",
       "      <td>4912</td>\n",
       "    </tr>\n",
       "    <tr>\n",
       "      <th>8076</th>\n",
       "      <td>Tilapia with Tomatoes, Black Olives and Corn</td>\n",
       "      <td>['Seafood', 'Fish', 'Tilapia']</td>\n",
       "      <td>['1 1/2 tablespoons olive oil', '4 cloves garl...</td>\n",
       "      <td>4.67</td>\n",
       "      <td>4914</td>\n",
       "    </tr>\n",
       "    <tr>\n",
       "      <th>8077</th>\n",
       "      <td>Crab Stuffed Manicotti</td>\n",
       "      <td>['Seafood', 'Shellfish', 'Crab']</td>\n",
       "      <td>['8 manicotti shells', '1 1/2 cups ricotta che...</td>\n",
       "      <td>4.62</td>\n",
       "      <td>348</td>\n",
       "    </tr>\n",
       "    <tr>\n",
       "      <th>8078</th>\n",
       "      <td>Indian Stir-Fried Shrimp in Cream Sauce (Bhaga...</td>\n",
       "      <td>['World Cuisine', 'Asian', 'Indian']</td>\n",
       "      <td>['1 tablespoon tomato paste', '1/2 teaspoon sa...</td>\n",
       "      <td>4.62</td>\n",
       "      <td>348</td>\n",
       "    </tr>\n",
       "    <tr>\n",
       "      <th>8079</th>\n",
       "      <td>Grilled Salmon with Bacon and Corn Relish</td>\n",
       "      <td>['Seafood', 'Fish', 'Salmon']</td>\n",
       "      <td>['6 slices bacon, cut crosswise into 1/2-inch ...</td>\n",
       "      <td>4.62</td>\n",
       "      <td>348</td>\n",
       "    </tr>\n",
       "    <tr>\n",
       "      <th>8081</th>\n",
       "      <td>Seafood Creole</td>\n",
       "      <td>['Seafood', 'Fish']</td>\n",
       "      <td>['3/4 teaspoon dried oregano', '1/2 teaspoon s...</td>\n",
       "      <td>4.68</td>\n",
       "      <td>331</td>\n",
       "    </tr>\n",
       "    <tr>\n",
       "      <th>8083</th>\n",
       "      <td>Shrimp and Quinoa</td>\n",
       "      <td>['Seafood', 'Shellfish', 'Shrimp']</td>\n",
       "      <td>['1 1/2 cups water', '1 cup uncooked quinoa', ...</td>\n",
       "      <td>4.64</td>\n",
       "      <td>451</td>\n",
       "    </tr>\n",
       "    <tr>\n",
       "      <th>8084</th>\n",
       "      <td>One-Dish Rockfish</td>\n",
       "      <td>['Seafood', 'Fish']</td>\n",
       "      <td>['5 cups fresh spinach', '2 (6 ounce) fillets ...</td>\n",
       "      <td>4.64</td>\n",
       "      <td>451</td>\n",
       "    </tr>\n",
       "    <tr>\n",
       "      <th>8086</th>\n",
       "      <td>Grilled Shrimp and Apple Skewers</td>\n",
       "      <td>['Seafood', 'Shellfish', 'Shrimp']</td>\n",
       "      <td>['3 tablespoons honey', '3 tablespoons olive o...</td>\n",
       "      <td>4.30</td>\n",
       "      <td>115</td>\n",
       "    </tr>\n",
       "    <tr>\n",
       "      <th>8087</th>\n",
       "      <td>Avocado-Shrimp Salad</td>\n",
       "      <td>['Salad', 'Seafood Salad', 'Shrimp Salad']</td>\n",
       "      <td>['2 avocados - peeled, pitted, and cubed', '2 ...</td>\n",
       "      <td>4.47</td>\n",
       "      <td>218</td>\n",
       "    </tr>\n",
       "    <tr>\n",
       "      <th>8088</th>\n",
       "      <td>Caesar Salad I</td>\n",
       "      <td>['Salad', 'Green Salads', 'Romaine Lettuce Sal...</td>\n",
       "      <td>['1 head romaine lettuce', '3/4 cup extra virg...</td>\n",
       "      <td>4.47</td>\n",
       "      <td>218</td>\n",
       "    </tr>\n",
       "    <tr>\n",
       "      <th>8089</th>\n",
       "      <td>Light and Spicy Fish</td>\n",
       "      <td>['Seafood', 'Fish']</td>\n",
       "      <td>['2 (6 ounce) fillets red snapper', '1/4 teasp...</td>\n",
       "      <td>4.32</td>\n",
       "      <td>300</td>\n",
       "    </tr>\n",
       "    <tr>\n",
       "      <th>8090</th>\n",
       "      <td>Spicy Red Snapper</td>\n",
       "      <td>['Seafood', 'Fish']</td>\n",
       "      <td>['2 tablespoons extra virgin olive oil', '1 on...</td>\n",
       "      <td>4.53</td>\n",
       "      <td>104</td>\n",
       "    </tr>\n",
       "    <tr>\n",
       "      <th>8094</th>\n",
       "      <td>Cinnamon-Curry Tuna Salad</td>\n",
       "      <td>['Salad', 'Seafood Salad', 'Tuna Salad']</td>\n",
       "      <td>['2 (5 ounce) cans water packed tuna, drained ...</td>\n",
       "      <td>4.21</td>\n",
       "      <td>215</td>\n",
       "    </tr>\n",
       "    <tr>\n",
       "      <th>8096</th>\n",
       "      <td>Easy Weeknight Tuna Pot Pie</td>\n",
       "      <td>['Seafood', 'Fish', 'Tuna']</td>\n",
       "      <td>['2 tablespoons butter', '1 small onion, diced...</td>\n",
       "      <td>4.55</td>\n",
       "      <td>107</td>\n",
       "    </tr>\n",
       "    <tr>\n",
       "      <th>8097</th>\n",
       "      <td>Vermicelli Noodle Bowl</td>\n",
       "      <td>['World Cuisine', 'Asian', 'Vietnamese']</td>\n",
       "      <td>['1/4 cup white vinegar', '1/4 cup fish sauce'...</td>\n",
       "      <td>4.55</td>\n",
       "      <td>107</td>\n",
       "    </tr>\n",
       "    <tr>\n",
       "      <th>8098</th>\n",
       "      <td>The Best Smoked Salmon Spread</td>\n",
       "      <td>['Appetizers and Snacks', 'Seafood']</td>\n",
       "      <td>['1 (8 ounce) package cream cheese, softened',...</td>\n",
       "      <td>4.55</td>\n",
       "      <td>107</td>\n",
       "    </tr>\n",
       "    <tr>\n",
       "      <th>8103</th>\n",
       "      <td>Crab Salad</td>\n",
       "      <td>['Salad', 'Seafood Salad', 'Crab Salad']</td>\n",
       "      <td>['1/2 green bell pepper, chopped', '1 onion, c...</td>\n",
       "      <td>4.55</td>\n",
       "      <td>183</td>\n",
       "    </tr>\n",
       "    <tr>\n",
       "      <th>8104</th>\n",
       "      <td>Jambalaya With Shrimp</td>\n",
       "      <td>['Soups, Stews and Chili', 'Stews', 'Seafood']</td>\n",
       "      <td>['4 tablespoons butter', '2 tablespoons all-pu...</td>\n",
       "      <td>4.55</td>\n",
       "      <td>183</td>\n",
       "    </tr>\n",
       "    <tr>\n",
       "      <th>8105</th>\n",
       "      <td>Angel Hair Pasta Salad</td>\n",
       "      <td>['Salad', 'Seafood Salad', 'Shrimp Salad']</td>\n",
       "      <td>['2 (8 ounce) packages angel hair pasta', '1/2...</td>\n",
       "      <td>4.48</td>\n",
       "      <td>282</td>\n",
       "    </tr>\n",
       "    <tr>\n",
       "      <th>8106</th>\n",
       "      <td>Aunty Pasto's Seafood Lasagna</td>\n",
       "      <td>['Seafood', 'Shellfish', 'Crab']</td>\n",
       "      <td>['8 lasagna noodles', '2 tablespoons butter', ...</td>\n",
       "      <td>4.43</td>\n",
       "      <td>141</td>\n",
       "    </tr>\n",
       "    <tr>\n",
       "      <th>8107</th>\n",
       "      <td>Poached Salmon II</td>\n",
       "      <td>['Seafood', 'Fish', 'Salmon']</td>\n",
       "      <td>['1/2 cup dry white wine', '1/2 cup water', '2...</td>\n",
       "      <td>4.43</td>\n",
       "      <td>141</td>\n",
       "    </tr>\n",
       "    <tr>\n",
       "      <th>8109</th>\n",
       "      <td>Asparagus and Smoked Salmon Salad</td>\n",
       "      <td>['Salad', 'Seafood Salad', 'Salmon Salad']</td>\n",
       "      <td>['1 pound fresh asparagus, trimmed and cut int...</td>\n",
       "      <td>4.43</td>\n",
       "      <td>141</td>\n",
       "    </tr>\n",
       "  </tbody>\n",
       "</table>\n",
       "<p>4068 rows × 5 columns</p>\n",
       "</div>"
      ],
      "text/plain": [
       "                                                  title  \\\n",
       "0                                      1-Dish Taco Bake   \n",
       "2                              A Firefighter's Meatloaf   \n",
       "3                               Aaron's Missouri Burger   \n",
       "6                                            Albondigas   \n",
       "23                             Apple Flavored Pot Roast   \n",
       "27                                   Asian Beef Skewers   \n",
       "28                            Asian Beef with Snow Peas   \n",
       "29                                      Asian Fire Meat   \n",
       "32                                 Asian Style Meatloaf   \n",
       "33                                  Atomic Canuck Chili   \n",
       "38                                  Award Winning Chili   \n",
       "39                        Award Winning Chili Con Carne   \n",
       "42                                   Awesome Roast Beef   \n",
       "43                        Awesome Slow Cooker Pot Roast   \n",
       "44    Awesome Spicy Beef Kabobs OR Haitian Voodoo St...   \n",
       "45                               Awesome Steak Marinade   \n",
       "46                                      Bachelor's Stew   \n",
       "47                          Bacon Cheeseburger Meatloaf   \n",
       "48                 Bacon Cheeseburger Upside Down Pizza   \n",
       "49                        Bacon Mushroom Swiss Meatloaf   \n",
       "50                             Bacon Wrapped Hamburgers   \n",
       "54                                          Baked Pasta   \n",
       "55                                          Baked Penne   \n",
       "56                                      Baked Spaghetti   \n",
       "58                                   Baked Spaghetti II   \n",
       "59         Baked Spaghetti Squash with Beef and Veggies   \n",
       "60                                         Baked Ziti I   \n",
       "61                                       Baked Ziti III   \n",
       "68                    Barbecued Beef Cubes or Hamburger   \n",
       "69                                  Barbecued Meatballs   \n",
       "...                                                 ...   \n",
       "8051                                   Clam Chowder III   \n",
       "8056                          Lemon and Cilantro Shrimp   \n",
       "8062                                Cheesy Baked Salmon   \n",
       "8063  Grilled Salmon Steaks with Savory Blueberry Sauce   \n",
       "8071               Basil Pan-Seared Scallops over Pasta   \n",
       "8073  Crispy Chipotle Lime Tilapia with Cool Avocado...   \n",
       "8074                           Dad's Excellent Scallops   \n",
       "8075                                 Local Kine Wontons   \n",
       "8076       Tilapia with Tomatoes, Black Olives and Corn   \n",
       "8077                             Crab Stuffed Manicotti   \n",
       "8078  Indian Stir-Fried Shrimp in Cream Sauce (Bhaga...   \n",
       "8079          Grilled Salmon with Bacon and Corn Relish   \n",
       "8081                                     Seafood Creole   \n",
       "8083                                  Shrimp and Quinoa   \n",
       "8084                                  One-Dish Rockfish   \n",
       "8086                   Grilled Shrimp and Apple Skewers   \n",
       "8087                               Avocado-Shrimp Salad   \n",
       "8088                                     Caesar Salad I   \n",
       "8089                               Light and Spicy Fish   \n",
       "8090                                  Spicy Red Snapper   \n",
       "8094                          Cinnamon-Curry Tuna Salad   \n",
       "8096                        Easy Weeknight Tuna Pot Pie   \n",
       "8097                             Vermicelli Noodle Bowl   \n",
       "8098                      The Best Smoked Salmon Spread   \n",
       "8103                                         Crab Salad   \n",
       "8104                              Jambalaya With Shrimp   \n",
       "8105                             Angel Hair Pasta Salad   \n",
       "8106                      Aunty Pasto's Seafood Lasagna   \n",
       "8107                                  Poached Salmon II   \n",
       "8109                  Asparagus and Smoked Salmon Salad   \n",
       "\n",
       "                                             categories  \\\n",
       "0     ['Trusted Brands: Recipes and Tips', \"ARGO&#17...   \n",
       "2            ['Main Dish', 'Meatloaf', 'Beef Meatloaf']   \n",
       "3                ['Main Dish', 'Burgers', 'Hamburgers']   \n",
       "6       ['Soups, Stews and Chili', 'Soup', 'Beef Soup']   \n",
       "23                              ['Main Dish', 'Roasts']   \n",
       "27                                 ['Everyday Cooking']   \n",
       "28                ['World Cuisine', 'Asian', 'Chinese']   \n",
       "29                ['World Cuisine', 'Asian', 'Chinese']   \n",
       "32                           ['World Cuisine', 'Asian']   \n",
       "33    ['Soups, Stews and Chili', 'Chili', 'Beef Chili']   \n",
       "38    ['Soups, Stews and Chili', 'Chili', 'Pork Chili']   \n",
       "39    ['Soups, Stews and Chili', 'Chili', 'Beef Chili']   \n",
       "42                                 ['Everyday Cooking']   \n",
       "43                              ['Main Dish', 'Roasts']   \n",
       "44                                 ['Everyday Cooking']   \n",
       "45    ['Side Dish', 'Sauces and Condiments', 'Marina...   \n",
       "46          ['Soups, Stews and Chili', 'Stews', 'Beef']   \n",
       "47           ['Main Dish', 'Meatloaf', 'Pork Meatloaf']   \n",
       "48                       ['Main Dish', 'Pizza', 'Beef']   \n",
       "49           ['Main Dish', 'Meatloaf', 'Pork Meatloaf']   \n",
       "50               ['Main Dish', 'Burgers', 'Hamburgers']   \n",
       "54             ['World Cuisine', 'European', 'Italian']   \n",
       "55    ['Trusted Brands: Recipes and Tips', 'PHILADEL...   \n",
       "56              ['Pasta and Noodles', 'Pasta by Shape']   \n",
       "58              ['Pasta and Noodles', 'Pasta by Shape']   \n",
       "59    ['Fruits and Vegetables', 'Vegetables', 'Squas...   \n",
       "60              ['Pasta and Noodles', 'Pasta by Shape']   \n",
       "61              ['Pasta and Noodles', 'Pasta by Shape']   \n",
       "68              ['Pasta and Noodles', 'Pasta by Shape']   \n",
       "69    ['Appetizers and Snacks', 'Meat and Poultry', ...   \n",
       "...                                                 ...   \n",
       "8051      ['Soups, Stews and Chili', 'Soup', 'Seafood']   \n",
       "8056                 ['Seafood', 'Shellfish', 'Shrimp']   \n",
       "8062                      ['Seafood', 'Fish', 'Salmon']   \n",
       "8063                      ['Seafood', 'Fish', 'Salmon']   \n",
       "8071               ['Seafood', 'Shellfish', 'Scallops']   \n",
       "8073                     ['Seafood', 'Fish', 'Tilapia']   \n",
       "8074               ['Seafood', 'Shellfish', 'Scallops']   \n",
       "8075               ['Appetizers and Snacks', 'Seafood']   \n",
       "8076                     ['Seafood', 'Fish', 'Tilapia']   \n",
       "8077                   ['Seafood', 'Shellfish', 'Crab']   \n",
       "8078               ['World Cuisine', 'Asian', 'Indian']   \n",
       "8079                      ['Seafood', 'Fish', 'Salmon']   \n",
       "8081                                ['Seafood', 'Fish']   \n",
       "8083                 ['Seafood', 'Shellfish', 'Shrimp']   \n",
       "8084                                ['Seafood', 'Fish']   \n",
       "8086                 ['Seafood', 'Shellfish', 'Shrimp']   \n",
       "8087         ['Salad', 'Seafood Salad', 'Shrimp Salad']   \n",
       "8088  ['Salad', 'Green Salads', 'Romaine Lettuce Sal...   \n",
       "8089                                ['Seafood', 'Fish']   \n",
       "8090                                ['Seafood', 'Fish']   \n",
       "8094           ['Salad', 'Seafood Salad', 'Tuna Salad']   \n",
       "8096                        ['Seafood', 'Fish', 'Tuna']   \n",
       "8097           ['World Cuisine', 'Asian', 'Vietnamese']   \n",
       "8098               ['Appetizers and Snacks', 'Seafood']   \n",
       "8103           ['Salad', 'Seafood Salad', 'Crab Salad']   \n",
       "8104     ['Soups, Stews and Chili', 'Stews', 'Seafood']   \n",
       "8105         ['Salad', 'Seafood Salad', 'Shrimp Salad']   \n",
       "8106                   ['Seafood', 'Shellfish', 'Crab']   \n",
       "8107                      ['Seafood', 'Fish', 'Salmon']   \n",
       "8109         ['Salad', 'Seafood Salad', 'Salmon Salad']   \n",
       "\n",
       "                                                 ingred  rating  review_cnt  \n",
       "0     ['Taco Meat Filling:', '1 pound ground beef', ...    4.41          86  \n",
       "2     ['2 slices whole wheat bread', '2 pounds groun...    4.37         262  \n",
       "3     ['1 pound lean ground beef', '2 teaspoons onio...    4.67         150  \n",
       "6     ['1 quart water', '4 carrots, sliced', '2 smal...    4.25        1362  \n",
       "23    ['1 (3 pound) boneless beef chuck roast', '1 (...    4.39         137  \n",
       "27    ['3 tablespoons hoisin sauce', '3 tablespoons ...    4.65        3837  \n",
       "28    ['3 tablespoons soy sauce', '2 tablespoons ric...    4.65        3837  \n",
       "29    ['1/2 cup soy sauce', '1 tablespoon sesame oil...    4.64        3837  \n",
       "32    ['1 1/2 pounds ground beef', '1/2 pound ground...    4.47         115  \n",
       "33    ['2 pounds lean ground beef', '1/2 large onion...    4.61         325  \n",
       "38    ['1 (14.5 ounce) can stewed tomatoes, chopped'...    4.54         624  \n",
       "39    ['4 tablespoons vegetable oil', '1 green bell ...    4.65         340  \n",
       "42    ['3 pounds rump roast', '1 (10.75 ounce) can c...    4.17         166  \n",
       "43    ['2 (10.75 ounce) cans condensed cream of mush...    4.17         166  \n",
       "44    ['2 tablespoons beef bouillon granules', '2 ta...    4.40         171  \n",
       "45    ['1 1/2 cups steak sauce', '1 tablespoon soy s...    4.71         342  \n",
       "46    ['2 pounds lean beef chuck, trimmed and cut in...    4.71         342  \n",
       "47    ['10 slices bacon', '1/3 cup ketchup', '2 tabl...    4.71         342  \n",
       "48    ['8 slices bacon', '1 pound ground beef', '1 o...    4.71         342  \n",
       "49    ['12 ounces chopped raw bacon', '1 small white...    4.46          90  \n",
       "50    ['1/2 cup shredded Cheddar cheese', '1 tablesp...    4.46          90  \n",
       "54    ['1 (16 ounce) package dry pasta', '1 pound le...    4.70         702  \n",
       "55    ['1/2 pound extra lean ground beef', '1/2 cup ...    4.29         205  \n",
       "56    ['1 (16 ounce) package spaghetti', '1 pound gr...    4.51         137  \n",
       "58    ['1 pound spaghetti', '1 pound lean ground bee...    4.78        2939  \n",
       "59    ['1 spaghetti squash, halved and seeded', '1 p...    4.27         102  \n",
       "60    ['1 pound dry ziti pasta', '1 onion, chopped',...    4.27         102  \n",
       "61    ['1 (16 ounce) package dry ziti pasta', '1 pou...    4.27         102  \n",
       "68    ['1 onion, chopped', '1 tablespoon butter', '1...    4.16         107  \n",
       "69    ['2 pounds ground beef', '1 1/2 cups fresh bre...    4.83         218  \n",
       "...                                                 ...     ...         ...  \n",
       "8051  ['1 cup chopped onion', '3 cloves garlic', '4 ...    4.57          93  \n",
       "8056  ['20 jumbo shrimp, peeled and deveined', '6 le...    4.35          85  \n",
       "8062  ['2 pounds salmon fillets', '2 cloves garlic, ...    4.60          87  \n",
       "8063  ['1/2 cup chicken stock', '1/4 cup balsamic vi...    4.60          87  \n",
       "8071  ['1 (16 ounce) package farfalle (bow tie) past...    4.43         240  \n",
       "8073  ['1 canned chipotle pepper in adobo sauce', '2...    4.67        4914  \n",
       "8074  ['2 pounds shelled, large sea scallops', '1/2 ...    4.67        4912  \n",
       "8075  ['1 quart oil for deep frying', '2 (8 ounce) p...    4.67        4912  \n",
       "8076  ['1 1/2 tablespoons olive oil', '4 cloves garl...    4.67        4914  \n",
       "8077  ['8 manicotti shells', '1 1/2 cups ricotta che...    4.62         348  \n",
       "8078  ['1 tablespoon tomato paste', '1/2 teaspoon sa...    4.62         348  \n",
       "8079  ['6 slices bacon, cut crosswise into 1/2-inch ...    4.62         348  \n",
       "8081  ['3/4 teaspoon dried oregano', '1/2 teaspoon s...    4.68         331  \n",
       "8083  ['1 1/2 cups water', '1 cup uncooked quinoa', ...    4.64         451  \n",
       "8084  ['5 cups fresh spinach', '2 (6 ounce) fillets ...    4.64         451  \n",
       "8086  ['3 tablespoons honey', '3 tablespoons olive o...    4.30         115  \n",
       "8087  ['2 avocados - peeled, pitted, and cubed', '2 ...    4.47         218  \n",
       "8088  ['1 head romaine lettuce', '3/4 cup extra virg...    4.47         218  \n",
       "8089  ['2 (6 ounce) fillets red snapper', '1/4 teasp...    4.32         300  \n",
       "8090  ['2 tablespoons extra virgin olive oil', '1 on...    4.53         104  \n",
       "8094  ['2 (5 ounce) cans water packed tuna, drained ...    4.21         215  \n",
       "8096  ['2 tablespoons butter', '1 small onion, diced...    4.55         107  \n",
       "8097  ['1/4 cup white vinegar', '1/4 cup fish sauce'...    4.55         107  \n",
       "8098  ['1 (8 ounce) package cream cheese, softened',...    4.55         107  \n",
       "8103  ['1/2 green bell pepper, chopped', '1 onion, c...    4.55         183  \n",
       "8104  ['4 tablespoons butter', '2 tablespoons all-pu...    4.55         183  \n",
       "8105  ['2 (8 ounce) packages angel hair pasta', '1/2...    4.48         282  \n",
       "8106  ['8 lasagna noodles', '2 tablespoons butter', ...    4.43         141  \n",
       "8107  ['1/2 cup dry white wine', '1/2 cup water', '2...    4.43         141  \n",
       "8109  ['1 pound fresh asparagus, trimmed and cut int...    4.43         141  \n",
       "\n",
       "[4068 rows x 5 columns]"
      ]
     },
     "execution_count": 46,
     "metadata": {},
     "output_type": "execute_result"
    }
   ],
   "source": [
    "q_data.duplicated()\n",
    "q_data.drop_duplicates()"
   ]
  },
  {
   "cell_type": "markdown",
   "metadata": {},
   "source": [
    "There are 4068 recipes which qualify to be in this list. Now, we need to calculate our metric for each qualified recipe. To do this, we will define a function, weighted_rating() and define a new feature score, of which we'll calculate the value by applying this function to our DataFrame of qualified recipes:"
   ]
  },
  {
   "cell_type": "code",
   "execution_count": 47,
   "metadata": {
    "collapsed": true
   },
   "outputs": [],
   "source": [
    "# Function that computes the weighted rating of each recipe\n",
    "def weighted_rating(x, m=m, C=C):\n",
    "    v = x['review_cnt']\n",
    "    R = x['rating']\n",
    "    # Calculation based on the IMDB formula\n",
    "    return (v/(v+m) * R) + (m/(m+v) * C)\n",
    "\n",
    "\n"
   ]
  },
  {
   "cell_type": "code",
   "execution_count": 48,
   "metadata": {},
   "outputs": [],
   "source": [
    "# Define a new feature 'score' and calculate its value with `weighted_rating()`\n",
    "q_data['score'] = q_data.apply(weighted_rating, axis=1)"
   ]
  },
  {
   "cell_type": "code",
   "execution_count": 49,
   "metadata": {},
   "outputs": [
    {
     "data": {
      "text/html": [
       "<div>\n",
       "<style scoped>\n",
       "    .dataframe tbody tr th:only-of-type {\n",
       "        vertical-align: middle;\n",
       "    }\n",
       "\n",
       "    .dataframe tbody tr th {\n",
       "        vertical-align: top;\n",
       "    }\n",
       "\n",
       "    .dataframe thead th {\n",
       "        text-align: right;\n",
       "    }\n",
       "</style>\n",
       "<table border=\"1\" class=\"dataframe\">\n",
       "  <thead>\n",
       "    <tr style=\"text-align: right;\">\n",
       "      <th></th>\n",
       "      <th>title</th>\n",
       "      <th>review_cnt</th>\n",
       "      <th>rating</th>\n",
       "      <th>score</th>\n",
       "    </tr>\n",
       "  </thead>\n",
       "  <tbody>\n",
       "    <tr>\n",
       "      <th>1947</th>\n",
       "      <td>Meatball Soup</td>\n",
       "      <td>1023</td>\n",
       "      <td>4.91</td>\n",
       "      <td>4.859285</td>\n",
       "    </tr>\n",
       "    <tr>\n",
       "      <th>1948</th>\n",
       "      <td>Meatball Spaghetti Sauce</td>\n",
       "      <td>1019</td>\n",
       "      <td>4.91</td>\n",
       "      <td>4.859100</td>\n",
       "    </tr>\n",
       "    <tr>\n",
       "      <th>3203</th>\n",
       "      <td>Dad's Pan-Fried Green Beans</td>\n",
       "      <td>9837</td>\n",
       "      <td>4.84</td>\n",
       "      <td>4.834909</td>\n",
       "    </tr>\n",
       "    <tr>\n",
       "      <th>3202</th>\n",
       "      <td>Cream Peas</td>\n",
       "      <td>9836</td>\n",
       "      <td>4.84</td>\n",
       "      <td>4.834909</td>\n",
       "    </tr>\n",
       "    <tr>\n",
       "      <th>7021</th>\n",
       "      <td>Pork Chops with Apple Curry Sauce</td>\n",
       "      <td>1390</td>\n",
       "      <td>4.86</td>\n",
       "      <td>4.824526</td>\n",
       "    </tr>\n",
       "    <tr>\n",
       "      <th>1232</th>\n",
       "      <td>Zippy Beef Casserole</td>\n",
       "      <td>1777</td>\n",
       "      <td>4.85</td>\n",
       "      <td>4.822343</td>\n",
       "    </tr>\n",
       "    <tr>\n",
       "      <th>5600</th>\n",
       "      <td>Coconut Raspberry Smoothie</td>\n",
       "      <td>9933</td>\n",
       "      <td>4.82</td>\n",
       "      <td>4.815106</td>\n",
       "    </tr>\n",
       "    <tr>\n",
       "      <th>5601</th>\n",
       "      <td>Chia Ginger Smoothie</td>\n",
       "      <td>9933</td>\n",
       "      <td>4.82</td>\n",
       "      <td>4.815106</td>\n",
       "    </tr>\n",
       "    <tr>\n",
       "      <th>5602</th>\n",
       "      <td>Paleo Apple Pie Smoothie</td>\n",
       "      <td>9933</td>\n",
       "      <td>4.82</td>\n",
       "      <td>4.815106</td>\n",
       "    </tr>\n",
       "    <tr>\n",
       "      <th>2495</th>\n",
       "      <td>Delicious Egg Salad for Sandwiches</td>\n",
       "      <td>544</td>\n",
       "      <td>4.90</td>\n",
       "      <td>4.811175</td>\n",
       "    </tr>\n",
       "    <tr>\n",
       "      <th>1020</th>\n",
       "      <td>Slow-Cooker Pepper Steak</td>\n",
       "      <td>4348</td>\n",
       "      <td>4.82</td>\n",
       "      <td>4.808925</td>\n",
       "    </tr>\n",
       "    <tr>\n",
       "      <th>2135</th>\n",
       "      <td>Roast Beef and Yorkshire Pudding</td>\n",
       "      <td>2263</td>\n",
       "      <td>4.83</td>\n",
       "      <td>4.808727</td>\n",
       "    </tr>\n",
       "    <tr>\n",
       "      <th>5845</th>\n",
       "      <td>Banana Mint Slush</td>\n",
       "      <td>1999</td>\n",
       "      <td>4.83</td>\n",
       "      <td>4.806018</td>\n",
       "    </tr>\n",
       "    <tr>\n",
       "      <th>5838</th>\n",
       "      <td>Matcha-Berry Swirl Smoothie</td>\n",
       "      <td>6877</td>\n",
       "      <td>4.81</td>\n",
       "      <td>4.803061</td>\n",
       "    </tr>\n",
       "    <tr>\n",
       "      <th>7556</th>\n",
       "      <td>Zippy Summer Shrimp</td>\n",
       "      <td>1699</td>\n",
       "      <td>4.83</td>\n",
       "      <td>4.801961</td>\n",
       "    </tr>\n",
       "    <tr>\n",
       "      <th>6634</th>\n",
       "      <td>Pork Chops Italiano</td>\n",
       "      <td>5629</td>\n",
       "      <td>4.81</td>\n",
       "      <td>4.801542</td>\n",
       "    </tr>\n",
       "    <tr>\n",
       "      <th>964</th>\n",
       "      <td>Slider-Style Mini Burgers</td>\n",
       "      <td>4906</td>\n",
       "      <td>4.81</td>\n",
       "      <td>4.800314</td>\n",
       "    </tr>\n",
       "    <tr>\n",
       "      <th>7054</th>\n",
       "      <td>Kalamata Pork Tenderloin with Rosemary</td>\n",
       "      <td>4663</td>\n",
       "      <td>4.81</td>\n",
       "      <td>4.799818</td>\n",
       "    </tr>\n",
       "    <tr>\n",
       "      <th>7055</th>\n",
       "      <td>Picadillo</td>\n",
       "      <td>4663</td>\n",
       "      <td>4.81</td>\n",
       "      <td>4.799818</td>\n",
       "    </tr>\n",
       "    <tr>\n",
       "      <th>7053</th>\n",
       "      <td>Chef John's BLT Pasta</td>\n",
       "      <td>4663</td>\n",
       "      <td>4.81</td>\n",
       "      <td>4.799818</td>\n",
       "    </tr>\n",
       "    <tr>\n",
       "      <th>7482</th>\n",
       "      <td>Shrimp Scampi</td>\n",
       "      <td>1566</td>\n",
       "      <td>4.83</td>\n",
       "      <td>4.799687</td>\n",
       "    </tr>\n",
       "    <tr>\n",
       "      <th>1070</th>\n",
       "      <td>Steak Salad</td>\n",
       "      <td>4222</td>\n",
       "      <td>4.81</td>\n",
       "      <td>4.798772</td>\n",
       "    </tr>\n",
       "    <tr>\n",
       "      <th>1071</th>\n",
       "      <td>Steak Salad (Ranen Salad)</td>\n",
       "      <td>4220</td>\n",
       "      <td>4.81</td>\n",
       "      <td>4.798767</td>\n",
       "    </tr>\n",
       "    <tr>\n",
       "      <th>6099</th>\n",
       "      <td>Eggplant Parmesan II</td>\n",
       "      <td>9774</td>\n",
       "      <td>4.80</td>\n",
       "      <td>4.795177</td>\n",
       "    </tr>\n",
       "    <tr>\n",
       "      <th>6670</th>\n",
       "      <td>Chicken and Bowtie Pasta with Asiago Cream Sauce</td>\n",
       "      <td>1663</td>\n",
       "      <td>4.82</td>\n",
       "      <td>4.791805</td>\n",
       "    </tr>\n",
       "  </tbody>\n",
       "</table>\n",
       "</div>"
      ],
      "text/plain": [
       "                                                 title  review_cnt  rating  \\\n",
       "1947                                     Meatball Soup        1023    4.91   \n",
       "1948                          Meatball Spaghetti Sauce        1019    4.91   \n",
       "3203                       Dad's Pan-Fried Green Beans        9837    4.84   \n",
       "3202                                        Cream Peas        9836    4.84   \n",
       "7021                 Pork Chops with Apple Curry Sauce        1390    4.86   \n",
       "1232                              Zippy Beef Casserole        1777    4.85   \n",
       "5600                        Coconut Raspberry Smoothie        9933    4.82   \n",
       "5601                              Chia Ginger Smoothie        9933    4.82   \n",
       "5602                          Paleo Apple Pie Smoothie        9933    4.82   \n",
       "2495                Delicious Egg Salad for Sandwiches         544    4.90   \n",
       "1020                          Slow-Cooker Pepper Steak        4348    4.82   \n",
       "2135                  Roast Beef and Yorkshire Pudding        2263    4.83   \n",
       "5845                                 Banana Mint Slush        1999    4.83   \n",
       "5838                       Matcha-Berry Swirl Smoothie        6877    4.81   \n",
       "7556                               Zippy Summer Shrimp        1699    4.83   \n",
       "6634                               Pork Chops Italiano        5629    4.81   \n",
       "964                          Slider-Style Mini Burgers        4906    4.81   \n",
       "7054            Kalamata Pork Tenderloin with Rosemary        4663    4.81   \n",
       "7055                                         Picadillo        4663    4.81   \n",
       "7053                             Chef John's BLT Pasta        4663    4.81   \n",
       "7482                                     Shrimp Scampi        1566    4.83   \n",
       "1070                                       Steak Salad        4222    4.81   \n",
       "1071                         Steak Salad (Ranen Salad)        4220    4.81   \n",
       "6099                              Eggplant Parmesan II        9774    4.80   \n",
       "6670  Chicken and Bowtie Pasta with Asiago Cream Sauce        1663    4.82   \n",
       "\n",
       "         score  \n",
       "1947  4.859285  \n",
       "1948  4.859100  \n",
       "3203  4.834909  \n",
       "3202  4.834909  \n",
       "7021  4.824526  \n",
       "1232  4.822343  \n",
       "5600  4.815106  \n",
       "5601  4.815106  \n",
       "5602  4.815106  \n",
       "2495  4.811175  \n",
       "1020  4.808925  \n",
       "2135  4.808727  \n",
       "5845  4.806018  \n",
       "5838  4.803061  \n",
       "7556  4.801961  \n",
       "6634  4.801542  \n",
       "964   4.800314  \n",
       "7054  4.799818  \n",
       "7055  4.799818  \n",
       "7053  4.799818  \n",
       "7482  4.799687  \n",
       "1070  4.798772  \n",
       "1071  4.798767  \n",
       "6099  4.795177  \n",
       "6670  4.791805  "
      ]
     },
     "execution_count": 49,
     "metadata": {},
     "output_type": "execute_result"
    }
   ],
   "source": [
    "#Sort movies based on score calculated above\n",
    "q_data = q_data.sort_values('score', ascending=False)\n",
    "\n",
    "#Print the top 15 movies\n",
    "q_data[['title', 'review_cnt', 'rating', 'score']].head(25)"
   ]
  },
  {
   "cell_type": "markdown",
   "metadata": {},
   "source": [
    "After evaluating the Ratings and number of reviews, it does not seem that these values are reliable indicators of how popular a recipe would actually be.  For example, it is highly unlikely that \"Cream Peas\" would be a family's fourth most favorite recipe.  The list above shows Meatball Soup, as the top rated recipe, with a 4.91 average rating. I find it hard to believe that a soup recipe is truly the most popular recipe.  Meatball Spaghetti Sauce, at number 2, possibly may be, but Dad's Pan-Fried Green Beans in third place and Cream Peas in fourth? Not likely. Therefore, we will not be using the average rating and number of reviews in our recommender system."
   ]
  },
  {
   "cell_type": "markdown",
   "metadata": {},
   "source": [
    "## Word2Vec, Doc2Vec"
   ]
  },
  {
   "cell_type": "code",
   "execution_count": 267,
   "metadata": {},
   "outputs": [
    {
     "data": {
      "text/html": [
       "<div>\n",
       "<style scoped>\n",
       "    .dataframe tbody tr th:only-of-type {\n",
       "        vertical-align: middle;\n",
       "    }\n",
       "\n",
       "    .dataframe tbody tr th {\n",
       "        vertical-align: top;\n",
       "    }\n",
       "\n",
       "    .dataframe thead th {\n",
       "        text-align: right;\n",
       "    }\n",
       "</style>\n",
       "<table border=\"1\" class=\"dataframe\">\n",
       "  <thead>\n",
       "    <tr style=\"text-align: right;\">\n",
       "      <th></th>\n",
       "      <th>level_0</th>\n",
       "      <th>index</th>\n",
       "      <th>title</th>\n",
       "      <th>categories</th>\n",
       "      <th>ingred</th>\n",
       "      <th>ingredSpaces</th>\n",
       "      <th>categories_clean</th>\n",
       "      <th>ingred_cat</th>\n",
       "    </tr>\n",
       "  </thead>\n",
       "  <tbody>\n",
       "    <tr>\n",
       "      <th>0</th>\n",
       "      <td>0</td>\n",
       "      <td>0</td>\n",
       "      <td>1-Dish Taco Bake</td>\n",
       "      <td>['Trusted Brands: Recipes and Tips', \"ARGO&amp;#17...</td>\n",
       "      <td>TacoMeatFilling:,groundbeef,tacoseasoning,Batt...</td>\n",
       "      <td>TacoMeatFilling: groundbeef tacoseasoning Batt...</td>\n",
       "      <td>trustedbrands:recipesandtips \"argo&amp;#174; karo&amp;...</td>\n",
       "      <td>TacoMeatFilling: groundbeef tacoseasoning Batt...</td>\n",
       "    </tr>\n",
       "    <tr>\n",
       "      <th>1</th>\n",
       "      <td>1</td>\n",
       "      <td>1</td>\n",
       "      <td>15-Minute Dinner Nachos Supreme</td>\n",
       "      <td>['Trusted Brands: Recipes and Tips', \"Campbell...</td>\n",
       "      <td>groundbeef,Pace®TacoSeasoningMix,\"Campbells®Co...</td>\n",
       "      <td>groundbeef Pace®TacoSeasoningMix \"Campbells®Co...</td>\n",
       "      <td>trustedbrands:recipesandtips \"campbellskitchen\"</td>\n",
       "      <td>groundbeef Pace®TacoSeasoningMix \"Campbells®Co...</td>\n",
       "    </tr>\n",
       "    <tr>\n",
       "      <th>2</th>\n",
       "      <td>2</td>\n",
       "      <td>2</td>\n",
       "      <td>A Firefighter's Meatloaf</td>\n",
       "      <td>['Main Dish', 'Meatloaf', 'Beef Meatloaf']</td>\n",
       "      <td>wholewheatbread,groundbeef,greenonion,,onion,s...</td>\n",
       "      <td>wholewheatbread groundbeef greenonion  onion s...</td>\n",
       "      <td>maindish meatloaf beefmeatloaf</td>\n",
       "      <td>wholewheatbread groundbeef greenonion  onion s...</td>\n",
       "    </tr>\n",
       "    <tr>\n",
       "      <th>3</th>\n",
       "      <td>3</td>\n",
       "      <td>3</td>\n",
       "      <td>Aaron's Missouri Burger</td>\n",
       "      <td>['Main Dish', 'Burgers', 'Hamburgers']</td>\n",
       "      <td>groundbeef,onionpowder,honeymustard,garlicpowd...</td>\n",
       "      <td>groundbeef onionpowder honeymustard garlicpowd...</td>\n",
       "      <td>maindish burgers hamburgers</td>\n",
       "      <td>groundbeef onionpowder honeymustard garlicpowd...</td>\n",
       "    </tr>\n",
       "    <tr>\n",
       "      <th>4</th>\n",
       "      <td>4</td>\n",
       "      <td>4</td>\n",
       "      <td>Absolute Best Liver and Onions</td>\n",
       "      <td>['Main Dish']</td>\n",
       "      <td>beefliver,milk,,butter,,Vidaliaonions,,allpurp...</td>\n",
       "      <td>beefliver milk  butter  Vidaliaonions  allpurp...</td>\n",
       "      <td>maindish</td>\n",
       "      <td>beefliver milk  butter  Vidaliaonions  allpurp...</td>\n",
       "    </tr>\n",
       "    <tr>\n",
       "      <th>5</th>\n",
       "      <td>5</td>\n",
       "      <td>5</td>\n",
       "      <td>Adobo Sirloin</td>\n",
       "      <td>['World Cuisine', 'Latin American', 'Mexican']</td>\n",
       "      <td>lime,,garlic,driedoregano,groundcumin,chipotle...</td>\n",
       "      <td>lime  garlic driedoregano groundcumin chipotle...</td>\n",
       "      <td>worldcuisine latinamerican mexican</td>\n",
       "      <td>lime  garlic driedoregano groundcumin chipotle...</td>\n",
       "    </tr>\n",
       "    <tr>\n",
       "      <th>6</th>\n",
       "      <td>6</td>\n",
       "      <td>6</td>\n",
       "      <td>Albondigas</td>\n",
       "      <td>['Soups, Stews and Chili', 'Soup', 'Beef Soup']</td>\n",
       "      <td>quartwater,carrots,,potatoes,,onion,,salsa,hot...</td>\n",
       "      <td>quartwater carrots  potatoes  onion  salsa hot...</td>\n",
       "      <td>soups stewsandchili soup beefsoup</td>\n",
       "      <td>quartwater carrots  potatoes  onion  salsa hot...</td>\n",
       "    </tr>\n",
       "    <tr>\n",
       "      <th>7</th>\n",
       "      <td>7</td>\n",
       "      <td>7</td>\n",
       "      <td>Albondigas Soup I</td>\n",
       "      <td>['Soups, Stews and Chili', 'Soup', 'Pork Soup']</td>\n",
       "      <td>groundbeef,porksausage,onion,,egg,,salt,pepper...</td>\n",
       "      <td>groundbeef porksausage onion  egg  salt pepper...</td>\n",
       "      <td>soups stewsandchili soup porksoup</td>\n",
       "      <td>groundbeef porksausage onion  egg  salt pepper...</td>\n",
       "    </tr>\n",
       "    <tr>\n",
       "      <th>8</th>\n",
       "      <td>8</td>\n",
       "      <td>8</td>\n",
       "      <td>Albondigas Soup II</td>\n",
       "      <td>['Soups, Stews and Chili', 'Soup', 'Beef Soup']</td>\n",
       "      <td>groundbeef,beefbouilloncube,water,clovesgarlic...</td>\n",
       "      <td>groundbeef beefbouilloncube water clovesgarlic...</td>\n",
       "      <td>soups stewsandchili soup beefsoup</td>\n",
       "      <td>groundbeef beefbouilloncube water clovesgarlic...</td>\n",
       "    </tr>\n",
       "    <tr>\n",
       "      <th>9</th>\n",
       "      <td>9</td>\n",
       "      <td>9</td>\n",
       "      <td>Alison's Slow Cooker Vegetable Beef Soup</td>\n",
       "      <td>['Soups, Stews and Chili', 'Soup', 'Beef Soup']</td>\n",
       "      <td>beefstewmeat,water,onion,,tomatoes,mixedvegeta...</td>\n",
       "      <td>beefstewmeat water onion  tomatoes mixedvegeta...</td>\n",
       "      <td>soups stewsandchili soup beefsoup</td>\n",
       "      <td>beefstewmeat water onion  tomatoes mixedvegeta...</td>\n",
       "    </tr>\n",
       "  </tbody>\n",
       "</table>\n",
       "</div>"
      ],
      "text/plain": [
       "   level_0  index                                     title  \\\n",
       "0        0      0                          1-Dish Taco Bake   \n",
       "1        1      1           15-Minute Dinner Nachos Supreme   \n",
       "2        2      2                  A Firefighter's Meatloaf   \n",
       "3        3      3                   Aaron's Missouri Burger   \n",
       "4        4      4            Absolute Best Liver and Onions   \n",
       "5        5      5                             Adobo Sirloin   \n",
       "6        6      6                                Albondigas   \n",
       "7        7      7                         Albondigas Soup I   \n",
       "8        8      8                        Albondigas Soup II   \n",
       "9        9      9  Alison's Slow Cooker Vegetable Beef Soup   \n",
       "\n",
       "                                          categories  \\\n",
       "0  ['Trusted Brands: Recipes and Tips', \"ARGO&#17...   \n",
       "1  ['Trusted Brands: Recipes and Tips', \"Campbell...   \n",
       "2         ['Main Dish', 'Meatloaf', 'Beef Meatloaf']   \n",
       "3             ['Main Dish', 'Burgers', 'Hamburgers']   \n",
       "4                                      ['Main Dish']   \n",
       "5     ['World Cuisine', 'Latin American', 'Mexican']   \n",
       "6    ['Soups, Stews and Chili', 'Soup', 'Beef Soup']   \n",
       "7    ['Soups, Stews and Chili', 'Soup', 'Pork Soup']   \n",
       "8    ['Soups, Stews and Chili', 'Soup', 'Beef Soup']   \n",
       "9    ['Soups, Stews and Chili', 'Soup', 'Beef Soup']   \n",
       "\n",
       "                                              ingred  \\\n",
       "0  TacoMeatFilling:,groundbeef,tacoseasoning,Batt...   \n",
       "1  groundbeef,Pace®TacoSeasoningMix,\"Campbells®Co...   \n",
       "2  wholewheatbread,groundbeef,greenonion,,onion,s...   \n",
       "3  groundbeef,onionpowder,honeymustard,garlicpowd...   \n",
       "4  beefliver,milk,,butter,,Vidaliaonions,,allpurp...   \n",
       "5  lime,,garlic,driedoregano,groundcumin,chipotle...   \n",
       "6  quartwater,carrots,,potatoes,,onion,,salsa,hot...   \n",
       "7  groundbeef,porksausage,onion,,egg,,salt,pepper...   \n",
       "8  groundbeef,beefbouilloncube,water,clovesgarlic...   \n",
       "9  beefstewmeat,water,onion,,tomatoes,mixedvegeta...   \n",
       "\n",
       "                                        ingredSpaces  \\\n",
       "0  TacoMeatFilling: groundbeef tacoseasoning Batt...   \n",
       "1  groundbeef Pace®TacoSeasoningMix \"Campbells®Co...   \n",
       "2  wholewheatbread groundbeef greenonion  onion s...   \n",
       "3  groundbeef onionpowder honeymustard garlicpowd...   \n",
       "4  beefliver milk  butter  Vidaliaonions  allpurp...   \n",
       "5  lime  garlic driedoregano groundcumin chipotle...   \n",
       "6  quartwater carrots  potatoes  onion  salsa hot...   \n",
       "7  groundbeef porksausage onion  egg  salt pepper...   \n",
       "8  groundbeef beefbouilloncube water clovesgarlic...   \n",
       "9  beefstewmeat water onion  tomatoes mixedvegeta...   \n",
       "\n",
       "                                    categories_clean  \\\n",
       "0  trustedbrands:recipesandtips \"argo&#174; karo&...   \n",
       "1    trustedbrands:recipesandtips \"campbellskitchen\"   \n",
       "2                     maindish meatloaf beefmeatloaf   \n",
       "3                        maindish burgers hamburgers   \n",
       "4                                           maindish   \n",
       "5                 worldcuisine latinamerican mexican   \n",
       "6                  soups stewsandchili soup beefsoup   \n",
       "7                  soups stewsandchili soup porksoup   \n",
       "8                  soups stewsandchili soup beefsoup   \n",
       "9                  soups stewsandchili soup beefsoup   \n",
       "\n",
       "                                          ingred_cat  \n",
       "0  TacoMeatFilling: groundbeef tacoseasoning Batt...  \n",
       "1  groundbeef Pace®TacoSeasoningMix \"Campbells®Co...  \n",
       "2  wholewheatbread groundbeef greenonion  onion s...  \n",
       "3  groundbeef onionpowder honeymustard garlicpowd...  \n",
       "4  beefliver milk  butter  Vidaliaonions  allpurp...  \n",
       "5  lime  garlic driedoregano groundcumin chipotle...  \n",
       "6  quartwater carrots  potatoes  onion  salsa hot...  \n",
       "7  groundbeef porksausage onion  egg  salt pepper...  \n",
       "8  groundbeef beefbouilloncube water clovesgarlic...  \n",
       "9  beefstewmeat water onion  tomatoes mixedvegeta...  "
      ]
     },
     "execution_count": 267,
     "metadata": {},
     "output_type": "execute_result"
    }
   ],
   "source": [
    "from string import punctuation\n",
    "from os import listdir\n",
    "from numpy import array\n",
    "#from array import array\n",
    "from keras.preprocessing.text import Tokenizer\n",
    "from keras.preprocessing.sequence import pad_sequences\n",
    "from keras.models import Sequential\n",
    "from keras.layers import Dense\n",
    "from keras.layers import Flatten\n",
    "from keras.layers import Embedding\n",
    "from keras.layers.convolutional import Conv1D\n",
    "from keras.layers.convolutional import MaxPooling1D\n",
    "\n",
    "from string import punctuation\n",
    "from os import listdir\n",
    "from collections import Counter\n",
    "from nltk.corpus import stopwords\n",
    "from gensim.models import Word2Vec\n",
    "\n",
    "data.head(10)"
   ]
  },
  {
   "cell_type": "markdown",
   "metadata": {},
   "source": [
    "Word2Vec learns the context of a word by looking at the words which commonly occur around the target word. Words which have similar contexts share meaning under Word2Vec, and their reduced vector representations will be similar.  In the skip-gram model version of Word2Vec the goal is to take a target word and predict the surrounding context words. We will attempt to apply this technique to recipe ingredients,learning ingredients that commonly occur together. \n",
    "\n",
    "We will supply our input target words as one-hot vectors to the neural network.  Then, via a hidden layer, we want to train the neural network to increase the probability of valid context words, while decreasing the probability of invalid context words.\n",
    "\n",
    "There are two variants of the Word2Vec paradigm – skip-gram and CBOW.  The skip-gram variant takes a target word and tries to predict the surrounding context words, while the CBOW (continuous bag of words) variant takes a set of context words and tries to predict a target word.  In this case, we will be considering the skip-gram variant."
   ]
  },
  {
   "cell_type": "markdown",
   "metadata": {},
   "source": [
    "We also need a way of ensuring that, as the network trains, words which are similar end up having similar embedding vectors.  Therefore, we want to ensure that the trained network will always output a 1 when it is supplied words which are in the same context, but 0 when it is supplied words which are never in the same context. Therefore, we need a vector similarity score supplied to the output sigmoid layer – with similar vectors outputting a high score and un-similar vectors outputting a low score.  The most typical similarity measure used between two vectors is the cosine similarity score:"
   ]
  },
  {
   "cell_type": "code",
   "execution_count": 273,
   "metadata": {
    "collapsed": true
   },
   "outputs": [],
   "source": [
    "from keras.models import Model\n",
    "from keras.layers import Input, Dense, Reshape, merge\n",
    "from keras.layers.embeddings import Embedding\n",
    "from keras.preprocessing.sequence import skipgrams\n",
    "from keras.preprocessing import sequence\n",
    "\n",
    "import urllib\n",
    "import collections\n",
    "import os\n",
    "import zipfile\n",
    "\n",
    "import numpy as np\n",
    "import tensorflow as tf\n"
   ]
  },
  {
   "cell_type": "code",
   "execution_count": 274,
   "metadata": {
    "collapsed": true
   },
   "outputs": [],
   "source": [
    "import gensim \n",
    "import keras.models as kmodels\n",
    "import keras.layers as klayers\n",
    "import keras.backend as K\n",
    "import keras\n"
   ]
  },
  {
   "cell_type": "code",
   "execution_count": 275,
   "metadata": {
    "collapsed": true
   },
   "outputs": [],
   "source": [
    "#siraj:"
   ]
  },
  {
   "cell_type": "code",
   "execution_count": 276,
   "metadata": {},
   "outputs": [],
   "source": [
    "from __future__ import absolute_import, division, print_function\n",
    "import codecs\n",
    "import glob\n",
    "import multiprocessing\n",
    "import os\n",
    "import pprint\n",
    "import re\n",
    "import nltk\n",
    "import gensim.models.word2vec as w2v\n",
    "import sklearn.manifold\n",
    "import numpy as np\n",
    "import matplotlib.pyplot as plt\n",
    "import pandas as pd\n",
    "#import seaborn as sns\n"
   ]
  },
  {
   "cell_type": "code",
   "execution_count": 277,
   "metadata": {},
   "outputs": [
    {
     "name": "stdout",
     "output_type": "stream",
     "text": [
      "[nltk_data] Downloading package punkt to\n",
      "[nltk_data]     /Users/claudiacassidy/nltk_data...\n",
      "[nltk_data]   Package punkt is already up-to-date!\n",
      "[nltk_data] Downloading package stopwords to\n",
      "[nltk_data]     /Users/claudiacassidy/nltk_data...\n",
      "[nltk_data]   Package stopwords is already up-to-date!\n"
     ]
    },
    {
     "data": {
      "text/plain": [
       "True"
      ]
     },
     "execution_count": 277,
     "metadata": {},
     "output_type": "execute_result"
    }
   ],
   "source": [
    "nltk.download('punkt')\n",
    "nltk.download('stopwords')"
   ]
  },
  {
   "cell_type": "code",
   "execution_count": 278,
   "metadata": {},
   "outputs": [
    {
     "data": {
      "text/plain": [
       "<nltk.tokenize.punkt.PunktSentenceTokenizer at 0x121fa09b0>"
      ]
     },
     "execution_count": 278,
     "metadata": {},
     "output_type": "execute_result"
    }
   ],
   "source": [
    "tokenizer = nltk.data.load('tokenizers/punkt/english.pickle')\n",
    "\n",
    "tokenizer"
   ]
  },
  {
   "cell_type": "code",
   "execution_count": 81,
   "metadata": {},
   "outputs": [],
   "source": [
    "#def sentence_to_wordlist(raw):\n",
    "#    clean = re.sub(\"[^a-zA-Z]\",\" \", raw)\n",
    "#    words = clean.split()\n",
    "#    return words"
   ]
  },
  {
   "cell_type": "code",
   "execution_count": null,
   "metadata": {
    "collapsed": true
   },
   "outputs": [],
   "source": []
  },
  {
   "cell_type": "code",
   "execution_count": 279,
   "metadata": {},
   "outputs": [
    {
     "name": "stdout",
     "output_type": "stream",
     "text": [
      "lime  garlic driedoregano groundcumin chipotlepeppersinadobosauce adobosaucefromchipotlepeppers beefsirloinsteaks saltpepper worldcuisine latinamerican mexican\n"
     ]
    }
   ],
   "source": [
    "print(data['ingred_cat'][5])"
   ]
  },
  {
   "cell_type": "code",
   "execution_count": 280,
   "metadata": {
    "collapsed": true
   },
   "outputs": [],
   "source": [
    "sentences = []\n",
    "for raw_sentence in data['ingred_cat']:\n",
    "    if len(raw_sentence) > 0:\n",
    "        sentences.append(sentence_to_wordlist(raw_sentence))"
   ]
  },
  {
   "cell_type": "code",
   "execution_count": 283,
   "metadata": {},
   "outputs": [
    {
     "name": "stdout",
     "output_type": "stream",
     "text": [
      "['lime', 'garlic', 'driedoregano', 'groundcumin', 'chipotlepeppersinadobosauce', 'adobosaucefromchipotlepeppers', 'beefsirloinsteaks', 'saltpepper', 'worldcuisine', 'latinamerican', 'mexican']\n"
     ]
    }
   ],
   "source": [
    "print(sentences[5])\n"
   ]
  },
  {
   "cell_type": "code",
   "execution_count": 284,
   "metadata": {
    "collapsed": true
   },
   "outputs": [],
   "source": [
    "#vectors help with distance, similarity, ranking\n",
    "\n",
    "#more dimensions, more computationally expensive to train\n",
    "#but also more accurate\n",
    "#more dimensions = more generalized\n",
    "num_features = 300\n",
    "\n",
    "#minimum word count threshold\n",
    "min_word_count = 3\n",
    "\n",
    "num_workers = multiprocessing.cpu_count()\n",
    "\n",
    "#context window length\n",
    "context_size = 7\n",
    "\n",
    "#downsample setting for frequent words\n",
    "#0 - 1e-5 is good for this\n",
    "downsampling = 1e-3\n",
    "\n",
    "#random number generator\n",
    "#deterministic, good for debugging\n",
    "seed = 1\n"
   ]
  },
  {
   "cell_type": "code",
   "execution_count": 285,
   "metadata": {},
   "outputs": [
    {
     "data": {
      "text/plain": [
       "101901"
      ]
     },
     "execution_count": 285,
     "metadata": {},
     "output_type": "execute_result"
    }
   ],
   "source": [
    "token_count = sum([len(sentence) for sentence in sentences])\n",
    "token_count"
   ]
  },
  {
   "cell_type": "markdown",
   "metadata": {},
   "source": [
    "#### Train Word2Vec"
   ]
  },
  {
   "cell_type": "code",
   "execution_count": 286,
   "metadata": {},
   "outputs": [],
   "source": [
    "model = w2v.Word2Vec(\n",
    "                    sg=1,\n",
    "                   seed=seed,\n",
    "                   workers=num_workers,\n",
    "                   size=num_features,\n",
    "                   min_count=min_word_count,\n",
    "                   window=context_size,\n",
    "                   sample=downsampling)\n"
   ]
  },
  {
   "cell_type": "code",
   "execution_count": 287,
   "metadata": {},
   "outputs": [],
   "source": [
    "# loads corpus into memory\n",
    "model.build_vocab(sentences, update=False)\n",
    "\n",
    "#print(\"vocab length: \",len(vec.vocab))\n",
    "\n"
   ]
  },
  {
   "cell_type": "code",
   "execution_count": 288,
   "metadata": {},
   "outputs": [
    {
     "data": {
      "text/plain": [
       "(710868, 1019010)"
      ]
     },
     "execution_count": 288,
     "metadata": {},
     "output_type": "execute_result"
    }
   ],
   "source": [
    "model.train(sentences,total_examples=model.corpus_count,epochs=10)"
   ]
  },
  {
   "cell_type": "code",
   "execution_count": 289,
   "metadata": {},
   "outputs": [],
   "source": [
    "if not os.path.exists(\"trained\"):\n",
    "    os.makedirs(\"trained\")\n",
    "\n",
    "model.save(os.path.join(\"trained\",\"model.w2v\"))"
   ]
  },
  {
   "cell_type": "code",
   "execution_count": 290,
   "metadata": {
    "collapsed": true
   },
   "outputs": [],
   "source": [
    "ingred_cat_model = w2v.Word2Vec.load(os.path.join(\"trained\", \"model.w2v\"))"
   ]
  },
  {
   "cell_type": "code",
   "execution_count": 291,
   "metadata": {
    "collapsed": true
   },
   "outputs": [],
   "source": [
    "tsne = sklearn.manifold.TSNE(n_components=2,random_state=0)"
   ]
  },
  {
   "cell_type": "code",
   "execution_count": 292,
   "metadata": {},
   "outputs": [
    {
     "name": "stderr",
     "output_type": "stream",
     "text": [
      "/usr/local/Cellar/python3/3.6.4_2/Frameworks/Python.framework/Versions/3.6/lib/python3.6/site-packages/ipykernel_launcher.py:1: DeprecationWarning: Call to deprecated `syn0` (Attribute will be removed in 4.0.0, use self.wv.vectors instead).\n",
      "  \"\"\"Entry point for launching an IPython kernel.\n"
     ]
    }
   ],
   "source": [
    "all_word_vectors_matrix = ingred_cat_model.wv.syn0"
   ]
  },
  {
   "cell_type": "code",
   "execution_count": 293,
   "metadata": {},
   "outputs": [],
   "source": [
    "all_word_vectors_matrix_2d = tsne.fit_transform(all_word_vectors_matrix)"
   ]
  },
  {
   "cell_type": "code",
   "execution_count": 294,
   "metadata": {},
   "outputs": [],
   "source": [
    "points = pd.DataFrame(\n",
    "    [\n",
    "        (word, coords[0], coords[1])\n",
    "        for word, coords in [\n",
    "            (word, all_word_vectors_matrix_2d[ingred_cat_model.wv.vocab[word].index])\n",
    "            for word in ingred_cat_model.wv.vocab\n",
    "        ]\n",
    "    ],\n",
    "    columns=[\"word\",\"x\",\"y\"]\n",
    ")"
   ]
  },
  {
   "cell_type": "code",
   "execution_count": 204,
   "metadata": {},
   "outputs": [
    {
     "data": {
      "text/html": [
       "<div>\n",
       "<style scoped>\n",
       "    .dataframe tbody tr th:only-of-type {\n",
       "        vertical-align: middle;\n",
       "    }\n",
       "\n",
       "    .dataframe tbody tr th {\n",
       "        vertical-align: top;\n",
       "    }\n",
       "\n",
       "    .dataframe thead th {\n",
       "        text-align: right;\n",
       "    }\n",
       "</style>\n",
       "<table border=\"1\" class=\"dataframe\">\n",
       "  <thead>\n",
       "    <tr style=\"text-align: right;\">\n",
       "      <th></th>\n",
       "      <th>word</th>\n",
       "      <th>x</th>\n",
       "      <th>y</th>\n",
       "    </tr>\n",
       "  </thead>\n",
       "  <tbody>\n",
       "    <tr>\n",
       "      <th>0</th>\n",
       "      <td>groundbeef</td>\n",
       "      <td>9.090504</td>\n",
       "      <td>-46.504311</td>\n",
       "    </tr>\n",
       "    <tr>\n",
       "      <th>1</th>\n",
       "      <td>tacoseasoning</td>\n",
       "      <td>-51.939751</td>\n",
       "      <td>16.720026</td>\n",
       "    </tr>\n",
       "    <tr>\n",
       "      <th>2</th>\n",
       "      <td>Batter</td>\n",
       "      <td>22.677616</td>\n",
       "      <td>9.728114</td>\n",
       "    </tr>\n",
       "    <tr>\n",
       "      <th>3</th>\n",
       "      <td>allpurposeflour</td>\n",
       "      <td>30.039480</td>\n",
       "      <td>-11.617999</td>\n",
       "    </tr>\n",
       "    <tr>\n",
       "      <th>4</th>\n",
       "      <td>sugar</td>\n",
       "      <td>-20.523804</td>\n",
       "      <td>28.544195</td>\n",
       "    </tr>\n",
       "    <tr>\n",
       "      <th>5</th>\n",
       "      <td>salt</td>\n",
       "      <td>17.945221</td>\n",
       "      <td>-7.259418</td>\n",
       "    </tr>\n",
       "    <tr>\n",
       "      <th>6</th>\n",
       "      <td>Mazola</td>\n",
       "      <td>23.205893</td>\n",
       "      <td>11.553453</td>\n",
       "    </tr>\n",
       "    <tr>\n",
       "      <th>7</th>\n",
       "      <td>CornOil</td>\n",
       "      <td>23.232504</td>\n",
       "      <td>11.662487</td>\n",
       "    </tr>\n",
       "    <tr>\n",
       "      <th>8</th>\n",
       "      <td>egg</td>\n",
       "      <td>37.803680</td>\n",
       "      <td>-16.676428</td>\n",
       "    </tr>\n",
       "    <tr>\n",
       "      <th>9</th>\n",
       "      <td>Topping</td>\n",
       "      <td>49.602417</td>\n",
       "      <td>-5.121718</td>\n",
       "    </tr>\n",
       "    <tr>\n",
       "      <th>10</th>\n",
       "      <td>chunkysalsa</td>\n",
       "      <td>-52.480305</td>\n",
       "      <td>14.433493</td>\n",
       "    </tr>\n",
       "    <tr>\n",
       "      <th>11</th>\n",
       "      <td>Mexicanstylecheese</td>\n",
       "      <td>19.804161</td>\n",
       "      <td>35.928360</td>\n",
       "    </tr>\n",
       "    <tr>\n",
       "      <th>12</th>\n",
       "      <td>cornchips</td>\n",
       "      <td>-48.915222</td>\n",
       "      <td>24.217430</td>\n",
       "    </tr>\n",
       "    <tr>\n",
       "      <th>13</th>\n",
       "      <td>partially</td>\n",
       "      <td>29.268320</td>\n",
       "      <td>32.005440</td>\n",
       "    </tr>\n",
       "    <tr>\n",
       "      <th>14</th>\n",
       "      <td>trustedbrands</td>\n",
       "      <td>28.379498</td>\n",
       "      <td>40.254478</td>\n",
       "    </tr>\n",
       "  </tbody>\n",
       "</table>\n",
       "</div>"
      ],
      "text/plain": [
       "                  word          x          y\n",
       "0           groundbeef   9.090504 -46.504311\n",
       "1        tacoseasoning -51.939751  16.720026\n",
       "2               Batter  22.677616   9.728114\n",
       "3      allpurposeflour  30.039480 -11.617999\n",
       "4                sugar -20.523804  28.544195\n",
       "5                 salt  17.945221  -7.259418\n",
       "6               Mazola  23.205893  11.553453\n",
       "7              CornOil  23.232504  11.662487\n",
       "8                  egg  37.803680 -16.676428\n",
       "9              Topping  49.602417  -5.121718\n",
       "10         chunkysalsa -52.480305  14.433493\n",
       "11  Mexicanstylecheese  19.804161  35.928360\n",
       "12           cornchips -48.915222  24.217430\n",
       "13           partially  29.268320  32.005440\n",
       "14       trustedbrands  28.379498  40.254478"
      ]
     },
     "execution_count": 204,
     "metadata": {},
     "output_type": "execute_result"
    }
   ],
   "source": [
    "points.head(15)"
   ]
  },
  {
   "cell_type": "code",
   "execution_count": null,
   "metadata": {
    "collapsed": true
   },
   "outputs": [],
   "source": [
    "sns.set_context(\"poster\")"
   ]
  },
  {
   "cell_type": "code",
   "execution_count": 206,
   "metadata": {},
   "outputs": [
    {
     "data": {
      "text/plain": [
       "<matplotlib.axes._subplots.AxesSubplot at 0x1188d4a90>"
      ]
     },
     "execution_count": 206,
     "metadata": {},
     "output_type": "execute_result"
    },
    {
     "data": {
      "image/png": "[encoded data removed]",
      "text/plain": [
       "<Figure size 1440x864 with 1 Axes>"
      ]
     },
     "metadata": {},
     "output_type": "display_data"
    }
   ],
   "source": [
    "#plot the word vectors\n",
    "points.plot.scatter(\"x\",\"y\", s=10, figsize=(20,12))"
   ]
  },
  {
   "cell_type": "code",
   "execution_count": 216,
   "metadata": {
    "collapsed": true
   },
   "outputs": [],
   "source": [
    "#zoom in\n",
    "\n",
    "def plot_region(x_bounds,y_bounds):\n",
    "    slice = points[\n",
    "        (x_bounds[0] <= points.x) &\n",
    "        (points.x <= x_bounds[1]) &\n",
    "        (y_bounds[0] <= points.y) &\n",
    "        (points.y <= y_bounds[1])\n",
    "    ]\n",
    "    \n",
    "    ax = slice.plot.scatter(\"x\", \"y\", s=35, figsize=(10,8))\n",
    "    for i, point in slice.iterrows():\n",
    "        ax.text(point.x + 0.005, point.y + 0.005, point.word, fontsize=11)\n",
    "        \n",
    "    "
   ]
  },
  {
   "cell_type": "code",
   "execution_count": null,
   "metadata": {
    "collapsed": true
   },
   "outputs": [],
   "source": []
  },
  {
   "cell_type": "code",
   "execution_count": 337,
   "metadata": {},
   "outputs": [
    {
     "data": {
      "text/plain": [
       "[('extraleangroundbeef', 0.7638741731643677),\n",
       " ('condensedtomatosoup', 0.7226201295852661),\n",
       " ('groundbeefchuck', 0.7073115110397339),\n",
       " ('stuffedbellpeppers', 0.6966895461082458),\n",
       " ('porksausage', 0.6966152191162109),\n",
       " ('stuffedzucchini', 0.6913988590240479),\n",
       " ('extragroundbeef', 0.6770959496498108),\n",
       " ('stuffedmaindishes', 0.6712247729301453),\n",
       " ('instantrice', 0.6707059741020203),\n",
       " ('tomatojuice', 0.6694791913032532)]"
      ]
     },
     "execution_count": 337,
     "metadata": {},
     "output_type": "execute_result"
    }
   ],
   "source": [
    "#plot_region(x_bounds=(15.1,15.8), y_bounds=(-0.5,-0.1))\n",
    "\n",
    "ingred_cat_model.wv.most_similar(\"groundbeef\")"
   ]
  },
  {
   "cell_type": "code",
   "execution_count": 336,
   "metadata": {},
   "outputs": [
    {
     "data": {
      "text/plain": [
       "[('driedcilantro', 0.8133745193481445),\n",
       " ('cannellinibeans', 0.8112552165985107),\n",
       " ('Italiansausagelinks', 0.802343487739563),\n",
       " ('Anaheimpeppers', 0.8008061647415161),\n",
       " ('instrips', 0.8000830411911011),\n",
       " ('yellowonions', 0.7977641820907593),\n",
       " ('Italianstylestewedtomatoes', 0.7955993413925171),\n",
       " ('bulkItaliansausage', 0.795018196105957),\n",
       " ('halfmoons', 0.7899143695831299),\n",
       " ('casingremoved', 0.7831790447235107)]"
      ]
     },
     "execution_count": 336,
     "metadata": {},
     "output_type": "execute_result"
    }
   ],
   "source": [
    "ingred_cat_model.wv.most_similar(\"tomatoes\")"
   ]
  },
  {
   "cell_type": "code",
   "execution_count": 335,
   "metadata": {},
   "outputs": [
    {
     "data": {
      "text/plain": [
       "[('friedrice', 0.8683099150657654),\n",
       " ('stuffedcabbage', 0.8545944094657898),\n",
       " ('stuffedbellpeppers', 0.8464868068695068),\n",
       " ('stuffedmaindishes', 0.8360757827758789),\n",
       " ('intothick', 0.8342159986495972),\n",
       " ('blackeyedpeas', 0.8340945243835449),\n",
       " ('condensedtomatosoup', 0.833305835723877),\n",
       " ('instantrice', 0.8261861205101013),\n",
       " ('whiterice', 0.8172191977500916),\n",
       " ('processedcheesefoodsuchVelveeta', 0.8126946091651917)]"
      ]
     },
     "execution_count": 335,
     "metadata": {},
     "output_type": "execute_result"
    }
   ],
   "source": [
    "ingred_cat_model.wv.most_similar(\"rice\")"
   ]
  },
  {
   "cell_type": "code",
   "execution_count": 334,
   "metadata": {},
   "outputs": [
    {
     "data": {
      "text/plain": [
       "[('chickenbreasts', 0.9525535106658936),\n",
       " ('bonelesschickenbreasthalves', 0.8700568675994873),\n",
       " ('breaded', 0.854682445526123),\n",
       " ('skillet', 0.8523903489112854),\n",
       " ('fried', 0.8498454093933105),\n",
       " ('healthy', 0.8495039343833923),\n",
       " ('pan', 0.8491342663764954),\n",
       " ('broiled', 0.8392013311386108),\n",
       " ('chickenthighs', 0.8383049964904785),\n",
       " ('bakedandroasted', 0.837203860282898)]"
      ]
     },
     "execution_count": 334,
     "metadata": {},
     "output_type": "execute_result"
    }
   ],
   "source": [
    "ingred_cat_model.wv.most_similar(\"chicken\")"
   ]
  },
  {
   "cell_type": "code",
   "execution_count": 333,
   "metadata": {},
   "outputs": [
    {
     "data": {
      "text/plain": [
       "[('egg', 0.837529182434082),\n",
       " ('eggwhite', 0.7663651704788208),\n",
       " ('cornflakescereal', 0.7200065851211548),\n",
       " ('cornbread', 0.7001334428787231),\n",
       " ('bakingpowder', 0.6971619129180908),\n",
       " ('groundItaliansausage', 0.6890449523925781),\n",
       " ('softbreadcrumbs', 0.6858260035514832),\n",
       " ('yeastbread', 0.6829061508178711),\n",
       " ('slightly', 0.6753373742103577),\n",
       " ('quickbread', 0.6710395812988281)]"
      ]
     },
     "execution_count": 333,
     "metadata": {},
     "output_type": "execute_result"
    }
   ],
   "source": [
    "ingred_cat_model.wv.most_similar(\"eggs\")"
   ]
  },
  {
   "cell_type": "code",
   "execution_count": 332,
   "metadata": {},
   "outputs": [
    {
     "data": {
      "text/plain": [
       "[('flaxseedmeal', 0.9772871136665344),\n",
       " ('groundflaxseed', 0.9754468202590942),\n",
       " ('scoopvanillaproteinpowder', 0.9740122556686401),\n",
       " ('chiaseeds', 0.9726249575614929),\n",
       " ('soymilk', 0.9706678986549377),\n",
       " ('almondbutter', 0.9673622250556946),\n",
       " ('blueberries', 0.9670101404190063),\n",
       " ('vanillaproteinpowder', 0.9648405313491821),\n",
       " ('macapowder', 0.9648227691650391),\n",
       " ('lowfatvanillayogurt', 0.9645930528640747)]"
      ]
     },
     "execution_count": 332,
     "metadata": {},
     "output_type": "execute_result"
    }
   ],
   "source": [
    "ingred_cat_model.wv.most_similar(\"almondmilk\")"
   ]
  },
  {
   "cell_type": "code",
   "execution_count": 331,
   "metadata": {},
   "outputs": [
    {
     "data": {
      "text/plain": [
       "[('grapefruit', 0.8479937314987183),\n",
       " ('mintleaves', 0.840959370136261),\n",
       " ('cucumber', 0.8369126319885254),\n",
       " ('washeddried', 0.8342533111572266),\n",
       " ('ranchstylesaladdressing', 0.8220421671867371),\n",
       " ('plainGreekyogurt', 0.818678617477417),\n",
       " ('leaveskale', 0.8173452615737915),\n",
       " ('avocados', 0.8159387111663818),\n",
       " ('coconutwater', 0.8115817308425903),\n",
       " ('Englishcucumber', 0.8108513355255127)]"
      ]
     },
     "execution_count": 331,
     "metadata": {},
     "output_type": "execute_result"
    }
   ],
   "source": [
    "ingred_cat_model.wv.most_similar(\"avocado\")"
   ]
  },
  {
   "cell_type": "code",
   "execution_count": 330,
   "metadata": {},
   "outputs": [
    {
     "data": {
      "text/plain": [
       "[('GrannySmithapple', 0.9028257131576538),\n",
       " ('cored', 0.8868787288665771),\n",
       " ('pears', 0.8725642561912537),\n",
       " ('apples', 0.862495481967926),\n",
       " ('Galaapple', 0.8372215032577515),\n",
       " ('goldenraisins', 0.8302532434463501),\n",
       " ('rawbeet', 0.8202913999557495),\n",
       " ('thickcutbacon', 0.8172144889831543),\n",
       " ('redapple', 0.8163614869117737),\n",
       " ('headredcabbage', 0.809679388999939)]"
      ]
     },
     "execution_count": 330,
     "metadata": {},
     "output_type": "execute_result"
    }
   ],
   "source": [
    "ingred_cat_model.wv.most_similar(\"apple\")"
   ]
  },
  {
   "cell_type": "code",
   "execution_count": 329,
   "metadata": {},
   "outputs": [
    {
     "data": {
      "text/plain": [
       "[('headcabbage', 0.8874987363815308),\n",
       " ('headredcabbage', 0.8053898811340332),\n",
       " ('carawayseeds', 0.7922583818435669),\n",
       " ('cornedbeefbrisketspicepacket', 0.7549072504043579),\n",
       " ('quartswater', 0.7528485059738159),\n",
       " ('chickenbouillon', 0.7506360411643982),\n",
       " ('sugarpumpkin', 0.7497884035110474),\n",
       " ('fullyham', 0.7495243549346924),\n",
       " ('saltpork', 0.7480489015579224),\n",
       " ('headgreencabbage', 0.7388269901275635)]"
      ]
     },
     "execution_count": 329,
     "metadata": {},
     "output_type": "execute_result"
    }
   ],
   "source": [
    "ingred_cat_model.wv.most_similar(\"cabbage\")"
   ]
  },
  {
   "cell_type": "code",
   "execution_count": 328,
   "metadata": {},
   "outputs": [
    {
     "data": {
      "text/plain": [
       "[('cornpudding', 0.9054107666015625),\n",
       " ('earscorn', 0.8539242744445801),\n",
       " ('huskssilkremoved', 0.8463048934936523),\n",
       " ('earscornonthecob', 0.8408100605010986),\n",
       " ('husked', 0.837050199508667),\n",
       " ('kernelsfromcob', 0.8287421464920044),\n",
       " ('huskedcleaned', 0.8259085416793823),\n",
       " ('sweetcorn', 0.8217929601669312),\n",
       " ('cornkernels', 0.8154791593551636),\n",
       " ('poblanopeppers', 0.8060739636421204)]"
      ]
     },
     "execution_count": 328,
     "metadata": {},
     "output_type": "execute_result"
    }
   ],
   "source": [
    "ingred_cat_model.wv.most_similar(\"corn\")"
   ]
  },
  {
   "cell_type": "code",
   "execution_count": 327,
   "metadata": {},
   "outputs": [
    {
     "data": {
      "text/plain": [
       "[('Burgundywine', 0.8092165589332581),\n",
       " ('beefconsomme', 0.8065120577812195),\n",
       " ('condensedgoldenmushroomsoup', 0.7940042018890381),\n",
       " ('pasta', 0.7808343768119812),\n",
       " ('driedchives', 0.7775471806526184),\n",
       " ('browngravymix', 0.7758415937423706),\n",
       " ('Italianplumtomatoes', 0.767596960067749),\n",
       " ('loafFrenchbread', 0.7623134255409241),\n",
       " ('sirlointips', 0.7596313953399658),\n",
       " ('allpurposeflourforcoating', 0.7554926872253418)]"
      ]
     },
     "execution_count": 327,
     "metadata": {},
     "output_type": "execute_result"
    }
   ],
   "source": [
    "ingred_cat_model.wv.most_similar(\"mushrooms\")"
   ]
  },
  {
   "cell_type": "code",
   "execution_count": 326,
   "metadata": {},
   "outputs": [
    {
     "data": {
      "text/plain": [
       "[('chickenparmesan', 0.8991838097572327),\n",
       " ('lasagna', 0.8976460099220276),\n",
       " ('unbakedpiecrusts', 0.8826503753662109),\n",
       " ('pepperoncini', 0.8806020617485046),\n",
       " ('dryItalianstylesaladdressingmix', 0.8779089450836182),\n",
       " ('bonelesschickenbreasthalvesthin', 0.870774507522583),\n",
       " ('hoagierolls', 0.8687872886657715),\n",
       " ('Italianstyledrybreadcrumbs', 0.862548291683197),\n",
       " ('provolonecheese', 0.8624535799026489),\n",
       " ('Marsalawine', 0.8618311285972595)]"
      ]
     },
     "execution_count": 326,
     "metadata": {},
     "output_type": "execute_result"
    }
   ],
   "source": [
    "ingred_cat_model.wv.most_similar(\"pasta\")"
   ]
  },
  {
   "cell_type": "code",
   "execution_count": 325,
   "metadata": {},
   "outputs": [
    {
     "data": {
      "text/plain": [
       "[('cucumbersalad', 0.9579135775566101),\n",
       " ('solidwhitetunapackedinwater', 0.943406343460083),\n",
       " ('avocadosalad', 0.9402542114257812),\n",
       " ('suchOldBay', 0.9248712062835693),\n",
       " ('crabsalad', 0.9240747690200806),\n",
       " ('shrimpsalad', 0.921811580657959),\n",
       " ('BestFoods', 0.9212534427642822),\n",
       " ('mayonnaisesuchHellmanns', 0.9197000861167908),\n",
       " ('grains', 0.9171216487884521),\n",
       " ('ripetomato', 0.9162508249282837)]"
      ]
     },
     "execution_count": 325,
     "metadata": {},
     "output_type": "execute_result"
    }
   ],
   "source": [
    "ingred_cat_model.wv.most_similar(\"beans\")"
   ]
  },
  {
   "cell_type": "code",
   "execution_count": 324,
   "metadata": {},
   "outputs": [
    {
     "data": {
      "text/plain": [
       "[('leaves', 0.8492627143859863),\n",
       " ('stemsdiscarded', 0.8455139994621277),\n",
       " ('babyspinach', 0.83919358253479),\n",
       " ('coconutoil', 0.8289334774017334),\n",
       " ('grapeseedoil', 0.8274652361869812),\n",
       " ('Salad', 0.8208831548690796),\n",
       " ('rawalmonds', 0.815199613571167),\n",
       " ('babykale', 0.8145961761474609),\n",
       " ('ribcelery', 0.8117865324020386),\n",
       " ('ripemango', 0.8101885318756104)]"
      ]
     },
     "execution_count": 324,
     "metadata": {},
     "output_type": "execute_result"
    }
   ],
   "source": [
    "ingred_cat_model.wv.most_similar(\"quinoa\")"
   ]
  },
  {
   "cell_type": "code",
   "execution_count": 323,
   "metadata": {},
   "outputs": [
    {
     "data": {
      "text/plain": [
       "[('squeezeddry', 0.6978026628494263),\n",
       " ('asdesired', 0.687790036201477),\n",
       " ('unzucchini', 0.6586801409721375),\n",
       " ('kale', 0.6565183401107788),\n",
       " ('almondflour', 0.6324841976165771),\n",
       " ('groundalmonds', 0.6320593953132629),\n",
       " ('moreneeded', 0.6307452917098999),\n",
       " ('Swisschard', 0.630405843257904),\n",
       " ('leavesbasil', 0.6273333430290222),\n",
       " ('bagspinach', 0.6227148771286011)]"
      ]
     },
     "execution_count": 323,
     "metadata": {},
     "output_type": "execute_result"
    }
   ],
   "source": [
    "ingred_cat_model.wv.most_similar(\"spinach\")"
   ]
  },
  {
   "cell_type": "code",
   "execution_count": 338,
   "metadata": {},
   "outputs": [
    {
     "data": {
      "text/plain": [
       "[('nectarines', 0.9776817560195923),\n",
       " ('unsweetenedflakedcoconut', 0.9736257791519165),\n",
       " ('palmsugar', 0.9734650254249573),\n",
       " ('segmented', 0.9727603793144226),\n",
       " ('yogurt', 0.970512866973877),\n",
       " ('creamofcoconut', 0.9698999524116516),\n",
       " ('cranberryjuice', 0.9689030647277832),\n",
       " ('redseedlessgrapes', 0.9671439528465271),\n",
       " ('aloeverajuice', 0.9670295119285583),\n",
       " ('coconutextract', 0.9667216539382935)]"
      ]
     },
     "execution_count": 338,
     "metadata": {},
     "output_type": "execute_result"
    }
   ],
   "source": [
    "ingred_cat_model.wv.most_similar(\"tofu\")"
   ]
  },
  {
   "cell_type": "code",
   "execution_count": 321,
   "metadata": {},
   "outputs": [
    {
     "data": {
      "text/plain": [
       "[('desserts', 0.9660978317260742),\n",
       " ('semisweetchocolatechips', 0.965829610824585),\n",
       " ('fruitdesserts', 0.9443316459655762),\n",
       " ('brownies', 0.9401773810386658),\n",
       " ('bakingsoda', 0.9302929043769836),\n",
       " ('chocolatebrownies', 0.9276087880134583),\n",
       " ('milkchocolatechips', 0.922355055809021),\n",
       " ('butterscotchchips', 0.9219331741333008),\n",
       " ('creamoftartar', 0.9217286705970764),\n",
       " ('crispricecereal', 0.9211056232452393)]"
      ]
     },
     "execution_count": 321,
     "metadata": {},
     "output_type": "execute_result"
    }
   ],
   "source": [
    "ingred_cat_model.wv.most_similar(\"cookies\")"
   ]
  },
  {
   "cell_type": "code",
   "execution_count": 315,
   "metadata": {
    "collapsed": true
   },
   "outputs": [],
   "source": [
    "# using cosine similarity (see wikipedia)\n",
    "\n",
    "def nearest_similarity_cosmul(start1, end1, end2):\n",
    "    similarities = ingred_cat_model.wv.most_similar_cosmul(\n",
    "        positive=[end2, start1],\n",
    "        negative=[end1]\n",
    "    )\n",
    "    start2 = similarities[0][0]\n",
    "    \n",
    "    print(\"{start1} is related to {end1}, as {start2} is related to {end2}\")\n",
    "    return start2\n",
    "    "
   ]
  },
  {
   "cell_type": "code",
   "execution_count": 316,
   "metadata": {},
   "outputs": [
    {
     "name": "stdout",
     "output_type": "stream",
     "text": [
      "{start1} is related to {end1}, as {start2} is related to {end2}\n"
     ]
    },
    {
     "data": {
      "text/plain": [
       "'chilibeans'"
      ]
     },
     "execution_count": 316,
     "metadata": {},
     "output_type": "execute_result"
    }
   ],
   "source": [
    "nearest_similarity_cosmul(\"groundbeef\",\"chicken\",\"rice\")"
   ]
  },
  {
   "cell_type": "code",
   "execution_count": 317,
   "metadata": {},
   "outputs": [
    {
     "name": "stdout",
     "output_type": "stream",
     "text": [
      "{start1} is related to {end1}, as {start2} is related to {end2}\n"
     ]
    },
    {
     "data": {
      "text/plain": [
       "'containerricottacheese'"
      ]
     },
     "execution_count": 317,
     "metadata": {},
     "output_type": "execute_result"
    }
   ],
   "source": [
    "nearest_similarity_cosmul(\"groundbeef\",\"rice\",\"pasta\")"
   ]
  },
  {
   "cell_type": "code",
   "execution_count": 318,
   "metadata": {},
   "outputs": [
    {
     "name": "stdout",
     "output_type": "stream",
     "text": [
      "{start1} is related to {end1}, as {start2} is related to {end2}\n"
     ]
    },
    {
     "data": {
      "text/plain": [
       "'drieddillweed'"
      ]
     },
     "execution_count": 318,
     "metadata": {},
     "output_type": "execute_result"
    }
   ],
   "source": [
    "nearest_similarity_cosmul(\"pepper\",\"carrots\",\"celery\")"
   ]
  },
  {
   "cell_type": "code",
   "execution_count": 352,
   "metadata": {},
   "outputs": [
    {
     "name": "stdout",
     "output_type": "stream",
     "text": [
      "{start1} is related to {end1}, as {start2} is related to {end2}\n"
     ]
    },
    {
     "data": {
      "text/plain": [
       "'intoeighths'"
      ]
     },
     "execution_count": 352,
     "metadata": {},
     "output_type": "execute_result"
    }
   ],
   "source": [
    "nearest_similarity_cosmul(\"salt\",\"pepper\",\"carrots\")"
   ]
  },
  {
   "cell_type": "code",
   "execution_count": null,
   "metadata": {
    "collapsed": true
   },
   "outputs": [],
   "source": []
  }
 ],
 "metadata": {
  "kernelspec": {
   "display_name": "Python 3",
   "language": "python",
   "name": "python3"
  }
 },
 "nbformat": 4,
 "nbformat_minor": 2
}
